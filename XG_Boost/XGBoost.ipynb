{
  "nbformat": 4,
  "nbformat_minor": 0,
  "metadata": {
    "colab": {
      "name": "XGBoost",
      "provenance": [],
      "collapsed_sections": []
    },
    "kernelspec": {
      "name": "python3",
      "display_name": "Python 3"
    },
    "language_info": {
      "name": "python"
    }
  },
  "cells": [
    {
      "cell_type": "code",
      "source": [
        "import xgboost as xgb, pandas as pd, numpy as np, seaborn as sns, matplotlib.pyplot as plt\n",
        "from sklearn.model_selection import train_test_split, GridSearchCV, RandomizedSearchCV, cross_val_score\n",
        "from sklearn.metrics import mean_squared_error\n",
        "from sklearn.ensemble import RandomForestRegressor\n",
        "from sklearn.preprocessing import StandardScaler, LabelEncoder, OneHotEncoder\n",
        "from sklearn.impute import SimpleImputer\n",
        "from sklearn.pipeline import Pipeline, FeatureUnion\n",
        "from sklearn.feature_extraction import DictVectorizer\n",
        "from sklearn_pandas import DataFrameMapper\n",
        "from sklearn_pandas import CategoricalImputer\n",
        "sns.set()"
      ],
      "metadata": {
        "id": "nUE9bt-S8mFl"
      },
      "execution_count": 1,
      "outputs": []
    },
    {
      "cell_type": "markdown",
      "source": [
        "# ***Using XGBoost: a quick example***"
      ],
      "metadata": {
        "id": "CbnWhjIX8kr3"
      }
    },
    {
      "cell_type": "code",
      "execution_count": null,
      "metadata": {
        "id": "-GK2t3j_5rA8"
      },
      "outputs": [],
      "source": [
        "class_data = pd.read_csv(\"classification_data.csv\")\n",
        "\n",
        "X, y = class_data.iloc[:,:-1], class_data.iloc[:,-1]\n",
        "X_train, X_test, y_train, y_test= train_test_split(X, y,test_size=0.2, random_state=123)\n",
        "\n",
        "xg_cl = xgb.XGBClassifier(objective='binary:logistic', n_estimators=10, seed=123)\n",
        "\n",
        "xg_cl.fit(X_train, y_train)\n",
        "preds = xg_cl.predict(X_test)\n",
        "accuracy = float(np.sum(preds==y_test))/y_test.shape[0]\n",
        "print(\"accuracy: %f\" % (accuracy))"
      ]
    },
    {
      "cell_type": "markdown",
      "source": [
        "### ***XGBoost: Fit/Predict*** ข้อมูลใหญ่เกิน ต้องทำ clipboard หลายรอบ ขี้เกียจ\n",
        "\n",
        "Here, you'll be working with churn data. This dataset contains data from a ride-sharing app with user behaviors over their first month of app usage in a set of cities as well as whether they used the service 5 months after sign-up. It has been pre-loaded for you into a DataFrame called `churn_data`.\n",
        "\n",
        "Your goal is to use the first month's worth of data to predict whether the app's users will remain users of the service at the 5 month mark. This is a typical setup for a ***churn*** prediction problem. To do this, you'll split the data into training and test sets, fit a small **`xgboost`** model on the training set, and evaluate its performance on the test set by computing its accuracy.\n",
        "\n",
        "**`pandas`** and **`numpy`** have been imported as **`pd`** and **`np`**, and **`train_test_split`** has been imported from **`sklearn.model_selection`**. Additionally, the arrays for the features and the target have been created as `X` and `y`.\n",
        "\n",
        "Create training and test sets such that 20% of the data is used for testing. Use a random_state of `123`.\n",
        "\n",
        "* Instantiate an XGBoostClassifier as `xg_cl` using **`xgb.XGBClassifier()`**. \n",
        "* Specify **`n_estimators`** to be `10` estimators and an objective of **`'binary:logistic'`**. Do not worry about what this means just yet, you will learn about these parameters later in this course.\n",
        "* Fit `xg_cl` to the training set `(X_train, y_train)` using the **`.fit()`** method.\n",
        "* Predict the labels of the test set `(X_test)` using the **`.predict()`** method and hit 'Submit Answer' to print the accuracy.\n",
        "```\n",
        "churn_data.head()\n",
        "\n",
        "   avg_dist  avg_rating_by_driver  avg_rating_of_driver  avg_inc_price  inc_pct  weekday_pct  fancy_car_user  city_Carthag  city_Harko  phone_iPhone  first_month_cat_more_1_trip  \\\n",
        "0      3.67                   5.0                   4.7           1.10     15.4         46.2            True             0           1             1                            1   \n",
        "1      8.26                   5.0                   5.0           1.00      0.0         50.0           False             1           0             0                            0   \n",
        "2      0.77                   5.0                   4.3           1.00      0.0        100.0           False             1           0             1                            1   \n",
        "3      2.36                   4.9                   4.6           1.14     20.0         80.0            True             0           1             1                            1   \n",
        "4      3.13                   4.9                   4.4           1.19     11.8         82.4           False             0           0             0                            1   \n",
        "\n",
        "   first_month_cat_no_trips  month_5_still_here  \n",
        "0                         0                   1  \n",
        "1                         1                   0  \n",
        "2                         0                   0  \n",
        "3                         0                   1  \n",
        "4                         0                   0  \n",
        "```"
      ],
      "metadata": {
        "id": "c7y3NgyE9is1"
      }
    },
    {
      "cell_type": "code",
      "source": [
        "import xgboost as xgb\n",
        "\n",
        "# Create arrays for the features and the target: X, y\n",
        "X, y = churn_data.iloc[:,:-1], churn_data.iloc[:,-1]\n",
        "\n",
        "# Create the training and test sets\n",
        "X_train, X_test, y_train, y_test= train_test_split(X, y, test_size=0.2, random_state=123)\n",
        "\n",
        "# Instantiate the XGBClassifier: xg_cl\n",
        "xg_cl = xgb.XGBClassifier(objective='binary:logistic', n_estimators=10, seed=123)\n",
        "\n",
        "# Fit the classifier to the training set\n",
        "xg_cl.fit(X_train, y_train)\n",
        "\n",
        "# Predict the labels of the test set: preds\n",
        "preds = xg_cl.predict(X_test)\n",
        "\n",
        "# Compute the accuracy: accuracy\n",
        "accuracy = float(np.sum(preds==y_test))/y_test.shape[0]\n",
        "print(\"accuracy: %f\" % (accuracy))\n",
        "\n",
        "# ใช้ xg_cl.score(X_test, y_test) ก็ได้เหมือนกัน"
      ],
      "metadata": {
        "id": "Gl9iFxlt_bCW"
      },
      "execution_count": null,
      "outputs": []
    },
    {
      "cell_type": "markdown",
      "source": [
        "\n",
        "\n",
        "```\n",
        "<script.py> output:\n",
        "    accuracy: 0.743300\n",
        "```\n",
        "Your model has an accuracy of around 74%\n",
        "\n"
      ],
      "metadata": {
        "id": "uWRflyW6Wi1G"
      }
    },
    {
      "cell_type": "markdown",
      "source": [
        "# ***Decision Trees***\n",
        "\n",
        "![image.png](data:image/png;base64,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)\n",
        "\n",
        "Your task is to make a simple decision tree using scikit-learn's **`DecisionTreeClassifier`** on the breast cancer dataset that comes pre-loaded with scikit-learn.\n",
        "\n",
        "This dataset contains numeric measurements of various dimensions of individual tumors (such as perimeter and texture) from breast biopsies and a single outcome value (the tumor is either malignant, or benign).\n",
        "\n",
        "We've preloaded the dataset of samples (measurements) into `X` and the target values per tumor into `y`. Now, you have to split the complete dataset into training and testing sets, and then train a **`DecisionTreeClassifier`**. You'll specify a parameter called **`max_depth`**. Many other parameters can be modified within this model, and you can check all of them out [here](http://scikit-learn.org/stable/modules/generated/sklearn.tree.DecisionTreeClassifier.html#sklearn.tree.DecisionTreeClassifier).\n",
        "\n",
        "\n",
        "* Create training and test sets such that 20% of the data is used for testing. Use a **`random_state`** of `123`.\n",
        "\n",
        "* Instantiate a **`DecisionTreeClassifier`** called `dt_clf_4` with a **`max_depth`** of `4`. This parameter specifies the maximum number of successive split points you can have before reaching a leaf node.\n",
        "\n",
        "* Fit the classifier to the training set and predict the labels of the test set."
      ],
      "metadata": {
        "id": "HHfyKpozB4Hd"
      }
    },
    {
      "cell_type": "code",
      "source": [
        "from sklearn.datasets import load_breast_cancer\n",
        "from sklearn.preprocessing import StandardScaler\n",
        "from sklearn.model_selection import train_test_split\n",
        "from sklearn.tree import DecisionTreeClassifier\n",
        "\n",
        "breast = load_breast_cancer()\n",
        "X, y = breast.data, breast.target\n",
        "\n",
        "# Create the training and test sets\n",
        "X_train, X_test, y_train, y_test = train_test_split(X, y, test_size=0.2, random_state=123)\n",
        "\n",
        "# Instantiate the classifier: dt_clf_4\n",
        "dt_clf_4 = DecisionTreeClassifier(max_depth=4)\n",
        "\n",
        "# Fit the classifier to the training set\n",
        "dt_clf_4.fit(X_train, y_train)\n",
        "\n",
        "# Predict the labels of the test set: y_pred_4\n",
        "y_pred_4 = dt_clf_4.predict(X_test)\n",
        "\n",
        "# Compute the accuracy of the predictions: accuracy\n",
        "accuracy = float(np.sum(y_pred_4==y_test))/y_test.shape[0]\n",
        "print(\"accuracy:\", accuracy)"
      ],
      "metadata": {
        "colab": {
          "base_uri": "https://localhost:8080/"
        },
        "id": "RyrAWcYsDh2J",
        "outputId": "eeb12562-1e6e-4538-8fcd-4aab56002963"
      },
      "execution_count": 13,
      "outputs": [
        {
          "output_type": "stream",
          "name": "stdout",
          "text": [
            "accuracy: 0.9736842105263158\n"
          ]
        }
      ]
    },
    {
      "cell_type": "markdown",
      "source": [
        "It's now time to learn about what gives **XGBoost** its state-of-the-art performance: **Boosting**.\n",
        "\n",
        "## ***Cross-validation in XGBoost***"
      ],
      "metadata": {
        "id": "YFeZnpQJGRns"
      }
    },
    {
      "cell_type": "code",
      "source": [
        "churn_data = pd.read_csv(\"classification_data.csv\")\n",
        "\n",
        "churn_dmatrix = xgb.DMatrix(data=churn_data.iloc[:,:-1], label=churn_data.month_5_still_here)\n",
        "params={\"objective\":\"binary:logistic\",\"max_depth\":4}\n",
        "cv_results = xgb.cv(dtrain=churn_dmatrix, \n",
        "                    params=params, \n",
        "                    nfold=4,\n",
        "                    num_boost_round=10, \n",
        "                    metrics=\"error\", \n",
        "                    as_pandas=True)\n",
        "print(\"Accuracy: %f\" %((1-cv_results[\"test-error-mean\"]).iloc[-1]))"
      ],
      "metadata": {
        "id": "u4VRu-4JFJ4i"
      },
      "execution_count": null,
      "outputs": []
    },
    {
      "cell_type": "markdown",
      "source": [
        "### ***Measuring accuracy***\n",
        "\n",
        "You'll now practice using XGBoost's learning API through its baked in cross-validation capabilities. XGBoost gets its lauded performance and efficiency gains by utilizing its own optimized data structure for datasets called a **`DMatrix`**.\n",
        "\n",
        "In the previous exercise, the input datasets were converted into DMatrix data on the fly, but when you use the **`xgboost`** **`cv`** object, you have to first explicitly convert your data into a **`DMatrix`**. So, that's what you will do here before running cross-validation on `churn_data`.\n",
        "\n",
        "* Create a **`DMatrix`** called `churn_dmatrix` from `churn_data` using **`xgb.DMatrix()`**. The features are available in `X` and the labels in `y`.\n",
        "\n",
        "* Perform 3-fold cross-validation by calling **`xgb.cv()`**. **`dtrain`** is your `churn_dmatrix`, **`params`** is your parameter dictionary, **`nfold`** is the number of cross-validation folds (`3`), **`num_boost_round`** is the number of trees we want to build (`5`), **`metrics`** is the metric you want to compute (this will be `\"error\"`, which we will convert to an accuracy)."
      ],
      "metadata": {
        "id": "gG9JzvliUN5y"
      }
    },
    {
      "cell_type": "code",
      "source": [
        "# Create arrays for the features and the target: X, y\n",
        "X, y = churn_data.iloc[:,:-1], churn_data.iloc[:,-1]\n",
        "\n",
        "# Create the DMatrix from X and y: churn_dmatrix\n",
        "churn_dmatrix = xgb.DMatrix(data=X, label=y)\n",
        "\n",
        "# Create the parameter dictionary: params\n",
        "params = {\"objective\":\"reg:logistic\", \"max_depth\":3}\n",
        "\n",
        "# Perform cross-validation: cv_results\n",
        "cv_results = xgb.cv(dtrain=churn_dmatrix, params=params, \n",
        "                  nfold=3, num_boost_round=5, \n",
        "                  metrics=\"error\", as_pandas=True, seed=123)\n",
        "\n",
        "# Print cv_results\n",
        "print(cv_results)\n",
        "\n",
        "# Print the accuracy\n",
        "print(((1-cv_results[\"test-error-mean\"]).iloc[-1]))"
      ],
      "metadata": {
        "id": "37BmAnnYU91H"
      },
      "execution_count": null,
      "outputs": []
    },
    {
      "cell_type": "markdown",
      "source": [
        "\n",
        "\n",
        "```\n",
        "<script.py> output:\n",
        "       train-error-mean  train-error-std  test-error-mean  test-error-std\n",
        "    0           0.28232         0.002366          0.28378        0.001932\n",
        "    1           0.26951         0.001855          0.27190        0.001932\n",
        "    2           0.25605         0.003213          0.25798        0.003963\n",
        "    3           0.25090         0.001845          0.25434        0.003827\n",
        "    4           0.24654         0.001981          0.24852        0.000934\n",
        "    0.75148\n",
        "```\n",
        "\n",
        "`cv_results` stores the training and test mean and standard deviation of the error per boosting round (tree built) as a DataFrame. From `cv_results`, the final round `'test-error-mean'` is extracted and converted into an accuracy, where accuracy is `1-error`. The final accuracy of around 75% is an improvement from earlier!\n",
        "\n",
        "### ***Measuring AUC***\n",
        "\n",
        "Now that you've used cross-validation to compute average out-of-sample accuracy (after converting from an error), it's very easy to compute any other metric you might be interested in. All you have to do is to pass it (or a list of metrics) in as an argument to the `metrics` parameter of `xgb.cv()`.\n",
        "\n",
        "Your job in this exercise is to compute another common metric used in binary classification - the area under the curve (`\"auc\"`). As before, `churn_data` is available in your workspace, along with the DMatrix `churn_dmatrix` and parameter dictionary `params`.\n",
        "\n",
        "* Perform `3`-fold cross-validation with `5` boosting rounds and `\"auc\"` as your metric.\n",
        "\n",
        "* Print the `\"test-auc-mean\"` column of `cv_results`.\n"
      ],
      "metadata": {
        "id": "Dh26gzMFVwN4"
      }
    },
    {
      "cell_type": "code",
      "source": [
        "# Perform cross_validation: cv_results\n",
        "cv_results = xgb.cv(dtrain=churn_dmatrix, params=params, \n",
        "                  nfold=3, num_boost_round=5, \n",
        "                  metrics='auc', as_pandas=True, seed=123)\n",
        "\n",
        "# Print cv_results\n",
        "print(cv_results)\n",
        "\n",
        "# Print the AUC\n",
        "print((cv_results['test-auc-mean']).iloc[-1])"
      ],
      "metadata": {
        "id": "jXspvwo7V3UH"
      },
      "execution_count": null,
      "outputs": []
    },
    {
      "cell_type": "markdown",
      "source": [
        "\n",
        "\n",
        "```\n",
        "<script.py> output:\n",
        "       train-auc-mean  train-auc-std  test-auc-mean  test-auc-std\n",
        "    0        0.768893       0.001544       0.767863      0.002820\n",
        "    1        0.790864       0.006758       0.789157      0.006846\n",
        "    2        0.815872       0.003900       0.814476      0.005997\n",
        "    3        0.822959       0.002018       0.821682      0.003912\n",
        "    4        0.827528       0.000769       0.826191      0.001937\n",
        "    \n",
        "    0.826191\n",
        "```\n",
        "\n"
      ],
      "metadata": {
        "id": "xVUgTodNX1zc"
      }
    },
    {
      "cell_type": "markdown",
      "source": [
        "An AUC of `0.84` is quite strong. As you have seen, XGBoost's learning API makes it very easy to compute any metric you may be interested in. \n",
        "\n",
        "### ***When NOT to use XGBoost?***\n",
        "\n",
        "There are some situations in which it is not the best option.\n",
        "\n",
        "* Visualizing the similarity between stocks by comparing the time series of their historical prices relative to each other.\n",
        "  * This is an example of a clustering problem - there are no labels to learn from here.\n",
        "* Predicting whether a person will develop cancer using genetic data with millions of genes, 23 examples of genomes of people that didn't develop cancer, 3 genomes of people who wound up getting cancer.\n",
        "  * This would not be an ideal use of XGBoost as there are many more features than there are examples.\n",
        "* Clustering documents into topics based on the terms used in them.\n",
        "  * This is an example of a clustering problem. There are no targets and so you cannot use supervised learning.\n",
        "\n",
        "# ***Trees as base learners example: Scikit-learn API***"
      ],
      "metadata": {
        "id": "yBFutVvmX-li"
      }
    },
    {
      "cell_type": "code",
      "source": [
        "import xgboost as xgb, pandas as pd, numpy as np\n",
        "from sklearn.model_selection import train_test_split\n",
        "from sklearn.metrics import mean_squared_error\n",
        "\n",
        "boston_data = pd.read_csv(\"boston_housing.csv\")\n",
        "\n",
        "X, y = boston_data.iloc[:,:-1],boston_data.iloc[:,-1]\n",
        "\n",
        "X_train, X_test, y_train, y_test= train_test_split(X, y, test_size=0.2,random_state=123)\n",
        "\n",
        "xg_reg = xgb.XGBRegressor(objective='reg:squarederror', n_estimators=10, seed=123)\n",
        "\n",
        "xg_reg.fit(X_train, y_train)\n",
        "preds = xg_reg.predict(X_test)\n",
        "\n",
        "rmse = np.sqrt(mean_squared_error(y_test,preds))\n",
        "print(\"RMSE: %f\" % (rmse))"
      ],
      "metadata": {
        "id": "-LCOXFEDX7uE"
      },
      "execution_count": null,
      "outputs": []
    },
    {
      "cell_type": "markdown",
      "source": [
        "```\n",
        "RMSE: 129043.2314\n",
        "```\n",
        "# ***Linear base learners example: learning API only***\n"
      ],
      "metadata": {
        "id": "-o6QndL_QrBZ"
      }
    },
    {
      "cell_type": "code",
      "source": [
        "import xgboost as xgb, pandas as pd, numpy as np\n",
        "from sklearn.model_selection import train_test_split\n",
        "from sklearn.metrics import mean_squared_error\n",
        "\n",
        "boston_data = pd.read_csv(\"boston_housing.csv\")\n",
        "\n",
        "X, y = boston_data.iloc[:,:-1],boston_data.iloc[:,-1]\n",
        "X_train, X_test, y_train, y_test= train_test_split(X, y, test_size=0.2, random_state=123)\n",
        "DM_train = xgb.DMatrix(data=X_train,label=y_train)\n",
        "DM_test = xgb.DMatrix(data=X_test,label=y_test)\n",
        "params = {\"booster\":\"gblinear\",\"objective\":\"reg:squarederror\"}\n",
        "\n",
        "xg_reg = xgb.train(params = params, dtrain=DM_train, num_boost_round=10)\n",
        "preds = xg_reg.predict(DM_test)\n",
        "\n",
        "rmse = np.sqrt(mean_squared_error(y_test,preds))\n",
        "print(\"RMSE: %f\" % (rmse))"
      ],
      "metadata": {
        "id": "67IMjDCHSHdA"
      },
      "execution_count": null,
      "outputs": []
    },
    {
      "cell_type": "markdown",
      "source": [
        "\n",
        "\n",
        "```\n",
        "RMSE: 124326.24465\n",
        "```\n",
        "\n"
      ],
      "metadata": {
        "id": "qNHsyu7qTDRp"
      }
    },
    {
      "cell_type": "markdown",
      "source": [
        "### ***Decision trees as base learners***\n",
        "\n",
        "It's now time to build an XGBoost model to predict house prices in Ames, Iowa. This dataset of housing prices has been pre-loaded into a DataFrame called `df`. If you explore it in the Shell, you'll see that there are a variety of features about the house and its location in the city.\n",
        "\n",
        "In this exercise, your goal is to use trees as base learners. By default, XGBoost uses trees as base learners, so you don't have to specify that you want to use trees here with **`booster=\"gbtree\"`**.\n",
        "\n",
        "**`xgboost`** has been imported as **`xgb`** and the arrays for the features and the target are available in `X` and `y`, respectively.\n",
        "\n",
        "* Split `df` into training and testing sets, holding out 20% for testing. Use a **`random_state`** of `123`.\n",
        "\n",
        "* Instantiate the **`XGBRegressor`** as `xg_reg`, using a **`seed`** of `123`. Specify an objective of `\"reg:linear\"` and use `10` trees. Note: You don't have to specify `booster=\"gbtree\"` as this is the default.\n",
        "\n",
        "* Fit `xg_reg` to the training data and predict the labels of the test set. Save the predictions in a variable called `preds`.\n",
        "\n",
        "* Compute the `rmse` using `np.sqrt()` and the `mean_squared_error()` function `from sklearn.metrics`, which has been pre-imported."
      ],
      "metadata": {
        "id": "MT8gZBlTTK2f"
      }
    },
    {
      "cell_type": "code",
      "source": [
        "df = pd.read_csv('ames_housing_trimmed_processed.csv')\n",
        "X, y = df.drop(columns='SalePrice'), df['SalePrice']\n",
        "\n",
        "# Create the training and test sets\n",
        "X_train, X_test, y_train, y_test = train_test_split(X, y, test_size=0.2, random_state=123)\n",
        "\n",
        "# Instantiate the XGBRegressor: xg_reg\n",
        "xg_reg = xgb.XGBRegressor(objective='reg:squarederror', n_estimators=10, seed=123)\n",
        "\n",
        "# Fit the regressor to the training set\n",
        "xg_reg.fit(X_train, y_train)\n",
        "\n",
        "# Predict the labels of the test set: preds\n",
        "preds = xg_reg.predict(X_test)\n",
        "\n",
        "# Compute the rmse: rmse\n",
        "rmse = np.sqrt(mean_squared_error(y_test, preds))\n",
        "print(\"RMSE: %f\" % (rmse))"
      ],
      "metadata": {
        "colab": {
          "base_uri": "https://localhost:8080/"
        },
        "id": "zXM7wOIYQsYR",
        "outputId": "8ceb58bb-c830-4ec9-cf0f-d77d583eafbe"
      },
      "execution_count": 7,
      "outputs": [
        {
          "output_type": "stream",
          "name": "stdout",
          "text": [
            "RMSE: 78847.401758\n"
          ]
        }
      ]
    },
    {
      "cell_type": "markdown",
      "source": [
        "Next, you'll train an XGBoost model using linear base learners and XGBoost's learning API. Will it perform better or worse?\n",
        "\n",
        "### ***Linear base learners***\n",
        "\n",
        "Now that you've used trees as base models in XGBoost, let's use the other kind of base model that can be used with XGBoost - a linear learner. This model, although not as commonly used in XGBoost, allows you to create a regularized linear regression using XGBoost's powerful learning API. ***However, because it's uncommon, you have to use XGBoost's own non-scikit-learn compatible functions to build the model, such as `xgb.train()`***.\n",
        "\n",
        "In order to do this you must create the parameter dictionary that describes the kind of booster you want to use (similarly to how you created the dictionary when you used `xgb.cv()`). The key-value pair that defines the booster type (base model) you need is `\"booster\":\"gblinear\"`.\n",
        "\n",
        "Once you've created the model, you can use the `.train()` and `.predict()` methods of the model just like you've done in the past.\n",
        "\n",
        "Here, the data has already been split into training and testing sets, so you can dive right into creating the `DMatrix` objects required by the XGBoost learning API.\n",
        "\n",
        "* Create two DMatrix objects - `DM_train` for the training set (`X_train` and `y_train`), and `DM_test` (`X_test` and `y_test`) for the test set.\n",
        "\n",
        "* Create a parameter dictionary that defines the `\"booster\"` type you will use (`\"gblinear\"`) as well as the `\"objective\"` you will minimize (`\"reg:linear\"`).\n",
        "\n",
        "* Train the model using **`xgb.train()`**. You have to specify arguments for the following parameters: `params`, `dtrain`, and `num_boost_round`. Use `5` boosting rounds.\n",
        "\n",
        "* Predict the labels on the test set using **`xg_reg.predict()`**, passing it `DM_test`. Assign to `preds`.\n"
      ],
      "metadata": {
        "id": "iWe8gdNsX39P"
      }
    },
    {
      "cell_type": "code",
      "source": [
        "# Convert the training and testing sets into DMatrixes: DM_train, DM_test\n",
        "DM_train = xgb.DMatrix(data=X_train,label=y_train)\n",
        "DM_test =  xgb.DMatrix(data=X_test,label=y_test)\n",
        "\n",
        "# Create the parameter dictionary: params\n",
        "params = {\"booster\":\"gblinear\", \"objective\":\"reg:squarederror\"}\n",
        "\n",
        "# Train the model: xg_reg\n",
        "xg_reg = xgb.train(params=params, dtrain=DM_train, num_boost_round=5)\n",
        "\n",
        "# Predict the labels of the test set: preds\n",
        "preds = xg_reg.predict(DM_test)\n",
        "\n",
        "# Compute and print the RMSE\n",
        "rmse = np.sqrt(mean_squared_error(y_test,preds))\n",
        "print(\"RMSE: %f\" % (rmse))  "
      ],
      "metadata": {
        "colab": {
          "base_uri": "https://localhost:8080/"
        },
        "id": "PJ7wxUJSUdsC",
        "outputId": "1944d875-3ec7-4f48-b205-42bb220f412a"
      },
      "execution_count": 8,
      "outputs": [
        {
          "output_type": "stream",
          "name": "stdout",
          "text": [
            "RMSE: 44331.645061\n"
          ]
        }
      ]
    },
    {
      "cell_type": "markdown",
      "source": [
        "It looks like linear base learners performed better!\n",
        "\n",
        "# ***Evaluating model quality***\n",
        "\n",
        "It's now time to begin evaluating model quality.\n",
        "\n",
        "Here, you will compare the RMSE and MAE of a cross-validated XGBoost model on the Ames housing data. As in previous exercises, all necessary modules have been pre-loaded and the data is available in the DataFrame `df`.\n",
        "\n",
        "* Perform 4-fold cross-validation with 5 boosting rounds and `\"rmse\"` as the metric.\n",
        "* Extract and print the final boosting round RMSE."
      ],
      "metadata": {
        "id": "sohkcKoeaPNI"
      }
    },
    {
      "cell_type": "code",
      "source": [
        "# Create the DMatrix: housing_dmatrix\n",
        "housing_dmatrix = xgb.DMatrix(data=X, label=y)\n",
        "\n",
        "# Create the parameter dictionary: params\n",
        "params = {\"objective\":\"reg:squarederror\", \"max_depth\":4}\n",
        "\n",
        "# Perform cross-validation: cv_results\n",
        "cv_results = xgb.cv(dtrain=housing_dmatrix, params=params, nfold=4, num_boost_round=5, metrics='rmse', as_pandas=True, seed=123)\n",
        "\n",
        "# Print cv_results\n",
        "print(cv_results)\n",
        "\n",
        "# Extract and print final boosting round metric\n",
        "print((cv_results['test-rmse-mean']).tail(1))"
      ],
      "metadata": {
        "colab": {
          "base_uri": "https://localhost:8080/"
        },
        "id": "BY6h2qk_aLi5",
        "outputId": "55f53f53-7ed1-43ee-e8b2-ebb149fa1226"
      },
      "execution_count": 10,
      "outputs": [
        {
          "output_type": "stream",
          "name": "stdout",
          "text": [
            "   train-rmse-mean  train-rmse-std  test-rmse-mean  test-rmse-std\n",
            "0    141767.488281      429.449371   142980.464844    1193.806011\n",
            "1    102832.562500      322.503447   104891.398438    1223.161012\n",
            "2     75872.621094      266.493573    79478.947265    1601.341377\n",
            "3     57245.657226      273.633063    62411.919922    2220.151162\n",
            "4     44401.291992      316.426590    51348.276367    2963.378029\n",
            "4    51348.276367\n",
            "Name: test-rmse-mean, dtype: float64\n"
          ]
        }
      ]
    },
    {
      "cell_type": "markdown",
      "source": [
        "* Now, adapt your code to compute the `\"mae\"` instead of the `\"rmse\"`."
      ],
      "metadata": {
        "id": "5L4l6z-5cWrw"
      }
    },
    {
      "cell_type": "code",
      "source": [
        "# Create the DMatrix: housing_dmatrix\n",
        "housing_dmatrix = xgb.DMatrix(data=X, label=y)\n",
        "\n",
        "# Create the parameter dictionary: params\n",
        "params = {\"objective\":\"reg:squarederror\", \"max_depth\":4}\n",
        "\n",
        "# Perform cross-validation: cv_results\n",
        "cv_results = xgb.cv(dtrain=housing_dmatrix, params=params, nfold=4, num_boost_round=5, metrics='mae', as_pandas=True, seed=123)\n",
        "\n",
        "# Print cv_results\n",
        "print(cv_results)\n",
        "\n",
        "# Extract and print final boosting round metric\n",
        "print((cv_results[\"test-mae-mean\"]).tail(1))"
      ],
      "metadata": {
        "colab": {
          "base_uri": "https://localhost:8080/"
        },
        "id": "LMC0CvOBcAwP",
        "outputId": "70a07750-2006-4ff2-c3b5-3de3e50ff385"
      },
      "execution_count": 12,
      "outputs": [
        {
          "output_type": "stream",
          "name": "stdout",
          "text": [
            "   train-mae-mean  train-mae-std  test-mae-mean  test-mae-std\n",
            "0   127343.595703     668.167771  127634.185547   2404.009753\n",
            "1    89770.031250     456.980559   90122.505860   2107.916842\n",
            "2    63580.782226     263.442189   64278.558594   1887.552548\n",
            "3    45633.181640     151.849960   46819.175781   1459.821980\n",
            "4    33587.097656      87.003217   35670.655274   1140.613227\n",
            "4    35670.655274\n",
            "Name: test-mae-mean, dtype: float64\n"
          ]
        }
      ]
    },
    {
      "cell_type": "markdown",
      "source": [
        "# ***L1 regularization in XGBoost***"
      ],
      "metadata": {
        "id": "gh_rhC_QdPHY"
      }
    },
    {
      "cell_type": "code",
      "source": [
        "import xgboost as xgb, pandas as pd\n",
        "\n",
        "df = pd.read_csv('ames_housing_trimmed_processed.csv')\n",
        "X, y = df.drop(columns='SalePrice'), df['SalePrice']\n",
        "\n",
        "ames_dmatrix = xgb.DMatrix(data=X,label=y)\n",
        "params={\"objective\":\"reg:squarederror\",\"max_depth\":4}\n",
        "l1_params = [1,10,100]\n",
        "rmses_l1=[]\n",
        "\n",
        "for reg in l1_params:\n",
        "    params[\"alpha\"] = reg\n",
        "    cv_results = xgb.cv(dtrain=ames_dmatrix, \n",
        "                        params=params,\n",
        "                        nfold=4, \n",
        "                        num_boost_round=10,\n",
        "                        metrics=\"rmse\",\n",
        "                        as_pandas=True,\n",
        "                        seed=123)\n",
        "    rmses_l1.append(cv_results[\"test-rmse-mean\"].tail(1).values[0])\n",
        "\n",
        "print(\"Best rmse as a function of l1:\")\n",
        "print(pd.DataFrame(list(zip(l1_params,rmses_l1)), columns=[\"l1\",\"rmse\"]))"
      ],
      "metadata": {
        "colab": {
          "base_uri": "https://localhost:8080/"
        },
        "id": "6WhDWd7gcYSz",
        "outputId": "1b2711f3-15a9-4c63-a2b2-5150ba07ba1d"
      },
      "execution_count": 13,
      "outputs": [
        {
          "output_type": "stream",
          "name": "stdout",
          "text": [
            "Best rmse as a function of l1:\n",
            "    l1          rmse\n",
            "0    1  35572.512695\n",
            "1   10  35571.970703\n",
            "2  100  35572.369140\n"
          ]
        }
      ]
    },
    {
      "cell_type": "markdown",
      "source": [
        "### ***Using regularization in XGBoost***\n",
        "\n",
        "You'll now vary the l2 regularization penalty - also known as \"lambda\" - and see its effect on overall model performance on the Ames housing dataset.\n",
        "\n",
        "* Create your DMatrix from `X` and `y` as before.\n",
        "\n",
        "* Create an initial parameter dictionary specifying an `\"objective\"` of `\"reg:linear\"` and `\"max_depth\"` of `3`.\n",
        "\n",
        "* Use `xgb.cv()` inside of a for loop and systematically vary the `\"lambda\"` value by passing in the current l2 value (`reg`).\n",
        "\n",
        "* Append the `\"test-rmse-mean\"` from the last boosting round for each cross-validated `xgboost` model."
      ],
      "metadata": {
        "id": "l4S-EQsEm_jc"
      }
    },
    {
      "cell_type": "code",
      "source": [
        "df = pd.read_csv('ames_housing_trimmed_processed.csv')\n",
        "X, y = df.drop(columns='SalePrice'), df['SalePrice']\n",
        "\n",
        "# Create the DMatrix: housing_dmatrix\n",
        "housing_dmatrix = xgb.DMatrix(data=X, label=y)\n",
        "\n",
        "reg_params = [1, 10, 100]\n",
        "\n",
        "# Create the initial parameter dictionary for varying l2 strength: params\n",
        "params = {'objective':'reg:squarederror', 'max_depth':3}\n",
        "\n",
        "# Create an empty list for storing rmses as a function of l2 complexity\n",
        "rmses_l2 = []\n",
        "\n",
        "# Iterate over reg_params\n",
        "for reg in reg_params:\n",
        "\n",
        "    # Update l2 strength\n",
        "    params[\"lambda\"] = reg\n",
        "    \n",
        "    # Pass this updated param dictionary into cv\n",
        "    cv_results_rmse = xgb.cv(dtrain=housing_dmatrix, params=params, nfold=2, num_boost_round=5, metrics=\"rmse\", as_pandas=True, seed=123)\n",
        "    \n",
        "    # Append best rmse (final round) to rmses_l2\n",
        "    rmses_l2.append(cv_results_rmse[\"test-rmse-mean\"].tail(1).values[0])\n",
        "\n",
        "# Look at best rmse per l2 param\n",
        "print(\"Best rmse as a function of l2:\")\n",
        "print(pd.DataFrame(list(zip(reg_params, rmses_l2)), columns=[\"l2\", \"rmse\"]))"
      ],
      "metadata": {
        "colab": {
          "base_uri": "https://localhost:8080/"
        },
        "id": "0Rhl8aDEeaRb",
        "outputId": "8771cb1c-249a-4141-e5c7-330249552590"
      },
      "execution_count": 14,
      "outputs": [
        {
          "output_type": "stream",
          "name": "stdout",
          "text": [
            "Best rmse as a function of l2:\n",
            "    l2          rmse\n",
            "0    1  52275.355469\n",
            "1   10  57746.060547\n",
            "2  100  76624.617188\n"
          ]
        }
      ]
    },
    {
      "cell_type": "markdown",
      "source": [
        "It looks like as as the value of 'lambda' increases, so does the RMSE.\n",
        "\n",
        "### ***Visualizing individual XGBoost trees***\n",
        "\n",
        "Now that you've used XGBoost to both build and evaluate regression as well as classification models, you should get a handle on how to visually explore your models. Here, you will visualize individual trees from the fully boosted model that XGBoost creates using the entire housing dataset.\n",
        "\n",
        "XGBoost has a **`plot_tree()`** function that makes this type of visualization easy. Once you train a model using the XGBoost learning API, you can pass it to the **`plot_tree()`** function along with the number of trees you want to plot using the `num_trees` argument.\n",
        "\n",
        "* Create a parameter dictionary with an `\"objective\"` of `\"reg:linear\"` and a `\"max_depth\"` of `2`.\n",
        "\n",
        "* Train the model using `10` boosting rounds and the parameter dictionary you created. Save the result in `xg_reg`.\n",
        "\n",
        "* Plot the first tree using `xgb.plot_tree()`. It takes in two arguments - \n",
        "  * the model (in this case, `xg_reg`), and \n",
        "  * `num_trees`, which is 0-indexed. So to plot the first tree, specify `num_trees=0`.\n",
        "\n",
        "* Plot the fifth tree.\n",
        "* Plot the last (tenth) tree sideways. To do this, specify the additional keyword argument `rankdir=\"LR\"`."
      ],
      "metadata": {
        "id": "gGTZxQ3Do6Or"
      }
    },
    {
      "cell_type": "code",
      "source": [
        "df = pd.read_csv('ames_housing_trimmed_processed.csv')\n",
        "X, y = df.drop(columns='SalePrice'), df['SalePrice']\n",
        "fig, ax = plt.subplots(figsize=(15, 10))\n",
        "# Create the DMatrix: housing_dmatrix\n",
        "housing_dmatrix = xgb.DMatrix(data=X, label=y)\n",
        "\n",
        "# Create the parameter dictionary: params\n",
        "params = {\"objective\":\"reg:squarederror\", \"max_depth\":2}\n",
        "\n",
        "# Train the model: xg_reg\n",
        "xg_reg = xgb.train(params=params, dtrain=housing_dmatrix, num_boost_round=10)\n",
        "\n",
        "# Plot the first tree\n",
        "xgb.plot_tree(xg_reg, num_trees=0, ax=ax)\n",
        "plt.show()\n",
        "print(\"\\n\")\n",
        "\n",
        "# Plot the fifth tree\n",
        "fig, ax = plt.subplots(figsize=(15, 10))\n",
        "xgb.plot_tree(xg_reg, num_trees=4, ax=ax)\n",
        "plt.show()\n",
        "print(\"\\n\")\n",
        "\n",
        "# Plot the last tree sideways\n",
        "fig, ax = plt.subplots(figsize=(15, 10))\n",
        "xgb.plot_tree(xg_reg, num_trees=9, rankdir=\"LR\", ax=ax)\n",
        "plt.show()"
      ],
      "metadata": {
        "colab": {
          "base_uri": "https://localhost:8080/",
          "height": 949
        },
        "id": "umDWB98Mo1VM",
        "outputId": "3d148ec8-990d-417c-be09-f9cf567679a4"
      },
      "execution_count": 20,
      "outputs": [
        {
          "output_type": "display_data",
          "data": {
            "text/plain": [
              "<Figure size 1080x720 with 1 Axes>"
            ],
            "image/png": "[encoded data removed]"
          },
          "metadata": {}
        },
        {
          "output_type": "stream",
          "name": "stdout",
          "text": [
            "\n",
            "\n"
          ]
        },
        {
          "output_type": "display_data",
          "data": {
            "text/plain": [
              "<Figure size 1080x720 with 1 Axes>"
            ],
            "image/png": "[encoded data removed]"
          },
          "metadata": {}
        },
        {
          "output_type": "stream",
          "name": "stdout",
          "text": [
            "\n",
            "\n"
          ]
        },
        {
          "output_type": "display_data",
          "data": {
            "text/plain": [
              "<Figure size 1080x720 with 1 Axes>"
            ],
            "image/png": "[encoded data removed]"
          },
          "metadata": {}
        }
      ]
    },
    {
      "cell_type": "markdown",
      "source": [
        "Have a look at each of the plots. They provide insight into how the model arrived at its final decisions and what splits it made to arrive at those decisions. This allows us to identify which features are the most important in determining house price. In the next exercise, you'll learn another way of visualizing feature importances.\n",
        "\n",
        "### ***Visualizing feature importances: What features are most important in my dataset***\n",
        "\n",
        "Another way to visualize your XGBoost models is to examine the importance of each feature column in the original dataset within the model.\n",
        "\n",
        "One simple way of doing this involves \n",
        "\n",
        "* ***counting the number of times each feature is split on across all boosting rounds (trees) in the model***, and then \n",
        "* ***visualizing the result as a bar graph***, with the features ordered according to how many times they appear. \n",
        "\n",
        "XGBoost has a **`plot_importance()`** function that allows you to do exactly this, and you'll get a chance to use it in this exercise!\n",
        "\n",
        "* Create your **`DMatrix`** from `X` and `y` as before.\n",
        "\n",
        "* Create a parameter dictionary with appropriate `\"objective\"` (`\"reg:linear\"`) and a `\"max_depth\"` of `4`.\n",
        "\n",
        "* Train the model with `10` boosting rounds, exactly as you did in the previous exercise.\n",
        "\n",
        "* Use **`xgb.plot_importance()`** and pass in the trained model to generate the graph of feature importances."
      ],
      "metadata": {
        "id": "HMaN64F-rBMY"
      }
    },
    {
      "cell_type": "code",
      "source": [
        "# Create the DMatrix: housing_dmatrix\n",
        "housing_dmatrix = xgb.DMatrix(data=X, label=y)\n",
        "\n",
        "# Create the parameter dictionary: params\n",
        "params = {'objective': 'reg:squarederror', 'max_depth': 4}\n",
        "\n",
        "# Train the model: xg_reg\n",
        "xg_reg = xgb.train(params=params, dtrain=housing_dmatrix, num_boost_round=10)\n",
        "\n",
        "# Plot the feature importances\n",
        "fig, ax = plt.subplots(figsize=(15, 10))\n",
        "xgb.plot_importance(xg_reg, ax=ax)\n",
        "plt.show()"
      ],
      "metadata": {
        "colab": {
          "base_uri": "https://localhost:8080/",
          "height": 605
        },
        "id": "jIDoF0mYqPpO",
        "outputId": "e0a8ec4b-a205-4556-b05e-275ec443a7cf"
      },
      "execution_count": 22,
      "outputs": [
        {
          "output_type": "display_data",
          "data": {
            "text/plain": [
              "<Figure size 1080x720 with 1 Axes>"
            ],
            "image/png": "[encoded data removed]"
          },
          "metadata": {}
        }
      ]
    },
    {
      "cell_type": "markdown",
      "source": [
        "It looks like `GrLivArea` is the most important feature."
      ],
      "metadata": {
        "id": "6tuvqIuMsm8M"
      }
    },
    {
      "cell_type": "markdown",
      "source": [
        "# ***Untuned model example***"
      ],
      "metadata": {
        "id": "5zbLh3YPteUp"
      }
    },
    {
      "cell_type": "code",
      "source": [
        "import pandas as pd, xgboost as xgb, numpy as np\n",
        "\n",
        "housing_data = pd.read_csv(\"ames_housing_trimmed_processed.csv\")\n",
        "X,y = housing_data[housing_data.columns.tolist()[:-1]], housing_data[housing_data.columns.tolist()[-1]]\n",
        "\n",
        "housing_dmatrix = xgb.DMatrix(data=X,label=y)\n",
        "untuned_params={\"objective\":\"reg:squarederror\"}\n",
        "untuned_cv_results_rmse = xgb.cv(dtrain=housing_dmatrix, params=untuned_params,nfold=4, metrics=\"rmse\",as_pandas=True,seed=123)\n",
        "print(\"Untuned rmse: %f\" %((untuned_cv_results_rmse[\"test-rmse-mean\"]).tail(1)))"
      ],
      "metadata": {
        "colab": {
          "base_uri": "https://localhost:8080/"
        },
        "id": "RIY4NpDSsa2u",
        "outputId": "fad025bd-5c34-4150-fc78-8f5a3a25e82e"
      },
      "execution_count": 23,
      "outputs": [
        {
          "output_type": "stream",
          "name": "stdout",
          "text": [
            "Untuned rmse: 34624.230957\n"
          ]
        }
      ]
    },
    {
      "cell_type": "markdown",
      "source": [
        "# ***Tuned model example***"
      ],
      "metadata": {
        "id": "1lljT2sSuLgR"
      }
    },
    {
      "cell_type": "code",
      "source": [
        "housing_data = pd.read_csv(\"ames_housing_trimmed_processed.csv\")\n",
        "\n",
        "X,y = housing_data[housing_data.columns.tolist()[:-1]], housing_data[housing_data.columns.tolist()[-1]]\n",
        "housing_dmatrix = xgb.DMatrix(data=X,label=y)\n",
        "tuned_params = {\"objective\":\"reg:squarederror\",'colsample_bytree': 0.3, 'learning_rate': 0.1, 'max_depth': 5}\n",
        "\n",
        "tuned_cv_results_rmse = xgb.cv(dtrain=housing_dmatrix, params=tuned_params, nfold=4, num_boost_round=200, metrics=\"rmse\", as_pandas=True, seed=123)\n",
        "print(\"Tuned rmse: %f\" %((tuned_cv_results_rmse[\"test-rmse-mean\"]).tail(1)))"
      ],
      "metadata": {
        "colab": {
          "base_uri": "https://localhost:8080/"
        },
        "id": "_MDcNwb-tQG_",
        "outputId": "ae715524-eaa3-4b31-8ec5-034c42924430"
      },
      "execution_count": 25,
      "outputs": [
        {
          "output_type": "stream",
          "name": "stdout",
          "text": [
            "Tuned rmse: 31111.040039\n"
          ]
        }
      ]
    },
    {
      "cell_type": "markdown",
      "source": [
        "### ***Tuning the number of boosting rounds***\n",
        "\n",
        "Let's start with parameter tuning by seeing how the number of boosting rounds (number of trees you build) impacts the out-of-sample performance of your XGBoost model. You'll use **`xgb.cv()`** inside a `for` loop and build one model per **`num_boost_round`** parameter.\n",
        "\n",
        "Here, you'll continue working with the Ames housing dataset. The features are available in the array `X`, and the target vector is contained in `y`.\n",
        "\n",
        "\n",
        "* Create a `DMatrix` called `housing_dmatrix` from `X` and `y`.\n",
        "\n",
        "* Create a parameter dictionary called `params`, passing in the appropriate `\"objective\"` (`\"reg:linear\"`) and `\"max_depth\"` (set it to `3`).\n",
        "\n",
        "* Iterate over `num_rounds` inside a `for` loop and perform `3`-fold cross-validation. In each iteration of the loop, pass in the current number of boosting rounds (`curr_num_rounds`) to **`xgb.cv()`** as the argument to `num_boost_round`.\n",
        "\n",
        "* Append the final boosting round RMSE for each cross-validated XGBoost model to the `final_rmse_per_round` list.\n",
        "\n",
        "* `num_rounds` and `final_rmse_per_round` have been zipped and converted into a DataFrame so you can easily see how the model performs with each boosting round. "
      ],
      "metadata": {
        "id": "O5VGfsGcvAKw"
      }
    },
    {
      "cell_type": "code",
      "source": [
        "df = pd.read_csv(\"ames_housing_trimmed_processed.csv\")\n",
        "X, y = df.drop(columns='SalePrice'), df['SalePrice']\n",
        "\n",
        "# Create the DMatrix: housing_dmatrix\n",
        "housing_dmatrix = xgb.DMatrix(data=X, label=y)\n",
        "\n",
        "# Create the parameter dictionary for each tree: params \n",
        "params = {'objective':'reg:squarederror', 'max_depth': 3}\n",
        "\n",
        "# Create list of number of boosting rounds\n",
        "num_rounds = [5, 10, 15]\n",
        "\n",
        "# Empty list to store final round rmse per XGBoost model\n",
        "final_rmse_per_round = []\n",
        "\n",
        "# Iterate over num_rounds and build one model per num_boost_round parameter\n",
        "for curr_num_rounds in num_rounds:\n",
        "\n",
        "    # Perform cross-validation: cv_results\n",
        "    cv_results = xgb.cv(dtrain=housing_dmatrix, params=params, nfold=3, num_boost_round=curr_num_rounds, metrics=\"rmse\", as_pandas=True, seed=123)\n",
        "    \n",
        "    # Append final round RMSE\n",
        "    final_rmse_per_round.append(cv_results[\"test-rmse-mean\"].tail().values[-1])\n",
        "\n",
        "# Print the resultant DataFrame\n",
        "num_rounds_rmses = list(zip(num_rounds, final_rmse_per_round))\n",
        "print(pd.DataFrame(num_rounds_rmses,columns=[\"num_boosting_rounds\",\"rmse\"]))"
      ],
      "metadata": {
        "colab": {
          "base_uri": "https://localhost:8080/"
        },
        "id": "onNDlYxFuad3",
        "outputId": "aebd92f4-363b-4ae3-a3aa-1bff5b4d137b"
      },
      "execution_count": 27,
      "outputs": [
        {
          "output_type": "stream",
          "name": "stdout",
          "text": [
            "   num_boosting_rounds          rmse\n",
            "0                    5  50903.299479\n",
            "1                   10  34774.191406\n",
            "2                   15  32895.098307\n"
          ]
        }
      ]
    },
    {
      "cell_type": "markdown",
      "source": [
        "As you can see, increasing the number of boosting rounds decreases the RMSE.\n",
        "\n",
        "### ***Automated boosting round selection using early_stopping***\n",
        "\n",
        "Now, instead of attempting to cherry pick the best possible number of boosting rounds, you can very easily have XGBoost automatically select the number of boosting rounds for you within **`xgb.cv()`**. This is done using a technique called early stopping.\n",
        "\n",
        "Early stopping works by testing the XGBoost model after every boosting round against a hold-out dataset and stopping the creation of additional boosting rounds (thereby finishing training of the model early) if the hold-out metric (\"rmse\" in our case) does not improve for a given number of rounds. Here you will use the `early_stopping_rounds` parameter in **`xgb.cv()`** with a large possible number of boosting rounds (`50`). Bear in mind that if the holdout metric continuously improves up through when `num_boost_rounds` is reached, then early stopping does not occur.\n",
        "\n",
        "Here, the `DMatrix` and parameter dictionary have been created for you. Your task is to use cross-validation with early stopping. Go for it!\n",
        "\n",
        "* Perform `3`-fold cross-validation with early stopping and `\"rmse\"` as your metric. Use `10` early stopping rounds and `50` boosting rounds. Specify a `seed` of `123` and make sure the output is a `pandas` DataFrame. Remember to specify the other parameters such as `dtrain`, `params`, and `metrics`.\n",
        "* Print `cv_results`."
      ],
      "metadata": {
        "id": "N6mB3LIFwsj1"
      }
    },
    {
      "cell_type": "code",
      "source": [
        "# Create your housing DMatrix: housing_dmatrix\n",
        "housing_dmatrix = xgb.DMatrix(data=X, label=y)\n",
        "\n",
        "# Create the parameter dictionary for each tree: params\n",
        "params = {\"objective\":\"reg:squarederror\", \"max_depth\":4}\n",
        "\n",
        "# Perform cross-validation with early stopping: cv_results\n",
        "cv_results = xgb.cv(dtrain=housing_dmatrix, params=params, nfold=3, num_boost_round=50, early_stopping_rounds=10, metrics=\"rmse\", as_pandas=True, seed=123)\n",
        "\n",
        "# Print cv_results\n",
        "print(cv_results)"
      ],
      "metadata": {
        "colab": {
          "base_uri": "https://localhost:8080/"
        },
        "id": "sGgqdE-5wl2N",
        "outputId": "14c482d7-1379-4935-e06b-7264f0517f6f"
      },
      "execution_count": 29,
      "outputs": [
        {
          "output_type": "stream",
          "name": "stdout",
          "text": [
            "    train-rmse-mean  train-rmse-std  test-rmse-mean  test-rmse-std\n",
            "0     141871.630208      403.632409   142640.630208     705.552907\n",
            "1     103057.033854       73.787612   104907.677083     111.124997\n",
            "2      75975.958333      253.705643    79262.057292     563.761707\n",
            "3      57420.515625      521.666323    61620.138021    1087.681933\n",
            "4      44552.960938      544.168971    50437.558594    1846.450522\n",
            "5      35763.942708      681.796885    43035.660156    2034.476339\n",
            "6      29861.469401      769.567549    38600.881511    2169.803563\n",
            "7      25994.679036      756.524834    36071.816407    2109.801581\n",
            "8      23306.832031      759.237670    34383.183594    1934.542189\n",
            "9      21459.772786      745.623841    33509.141927    1887.374589\n",
            "10     20148.728516      749.612756    32916.806641    1850.890045\n",
            "11     19215.382162      641.387202    32197.834635    1734.459068\n",
            "12     18627.391276      716.256399    31770.848958    1802.156167\n",
            "13     17960.697265      557.046469    31482.781901    1779.126300\n",
            "14     17559.733724      631.413289    31389.990234    1892.321401\n",
            "15     17205.712891      590.168517    31302.885417    1955.164927\n",
            "16     16876.571615      703.636538    31234.060547    1880.707358\n",
            "17     16597.666992      703.677646    31318.347656    1828.860164\n",
            "18     16330.460612      607.275030    31323.636719    1775.911103\n",
            "19     16005.972331      520.472435    31204.138021    1739.073743\n",
            "20     15814.299479      518.603218    31089.865885    1756.024090\n",
            "21     15493.405924      505.617405    31047.996094    1624.672630\n",
            "22     15270.733724      502.021346    31056.920573    1668.036788\n",
            "23     15086.381836      503.910642    31024.981120    1548.988924\n",
            "24     14917.606445      486.208398    30983.680990    1663.131129\n",
            "25     14709.591797      449.666844    30989.479818    1686.664414\n",
            "26     14457.285156      376.785590    30952.116536    1613.170520\n",
            "27     14185.567708      383.100492    31066.899088    1648.531897\n",
            "28     13934.065104      473.464919    31095.643880    1709.226491\n",
            "29     13749.646485      473.671156    31103.885417    1778.882817\n",
            "30     13549.837891      454.900755    30976.083984    1744.514903\n",
            "31     13413.480469      399.601066    30938.469401    1746.051298\n",
            "32     13275.916341      415.404898    30931.000651    1772.471473\n",
            "33     13085.878906      493.793750    30929.056640    1765.541487\n",
            "34     12947.182292      517.789542    30890.625651    1786.510889\n",
            "35     12846.026367      547.731831    30884.489583    1769.731829\n",
            "36     12702.380534      505.522036    30833.541667    1690.999881\n",
            "37     12532.243815      508.298122    30856.692709    1771.447014\n",
            "38     12384.056641      536.224879    30818.013672    1782.783623\n",
            "39     12198.445312      545.165866    30839.394531    1847.325690\n",
            "40     12054.582682      508.840691    30776.964844    1912.779519\n",
            "41     11897.033528      477.177882    30794.703776    1919.677255\n",
            "42     11756.221354      502.993261    30780.961589    1906.820582\n",
            "43     11618.846029      519.835813    30783.754557    1951.258396\n",
            "44     11484.081380      578.429092    30776.734375    1953.449992\n",
            "45     11356.550781      565.367451    30758.544271    1947.456794\n",
            "46     11193.557292      552.298192    30729.973307    1985.701585\n",
            "47     11071.317383      604.088404    30732.662760    1966.997355\n",
            "48     10950.777018      574.864279    30712.243490    1957.751584\n",
            "49     10824.865885      576.664748    30720.852214    1950.513825\n"
          ]
        }
      ]
    },
    {
      "cell_type": "markdown",
      "source": [
        "### ***Tuning eta***\n",
        "\n",
        "It's time to practice tuning other XGBoost hyperparameters in earnest and observing their effect on model performance! You'll begin by tuning the `\"eta\"`, also known as the **learning rate**.\n",
        "\n",
        "The learning rate in XGBoost is a parameter that can range between 0 and 1, with higher values of `\"eta\"` penalizing feature weights more strongly, causing much stronger regularization.\n",
        "\n",
        "\n",
        "* Create a list called `eta_vals` to store the following `\"eta\"` values: `0.001, 0.01,` and `0.1`. Iterate over your `eta_vals` list using a `for` loop.\n",
        "\n",
        "* In each iteration of the `for` loop, set the `\"eta\"` key of params to be equal to `curr_val`. Then, perform 3-fold cross-validation with early stopping (`5` rounds), `10` boosting rounds, a metric of `\"rmse\"`, and a seed of `123`. Ensure the output is a DataFrame.\n",
        "* Append the final round RMSE to the `best_rmse` list."
      ],
      "metadata": {
        "id": "Q9D-r94RTGkf"
      }
    },
    {
      "cell_type": "code",
      "source": [
        "df = pd.read_csv(\"ames_housing_trimmed_processed.csv\")\n",
        "X, y = df.drop(columns='SalePrice'), df['SalePrice']\n",
        "\n",
        "# Create your housing DMatrix: housing_dmatrix\n",
        "housing_dmatrix = xgb.DMatrix(data=X, label=y)\n",
        "\n",
        "# Create the parameter dictionary for each tree (boosting round)\n",
        "params = {\"objective\":\"reg:squarederror\", \"max_depth\":3}\n",
        "\n",
        "# Create list of eta values and empty list to store final round rmse per xgboost model\n",
        "eta_vals = [0.001, 0.01,  0.1]\n",
        "best_rmse = []\n",
        "\n",
        "# Systematically vary the eta \n",
        "for curr_val in eta_vals:\n",
        "\n",
        "    params[\"eta\"] = curr_val\n",
        "    \n",
        "    # Perform cross-validation: cv_results\n",
        "    cv_results = xgb.cv(dtrain=housing_dmatrix, \n",
        "                        params=params, \n",
        "                        nfold=3, \n",
        "                        num_boost_round=10, \n",
        "                        early_stopping_rounds=5, \n",
        "                        metrics=\"rmse\", \n",
        "                        as_pandas=True, \n",
        "                        seed=123)\n",
        "    best_rmse.append(cv_results['test-rmse-mean'].tail().values[-1])\n",
        "\n",
        "# Print the resultant DataFrame\n",
        "print(pd.DataFrame(list(zip(eta_vals, best_rmse)), columns=[\"eta\",\"best_rmse\"]))"
      ],
      "metadata": {
        "colab": {
          "base_uri": "https://localhost:8080/"
        },
        "id": "QZo20-2Jx3rv",
        "outputId": "c09ad1b0-72ff-4413-ee63-e9bad53f5cfb"
      },
      "execution_count": 3,
      "outputs": [
        {
          "output_type": "stream",
          "name": "stdout",
          "text": [
            "     eta      best_rmse\n",
            "0  0.001  195736.416667\n",
            "1  0.010  179932.161458\n",
            "2  0.100   79759.416667\n"
          ]
        }
      ]
    },
    {
      "cell_type": "markdown",
      "source": [
        "### ***Tuning max_depth***\n",
        "\n",
        "In this exercise, your job is to tune `max_depth`, which is the parameter that dictates the maximum depth that each tree in a boosting round can grow to. Smaller values will lead to shallower trees, and larger values to deeper trees.\n",
        "\n",
        "\n",
        "* Create a list called `max_depths` to store the following `\"max_depth\"` values: `2, 5, 10, 20`. Iterate over your `max_depths` list using a `for` loop.\n",
        "* Systematically vary `\"max_depth\"` in each iteration of the `for` loop and perform `2`-fold cross-validation with early stopping (`5` rounds), `10` boosting rounds, a metric of `\"rmse\"`, and a `seed` of `123`. Ensure the output is a DataFrame."
      ],
      "metadata": {
        "id": "Id2V6PmEXT8F"
      }
    },
    {
      "cell_type": "code",
      "source": [
        "df = pd.read_csv(\"ames_housing_trimmed_processed.csv\")\n",
        "X, y = df.drop(columns='SalePrice'), df['SalePrice']\n",
        "\n",
        "# Create your housing DMatrix\n",
        "housing_dmatrix = xgb.DMatrix(data=X,label=y)\n",
        "\n",
        "# Create the parameter dictionary\n",
        "params = {\"objective\":\"reg:squarederror\"}\n",
        "\n",
        "# Create list of max_depth values\n",
        "max_depths = [2, 5, 10, 20]\n",
        "best_rmse = []\n",
        "\n",
        "# Systematically vary the max_depth\n",
        "for curr_val in max_depths:\n",
        "\n",
        "    params[\"max_depth\"] = curr_val\n",
        "    \n",
        "    # Perform cross-validation\n",
        "    cv_results = xgb.cv(dtrain=housing_dmatrix, \n",
        "                        params=params, \n",
        "                        nfold=2, \n",
        "                        num_boost_round=10, \n",
        "                        early_stopping_rounds=5, \n",
        "                        metrics=\"rmse\", \n",
        "                        as_pandas=True, \n",
        "                        seed=123)\n",
        "    \n",
        "    \n",
        "    \n",
        "    # Append the final round rmse to best_rmse\n",
        "    best_rmse.append(cv_results[\"test-rmse-mean\"].tail().values[-1])\n",
        "\n",
        "# Print the resultant DataFrame\n",
        "print(pd.DataFrame(list(zip(max_depths, best_rmse)),columns=[\"max_depth\",\"best_rmse\"]))"
      ],
      "metadata": {
        "colab": {
          "base_uri": "https://localhost:8080/"
        },
        "id": "oEbWH7RKXK8b",
        "outputId": "2355fcfc-3da3-448b-e916-9e520e720748"
      },
      "execution_count": 4,
      "outputs": [
        {
          "output_type": "stream",
          "name": "stdout",
          "text": [
            "   max_depth     best_rmse\n",
            "0          2  37957.472657\n",
            "1          5  35596.595703\n",
            "2         10  36065.548829\n",
            "3         20  36739.576172\n"
          ]
        }
      ]
    },
    {
      "cell_type": "markdown",
      "source": [
        "### ***Tuning colsample_bytree***\n",
        "\n",
        "Now, it's time to tune `\"colsample_bytree\"`. You've already seen this if you've ever worked with `scikit-learn`'s **`RandomForestClassifier`** or **`RandomForestRegressor`**, where it just was called **`max_features`**. In both `xgboost` and `sklearn`, this parameter (although named differently) simply specifies the fraction of features to choose from at every split in a given tree. In `xgboost`, `colsample_bytree` must be specified as a `float` between `0` and `1`.\n",
        "\n",
        "* Create a list called `colsample_bytree_vals` to store the values `0.1, 0.5, 0.8, 1`.\n",
        "* Systematically vary `\"colsample_bytree\"` and perform cross-validation, exactly as you did with `max_depth` and `eta` previously."
      ],
      "metadata": {
        "id": "cgwwhTlrYo1w"
      }
    },
    {
      "cell_type": "code",
      "source": [
        "df = pd.read_csv(\"ames_housing_trimmed_processed.csv\")\n",
        "X, y = df.drop(columns='SalePrice'), df['SalePrice']\n",
        "\n",
        "# Create your housing DMatrix\n",
        "housing_dmatrix = xgb.DMatrix(data=X,label=y)\n",
        "\n",
        "# Create the parameter dictionary\n",
        "params={\"objective\":\"reg:squarederror\",\"max_depth\":3}\n",
        "\n",
        "# Create list of hyperparameter values: colsample_bytree_vals\n",
        "colsample_bytree_vals = [0.1, 0.5, 0.8, 1]\n",
        "best_rmse = []\n",
        "\n",
        "# Systematically vary the hyperparameter value \n",
        "for curr_val in colsample_bytree_vals:\n",
        "\n",
        "    params['colsample_bytree'] = curr_val\n",
        "    \n",
        "    # Perform cross-validation\n",
        "    cv_results = xgb.cv(dtrain=housing_dmatrix, \n",
        "                        params=params, \n",
        "                        nfold=2, \n",
        "                        num_boost_round=10, \n",
        "                        early_stopping_rounds=5, \n",
        "                        metrics=\"rmse\", \n",
        "                        as_pandas=True, \n",
        "                        seed=123)\n",
        "    \n",
        "    # Append the final round rmse to best_rmse\n",
        "    best_rmse.append(cv_results[\"test-rmse-mean\"].tail().values[-1])\n",
        "\n",
        "# Print the resultant DataFrame\n",
        "print(pd.DataFrame(list(zip(colsample_bytree_vals, best_rmse)), columns=[\"colsample_bytree\",\"best_rmse\"]))"
      ],
      "metadata": {
        "colab": {
          "base_uri": "https://localhost:8080/"
        },
        "id": "zd857iF8YeBE",
        "outputId": "95807014-a4cc-4850-9b64-0419536fac96"
      },
      "execution_count": 6,
      "outputs": [
        {
          "output_type": "stream",
          "name": "stdout",
          "text": [
            "   colsample_bytree     best_rmse\n",
            "0               0.1  48193.453125\n",
            "1               0.5  36013.542969\n",
            "2               0.8  35932.960938\n",
            "3               1.0  35836.044922\n"
          ]
        }
      ]
    },
    {
      "cell_type": "markdown",
      "source": [
        "There are several other individual parameters that you can tune, such as **`\"subsample\"`**, which dictates the fraction of the training data that is used during any given boosting round. Next up: Grid Search and Random Search to tune XGBoost hyperparameters more efficiently!\n",
        "\n",
        "# ***Grid search: example***"
      ],
      "metadata": {
        "id": "IX76GpoKZzJF"
      }
    },
    {
      "cell_type": "code",
      "source": [
        "import pandas as pd, xgboost as xgb, numpy as np\n",
        "from sklearn.model_selection import GridSearchCV\n",
        "\n",
        "housing_data = pd.read_csv(\"ames_housing_trimmed_processed.csv\")\n",
        "X, y = housing_data[housing_data.columns.tolist()[:-1]], housing_data[housing_data.columns.tolist()[-1]]\n",
        "housing_dmatrix = xgb.DMatrix(data=X,label=y)\n",
        "gbm_param_grid = {'learning_rate': [0.01,0.1,0.5,0.9],\n",
        "                  'n_estimators': [200],\n",
        "                  'subsample': [0.3, 0.5, 0.9]}\n",
        "\n",
        "gbm = xgb.XGBRegressor(objective='reg:squarederror')\n",
        "grid_mse = GridSearchCV(estimator=gbm, \n",
        "                        param_grid=gbm_param_grid,\n",
        "                        scoring='neg_mean_squared_error', \n",
        "                        cv=4, \n",
        "                        verbose=1)\n",
        "\n",
        "grid_mse.fit(X, y)\n",
        "print(\"Best parameters found: \", grid_mse.best_params_)\n",
        "print(\"Lowest RMSE found: \", np.sqrt(np.abs(grid_mse.best_score_)))"
      ],
      "metadata": {
        "colab": {
          "base_uri": "https://localhost:8080/"
        },
        "id": "NNLo2otjZrUg",
        "outputId": "653e7644-1899-4445-d634-5888aee1617e"
      },
      "execution_count": 6,
      "outputs": [
        {
          "output_type": "stream",
          "name": "stdout",
          "text": [
            "Fitting 4 folds for each of 12 candidates, totalling 48 fits\n",
            "Best parameters found:  {'learning_rate': 0.1, 'n_estimators': 200, 'subsample': 0.5}\n",
            "Lowest RMSE found:  28410.039476552454\n"
          ]
        }
      ]
    },
    {
      "cell_type": "markdown",
      "source": [
        "# ***Random search: example***"
      ],
      "metadata": {
        "id": "Pz_vpPZAscjC"
      }
    },
    {
      "cell_type": "code",
      "source": [
        "import pandas as pd, xgboost as xgb, numpy as np\n",
        "from sklearn.model_selection import RandomizedSearchCV\n",
        "\n",
        "housing_data = pd.read_csv(\"ames_housing_trimmed_processed.csv\")\n",
        "X, y = housing_data[housing_data.columns.tolist()[:-1]], housing_data[housing_data.columns.tolist()[-1]]\n",
        "housing_dmatrix = xgb.DMatrix(data=X, label=y)\n",
        "gbm_param_grid = {'learning_rate': np.arange(0.05,1.05,.05),\n",
        "                  'n_estimators': [200],\n",
        "                  'subsample': np.arange(0.05,1.05,.05)} # จะเห็นว่ามีจำนวนพารามิเตอร์เยอะมากๆ\n",
        "\n",
        "gbm = xgb.XGBRegressor(objective='reg:squarederror')\n",
        "\n",
        "randomized_mse = RandomizedSearchCV(estimator=gbm, \n",
        "                                    param_distributions=gbm_param_grid,\n",
        "                                    n_iter=25, \n",
        "                                    scoring='neg_mean_squared_error', \n",
        "                                    cv=4, \n",
        "                                    verbose=1)\n",
        "\n",
        "randomized_mse.fit(X, y)\n",
        "print(\"Best parameters found: \", randomized_mse.best_params_)\n",
        "print(\"Lowest RMSE found: \", np.sqrt(np.abs(randomized_mse.best_score_)))"
      ],
      "metadata": {
        "colab": {
          "base_uri": "https://localhost:8080/"
        },
        "id": "CsiG_5gprDOU",
        "outputId": "57622d21-c707-4663-cffa-3ac1fd46f2c2"
      },
      "execution_count": 7,
      "outputs": [
        {
          "output_type": "stream",
          "name": "stdout",
          "text": [
            "Fitting 4 folds for each of 25 candidates, totalling 100 fits\n",
            "Best parameters found:  {'subsample': 0.55, 'n_estimators': 200, 'learning_rate': 0.1}\n",
            "Lowest RMSE found:  28447.36441323331\n"
          ]
        }
      ]
    },
    {
      "cell_type": "markdown",
      "source": [
        "### ***Grid search with XGBoost***\n",
        "\n",
        "Now that you've learned how to tune parameters individually with XGBoost, let's take your parameter tuning to the next level by using scikit-learn's **`GridSearch`** and **`RandomizedSearch`** capabilities with internal cross-validation using the **`GridSearchCV`** and **`RandomizedSearchCV`** functions. You will use these to find the best model exhaustively from a collection of possible parameter values across multiple parameters simultaneously. Let's get to work, starting with **`GridSearchCV`**!\n",
        "\n",
        "\n",
        "* Create a parameter grid called `gbm_param_grid` that contains a list of `\"colsample_bytree\"` values `(0.3, 0.7)`, a list with a single value for `\"n_estimators\" (50)`, and a list of `2 \"max_depth\" (2, 5)` values.\n",
        "\n",
        "* Instantiate an **`XGBRegressor`** object called `gbm`.\n",
        "* Create a **`GridSearchCV`** object called `grid_mse`, passing in: the parameter grid to `param_grid`, the **XGBRegressor`** to `estimator`, `\"neg_mean_squared_error\"` to scoring, and `4` to `cv`. Also specify `verbose=1` so you can better understand the output.\n",
        "\n",
        "* Fit the **`GridSearchCV`** object to `X` and `y`.\n",
        "* Print the best parameter values and lowest RMSE, using the **`.best_params_`** and **`.best_score_`** attributes, respectively, of `grid_mse`."
      ],
      "metadata": {
        "id": "I6AYB0KsubEd"
      }
    },
    {
      "cell_type": "code",
      "source": [
        "df = pd.read_csv(\"ames_housing_trimmed_processed.csv\")\n",
        "X, y = df.drop(columns='SalePrice'), df['SalePrice']\n",
        "\n",
        "# Create the parameter grid: gbm_param_grid\n",
        "gbm_param_grid = {\n",
        "    'colsample_bytree': [0.3, 0.7],\n",
        "    'n_estimators': [50],\n",
        "    'max_depth': [2, 5]\n",
        "}\n",
        "\n",
        "# Instantiate the regressor: gbm\n",
        "gbm = xgb.XGBRegressor(objective='reg:squarederror')\n",
        "\n",
        "# Perform grid search: grid_mse\n",
        "grid_mse = GridSearchCV(estimator=gbm, \n",
        "                        param_grid=gbm_param_grid, \n",
        "                        scoring='neg_mean_squared_error', \n",
        "                        cv=4, \n",
        "                        verbose=1)\n",
        "\n",
        "# Fit grid_mse to the data\n",
        "grid_mse.fit(X, y)\n",
        "\n",
        "# Print the best parameters and lowest RMSE\n",
        "print(\"Best parameters found: \", grid_mse.best_params_)\n",
        "print(\"Lowest RMSE found: \", np.sqrt(np.abs(grid_mse.best_score_)))"
      ],
      "metadata": {
        "colab": {
          "base_uri": "https://localhost:8080/"
        },
        "id": "-d0u1aVNtCez",
        "outputId": "da44fe26-00bb-4d3a-c060-ed15ec0608f8"
      },
      "execution_count": 10,
      "outputs": [
        {
          "output_type": "stream",
          "name": "stdout",
          "text": [
            "Fitting 4 folds for each of 4 candidates, totalling 16 fits\n",
            "Best parameters found:  {'colsample_bytree': 0.7, 'max_depth': 5, 'n_estimators': 50}\n",
            "Lowest RMSE found:  29916.562522854438\n"
          ]
        }
      ]
    },
    {
      "cell_type": "markdown",
      "source": [
        "### ***Random search with XGBoost***\n",
        "\n",
        "Often, **`GridSearchCV`** can be really time consuming, so in practice, you may want to use **`RandomizedSearchCV`** instead, as you will do in this exercise. The good news is you only have to make a few modifications to your **`GridSearchCV`** code to do **`RandomizedSearchCV`**. The key difference is you have to specify a **`param_distributions`** parameter instead of a **`param_grid`** parameter.\n",
        "\n",
        "* Create a parameter grid called `gbm_param_grid` that contains a list with a single value for `'n_estimators'` (`25`), and a list of `'max_depth'` values between `2` and `11` for `'max_depth'` - use `range(2, 12)` for this.\n",
        "\n",
        "* Create a **`RandomizedSearchCV`** object called `randomized_mse`, passing in: the parameter grid to `param_distributions`, the XGBRegressor to `estimator`, `\"neg_mean_squared_error\"` to `scoring`, `5` to `n_iter`, and `4` to `cv`. Also specify `verbose=1` so you can better understand the output.\n",
        "\n",
        "* Fit the **`RandomizedSearchCV`** object to `X` and `y`."
      ],
      "metadata": {
        "id": "MGF5Hp4lxQ7z"
      }
    },
    {
      "cell_type": "code",
      "source": [
        "df = pd.read_csv(\"ames_housing_trimmed_processed.csv\")\n",
        "X, y = df.drop(columns='SalePrice'), df['SalePrice']\n",
        "\n",
        "# Create the parameter grid: gbm_param_grid \n",
        "gbm_param_grid = {\n",
        "    'n_estimators': [25],\n",
        "    'max_depth': range(2, 12)\n",
        "}\n",
        "\n",
        "# Instantiate the regressor: gbm\n",
        "gbm = xgb.XGBRegressor(n_estimators=10, objective='reg:squarederror')\n",
        "\n",
        "# Perform random search: grid_mse\n",
        "randomized_mse = RandomizedSearchCV(estimator=gbm, param_distributions=gbm_param_grid, n_iter=5, scoring='neg_mean_squared_error', cv=4, verbose=1)\n",
        "\n",
        "\n",
        "# Fit randomized_mse to the data\n",
        "randomized_mse.fit(X, y)\n",
        "\n",
        "# Print the best parameters and lowest RMSE\n",
        "print(\"Best parameters found: \", randomized_mse.best_params_)\n",
        "print(\"Lowest RMSE found: \", np.sqrt(np.abs(randomized_mse.best_score_)))"
      ],
      "metadata": {
        "colab": {
          "base_uri": "https://localhost:8080/"
        },
        "id": "lfmex4PMwsTe",
        "outputId": "01616ed6-9c56-470c-b4dc-0aea57baa9d1"
      },
      "execution_count": 11,
      "outputs": [
        {
          "output_type": "stream",
          "name": "stdout",
          "text": [
            "Fitting 4 folds for each of 5 candidates, totalling 20 fits\n",
            "Best parameters found:  {'n_estimators': 25, 'max_depth': 5}\n",
            "Lowest RMSE found:  36636.35808132903\n"
          ]
        }
      ]
    },
    {
      "cell_type": "markdown",
      "source": [
        "# ***Scikit-learn pipeline example***"
      ],
      "metadata": {
        "id": "0jZsQn1U1Aaj"
      }
    },
    {
      "cell_type": "code",
      "source": [
        "import pandas as pd, numpy as np\n",
        "from sklearn.ensemble import RandomForestRegressor\n",
        "from sklearn.preprocessing import StandardScaler\n",
        "from sklearn.pipeline import Pipeline\n",
        "from sklearn.model_selection import cross_val_score\n",
        "\n",
        "names = [\"crime\",\"zone\",\"industry\",\"charles\",\"no\",\"rooms\", \"age\", \"distance\",\"radial\",\"tax\",\"pupil\",\"aam\",\"lower\",\"med_price\"]\n",
        "\n",
        "data = pd.read_csv(\"boston_housing.csv\",names=names)\n",
        "X, y = data.iloc[:,:-1], data.iloc[:,-1]\n",
        "\n",
        "rf_pipeline = Pipeline[(\"st_scaler\", StandardScaler()),\n",
        "                       (\"rf_model\", RandomForestRegressor())]\n",
        "\n",
        "scores = cross_val_score(rf_pipeline, X, y, scoring=\"neg_mean_squared_error\", cv=10)\n",
        "final_avg_rmse = np.mean(np.sqrt(np.abs(scores)))\n",
        "\n",
        "print(\"Final RMSE:\", final_avg_rmse)"
      ],
      "metadata": {
        "id": "P53G1dqh1NF_"
      },
      "execution_count": null,
      "outputs": []
    },
    {
      "cell_type": "markdown",
      "source": [
        "\n",
        "\n",
        "```\n",
        "Final RMSE: 4.54530686529\n",
        "```\n",
        "\n",
        "### ***Exploratory data analysis***\n",
        "\n",
        "Before diving into the nitty gritty of pipelines and preprocessing, let's do some exploratory analysis of the original, unprocessed [Ames housing dataset](https://www.kaggle.com/c/house-prices-advanced-regression-techniques). When you worked with this data above, we preprocessed it for you so you could focus on the core XGBoost concepts. In this chapter, you'll do the preprocessing yourself!\n",
        "\n",
        "A smaller version of this original, unprocessed dataset has been pre-loaded into a pandas DataFrame called `df`. The purpose of this exercise is to understand the kinds of transformations you will need to perform in order to be able to use XGBoost.\n",
        "\n",
        "The `LotFrontage` column actually does have missing values: `259`, to be precise. Additionally, notice how columns such as `MSZoning`, `PavedDrive`, and `HouseStyle` are categorical. These need to be encoded numerically before you can use XGBoost. \n",
        "\n"
      ],
      "metadata": {
        "id": "ZBO4X_dD2Y3i"
      }
    },
    {
      "cell_type": "code",
      "source": [
        "df = pd.read_csv('ames_unprocessed_data.csv')\n",
        "\n",
        "print(df[['LotFrontage', 'MSZoning', 'PavedDrive', 'HouseStyle']].info())\n",
        "display(df[['LotFrontage', 'MSZoning', 'PavedDrive', 'HouseStyle']].head(10))"
      ],
      "metadata": {
        "colab": {
          "base_uri": "https://localhost:8080/",
          "height": 571
        },
        "id": "y9SAEFTZ2anr",
        "outputId": "246fdad9-72cf-4ba3-f616-119878eebb03"
      },
      "execution_count": 16,
      "outputs": [
        {
          "output_type": "stream",
          "name": "stdout",
          "text": [
            "<class 'pandas.core.frame.DataFrame'>\n",
            "RangeIndex: 1460 entries, 0 to 1459\n",
            "Data columns (total 4 columns):\n",
            " #   Column       Non-Null Count  Dtype  \n",
            "---  ------       --------------  -----  \n",
            " 0   LotFrontage  1201 non-null   float64\n",
            " 1   MSZoning     1460 non-null   object \n",
            " 2   PavedDrive   1460 non-null   object \n",
            " 3   HouseStyle   1460 non-null   object \n",
            "dtypes: float64(1), object(3)\n",
            "memory usage: 45.8+ KB\n",
            "None\n"
          ]
        },
        {
          "output_type": "display_data",
          "data": {
            "text/plain": [
              "   LotFrontage MSZoning PavedDrive HouseStyle\n",
              "0         65.0       RL          Y     2Story\n",
              "1         80.0       RL          Y     1Story\n",
              "2         68.0       RL          Y     2Story\n",
              "3         60.0       RL          Y     2Story\n",
              "4         84.0       RL          Y     2Story\n",
              "5         85.0       RL          Y     1.5Fin\n",
              "6         75.0       RL          Y     1Story\n",
              "7          NaN       RL          Y     2Story\n",
              "8         51.0       RM          Y     1.5Fin\n",
              "9         50.0       RL          Y     1.5Unf"
            ],
            "text/html": [
              "\n",
              "  <div id=\"df-e15e2791-6cae-460a-ba3b-1508a0aa1f56\">\n",
              "    <div class=\"colab-df-container\">\n",
              "      <div>\n",
              "<style scoped>\n",
              "    .dataframe tbody tr th:only-of-type {\n",
              "        vertical-align: middle;\n",
              "    }\n",
              "\n",
              "    .dataframe tbody tr th {\n",
              "        vertical-align: top;\n",
              "    }\n",
              "\n",
              "    .dataframe thead th {\n",
              "        text-align: right;\n",
              "    }\n",
              "</style>\n",
              "<table border=\"1\" class=\"dataframe\">\n",
              "  <thead>\n",
              "    <tr style=\"text-align: right;\">\n",
              "      <th></th>\n",
              "      <th>LotFrontage</th>\n",
              "      <th>MSZoning</th>\n",
              "      <th>PavedDrive</th>\n",
              "      <th>HouseStyle</th>\n",
              "    </tr>\n",
              "  </thead>\n",
              "  <tbody>\n",
              "    <tr>\n",
              "      <th>0</th>\n",
              "      <td>65.0</td>\n",
              "      <td>RL</td>\n",
              "      <td>Y</td>\n",
              "      <td>2Story</td>\n",
              "    </tr>\n",
              "    <tr>\n",
              "      <th>1</th>\n",
              "      <td>80.0</td>\n",
              "      <td>RL</td>\n",
              "      <td>Y</td>\n",
              "      <td>1Story</td>\n",
              "    </tr>\n",
              "    <tr>\n",
              "      <th>2</th>\n",
              "      <td>68.0</td>\n",
              "      <td>RL</td>\n",
              "      <td>Y</td>\n",
              "      <td>2Story</td>\n",
              "    </tr>\n",
              "    <tr>\n",
              "      <th>3</th>\n",
              "      <td>60.0</td>\n",
              "      <td>RL</td>\n",
              "      <td>Y</td>\n",
              "      <td>2Story</td>\n",
              "    </tr>\n",
              "    <tr>\n",
              "      <th>4</th>\n",
              "      <td>84.0</td>\n",
              "      <td>RL</td>\n",
              "      <td>Y</td>\n",
              "      <td>2Story</td>\n",
              "    </tr>\n",
              "    <tr>\n",
              "      <th>5</th>\n",
              "      <td>85.0</td>\n",
              "      <td>RL</td>\n",
              "      <td>Y</td>\n",
              "      <td>1.5Fin</td>\n",
              "    </tr>\n",
              "    <tr>\n",
              "      <th>6</th>\n",
              "      <td>75.0</td>\n",
              "      <td>RL</td>\n",
              "      <td>Y</td>\n",
              "      <td>1Story</td>\n",
              "    </tr>\n",
              "    <tr>\n",
              "      <th>7</th>\n",
              "      <td>NaN</td>\n",
              "      <td>RL</td>\n",
              "      <td>Y</td>\n",
              "      <td>2Story</td>\n",
              "    </tr>\n",
              "    <tr>\n",
              "      <th>8</th>\n",
              "      <td>51.0</td>\n",
              "      <td>RM</td>\n",
              "      <td>Y</td>\n",
              "      <td>1.5Fin</td>\n",
              "    </tr>\n",
              "    <tr>\n",
              "      <th>9</th>\n",
              "      <td>50.0</td>\n",
              "      <td>RL</td>\n",
              "      <td>Y</td>\n",
              "      <td>1.5Unf</td>\n",
              "    </tr>\n",
              "  </tbody>\n",
              "</table>\n",
              "</div>\n",
              "      <button class=\"colab-df-convert\" onclick=\"convertToInteractive('df-e15e2791-6cae-460a-ba3b-1508a0aa1f56')\"\n",
              "              title=\"Convert this dataframe to an interactive table.\"\n",
              "              style=\"display:none;\">\n",
              "        \n",
              "  <svg xmlns=\"http://www.w3.org/2000/svg\" height=\"24px\"viewBox=\"0 0 24 24\"\n",
              "       width=\"24px\">\n",
              "    <path d=\"M0 0h24v24H0V0z\" fill=\"none\"/>\n",
              "    <path d=\"M18.56 5.44l.94 2.06.94-2.06 2.06-.94-2.06-.94-.94-2.06-.94 2.06-2.06.94zm-11 1L8.5 8.5l.94-2.06 2.06-.94-2.06-.94L8.5 2.5l-.94 2.06-2.06.94zm10 10l.94 2.06.94-2.06 2.06-.94-2.06-.94-.94-2.06-.94 2.06-2.06.94z\"/><path d=\"M17.41 7.96l-1.37-1.37c-.4-.4-.92-.59-1.43-.59-.52 0-1.04.2-1.43.59L10.3 9.45l-7.72 7.72c-.78.78-.78 2.05 0 2.83L4 21.41c.39.39.9.59 1.41.59.51 0 1.02-.2 1.41-.59l7.78-7.78 2.81-2.81c.8-.78.8-2.07 0-2.86zM5.41 20L4 18.59l7.72-7.72 1.47 1.35L5.41 20z\"/>\n",
              "  </svg>\n",
              "      </button>\n",
              "      \n",
              "  <style>\n",
              "    .colab-df-container {\n",
              "      display:flex;\n",
              "      flex-wrap:wrap;\n",
              "      gap: 12px;\n",
              "    }\n",
              "\n",
              "    .colab-df-convert {\n",
              "      background-color: #E8F0FE;\n",
              "      border: none;\n",
              "      border-radius: 50%;\n",
              "      cursor: pointer;\n",
              "      display: none;\n",
              "      fill: #1967D2;\n",
              "      height: 32px;\n",
              "      padding: 0 0 0 0;\n",
              "      width: 32px;\n",
              "    }\n",
              "\n",
              "    .colab-df-convert:hover {\n",
              "      background-color: #E2EBFA;\n",
              "      box-shadow: 0px 1px 2px rgba(60, 64, 67, 0.3), 0px 1px 3px 1px rgba(60, 64, 67, 0.15);\n",
              "      fill: #174EA6;\n",
              "    }\n",
              "\n",
              "    [theme=dark] .colab-df-convert {\n",
              "      background-color: #3B4455;\n",
              "      fill: #D2E3FC;\n",
              "    }\n",
              "\n",
              "    [theme=dark] .colab-df-convert:hover {\n",
              "      background-color: #434B5C;\n",
              "      box-shadow: 0px 1px 3px 1px rgba(0, 0, 0, 0.15);\n",
              "      filter: drop-shadow(0px 1px 2px rgba(0, 0, 0, 0.3));\n",
              "      fill: #FFFFFF;\n",
              "    }\n",
              "  </style>\n",
              "\n",
              "      <script>\n",
              "        const buttonEl =\n",
              "          document.querySelector('#df-e15e2791-6cae-460a-ba3b-1508a0aa1f56 button.colab-df-convert');\n",
              "        buttonEl.style.display =\n",
              "          google.colab.kernel.accessAllowed ? 'block' : 'none';\n",
              "\n",
              "        async function convertToInteractive(key) {\n",
              "          const element = document.querySelector('#df-e15e2791-6cae-460a-ba3b-1508a0aa1f56');\n",
              "          const dataTable =\n",
              "            await google.colab.kernel.invokeFunction('convertToInteractive',\n",
              "                                                     [key], {});\n",
              "          if (!dataTable) return;\n",
              "\n",
              "          const docLinkHtml = 'Like what you see? Visit the ' +\n",
              "            '<a target=\"_blank\" href=https://colab.research.google.com/notebooks/data_table.ipynb>data table notebook</a>'\n",
              "            + ' to learn more about interactive tables.';\n",
              "          element.innerHTML = '';\n",
              "          dataTable['output_type'] = 'display_data';\n",
              "          await google.colab.output.renderOutput(dataTable, element);\n",
              "          const docLink = document.createElement('div');\n",
              "          docLink.innerHTML = docLinkHtml;\n",
              "          element.appendChild(docLink);\n",
              "        }\n",
              "      </script>\n",
              "    </div>\n",
              "  </div>\n",
              "  "
            ]
          },
          "metadata": {}
        }
      ]
    },
    {
      "cell_type": "markdown",
      "source": [
        "### ***Encoding categorical columns I: LabelEncoder***\n",
        "\n",
        "Now that you've seen what will need to be done to get the housing data ready for XGBoost, let's go through the process step-by-step.\n",
        "\n",
        "First, you will need to fill in missing values - as you saw previously, the column `LotFrontage` has many missing values. Then, you will need to encode any categorical columns in the dataset using one-hot encoding so that they are encoded numerically. You can watch [this video](https://campus.datacamp.com/courses/supervised-learning-with-scikit-learn/preprocessing-and-pipelines?ex=1https://) for a refresher on the idea.\n",
        "\n",
        "The data has five categorical columns: `MSZoning, PavedDrive, Neighborhood, BldgType`, and `HouseStyle`. Scikit-learn has a **`LabelEncoder`** function that converts the values in each categorical column into integers. You'll practice using this here.\n",
        "\n",
        "\n",
        "* Import **`LabelEncoder`** `from sklearn.preprocessing`.\n",
        "\n",
        "* Fill in missing values in the `LotFrontage` column with `0` using **`.fillna()`**.\n",
        "* Create a boolean mask for categorical columns. You can do this by checking for whether `df.dtypes` equals object.\n",
        "\n",
        "* Create a **`LabelEncoder`** object. You can do this in the same way you instantiate any scikit-learn estimator.\n",
        "\n",
        "* Encode all of the categorical columns into integers using **`LabelEncoder()`**. To do this, use the **`.fit_transform()`** method of `le` in the provided lambda function."
      ],
      "metadata": {
        "id": "6vtux0kb5Lyk"
      }
    },
    {
      "cell_type": "code",
      "source": [
        "from sklearn.preprocessing import LabelEncoder\n",
        "\n",
        "df = pd.read_csv('ames_unprocessed_data.csv')\n",
        "\n",
        "# Fill missing values with 0\n",
        "df.LotFrontage = df.LotFrontage.fillna(0)\n",
        "\n",
        "# Create a boolean mask for categorical columns\n",
        "categorical_mask = (df.dtypes=='object')\n",
        "\n",
        "# Get list of categorical column names\n",
        "categorical_columns = df.columns[categorical_mask].tolist()\n",
        "\n",
        "# Print the head of the categorical columns\n",
        "display(df[categorical_columns].head())\n",
        "\n",
        "# Create LabelEncoder object: le\n",
        "le = LabelEncoder()\n",
        "\n",
        "# Apply LabelEncoder to categorical columns\n",
        "df[categorical_columns] = df[categorical_columns].apply(lambda x: le.fit_transform(x))\n",
        "\n",
        "# Print the head of the LabelEncoded categorical columns\n",
        "display(df[categorical_columns].head())"
      ],
      "metadata": {
        "colab": {
          "base_uri": "https://localhost:8080/",
          "height": 395
        },
        "id": "G_SBCzrx49za",
        "outputId": "a6d8608d-6900-4c2d-d3eb-f040af177642"
      },
      "execution_count": 2,
      "outputs": [
        {
          "output_type": "display_data",
          "data": {
            "text/plain": [
              "  MSZoning Neighborhood BldgType HouseStyle PavedDrive\n",
              "0       RL      CollgCr     1Fam     2Story          Y\n",
              "1       RL      Veenker     1Fam     1Story          Y\n",
              "2       RL      CollgCr     1Fam     2Story          Y\n",
              "3       RL      Crawfor     1Fam     2Story          Y\n",
              "4       RL      NoRidge     1Fam     2Story          Y"
            ],
            "text/html": [
              "\n",
              "  <div id=\"df-32a37d0f-4724-492f-b992-cd2c34cf8abc\">\n",
              "    <div class=\"colab-df-container\">\n",
              "      <div>\n",
              "<style scoped>\n",
              "    .dataframe tbody tr th:only-of-type {\n",
              "        vertical-align: middle;\n",
              "    }\n",
              "\n",
              "    .dataframe tbody tr th {\n",
              "        vertical-align: top;\n",
              "    }\n",
              "\n",
              "    .dataframe thead th {\n",
              "        text-align: right;\n",
              "    }\n",
              "</style>\n",
              "<table border=\"1\" class=\"dataframe\">\n",
              "  <thead>\n",
              "    <tr style=\"text-align: right;\">\n",
              "      <th></th>\n",
              "      <th>MSZoning</th>\n",
              "      <th>Neighborhood</th>\n",
              "      <th>BldgType</th>\n",
              "      <th>HouseStyle</th>\n",
              "      <th>PavedDrive</th>\n",
              "    </tr>\n",
              "  </thead>\n",
              "  <tbody>\n",
              "    <tr>\n",
              "      <th>0</th>\n",
              "      <td>RL</td>\n",
              "      <td>CollgCr</td>\n",
              "      <td>1Fam</td>\n",
              "      <td>2Story</td>\n",
              "      <td>Y</td>\n",
              "    </tr>\n",
              "    <tr>\n",
              "      <th>1</th>\n",
              "      <td>RL</td>\n",
              "      <td>Veenker</td>\n",
              "      <td>1Fam</td>\n",
              "      <td>1Story</td>\n",
              "      <td>Y</td>\n",
              "    </tr>\n",
              "    <tr>\n",
              "      <th>2</th>\n",
              "      <td>RL</td>\n",
              "      <td>CollgCr</td>\n",
              "      <td>1Fam</td>\n",
              "      <td>2Story</td>\n",
              "      <td>Y</td>\n",
              "    </tr>\n",
              "    <tr>\n",
              "      <th>3</th>\n",
              "      <td>RL</td>\n",
              "      <td>Crawfor</td>\n",
              "      <td>1Fam</td>\n",
              "      <td>2Story</td>\n",
              "      <td>Y</td>\n",
              "    </tr>\n",
              "    <tr>\n",
              "      <th>4</th>\n",
              "      <td>RL</td>\n",
              "      <td>NoRidge</td>\n",
              "      <td>1Fam</td>\n",
              "      <td>2Story</td>\n",
              "      <td>Y</td>\n",
              "    </tr>\n",
              "  </tbody>\n",
              "</table>\n",
              "</div>\n",
              "      <button class=\"colab-df-convert\" onclick=\"convertToInteractive('df-32a37d0f-4724-492f-b992-cd2c34cf8abc')\"\n",
              "              title=\"Convert this dataframe to an interactive table.\"\n",
              "              style=\"display:none;\">\n",
              "        \n",
              "  <svg xmlns=\"http://www.w3.org/2000/svg\" height=\"24px\"viewBox=\"0 0 24 24\"\n",
              "       width=\"24px\">\n",
              "    <path d=\"M0 0h24v24H0V0z\" fill=\"none\"/>\n",
              "    <path d=\"M18.56 5.44l.94 2.06.94-2.06 2.06-.94-2.06-.94-.94-2.06-.94 2.06-2.06.94zm-11 1L8.5 8.5l.94-2.06 2.06-.94-2.06-.94L8.5 2.5l-.94 2.06-2.06.94zm10 10l.94 2.06.94-2.06 2.06-.94-2.06-.94-.94-2.06-.94 2.06-2.06.94z\"/><path d=\"M17.41 7.96l-1.37-1.37c-.4-.4-.92-.59-1.43-.59-.52 0-1.04.2-1.43.59L10.3 9.45l-7.72 7.72c-.78.78-.78 2.05 0 2.83L4 21.41c.39.39.9.59 1.41.59.51 0 1.02-.2 1.41-.59l7.78-7.78 2.81-2.81c.8-.78.8-2.07 0-2.86zM5.41 20L4 18.59l7.72-7.72 1.47 1.35L5.41 20z\"/>\n",
              "  </svg>\n",
              "      </button>\n",
              "      \n",
              "  <style>\n",
              "    .colab-df-container {\n",
              "      display:flex;\n",
              "      flex-wrap:wrap;\n",
              "      gap: 12px;\n",
              "    }\n",
              "\n",
              "    .colab-df-convert {\n",
              "      background-color: #E8F0FE;\n",
              "      border: none;\n",
              "      border-radius: 50%;\n",
              "      cursor: pointer;\n",
              "      display: none;\n",
              "      fill: #1967D2;\n",
              "      height: 32px;\n",
              "      padding: 0 0 0 0;\n",
              "      width: 32px;\n",
              "    }\n",
              "\n",
              "    .colab-df-convert:hover {\n",
              "      background-color: #E2EBFA;\n",
              "      box-shadow: 0px 1px 2px rgba(60, 64, 67, 0.3), 0px 1px 3px 1px rgba(60, 64, 67, 0.15);\n",
              "      fill: #174EA6;\n",
              "    }\n",
              "\n",
              "    [theme=dark] .colab-df-convert {\n",
              "      background-color: #3B4455;\n",
              "      fill: #D2E3FC;\n",
              "    }\n",
              "\n",
              "    [theme=dark] .colab-df-convert:hover {\n",
              "      background-color: #434B5C;\n",
              "      box-shadow: 0px 1px 3px 1px rgba(0, 0, 0, 0.15);\n",
              "      filter: drop-shadow(0px 1px 2px rgba(0, 0, 0, 0.3));\n",
              "      fill: #FFFFFF;\n",
              "    }\n",
              "  </style>\n",
              "\n",
              "      <script>\n",
              "        const buttonEl =\n",
              "          document.querySelector('#df-32a37d0f-4724-492f-b992-cd2c34cf8abc button.colab-df-convert');\n",
              "        buttonEl.style.display =\n",
              "          google.colab.kernel.accessAllowed ? 'block' : 'none';\n",
              "\n",
              "        async function convertToInteractive(key) {\n",
              "          const element = document.querySelector('#df-32a37d0f-4724-492f-b992-cd2c34cf8abc');\n",
              "          const dataTable =\n",
              "            await google.colab.kernel.invokeFunction('convertToInteractive',\n",
              "                                                     [key], {});\n",
              "          if (!dataTable) return;\n",
              "\n",
              "          const docLinkHtml = 'Like what you see? Visit the ' +\n",
              "            '<a target=\"_blank\" href=https://colab.research.google.com/notebooks/data_table.ipynb>data table notebook</a>'\n",
              "            + ' to learn more about interactive tables.';\n",
              "          element.innerHTML = '';\n",
              "          dataTable['output_type'] = 'display_data';\n",
              "          await google.colab.output.renderOutput(dataTable, element);\n",
              "          const docLink = document.createElement('div');\n",
              "          docLink.innerHTML = docLinkHtml;\n",
              "          element.appendChild(docLink);\n",
              "        }\n",
              "      </script>\n",
              "    </div>\n",
              "  </div>\n",
              "  "
            ]
          },
          "metadata": {}
        },
        {
          "output_type": "display_data",
          "data": {
            "text/plain": [
              "   MSZoning  Neighborhood  BldgType  HouseStyle  PavedDrive\n",
              "0         3             5         0           5           2\n",
              "1         3            24         0           2           2\n",
              "2         3             5         0           5           2\n",
              "3         3             6         0           5           2\n",
              "4         3            15         0           5           2"
            ],
            "text/html": [
              "\n",
              "  <div id=\"df-4567262b-df07-4109-8909-0de3f7e4609e\">\n",
              "    <div class=\"colab-df-container\">\n",
              "      <div>\n",
              "<style scoped>\n",
              "    .dataframe tbody tr th:only-of-type {\n",
              "        vertical-align: middle;\n",
              "    }\n",
              "\n",
              "    .dataframe tbody tr th {\n",
              "        vertical-align: top;\n",
              "    }\n",
              "\n",
              "    .dataframe thead th {\n",
              "        text-align: right;\n",
              "    }\n",
              "</style>\n",
              "<table border=\"1\" class=\"dataframe\">\n",
              "  <thead>\n",
              "    <tr style=\"text-align: right;\">\n",
              "      <th></th>\n",
              "      <th>MSZoning</th>\n",
              "      <th>Neighborhood</th>\n",
              "      <th>BldgType</th>\n",
              "      <th>HouseStyle</th>\n",
              "      <th>PavedDrive</th>\n",
              "    </tr>\n",
              "  </thead>\n",
              "  <tbody>\n",
              "    <tr>\n",
              "      <th>0</th>\n",
              "      <td>3</td>\n",
              "      <td>5</td>\n",
              "      <td>0</td>\n",
              "      <td>5</td>\n",
              "      <td>2</td>\n",
              "    </tr>\n",
              "    <tr>\n",
              "      <th>1</th>\n",
              "      <td>3</td>\n",
              "      <td>24</td>\n",
              "      <td>0</td>\n",
              "      <td>2</td>\n",
              "      <td>2</td>\n",
              "    </tr>\n",
              "    <tr>\n",
              "      <th>2</th>\n",
              "      <td>3</td>\n",
              "      <td>5</td>\n",
              "      <td>0</td>\n",
              "      <td>5</td>\n",
              "      <td>2</td>\n",
              "    </tr>\n",
              "    <tr>\n",
              "      <th>3</th>\n",
              "      <td>3</td>\n",
              "      <td>6</td>\n",
              "      <td>0</td>\n",
              "      <td>5</td>\n",
              "      <td>2</td>\n",
              "    </tr>\n",
              "    <tr>\n",
              "      <th>4</th>\n",
              "      <td>3</td>\n",
              "      <td>15</td>\n",
              "      <td>0</td>\n",
              "      <td>5</td>\n",
              "      <td>2</td>\n",
              "    </tr>\n",
              "  </tbody>\n",
              "</table>\n",
              "</div>\n",
              "      <button class=\"colab-df-convert\" onclick=\"convertToInteractive('df-4567262b-df07-4109-8909-0de3f7e4609e')\"\n",
              "              title=\"Convert this dataframe to an interactive table.\"\n",
              "              style=\"display:none;\">\n",
              "        \n",
              "  <svg xmlns=\"http://www.w3.org/2000/svg\" height=\"24px\"viewBox=\"0 0 24 24\"\n",
              "       width=\"24px\">\n",
              "    <path d=\"M0 0h24v24H0V0z\" fill=\"none\"/>\n",
              "    <path d=\"M18.56 5.44l.94 2.06.94-2.06 2.06-.94-2.06-.94-.94-2.06-.94 2.06-2.06.94zm-11 1L8.5 8.5l.94-2.06 2.06-.94-2.06-.94L8.5 2.5l-.94 2.06-2.06.94zm10 10l.94 2.06.94-2.06 2.06-.94-2.06-.94-.94-2.06-.94 2.06-2.06.94z\"/><path d=\"M17.41 7.96l-1.37-1.37c-.4-.4-.92-.59-1.43-.59-.52 0-1.04.2-1.43.59L10.3 9.45l-7.72 7.72c-.78.78-.78 2.05 0 2.83L4 21.41c.39.39.9.59 1.41.59.51 0 1.02-.2 1.41-.59l7.78-7.78 2.81-2.81c.8-.78.8-2.07 0-2.86zM5.41 20L4 18.59l7.72-7.72 1.47 1.35L5.41 20z\"/>\n",
              "  </svg>\n",
              "      </button>\n",
              "      \n",
              "  <style>\n",
              "    .colab-df-container {\n",
              "      display:flex;\n",
              "      flex-wrap:wrap;\n",
              "      gap: 12px;\n",
              "    }\n",
              "\n",
              "    .colab-df-convert {\n",
              "      background-color: #E8F0FE;\n",
              "      border: none;\n",
              "      border-radius: 50%;\n",
              "      cursor: pointer;\n",
              "      display: none;\n",
              "      fill: #1967D2;\n",
              "      height: 32px;\n",
              "      padding: 0 0 0 0;\n",
              "      width: 32px;\n",
              "    }\n",
              "\n",
              "    .colab-df-convert:hover {\n",
              "      background-color: #E2EBFA;\n",
              "      box-shadow: 0px 1px 2px rgba(60, 64, 67, 0.3), 0px 1px 3px 1px rgba(60, 64, 67, 0.15);\n",
              "      fill: #174EA6;\n",
              "    }\n",
              "\n",
              "    [theme=dark] .colab-df-convert {\n",
              "      background-color: #3B4455;\n",
              "      fill: #D2E3FC;\n",
              "    }\n",
              "\n",
              "    [theme=dark] .colab-df-convert:hover {\n",
              "      background-color: #434B5C;\n",
              "      box-shadow: 0px 1px 3px 1px rgba(0, 0, 0, 0.15);\n",
              "      filter: drop-shadow(0px 1px 2px rgba(0, 0, 0, 0.3));\n",
              "      fill: #FFFFFF;\n",
              "    }\n",
              "  </style>\n",
              "\n",
              "      <script>\n",
              "        const buttonEl =\n",
              "          document.querySelector('#df-4567262b-df07-4109-8909-0de3f7e4609e button.colab-df-convert');\n",
              "        buttonEl.style.display =\n",
              "          google.colab.kernel.accessAllowed ? 'block' : 'none';\n",
              "\n",
              "        async function convertToInteractive(key) {\n",
              "          const element = document.querySelector('#df-4567262b-df07-4109-8909-0de3f7e4609e');\n",
              "          const dataTable =\n",
              "            await google.colab.kernel.invokeFunction('convertToInteractive',\n",
              "                                                     [key], {});\n",
              "          if (!dataTable) return;\n",
              "\n",
              "          const docLinkHtml = 'Like what you see? Visit the ' +\n",
              "            '<a target=\"_blank\" href=https://colab.research.google.com/notebooks/data_table.ipynb>data table notebook</a>'\n",
              "            + ' to learn more about interactive tables.';\n",
              "          element.innerHTML = '';\n",
              "          dataTable['output_type'] = 'display_data';\n",
              "          await google.colab.output.renderOutput(dataTable, element);\n",
              "          const docLink = document.createElement('div');\n",
              "          docLink.innerHTML = docLinkHtml;\n",
              "          element.appendChild(docLink);\n",
              "        }\n",
              "      </script>\n",
              "    </div>\n",
              "  </div>\n",
              "  "
            ]
          },
          "metadata": {}
        }
      ]
    },
    {
      "cell_type": "markdown",
      "source": [
        "Notice how the entries in each categorical column are now encoded numerically. A `BldgTpe` of `1Fam` is encoded as `0`, while a `HouseStyle` of `2Story` is encoded as `5`.\n",
        "\n",
        "### ***Encoding categorical columns II: OneHotEncoder*** (df ถูกเปลี่ยนจากขั้นตอนข้างบนแล้ว)\n",
        "\n",
        "Okay - so you have your categorical columns encoded numerically. Can you now move onto using pipelines and XGBoost? Not yet! In the categorical columns of this dataset, there is no natural ordering between the entries. As an example: Using **`LabelEncoder`**, the `CollgCr` Neighborhood was encoded as `5`, while the `Veenker` Neighborhood was encoded as `24`, and `Crawfor` as `6`. Is Veenker \"greater\" than Crawfor and CollgCr? No - and allowing the model to assume this natural ordering may result in poor performance.\n",
        "\n",
        "As a result, there is another step needed: You have to apply a one-hot encoding to create binary, or \"dummy\" variables. You can do this using scikit-learn's **`OneHotEncoder`**.\n",
        "\n",
        "\n",
        "* Instantiate a **`OneHotEncoder`** object called `ohe`. Specify the keyword arguments **`categorical_features=categorical_mask`** and **`sparse=False`**.\n",
        "\n",
        "* Using its **`.fit_transform()`** method, apply the **`OneHotEncoder`** to `df` and save the result as `df_encoded`. The output will be a `NumPy` array.\n",
        "\n",
        "* Print the first 5 rows of `df_encoded`, and then the shape of `df` as well as `df_encoded` to compare the difference."
      ],
      "metadata": {
        "id": "6qK5IXMw9iHV"
      }
    },
    {
      "cell_type": "code",
      "source": [
        "!pip install scikit-learn"
      ],
      "metadata": {
        "colab": {
          "base_uri": "https://localhost:8080/",
          "height": 277
        },
        "id": "SMl5jpdC-gjN",
        "outputId": "84fe1874-6527-44d0-ba18-c7fbc40dd159"
      },
      "execution_count": 8,
      "outputs": [
        {
          "output_type": "stream",
          "name": "stdout",
          "text": [
            "Looking in indexes: https://pypi.org/simple, https://us-python.pkg.dev/colab-wheels/public/simple/\n",
            "Collecting scikit-learn\n",
            "  Downloading scikit_learn-1.0.2-cp37-cp37m-manylinux_2_17_x86_64.manylinux2014_x86_64.whl (24.8 MB)\n",
            "\u001b[K     |████████████████████████████████| 24.8 MB 58.0 MB/s \n",
            "\u001b[?25hRequirement already satisfied: numpy>=1.14.6 in /usr/local/lib/python3.7/dist-packages (from scikit-learn) (1.21.6)\n",
            "Requirement already satisfied: threadpoolctl>=2.0.0 in /usr/local/lib/python3.7/dist-packages (from scikit-learn) (3.1.0)\n",
            "Requirement already satisfied: scipy>=1.1.0 in /usr/local/lib/python3.7/dist-packages (from scikit-learn) (1.4.1)\n",
            "Requirement already satisfied: joblib>=0.11 in /usr/local/lib/python3.7/dist-packages (from scikit-learn) (1.1.0)\n",
            "Installing collected packages: scikit-learn\n",
            "Successfully installed scikit-learn-1.0.2\n"
          ]
        },
        {
          "output_type": "display_data",
          "data": {
            "application/vnd.colab-display-data+json": {
              "pip_warning": {
                "packages": [
                  "sklearn"
                ]
              }
            }
          },
          "metadata": {}
        }
      ]
    },
    {
      "cell_type": "code",
      "source": [
        "!pip install scikit-learn=='0.21.2'"
      ],
      "metadata": {
        "colab": {
          "base_uri": "https://localhost:8080/"
        },
        "id": "pAy8A7yCFsL-",
        "outputId": "b26eb9b4-5b64-462a-e5b2-c8d59f56e7e0"
      },
      "execution_count": 2,
      "outputs": [
        {
          "output_type": "stream",
          "name": "stdout",
          "text": [
            "Looking in indexes: https://pypi.org/simple, https://us-python.pkg.dev/colab-wheels/public/simple/\n",
            "Collecting scikit-learn==0.21.2\n",
            "  Downloading scikit_learn-0.21.2-cp37-cp37m-manylinux1_x86_64.whl (6.7 MB)\n",
            "\u001b[K     |████████████████████████████████| 6.7 MB 4.9 MB/s \n",
            "\u001b[?25hRequirement already satisfied: joblib>=0.11 in /usr/local/lib/python3.7/dist-packages (from scikit-learn==0.21.2) (1.1.0)\n",
            "Requirement already satisfied: numpy>=1.11.0 in /usr/local/lib/python3.7/dist-packages (from scikit-learn==0.21.2) (1.21.6)\n",
            "Requirement already satisfied: scipy>=0.17.0 in /usr/local/lib/python3.7/dist-packages (from scikit-learn==0.21.2) (1.4.1)\n",
            "Installing collected packages: scikit-learn\n",
            "\u001b[31mERROR: pip's dependency resolver does not currently take into account all the packages that are installed. This behaviour is the source of the following dependency conflicts.\n",
            "yellowbrick 1.4 requires scikit-learn>=1.0.0, but you have scikit-learn 0.21.2 which is incompatible.\n",
            "imbalanced-learn 0.8.1 requires scikit-learn>=0.24, but you have scikit-learn 0.21.2 which is incompatible.\u001b[0m\n",
            "Successfully installed scikit-learn-0.21.2\n"
          ]
        }
      ]
    },
    {
      "cell_type": "code",
      "source": [
        "from sklearn.preprocessing import OneHotEncoder\n",
        "\n",
        "# Create OneHotEncoder: ohe\n",
        "ohe = OneHotEncoder(categorical_features=categorical_mask, sparse=False)\n",
        "\n",
        "# Apply OneHotEncoder to categorical columns - output is no longer a dataframe: df_encoded\n",
        "df_encoded = ohe.fit_transform(df)\n",
        "\n",
        "# Print first 5 rows of the resulting dataset - again, this will no longer be a pandas dataframe\n",
        "print(df_encoded[:5, :])\n",
        "\n",
        "# Print the shape of the original DataFrame\n",
        "print(df.shape)\n",
        "\n",
        "# Print the shape of the transformed array\n",
        "print(df_encoded.shape)"
      ],
      "metadata": {
        "colab": {
          "base_uri": "https://localhost:8080/"
        },
        "id": "KIJ7NStN9XXD",
        "outputId": "bc94ade0-7944-4dda-d0b1-c37d5e5a7f9a"
      },
      "execution_count": 5,
      "outputs": [
        {
          "output_type": "stream",
          "name": "stdout",
          "text": [
            "[[0.000e+00 0.000e+00 0.000e+00 1.000e+00 0.000e+00 0.000e+00 0.000e+00\n",
            "  0.000e+00 0.000e+00 0.000e+00 1.000e+00 0.000e+00 0.000e+00 0.000e+00\n",
            "  0.000e+00 0.000e+00 0.000e+00 0.000e+00 0.000e+00 0.000e+00 0.000e+00\n",
            "  0.000e+00 0.000e+00 0.000e+00 0.000e+00 0.000e+00 0.000e+00 0.000e+00\n",
            "  0.000e+00 0.000e+00 1.000e+00 0.000e+00 0.000e+00 0.000e+00 0.000e+00\n",
            "  0.000e+00 0.000e+00 0.000e+00 0.000e+00 0.000e+00 1.000e+00 0.000e+00\n",
            "  0.000e+00 0.000e+00 0.000e+00 1.000e+00 6.000e+01 6.500e+01 8.450e+03\n",
            "  7.000e+00 5.000e+00 2.003e+03 0.000e+00 1.710e+03 1.000e+00 0.000e+00\n",
            "  2.000e+00 1.000e+00 3.000e+00 0.000e+00 5.480e+02 2.085e+05]\n",
            " [0.000e+00 0.000e+00 0.000e+00 1.000e+00 0.000e+00 0.000e+00 0.000e+00\n",
            "  0.000e+00 0.000e+00 0.000e+00 0.000e+00 0.000e+00 0.000e+00 0.000e+00\n",
            "  0.000e+00 0.000e+00 0.000e+00 0.000e+00 0.000e+00 0.000e+00 0.000e+00\n",
            "  0.000e+00 0.000e+00 0.000e+00 0.000e+00 0.000e+00 0.000e+00 0.000e+00\n",
            "  0.000e+00 1.000e+00 1.000e+00 0.000e+00 0.000e+00 0.000e+00 0.000e+00\n",
            "  0.000e+00 0.000e+00 1.000e+00 0.000e+00 0.000e+00 0.000e+00 0.000e+00\n",
            "  0.000e+00 0.000e+00 0.000e+00 1.000e+00 2.000e+01 8.000e+01 9.600e+03\n",
            "  6.000e+00 8.000e+00 1.976e+03 0.000e+00 1.262e+03 0.000e+00 1.000e+00\n",
            "  2.000e+00 0.000e+00 3.000e+00 1.000e+00 4.600e+02 1.815e+05]\n",
            " [0.000e+00 0.000e+00 0.000e+00 1.000e+00 0.000e+00 0.000e+00 0.000e+00\n",
            "  0.000e+00 0.000e+00 0.000e+00 1.000e+00 0.000e+00 0.000e+00 0.000e+00\n",
            "  0.000e+00 0.000e+00 0.000e+00 0.000e+00 0.000e+00 0.000e+00 0.000e+00\n",
            "  0.000e+00 0.000e+00 0.000e+00 0.000e+00 0.000e+00 0.000e+00 0.000e+00\n",
            "  0.000e+00 0.000e+00 1.000e+00 0.000e+00 0.000e+00 0.000e+00 0.000e+00\n",
            "  0.000e+00 0.000e+00 0.000e+00 0.000e+00 0.000e+00 1.000e+00 0.000e+00\n",
            "  0.000e+00 0.000e+00 0.000e+00 1.000e+00 6.000e+01 6.800e+01 1.125e+04\n",
            "  7.000e+00 5.000e+00 2.001e+03 1.000e+00 1.786e+03 1.000e+00 0.000e+00\n",
            "  2.000e+00 1.000e+00 3.000e+00 1.000e+00 6.080e+02 2.235e+05]\n",
            " [0.000e+00 0.000e+00 0.000e+00 1.000e+00 0.000e+00 0.000e+00 0.000e+00\n",
            "  0.000e+00 0.000e+00 0.000e+00 0.000e+00 1.000e+00 0.000e+00 0.000e+00\n",
            "  0.000e+00 0.000e+00 0.000e+00 0.000e+00 0.000e+00 0.000e+00 0.000e+00\n",
            "  0.000e+00 0.000e+00 0.000e+00 0.000e+00 0.000e+00 0.000e+00 0.000e+00\n",
            "  0.000e+00 0.000e+00 1.000e+00 0.000e+00 0.000e+00 0.000e+00 0.000e+00\n",
            "  0.000e+00 0.000e+00 0.000e+00 0.000e+00 0.000e+00 1.000e+00 0.000e+00\n",
            "  0.000e+00 0.000e+00 0.000e+00 1.000e+00 7.000e+01 6.000e+01 9.550e+03\n",
            "  7.000e+00 5.000e+00 1.915e+03 1.000e+00 1.717e+03 1.000e+00 0.000e+00\n",
            "  1.000e+00 0.000e+00 3.000e+00 1.000e+00 6.420e+02 1.400e+05]\n",
            " [0.000e+00 0.000e+00 0.000e+00 1.000e+00 0.000e+00 0.000e+00 0.000e+00\n",
            "  0.000e+00 0.000e+00 0.000e+00 0.000e+00 0.000e+00 0.000e+00 0.000e+00\n",
            "  0.000e+00 0.000e+00 0.000e+00 0.000e+00 0.000e+00 0.000e+00 1.000e+00\n",
            "  0.000e+00 0.000e+00 0.000e+00 0.000e+00 0.000e+00 0.000e+00 0.000e+00\n",
            "  0.000e+00 0.000e+00 1.000e+00 0.000e+00 0.000e+00 0.000e+00 0.000e+00\n",
            "  0.000e+00 0.000e+00 0.000e+00 0.000e+00 0.000e+00 1.000e+00 0.000e+00\n",
            "  0.000e+00 0.000e+00 0.000e+00 1.000e+00 6.000e+01 8.400e+01 1.426e+04\n",
            "  8.000e+00 5.000e+00 2.000e+03 0.000e+00 2.198e+03 1.000e+00 0.000e+00\n",
            "  2.000e+00 1.000e+00 4.000e+00 1.000e+00 8.360e+02 2.500e+05]]\n",
            "(1460, 21)\n",
            "(1460, 62)\n"
          ]
        },
        {
          "output_type": "stream",
          "name": "stderr",
          "text": [
            "/usr/local/lib/python3.7/dist-packages/sklearn/preprocessing/_encoders.py:395: DeprecationWarning: `np.int` is a deprecated alias for the builtin `int`. To silence this warning, use `int` by itself. Doing this will not modify any behavior and is safe. When replacing `np.int`, you may wish to use e.g. `np.int64` or `np.int32` to specify the precision. If you wish to review your current use, check the release note link for additional information.\n",
            "Deprecated in NumPy 1.20; for more details and guidance: https://numpy.org/devdocs/release/1.20.0-notes.html#deprecations\n",
            "  check_array(X, dtype=np.int)\n",
            "/usr/local/lib/python3.7/dist-packages/sklearn/preprocessing/_encoders.py:415: FutureWarning: The handling of integer data will change in version 0.22. Currently, the categories are determined based on the range [0, max(values)], while in the future they will be determined based on the unique values.\n",
            "If you want the future behaviour and silence this warning, you can specify \"categories='auto'\".\n",
            "In case you used a LabelEncoder before this OneHotEncoder to convert the categories to integers, then you can now use the OneHotEncoder directly.\n",
            "  warnings.warn(msg, FutureWarning)\n",
            "/usr/local/lib/python3.7/dist-packages/sklearn/preprocessing/_encoders.py:451: DeprecationWarning: The 'categorical_features' keyword is deprecated in version 0.20 and will be removed in 0.22. You can use the ColumnTransformer instead.\n",
            "  \"use the ColumnTransformer instead.\", DeprecationWarning)\n",
            "/usr/local/lib/python3.7/dist-packages/sklearn/preprocessing/_encoders.py:550: DeprecationWarning: `np.int` is a deprecated alias for the builtin `int`. To silence this warning, use `int` by itself. Doing this will not modify any behavior and is safe. When replacing `np.int`, you may wish to use e.g. `np.int64` or `np.int32` to specify the precision. If you wish to review your current use, check the release note link for additional information.\n",
            "Deprecated in NumPy 1.20; for more details and guidance: https://numpy.org/devdocs/release/1.20.0-notes.html#deprecations\n",
            "  X = check_array(X, dtype=np.int)\n"
          ]
        }
      ]
    },
    {
      "cell_type": "markdown",
      "source": [
        "### ***Encoding categorical columns III: DictVectorizer***\n",
        "\n",
        "Alright, one final trick before you dive into pipelines. The two step process you just went through - **`LabelEncoder`** followed by **`OneHotEncoder`** - can be simplified by using a [DictVectorizer](http://scikit-learn.org/stable/modules/generated/sklearn.feature_extraction.DictVectorizer.html).\n",
        "\n",
        "Using a **`DictVectorizer`** on a DataFrame that has been converted to a dictionary allows you to get label encoding as well as one-hot encoding in one go.\n",
        "\n",
        "Your task is to work through this strategy in this exercise!\n",
        "\n",
        "* Convert `df` into a dictionary called `df_dict` using its **`.to_dict()`** method with `\"records\"` as the argument.\n",
        "\n",
        "* Instantiate a **`DictVectorizer`** object called `dv` with the keyword argument **`sparse=False`**.\n",
        "\n",
        "* Apply the **`DictVectorizer` on `df_dict` by using its **`.fit_transform()`** method.\n"
      ],
      "metadata": {
        "id": "9oYhbBkUA-Pf"
      }
    },
    {
      "cell_type": "code",
      "source": [
        "from sklearn.feature_extraction import DictVectorizer\n",
        "\n",
        "# Convert df into a dictionary: df_dict\n",
        "df_dict = df.to_dict('records')\n",
        "\n",
        "# Create the DictVectorizer object: dv\n",
        "dv = DictVectorizer(sparse=False)\n",
        "\n",
        "# Apply dv on df: df_encoded\n",
        "df_encoded = dv.fit_transform(df_dict)\n",
        "\n",
        "# Print the resulting first five rows\n",
        "print(df_encoded[:5,:])\n",
        "\n",
        "# Print the vocabulary\n",
        "print(dv.vocabulary_)"
      ],
      "metadata": {
        "colab": {
          "base_uri": "https://localhost:8080/"
        },
        "id": "VAf0_7dHBc2a",
        "outputId": "a8c6e571-a40e-4f1e-faa0-f977eac239b0"
      },
      "execution_count": 3,
      "outputs": [
        {
          "output_type": "stream",
          "name": "stdout",
          "text": [
            "[[3.000e+00 0.000e+00 1.000e+00 0.000e+00 0.000e+00 2.000e+00 5.480e+02\n",
            "  1.710e+03 1.000e+00 5.000e+00 8.450e+03 6.500e+01 6.000e+01 3.000e+00\n",
            "  5.000e+00 5.000e+00 7.000e+00 2.000e+00 0.000e+00 2.085e+05 2.003e+03]\n",
            " [3.000e+00 0.000e+00 0.000e+00 1.000e+00 1.000e+00 2.000e+00 4.600e+02\n",
            "  1.262e+03 0.000e+00 2.000e+00 9.600e+03 8.000e+01 2.000e+01 3.000e+00\n",
            "  2.400e+01 8.000e+00 6.000e+00 2.000e+00 0.000e+00 1.815e+05 1.976e+03]\n",
            " [3.000e+00 0.000e+00 1.000e+00 0.000e+00 1.000e+00 2.000e+00 6.080e+02\n",
            "  1.786e+03 1.000e+00 5.000e+00 1.125e+04 6.800e+01 6.000e+01 3.000e+00\n",
            "  5.000e+00 5.000e+00 7.000e+00 2.000e+00 1.000e+00 2.235e+05 2.001e+03]\n",
            " [3.000e+00 0.000e+00 1.000e+00 0.000e+00 1.000e+00 1.000e+00 6.420e+02\n",
            "  1.717e+03 0.000e+00 5.000e+00 9.550e+03 6.000e+01 7.000e+01 3.000e+00\n",
            "  6.000e+00 5.000e+00 7.000e+00 2.000e+00 1.000e+00 1.400e+05 1.915e+03]\n",
            " [4.000e+00 0.000e+00 1.000e+00 0.000e+00 1.000e+00 2.000e+00 8.360e+02\n",
            "  2.198e+03 1.000e+00 5.000e+00 1.426e+04 8.400e+01 6.000e+01 3.000e+00\n",
            "  1.500e+01 5.000e+00 8.000e+00 2.000e+00 0.000e+00 2.500e+05 2.000e+03]]\n",
            "{'MSSubClass': 12, 'MSZoning': 13, 'LotFrontage': 11, 'LotArea': 10, 'Neighborhood': 14, 'BldgType': 1, 'HouseStyle': 9, 'OverallQual': 16, 'OverallCond': 15, 'YearBuilt': 20, 'Remodeled': 18, 'GrLivArea': 7, 'BsmtFullBath': 2, 'BsmtHalfBath': 3, 'FullBath': 5, 'HalfBath': 8, 'BedroomAbvGr': 0, 'Fireplaces': 4, 'GarageArea': 6, 'PavedDrive': 17, 'SalePrice': 19}\n"
          ]
        }
      ]
    },
    {
      "cell_type": "markdown",
      "source": [
        "Besides simplifying the process into one step, **`DictVectorizer`** has useful attributes such as **`.vocabulary_`** which maps the names of the features to their indices. With the data preprocessed, it's time to move onto pipelines!\n",
        "\n",
        "### ***Preprocessing within a pipeline***\n",
        "\n",
        "Now that you've seen what steps need to be taken individually to properly process the Ames housing data, let's use the much cleaner and more succinct **`DictVectorizer`** approach and put it alongside an **`XGBoostRegressor`** inside of a scikit-learn pipeline.\n",
        "\n",
        "* Fill in any missing values in the `LotFrontage` column of `X` with `0`.\n",
        "\n",
        "* Complete the steps of the pipeline with **`DictVectorizer(sparse=False)`** for `\"ohe_onestep\"` and **`xgb.XGBRegressor()`** for `\"xgb_model\"`.\n",
        "\n",
        "* Create the pipeline using **`Pipeline()`** and steps.\n",
        "\n",
        "* Fit the `Pipeline`. Don't forget to convert `X` into a format that **`DictVectorizer`** understands by calling the **`.to_dict(\"records\")`** method on `X`."
      ],
      "metadata": {
        "id": "rvCXRzNL_UTF"
      }
    },
    {
      "cell_type": "code",
      "source": [
        "df = pd.read_csv('ames_unprocessed_data.csv')\n",
        "X, y = df.drop(columns='SalePrice'), df['SalePrice']\n",
        "\n",
        "from sklearn.pipeline import Pipeline\n",
        "from sklearn.feature_extraction import DictVectorizer\n",
        "\n",
        "# Fill LotFrontage missing values with 0\n",
        "X.LotFrontage = X.LotFrontage.fillna(0)\n",
        "\n",
        "# Setup the pipeline steps: steps\n",
        "steps = [(\"ohe_onestep\", DictVectorizer(sparse=False)),\n",
        "         (\"xgb_model\", xgb.XGBRegressor(objective='reg:squarederror'))]\n",
        "\n",
        "# Create the pipeline: xgb_pipeline\n",
        "xgb_pipeline = Pipeline(steps)\n",
        "\n",
        "# Fit the pipeline\n",
        "xgb_pipeline.fit(X.to_dict('records'), y)"
      ],
      "metadata": {
        "colab": {
          "base_uri": "https://localhost:8080/"
        },
        "id": "l261B7Nx_GsR",
        "outputId": "cb6380ad-c662-444b-b522-c73a5eb495a7"
      },
      "execution_count": 9,
      "outputs": [
        {
          "output_type": "execute_result",
          "data": {
            "text/plain": [
              "Pipeline(steps=[('ohe_onestep', DictVectorizer(sparse=False)),\n",
              "                ('xgb_model', XGBRegressor(objective='reg:squarederror'))])"
            ]
          },
          "metadata": {},
          "execution_count": 9
        }
      ]
    },
    {
      "cell_type": "markdown",
      "source": [
        "### ***Scikit-learn pipeline example with XGBoost***\n",
        "\n"
      ],
      "metadata": {
        "id": "LnxV6HK7Uj1E"
      }
    },
    {
      "cell_type": "code",
      "source": [
        "import pandas as pd, xgboost as xgb, numpy as np\n",
        "from sklearn.preprocessing import StandardScaler\n",
        "from sklearn.pipeline import Pipeline\n",
        "from sklearn.model_selection import cross_val_score\n",
        "\n",
        "names = [\"crime\",\"zone\",\"industry\",\"charles\",\"no\",\"rooms\",\"age\",\"distance\",\"radial\",\"tax\",\"pupil\",\"aam\",\"lower\",\"med_price\"]\n",
        "data = pd.read_csv(\"boston_housing.csv\",names=names)\n",
        "X, y = data.iloc[:,:-1], data.iloc[:,-1]\n",
        "\n",
        "xgb_pipeline = Pipeline[(\"st_scaler\", StandardScaler()),\n",
        "                        (\"xgb_model\",xgb.XGBRegressor())]\n",
        "\n",
        "scores = cross_val_score(xgb_pipeline, X, y, scoring=\"neg_mean_squared_error\",cv=10)\n",
        "final_avg_rmse = np.mean(np.sqrt(np.abs(scores)))\n",
        "print(\"Final XGB RMSE:\", final_avg_rmse)"
      ],
      "metadata": {
        "id": "g2h9mkrDAfSF"
      },
      "execution_count": null,
      "outputs": []
    },
    {
      "cell_type": "markdown",
      "source": [
        "\n",
        "\n",
        "```\n",
        "Final RMSE: 4.02719593323\n",
        "```\n",
        "### ***Cross-validating your XGBoost model***\n",
        "\n",
        "In this exercise, you'll go one step further by using the pipeline you've created to preprocess and cross-validate your model.\n",
        "\n",
        "* Create a pipeline called `xgb_pipeline` using `steps`.\n",
        "\n",
        "* Perform `10`-fold cross-validation using **`cross_val_score()`**. You'll have to pass in \n",
        "  * the pipeline, \n",
        "  * `X` (as a dictionary, using **`.to_dict(\"records\")`**), \n",
        "  * `y`, \n",
        "  * the number of folds you want to use, and \n",
        "  * scoring (`\"neg_mean_squared_error\"`).\n",
        "\n",
        "* Print the `10`-fold RMSE.\n"
      ],
      "metadata": {
        "id": "QKEfaU-9U6LS"
      }
    },
    {
      "cell_type": "code",
      "source": [
        "df = pd.read_csv('ames_unprocessed_data.csv')\n",
        "X, y = df.drop(columns='SalePrice'), df['SalePrice']\n",
        "\n",
        "# Import necessary modules\n",
        "from sklearn.feature_extraction import DictVectorizer\n",
        "from sklearn.pipeline import Pipeline\n",
        "from sklearn.model_selection import cross_val_score\n",
        "\n",
        "# Fill LotFrontage missing values with 0\n",
        "X['LotFrontage'] = X['LotFrontage'].fillna(0)\n",
        "\n",
        "# Setup the pipeline steps: steps\n",
        "steps = [(\"ohe_onestep\", DictVectorizer(sparse=False)),\n",
        "         (\"xgb_model\", xgb.XGBRegressor(max_depth=2, objective=\"reg:squarederror\"))]\n",
        "\n",
        "# Create the pipeline: xgb_pipeline\n",
        "xgb_pipeline = Pipeline(steps)\n",
        "\n",
        "# Cross-validate the model\n",
        "cross_val_scores = cross_val_score(xgb_pipeline, X.to_dict('records'), y, scoring=\"neg_mean_squared_error\",cv=10)\n",
        "\n",
        "# Print the 10-fold RMSE\n",
        "print(\"10-fold RMSE: \", np.mean(np.sqrt(np.abs(cross_val_scores))))"
      ],
      "metadata": {
        "colab": {
          "base_uri": "https://localhost:8080/"
        },
        "id": "y_SiG-lNU8n8",
        "outputId": "1c06377f-bb9f-4ec8-f0f0-cb709c22ee2c"
      },
      "execution_count": 12,
      "outputs": [
        {
          "output_type": "stream",
          "name": "stdout",
          "text": [
            "10-fold RMSE:  29867.603720688923\n"
          ]
        }
      ]
    },
    {
      "cell_type": "markdown",
      "source": [
        "### ***Kidney disease case study I: Categorical Imputer***\n",
        "\n",
        "You'll now continue your exploration of using pipelines with a dataset that requires significantly more wrangling. The chronic kidney disease dataset contains both categorical and numeric features, but contains lots of missing values. The goal here is to predict who has chronic kidney disease given various blood indicators as features.\n",
        "\n",
        "You'll be introduced to a new library, **`sklearn_pandas`**, that allows you to chain many more processing steps inside of a pipeline than are currently supported in scikit-learn. Specifically, you'll be able to impute missing categorical values directly using the \n",
        "* **`Categorical_Imputer()`** class in **`sklearn_pandas`**, and the \n",
        "* **`DataFrameMapper()`** class to apply any arbitrary sklearn-compatible transformer on DataFrame columns, where the resulting output can be either a NumPy array or DataFrame.\n",
        "\n",
        "We've also created a transformer called a `Dictifier` that encapsulates converting a DataFrame using **`.to_dict(\"records\")`** without you having to do it explicitly (and so that it works in a pipeline). Finally, we've also provided the list of feature names in `kidney_feature_names`, the target name in `kidney_target_name`, the features in `X`, and the target in `y`.\n",
        "\n",
        "In this exercise, your task is to apply the **`CategoricalImputer`** to impute all of the categorical columns in the dataset. You can refer to how the numeric imputation mapper was created as a template. Notice the keyword arguments **`input_df=True`* and **`df_out=True`**. This is so that you can work with DataFrames instead of arrays. By default, the transformers are passed a numpy array of the selected columns as input, and as a result, the output of the DataFrame mapper is also an array. Scikit-learn transformers have historically been designed to work with numpy arrays, not pandas DataFrames, even though their basic indexing interfaces are similar.\n",
        "\n",
        "* Apply the categorical imputer using **`DataFrameMapper()`** and **`CategoricalImputer()`**. **`CategoricalImputer()`** does not need any arguments to be passed in. The columns are contained in `categorical_columns`. Be sure to specify **`input_df=True`** and **`df_out=True`**, and use `category_feature` as your iterator variable in the list comprehension."
      ],
      "metadata": {
        "id": "Ww5o_YlNXMw2"
      }
    },
    {
      "cell_type": "code",
      "source": [
        "from sklearn_pandas import DataFrameMapper\n",
        "from sklearn_pandas import CategoricalImputer\n",
        "from sklearn.impute import SimpleImputer\n",
        "\n",
        "kidney_data = pd.read_csv('kidney_data.csv').drop(columns='Unnamed: 0')\n",
        "X, y = kidney_data.drop(columns='class'), kidney_data['class']\n",
        "\n",
        "\n",
        "# Check number of nulls in each feature column\n",
        "nulls_per_column = X.isnull().sum()\n",
        "print(nulls_per_column)\n",
        "\n",
        "# Create a boolean mask for categorical columns\n",
        "categorical_feature_mask = X.dtypes == object\n",
        "\n",
        "# Get list of categorical column names\n",
        "categorical_columns = X.columns[categorical_feature_mask].tolist()\n",
        "\n",
        "# Get list of non-categorical column names\n",
        "non_categorical_columns = X.columns[~categorical_feature_mask].tolist()\n",
        "\n",
        "# Apply numeric imputer\n",
        "numeric_imputation_mapper = DataFrameMapper(\n",
        "                                            [([numeric_feature], SimpleImputer(strategy=\"median\")) for numeric_feature in non_categorical_columns],\n",
        "                                            input_df=True,\n",
        "                                            df_out=True\n",
        "                                           )\n",
        "\n",
        "# Apply categorical imputer\n",
        "categorical_imputation_mapper = DataFrameMapper(\n",
        "                                                [(category_feature, CategoricalImputer()) for category_feature in categorical_columns],\n",
        "                                                input_df=True,\n",
        "                                                df_out=True\n",
        "                                               )"
      ],
      "metadata": {
        "colab": {
          "base_uri": "https://localhost:8080/"
        },
        "id": "KV8a70YBXBcK",
        "outputId": "d4d2940d-1ac8-4f46-ad28-23ef3b58e9a7"
      },
      "execution_count": 2,
      "outputs": [
        {
          "output_type": "stream",
          "name": "stdout",
          "text": [
            "age        9\n",
            "bp        12\n",
            "sg        47\n",
            "al        46\n",
            "su        49\n",
            "bgr       44\n",
            "bu        19\n",
            "sc        17\n",
            "sod       87\n",
            "pot       88\n",
            "hemo      52\n",
            "pcv       71\n",
            "wc       106\n",
            "rc       131\n",
            "rbc      152\n",
            "pc        65\n",
            "pcc        4\n",
            "ba         4\n",
            "htn        2\n",
            "dm         2\n",
            "cad        2\n",
            "appet      1\n",
            "pe         1\n",
            "ane        1\n",
            "dtype: int64\n"
          ]
        }
      ]
    },
    {
      "cell_type": "markdown",
      "source": [
        "### ***Kidney disease case study II: Feature Union***\n",
        "\n",
        "Having separately imputed numeric as well as categorical columns, your task is now to use scikit-learn's **`FeatureUnion`** to concatenate their results, which are contained in two separate transformer objects - `numeric_imputation_mapper`, and `categorical_imputation_mapper`, respectively.\n",
        "\n",
        "You may have already encountered **`FeatureUnion`** in [Machine Learning with the Experts: School Budgets](https://campus.datacamp.com/courses/machine-learning-with-the-experts-school-budgets/improving-your-model?ex=7). Just like with pipelines, you have to pass it a list of `(string, transformer)` tuples, where the first half of each tuple is the name of the transformer.\n",
        "\n",
        "* Combine the results of `numeric_imputation_mapper` and `categorical_imputation_mapper` using **`FeatureUnion()`**, with the names `\"num_mapper\"` and `\"cat_mapper\"` respectively."
      ],
      "metadata": {
        "id": "oAhzUZzXxgDp"
      }
    },
    {
      "cell_type": "code",
      "source": [
        "# Import FeatureUnion\n",
        "from sklearn.pipeline import FeatureUnion\n",
        "\n",
        "# Combine the numeric and categorical transformations\n",
        "numeric_categorical_union = FeatureUnion([\n",
        "                                          ('num_mapper', numeric_imputation_mapper),\n",
        "                                          ('cat_mapper', categorical_imputation_mapper)\n",
        "                                         ])"
      ],
      "metadata": {
        "id": "kR0zPuYMlTGz"
      },
      "execution_count": 3,
      "outputs": []
    },
    {
      "cell_type": "markdown",
      "source": [
        "### ***Kidney disease case study III: Full pipeline***\n",
        "\n",
        "It's time to piece together all of the transforms along with an **`XGBClassifier`** to build the full pipeline!\n",
        "\n",
        "Besides the `numeric_categorical_union` that you created in the previous exercise, there are two other transforms needed: the **`Dictifier()`** transform which we created for you, and the **`DictVectorizer()`**.\n",
        "\n",
        "## ***ไอ้ Class `Dictifier()` เนี่ย มันต้องไปแงะ methods มาทีละอัน โดยดูจาก help และใช้ `getsource` เช่น `getsource(Dictifier.fit)`*** \n",
        "\n",
        "After creating the pipeline, your task is to cross-validate it to see how well it performs.\n",
        "\n",
        "\n",
        "* Create the pipeline using the `numeric_categorical_union`, **`Dictifier()`**, and **`DictVectorizer(sort=False)`** transforms, and **`xgb.XGBClassifier()`** estimator with **`max_depth=3`**. Name the transforms `\"featureunion\"`, `\"dictifier\"` `\"vectorizer\"`, and the estimator `\"clf\"`.\n",
        "\n",
        "* Perform 3-fold cross-validation on the pipeline using **`cross_val_score()`**. Pass it the pipeline, `pipeline`, the features, `kidney_data`, the outcomes, `y`. Also set scoring to `\"roc_auc\"` and `cv` to `3`."
      ],
      "metadata": {
        "id": "h3hUxFhQyqrF"
      }
    },
    {
      "cell_type": "code",
      "source": [
        "import sklearn\n",
        "\n",
        "class Dictifier(sklearn.base.BaseEstimator, sklearn.base.TransformerMixin):\n",
        "    \n",
        "    def fit(self, X, y=None):\n",
        "        return self\n",
        "\n",
        "    def transform(self, X):\n",
        "        if type(X) == pd.core.frame.DataFrame:\n",
        "            return X.to_dict(\"records\")\n",
        "        else:\n",
        "            return pd.DataFrame(X).to_dict(\"records\")\n",
        "\n",
        "    def fit_transform(self, X, y=None, **fit_params):\n",
        "        \"\"\"Fit to data, then transform it.\n",
        "\n",
        "        Fits transformer to X and y with optional parameters fit_params\n",
        "        and returns a transformed version of X.\n",
        "\n",
        "        Parameters\n",
        "        ----------\n",
        "        X : numpy array of shape [n_samples, n_features]\n",
        "            Training set.\n",
        "\n",
        "        y : numpy array of shape [n_samples]\n",
        "            Target values.\n",
        "\n",
        "        Returns\n",
        "        -------\n",
        "        X_new : numpy array of shape [n_samples, n_features_new]\n",
        "            Transformed array.\n",
        "\n",
        "        \"\"\"\n",
        "        # non-optimized default implementation; override when a better\n",
        "        # method is possible for a given clustering algorithm\n",
        "        if y is None:\n",
        "            # fit method of arity 1 (unsupervised transformation)\n",
        "            return self.fit(X, **fit_params).transform(X)\n",
        "        else:\n",
        "            # fit method of arity 2 (supervised transformation)\n",
        "            return self.fit(X, y, **fit_params).transform(X)\n",
        "\n",
        "# Create full pipeline\n",
        "pipeline = Pipeline([\n",
        "                     (\"featureunion\", numeric_categorical_union),\n",
        "                     (\"dictifier\", Dictifier()),\n",
        "                     (\"vectorizer\", DictVectorizer(sort=False)),\n",
        "                     (\"clf\", xgb.XGBClassifier(max_depth=3))\n",
        "                    ])\n",
        "\n",
        "# Perform cross-validation\n",
        "cross_val_scores = cross_val_score(pipeline, kidney_data, y, scoring='roc_auc', cv=3)\n",
        "\n",
        "# Print avg. AUC\n",
        "print(\"3-fold AUC: \", np.mean(cross_val_scores))"
      ],
      "metadata": {
        "colab": {
          "base_uri": "https://localhost:8080/"
        },
        "id": "E0GJyTJcylGv",
        "outputId": "0b6e5df4-04a6-47de-fa00-b281788698d4"
      },
      "execution_count": 4,
      "outputs": [
        {
          "output_type": "stream",
          "name": "stdout",
          "text": [
            "3-fold AUC:  0.998637406769937\n"
          ]
        }
      ]
    },
    {
      "cell_type": "markdown",
      "source": [
        "### ***Bringing it all together***\n",
        "\n",
        "Combine your work from the previous exercises into one end-to-end XGBoost pipeline to really cement your understanding of preprocessing and pipelines in XGBoost.\n",
        "\n",
        "Your work from the previous 3 exercises, where you preprocessed the data and set up your pipeline, has been pre-loaded. Your job is to perform a randomized search and identify the best hyperparameters.\n",
        "\n",
        "* Set up the parameter grid to tune \n",
        "  * `'clf__learning_rate'` (from `0.05` to `1` in increments of `0.05`),\n",
        "  * `'clf__max_depth'` (from `3` to `10` in increments of `1`), and \n",
        "  * `'clf__n_estimators'` (from `50` to `200` in increments of `50`).\n",
        "\n",
        "* Using your pipeline as the estimator, perform `2`-fold **`RandomizedSearchCV`** with an **`n_iter`** of `2`. Use **`\"roc_auc\"`** as the metric, and set **`verbose`** to `1` so the output is more detailed. Store the result in `randomized_roc_auc`.\n",
        "\n",
        "* Fit `randomized_roc_auc` to `X` and `y`.\n",
        "\n",
        "* Compute the best score and best estimator of `randomized_roc_auc`."
      ],
      "metadata": {
        "id": "ZRkCnD_hAP67"
      }
    },
    {
      "cell_type": "code",
      "source": [
        "# Create the parameter grid\n",
        "gbm_param_grid = {'clf__learning_rate': np.arange(0.05, 1, 0.05), \n",
        "                  'clf__max_depth': np.arange(3, 10, 1),\n",
        "                  'clf__n_estimators': np.arange(50, 200, 50)}\n",
        "\n",
        "# Perform RandomizedSearchCV\n",
        "randomized_roc_auc = RandomizedSearchCV(estimator=pipeline, \n",
        "                                        param_distributions=gbm_param_grid, \n",
        "                                        n_iter=2, \n",
        "                                        scoring='roc_auc', \n",
        "                                        cv=2, \n",
        "                                        verbose=1)\n",
        "\n",
        "# Fit the estimator\n",
        "randomized_roc_auc.fit(X, y)\n",
        "\n",
        "# Compute metrics\n",
        "print(randomized_roc_auc.best_score_)\n",
        "print(f'randomized_roc_auc.best_estimator_ = {randomized_roc_auc.best_estimator_}')"
      ],
      "metadata": {
        "colab": {
          "base_uri": "https://localhost:8080/"
        },
        "id": "jaRmHLRb4XWL",
        "outputId": "55a6f844-32cc-4231-e5a1-47822b61c4c9"
      },
      "execution_count": 6,
      "outputs": [
        {
          "output_type": "stream",
          "name": "stdout",
          "text": [
            "Fitting 2 folds for each of 2 candidates, totalling 4 fits\n",
            "0.9961599999999999\n",
            "randomized_roc_auc.best_estimator_ = Pipeline(steps=[('featureunion',\n",
            "                 FeatureUnion(transformer_list=[('num_mapper',\n",
            "                                                 DataFrameMapper(df_out=True,\n",
            "                                                                 features=[(['age'],\n",
            "                                                                            SimpleImputer(strategy='median')),\n",
            "                                                                           (['bp'],\n",
            "                                                                            SimpleImputer(strategy='median')),\n",
            "                                                                           (['sg'],\n",
            "                                                                            SimpleImputer(strategy='median')),\n",
            "                                                                           (['al'],\n",
            "                                                                            SimpleImputer(strategy='median')),\n",
            "                                                                           (['su'],\n",
            "                                                                            SimpleImputer(strategy='median')),\n",
            "                                                                           (['bgr'],\n",
            "                                                                            SimpleImputer(s...\n",
            "                                                                            CategoricalImputer()),\n",
            "                                                                           ('htn',\n",
            "                                                                            CategoricalImputer()),\n",
            "                                                                           ('dm',\n",
            "                                                                            CategoricalImputer()),\n",
            "                                                                           ('cad',\n",
            "                                                                            CategoricalImputer()),\n",
            "                                                                           ('appet',\n",
            "                                                                            CategoricalImputer()),\n",
            "                                                                           ('pe',\n",
            "                                                                            CategoricalImputer()),\n",
            "                                                                           ('ane',\n",
            "                                                                            CategoricalImputer())],\n",
            "                                                                 input_df=True))])),\n",
            "                ('dictifier', Dictifier()),\n",
            "                ('vectorizer', DictVectorizer(sort=False)),\n",
            "                ('clf',\n",
            "                 XGBClassifier(learning_rate=0.55, max_depth=9,\n",
            "                               n_estimators=50))])\n"
          ]
        }
      ]
    },
    {
      "cell_type": "markdown",
      "source": [
        "This type of pipelining is very common in real-world data science and you're well on your way towards mastering it."
      ],
      "metadata": {
        "id": "UQe6mYdlDR5e"
      }
    }
  ]
}