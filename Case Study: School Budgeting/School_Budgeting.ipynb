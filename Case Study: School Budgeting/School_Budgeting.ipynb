{
  "nbformat": 4,
  "nbformat_minor": 0,
  "metadata": {
    "colab": {
      "name": "School_Budgeting",
      "provenance": [],
      "collapsed_sections": []
    },
    "kernelspec": {
      "name": "python3",
      "display_name": "Python 3"
    },
    "language_info": {
      "name": "python"
    }
  },
  "cells": [
    {
      "cell_type": "code",
      "source": [
        "import pandas as pd, matplotlib.pyplot as plt, seaborn as sns, numpy as np\n",
        "from sklearn.linear_model import LogisticRegression\n",
        "from sklearn.multiclass import OneVsRestClassifier\n",
        "from sklearn.feature_extraction.text import CountVectorizer, HashingVectorizer\n",
        "from sklearn.pipeline import Pipeline, FeatureUnion\n",
        "from sklearn.impute import SimpleImputer\n",
        "from sklearn.preprocessing import FunctionTransformer\n",
        "from sklearn.ensemble import RandomForestClassifier\n",
        "from sklearn.feature_extraction.text import HashingVectorizer\n",
        "from itertools import combinations\n",
        "from scipy import sparse\n",
        "from sklearn.base import BaseEstimator, TransformerMixin\n",
        "sns.set()"
      ],
      "metadata": {
        "id": "2oANy6oTeLeh"
      },
      "execution_count": 9,
      "outputs": []
    },
    {
      "cell_type": "markdown",
      "source": [
        "# ***Budget data*** ข้อมูลคอร์สนี้เอาไปทำใหม่ยาก\n",
        "\n",
        "## ***Code [อยู่ที่นี่](https://github.com/datacamp/course-resources-ml-with-experts-budgets/blob/master/notebooks/1.0-full-model.ipynb)***\n",
        "\n",
        "* **Line-item**: \"Algebra books for 8th grade students\"\n",
        "* **Labels**: \"Textbooks\", \"Math\", \"Middle School\"\n",
        "\n",
        "* This is a classification problem\n",
        "\n",
        "### ***Encode the labels as categorical variables***\n",
        "\n",
        "Remember, your ultimate goal is to predict the probability that a certain label is attached to a budget line item. You just saw that many columns in your data are the inefficient object type. Does this include the labels you're trying to predict? Let's find out!\n",
        "\n",
        "There are 9 columns of labels in the dataset. Each of these columns is a category that has many possible values it can take. The 9 labels have been loaded into a list called `LABELS`. In the Shell, check out the type for these labels using `df[LABELS].dtypes`.\n",
        "\n",
        "You will notice that every label is encoded as an `object` datatype. Because category datatypes are much more efficient your task is to convert the labels to category types using the `.astype()` method.\n",
        "\n",
        "Note: `.astype()` only works on a pandas Series. Since you are working with a pandas DataFrame, you'll need to use the `.apply()` method and provide a lambda function called `categorize_label` that applies `.astype()` to each column, `x`.\n",
        "\n",
        "* Define the `lambda` function `categorize_label` to convert column `x` into `x.astype('category')`.\n",
        "\n",
        "* Use the `LABELS` list provided to convert the subset of data `df[LABELS]` to categorical types using the `.apply()` method and `categorize_label`. Don't forget `axis=0`.\n",
        "\n",
        "* Print the converted `.dtypes` attribute of `df[LABELS]`."
      ],
      "metadata": {
        "id": "ZlZKQyGzeK2T"
      }
    },
    {
      "cell_type": "code",
      "execution_count": null,
      "metadata": {
        "id": "oUXVDr1V0C2i"
      },
      "outputs": [],
      "source": [
        "# Define the lambda function: categorize_label\n",
        "categorize_label = lambda x: x.astype('category')\n",
        "\n",
        "# Convert df[LABELS] to a categorical type\n",
        "df[LABELS] = df[LABELS].apply(categorize_label, axis=0)\n",
        "\n",
        "# Print the converted dtypes\n",
        "print(df[LABELS].dtypes)"
      ]
    },
    {
      "cell_type": "markdown",
      "source": [
        "### ***Counting unique labels***\n",
        "\n",
        "There are over 100 unique labels. Explore this fact by counting and plotting the number of unique values for each category of label.\n",
        "\n",
        "The dataframe `df` and the `LABELS` list have been loaded into the workspace; the `LABELS` columns of `df` have been converted to category types.\n",
        "\n",
        "pandas, which has been pre-imported as `pd`, provides a `pd.Series.nunique` method for counting the number of unique values in a Series.\n",
        "\n",
        "* Create the DataFrame `num_unique_labels` by using the `.apply()` method on df`[LABELS]` with `pd.Series.nunique` as the `argument`.\n",
        "\n",
        "* Create a bar plot of `num_unique_labels` using pandas' `.plot(kind='bar')` method.\n",
        "\n"
      ],
      "metadata": {
        "id": "WIzwe3pskRd1"
      }
    },
    {
      "cell_type": "code",
      "source": [
        "LABELS = ['Function', 'Use', 'Sharing', 'Reporting', 'Student_Type', 'Position_Type', 'Object_Type', 'Pre_K', 'Operating_Status']\n",
        "df[LABELS].nunique()\n"
      ],
      "metadata": {
        "id": "yucW_YuEl9GC"
      },
      "execution_count": null,
      "outputs": []
    },
    {
      "cell_type": "markdown",
      "source": [
        "\n",
        "\n",
        "```\n",
        "Function            37\n",
        "Use                  8\n",
        "Sharing              5\n",
        "Reporting            3\n",
        "Student_Type         9\n",
        "Position_Type       25\n",
        "Object_Type         11\n",
        "Pre_K                3\n",
        "Operating_Status     3\n",
        "dtype: int64\n",
        "```\n",
        "\n"
      ],
      "metadata": {
        "id": "io9UJpLjmnKJ"
      }
    },
    {
      "cell_type": "code",
      "source": [
        "# Import matplotlib.pyplot\n",
        "import matplotlib.pyplot as plt\n",
        "\n",
        "# Calculate number of unique values for each label: num_unique_labels\n",
        "num_unique_labels = df[LABELS].nunique()\n",
        "\n",
        "# Plot number of unique values for each label\n",
        "num_unique_labels.plot(kind='bar')\n",
        "\n",
        "# Label the axes\n",
        "plt.xlabel('Labels')\n",
        "plt.ylabel('Number of unique values')\n",
        "\n",
        "# Display the plot\n",
        "plt.show()"
      ],
      "metadata": {
        "id": "AhujuB53moeJ"
      },
      "execution_count": null,
      "outputs": []
    },
    {
      "cell_type": "markdown",
      "source": [
        "![image.png](data:image/png;base64,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)\n",
        "\n",
        "That's a lot of labels to work with. How will you measure success with these many labels?\n",
        "\n",
        "# ***Log loss binary classification***\n",
        "\n",
        "* $$logloss = -\\frac{1}{N}\\sum_{i=1}^N(y_i\\log(p_i) + (1-y_i)\\log(1-p_i))$$\n",
        "  * Actual value: $y$ (1 = yes, 0 = no)\n",
        "  * Prediction (probability that the value is 1): $p$"
      ],
      "metadata": {
        "id": "WR4ZIePfmxi6"
      }
    },
    {
      "cell_type": "code",
      "source": [
        "def compute_log_loss(predicted, actual, eps=1e-14):\n",
        "    \"\"\" Computes the logarithmic loss between predicted and\n",
        "        actual when these are 1D arrays.\n",
        "\n",
        "        :param predicted: The predicted probabilities as floats between 0-1\n",
        "        :param actual: The actual binary labels. Either 0 or 1.\n",
        "        :param eps (optional): log(0) is inf, so we need to offset our\n",
        "                          predicted values slightly by eps from 0 or 1.\n",
        "    \"\"\"\n",
        "    predicted = np.clip(predicted, eps, 1 - eps)\n",
        "    loss = -1 * np.mean(actual * np.log(predicted) + (1 - actual)*np.log(1 - predicted))\n",
        "    return loss"
      ],
      "metadata": {
        "id": "Y6OAe_Vbm3Sv"
      },
      "execution_count": 3,
      "outputs": []
    },
    {
      "cell_type": "markdown",
      "source": [
        "### ***Computing log loss with NumPy***\n",
        "\n",
        "To see how the log loss metric handles the trade-off between accuracy and confidence, we will use some sample data generated with NumPy and compute the log loss using the provided function `compute_log_loss()`.\n",
        "\n",
        "5 one-dimensional numeric arrays simulating different types of predictions have been pre-loaded: `actual_labels`, `correct_confident`, `correct_not_confident`, `wrong_not_confident`, and `wrong_confident`.\n",
        "\n",
        "Your job is to compute the log loss for each sample set provided using the `compute_log_loss(predicted_values, actual_values)`. It takes the predicted values as the first argument and the actual values as the second argument.\n",
        "\n",
        "* Using the `compute_log_loss()` function, compute the log loss for the following predicted values (in each case, the actual values are contained in `actual_labels`):\n",
        "\n",
        "* `correct_confident`.\n",
        "* `correct_not_confident`.\n",
        "* `wrong_not_confident`.\n",
        "* `wrong_confident`.\n",
        "* `actual_labels`."
      ],
      "metadata": {
        "id": "6AqxF9ccqpZQ"
      }
    },
    {
      "cell_type": "code",
      "source": [
        "from numpy import array\n",
        "actual_labels = array([1., 1., 1., 1., 1., 0., 0., 0., 0., 0.])\n",
        "correct_confident = array([0.95, 0.95, 0.95, 0.95, 0.95, 0.05, 0.05, 0.05, 0.05, 0.05])\n",
        "correct_not_confident = array([0.65, 0.65, 0.65, 0.65, 0.65, 0.35, 0.35, 0.35, 0.35, 0.35])\n",
        "wrong_not_confident = array([0.35, 0.35, 0.35, 0.35, 0.35, 0.65, 0.65, 0.65, 0.65, 0.65])\n",
        "wrong_confident = array([0.05, 0.05, 0.05, 0.05, 0.05, 0.95, 0.95, 0.95, 0.95, 0.95])\n",
        "\n",
        "a = [correct_confident, correct_not_confident, wrong_not_confident, wrong_confident, actual_labels]\n",
        "b = ['correct and confident', 'correct and not confident', 'wrong and not confident', 'wrong and confident', 'actual labels']\n",
        "\n",
        "for i, j in zip(a, b):\n",
        "    loss = compute_log_loss(i, actual_labels)\n",
        "    print(f\"Log loss, {j}: {loss:,.2f}\") "
      ],
      "metadata": {
        "colab": {
          "base_uri": "https://localhost:8080/"
        },
        "id": "t62EP_OAqHbl",
        "outputId": "aa103cb4-60de-4762-c775-6d30c731d768"
      },
      "execution_count": 6,
      "outputs": [
        {
          "output_type": "stream",
          "name": "stdout",
          "text": [
            "Log loss, correct and confident: 0.05\n",
            "Log loss, correct and not confident: 0.43\n",
            "Log loss, wrong and not confident: 1.05\n",
            "Log loss, wrong and confident: 3.00\n",
            "Log loss, actual labels: 0.00\n"
          ]
        }
      ]
    },
    {
      "cell_type": "markdown",
      "source": [
        "Log loss penalizes highly ***confident wrong*** answers much more than any other type. This will be a good metric to use on your models.\n",
        "\n",
        "# ***ข้อมูลมีตัวแปรตาม (`LABELS`) หลายตัวมากๆ***\n",
        "\n",
        "### ***Setting up a train-test split in scikit-learn***\n",
        "\n",
        "The first step is to split the data into a training set and a test set. Some labels don't occur very often, but we want to make sure that they appear in both the training and the test sets. We provide a function that will make sure at least `min_count` examples of each label appear in each split: `multilabel_train_test_split`.\n",
        "\n",
        "Feel free to check out the full code for multilabel_train_test_split [here](https://github.com/drivendataorg/box-plots-sklearn/blob/master/src/data/multilabel.py).\n",
        "\n",
        "You'll start with a simple model that uses just the numeric columns of your DataFrame when calling `multilabel_train_test_split`. The data has been read into a DataFrame `df` and a list consisting of just the numeric columns is available as `NUMERIC_COLUMNS`.\n",
        "\n",
        "* Create a new DataFrame named `numeric_data_only` by applying the **`.fillna(-1000)`** method to the numeric columns (available in the list `NUMERIC_COLUMNS`) of `df`.\n",
        "\n",
        "* Convert the labels (available in the list `LABELS`) to dummy variables. Save the result as `label_dummies`.\n",
        "\n",
        "* In the call to `multilabel_train_test_split()`, set the size of your test set to be `0.2`. Use a seed of `123`.\n",
        "\n",
        "* Fill in the **`.info()`** method calls for `X_train`, `X_test`, `y_train`, and `y_test`."
      ],
      "metadata": {
        "id": "3Mum4H9Atu3i"
      }
    },
    {
      "cell_type": "code",
      "source": [
        "from warnings import warn\n",
        "import numpy as np\n",
        "import pandas as pd\n",
        "\n",
        "def multilabel_sample(y, size=1000, min_count=5, seed=None):\n",
        "    \"\"\" Takes a matrix of binary labels `y` and returns\n",
        "        the indices for a sample of size `size` if\n",
        "        `size` > 1 or `size` * len(y) if size =< 1.\n",
        "        \n",
        "        The sample is guaranteed to have > `min_count` of\n",
        "        each label.\n",
        "    \"\"\"\n",
        "    try:\n",
        "        if (np.unique(y).astype(int) != np.array([0, 1])).all():\n",
        "            raise ValueError()\n",
        "    except (TypeError, ValueError):\n",
        "        raise ValueError('multilabel_sample only works with binary indicator matrices')\n",
        "    \n",
        "    if (y.sum(axis=0) < min_count).any():\n",
        "        raise ValueError('Some classes do not have enough examples. Change min_count if necessary.')\n",
        "    \n",
        "    if size <= 1:\n",
        "        size = np.floor(y.shape[0] * size)\n",
        "    \n",
        "    if y.shape[1] * min_count > size:\n",
        "        msg = \"Size less than number of columns * min_count, returning {} items instead of {}.\"\n",
        "        warn(msg.format(y.shape[1] * min_count, size))\n",
        "        size = y.shape[1] * min_count\n",
        "    \n",
        "    rng = np.random.RandomState(seed if seed is not None else np.random.randint(1))\n",
        "    \n",
        "    if isinstance(y, pd.DataFrame):\n",
        "        choices = y.index\n",
        "        y = y.values\n",
        "    else:\n",
        "        choices = np.arange(y.shape[0])\n",
        "    \n",
        "    sample_idxs = np.array([], dtype=choices.dtype)\n",
        "    \n",
        "    # first, guarantee > min_count of each label\n",
        "    for j in range(y.shape[1]):\n",
        "        label_choices = choices[y[:, j] == 1]\n",
        "        label_idxs_sampled = rng.choice(label_choices, size=min_count, replace=False)\n",
        "        sample_idxs = np.concatenate([label_idxs_sampled, sample_idxs])\n",
        "        \n",
        "    sample_idxs = np.unique(sample_idxs)\n",
        "        \n",
        "    # now that we have at least min_count of each, we can just random sample\n",
        "    sample_count = size - sample_idxs.shape[0]\n",
        "    \n",
        "    # get sample_count indices from remaining choices\n",
        "    remaining_choices = np.setdiff1d(choices, sample_idxs)\n",
        "    remaining_sampled = rng.choice(remaining_choices, size=sample_count, replace=False)\n",
        "        \n",
        "    return np.concatenate([sample_idxs, remaining_sampled]) \n",
        "\n",
        "def multilabel_train_test_split(X, Y, size, min_count=5, seed=None):\n",
        "    \"\"\" Takes a features matrix `X` and a label matrix `Y` and\n",
        "        returns (X_train, X_test, Y_train, Y_test) where all\n",
        "        classes in Y are represented at least `min_count` times.\n",
        "    \"\"\"\n",
        "    index = Y.index if isinstance(Y, pd.DataFrame) else np.arange(Y.shape[0])\n",
        "\n",
        "    test_set_idxs = multilabel_sample(Y, size=size, min_count=min_count, seed=seed)    \n",
        "    train_set_idxs = np.setdiff1d(index, test_set_idxs)\n",
        "    \n",
        "    test_set_mask = index.isin(test_set_idxs)\n",
        "    train_set_mask = ~test_set_mask\n",
        "    \n",
        "    return (X[train_set_mask], X[test_set_mask], Y[train_set_mask], Y[test_set_mask])"
      ],
      "metadata": {
        "id": "gXEdt5wKtcOe"
      },
      "execution_count": 8,
      "outputs": []
    },
    {
      "cell_type": "code",
      "source": [
        "# Create the new DataFrame: numeric_data_only\n",
        "numeric_data_only = df[NUMERIC_COLUMNS].fillna(-1000)\n",
        "\n",
        "# Get labels and convert to dummy variables: label_dummies\n",
        "label_dummies = pd.get_dummies(df[LABELS])\n",
        "\n",
        "# Create training and test sets\n",
        "X_train, X_test, y_train, y_test = multilabel_train_test_split(numeric_data_only,label_dummies, size=0.2, seed=123)\n",
        "\n",
        "# Print the info\n",
        "print(\"X_train info:\")\n",
        "print(X_train.info())\n",
        "print(\"\\nX_test info:\")  \n",
        "print(X_test.info())\n",
        "print(\"\\ny_train info:\")  \n",
        "print(y_train.info())\n",
        "print(\"\\ny_test info:\")  \n",
        "print(y_test.info()) "
      ],
      "metadata": {
        "id": "mXw88LaL-lxK"
      },
      "execution_count": null,
      "outputs": []
    },
    {
      "cell_type": "markdown",
      "source": [
        "\n",
        "\n",
        "\n",
        "```\n",
        "df[NUMERIC_COLUMNS].fillna(-1000) = \n",
        "\n",
        "                FTE          Total\n",
        "198    -1000.000000   -8291.860000\n",
        "209    -1000.000000     618.290000\n",
        "750        1.000000   49768.820000\n",
        "931    -1000.000000      -1.020000\n",
        "1524   -1000.000000    2304.430000\n",
        "1770   -1000.000000    1505.850000\n",
        "```\n",
        "\n",
        "```\n",
        "df[LABELS] = \n",
        "                                               Function                          Use                    Sharing   Reporting       Student_Type            Position_Type                  Object_Type     Pre_K   Operating_Status\n",
        "198                                            NO_LABEL                     NO_LABEL                   NO_LABEL    NO_LABEL           NO_LABEL                 NO_LABEL                     NO_LABEL  NO_LABEL      Non-Operating\n",
        "209                              Student Transportation                     NO_LABEL            Shared Services  Non-School           NO_LABEL                 NO_LABEL       Other Non-Compensation  NO_LABEL  PreK-12 Operating\n",
        "750                                Teacher Compensation                  Instruction            School Reported      School        Unspecified                  Teacher     Base Salary/Compensation  Non PreK  PreK-12 Operating\n",
        "931                                            NO_LABEL                     NO_LABEL                   NO_LABEL    NO_LABEL           NO_LABEL                 NO_LABEL                     NO_LABEL  NO_LABEL      Non-Operating\n",
        "1524                                           NO_LABEL                     NO_LABEL                   NO_LABEL    NO_LABEL           NO_LABEL                 NO_LABEL                     NO_LABEL  NO_LABEL      Non-Operating\n",
        "1770                                         Enrichment  Pupil Services & Enrichment            School Reported      School        Unspecified       Club Advisor/Coach   Other Compensation/Stipend  NO_LABEL  PreK-12 Operating\n",
        "\n",
        "pd.get_dummies(df[LABELS]) = \n",
        "\n",
        "        Function_Aides Compensation  Function_Career & Academic Counseling  Function_Communications  Function_Curriculum Development  Function_Data Processing & Information Services  Function_Development & Fundraising  ...  Pre_K_NO_LABEL  Pre_K_Non PreK  Pre_K_PreK  Operating_Status_Non-Operating  Operating_Status_Operating, Not PreK-12  Operating_Status_PreK-12 Operating\n",
        "198                               0                                      0                        0                                0                                                0                                   0  ...               1               0           0                               1                                        0                                   0\n",
        "209                               0                                      0                        0                                0                                                0                                   0  ...               1               0           0                               0                                        0                                   1\n",
        "750                               0                                      0                        0                                0                                                0                                   0  ...               0               1           0                               0                                        0                                   1\n",
        "931                               0                                      0                        0                                0                                                0                                   0  ...               1               0           0                               1                                        0                                   0\n",
        "1524                              0                                      0                        0                                0                                                0                                   0  ...               1               0           0                               1                                        0                                   0\n",
        "\n",
        "\n",
        "\n",
        "```\n",
        "\n",
        "```\n",
        "<script.py> output:\n",
        "    X_train info:\n",
        "    <class 'pandas.core.frame.DataFrame'>\n",
        "    Int64Index: 1040 entries, 198 to 101861\n",
        "    Data columns (total 2 columns):\n",
        "    FTE      1040 non-null float64\n",
        "    Total    1040 non-null float64\n",
        "    dtypes: float64(2)\n",
        "    memory usage: 24.4 KB\n",
        "    None\n",
        "    \n",
        "    X_test info:\n",
        "    <class 'pandas.core.frame.DataFrame'>\n",
        "    Int64Index: 520 entries, 209 to 448628\n",
        "    Data columns (total 2 columns):\n",
        "    FTE      520 non-null float64\n",
        "    Total    520 non-null float64\n",
        "    dtypes: float64(2)\n",
        "    memory usage: 12.2 KB\n",
        "    None\n",
        "    \n",
        "    y_train info:\n",
        "    <class 'pandas.core.frame.DataFrame'>\n",
        "    Int64Index: 1040 entries, 198 to 101861\n",
        "    Columns: 104 entries, Function_Aides Compensation to Operating_Status_PreK-12 Operating\n",
        "    dtypes: uint8(104)\n",
        "    memory usage: 113.8 KB\n",
        "    None\n",
        "    \n",
        "    y_test info:\n",
        "    <class 'pandas.core.frame.DataFrame'>\n",
        "    Int64Index: 520 entries, 209 to 448628\n",
        "    Columns: 104 entries, Function_Aides Compensation to Operating_Status_PreK-12 Operating\n",
        "    dtypes: uint8(104)\n",
        "    memory usage: 56.9 KB\n",
        "    None\n",
        "```\n",
        "\n"
      ],
      "metadata": {
        "id": "IxmN9m51_fBT"
      }
    },
    {
      "cell_type": "markdown",
      "source": [
        "### ***Training a model***\n",
        "\n",
        "Import the logistic regression and one versus rest classifiers in order to fit a multi-class logistic regression model to the `NUMERIC_COLUMNS` of your feature data.\n",
        "\n",
        "Then you'll test and print the accuracy with the **`.score()`** method to see the results of training.\n",
        "\n",
        "**Before you train!** Remember, we're ultimately going to be using logloss to score our model, so don't worry too much about the accuracy here. Keep in mind that you're throwing away all of the text data in the dataset - that's by far most of the data! So don't get your hopes up for a killer performance just yet. We're just interested in getting things up and running at the moment.\n",
        "\n",
        "All data necessary to call `multilabel_train_test_split()` has been loaded into the workspace.\n",
        "\n",
        "* Instantiate the classifier `clf` by placing **`LogisticRegression()`** inside **`OneVsRestClassifier()`**.\n",
        "\n",
        "* Fit the classifier to the training data `X_train` and `y_train`.\n",
        "\n",
        "* Compute and print the accuracy of the classifier using its **`.score()`** method, which accepts two arguments: `X_test` and `y_test`."
      ],
      "metadata": {
        "id": "6kW3wLImCsVd"
      }
    },
    {
      "cell_type": "code",
      "source": [
        "from sklearn.linear_model import LogisticRegression\n",
        "from sklearn.multiclass import OneVsRestClassifier\n",
        "\n",
        "# Create the DataFrame: numeric_data_only\n",
        "numeric_data_only = df[NUMERIC_COLUMNS].fillna(-1000)\n",
        "\n",
        "# Get labels and convert to dummy variables: label_dummies\n",
        "label_dummies = pd.get_dummies(df[LABELS])\n",
        "\n",
        "# Create training and test sets\n",
        "X_train, X_test, y_train, y_test = multilabel_train_test_split(numeric_data_only,\n",
        "                                                               label_dummies,\n",
        "                                                               size=0.2, \n",
        "                                                               seed=123)\n",
        "\n",
        "# Instantiate the classifier: clf\n",
        "clf = OneVsRestClassifier(LogisticRegression())\n",
        "\n",
        "# Fit the classifier to the training data\n",
        "clf.fit(X_train, y_train)\n",
        "\n",
        "# Print the accuracy\n",
        "print(\"Accuracy: {}\".format(clf.score(X_test, y_test)))"
      ],
      "metadata": {
        "id": "6DyF_qnc_gVF"
      },
      "execution_count": null,
      "outputs": []
    },
    {
      "cell_type": "markdown",
      "source": [
        "\n",
        "\n",
        "```\n",
        "<script.py> output:\n",
        "    Accuracy: 0.0\n",
        "```\n",
        "\n",
        "The good news is that your workflow didn't cause any errors. The bad news is that your model scored the lowest possible accuracy: **0.0**! But hey, you just threw away ALL of the text data in the budget. Later, you won't. Before you add the text data, let's see how the model does when scored by log loss.\n",
        "\n",
        "# ***Predicting on holdout data***"
      ],
      "metadata": {
        "id": "yLsS4WzrEEK6"
      }
    },
    {
      "cell_type": "code",
      "source": [
        "holdout = pd.read_csv('HoldoutData.csv', index_col=0)\n",
        "holdout = holdout[NUMERIC_COLUMNS].fillna(-1000)\n",
        "predictions = clf.predict_proba(holdout)"
      ],
      "metadata": {
        "id": "mMaQk3VgEFty"
      },
      "execution_count": null,
      "outputs": []
    },
    {
      "cell_type": "markdown",
      "source": [
        "![image.png](data:image/png;base64,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)\n",
        "\n",
        "# ***Format and submit predictions***"
      ],
      "metadata": {
        "id": "KuIREUJlEx8C"
      }
    },
    {
      "cell_type": "code",
      "source": [
        "prediction_df = pd.DataFrame(columns=pd.get_dummies(df[LABELS], prefix_sep='__').columns, # double underscores\n",
        "                             index=holdout.index,\n",
        "                             data=predictions)\n",
        "\n",
        "prediction_df.to_csv('predictions.csv')\n",
        "score = score_submission(pred_path='predictions.csv') # score_submission  function is provided"
      ],
      "metadata": {
        "id": "sGFNWaRiFtZo"
      },
      "execution_count": null,
      "outputs": []
    },
    {
      "cell_type": "markdown",
      "source": [
        "### ***Use your model to predict values on holdout data***\n",
        "\n",
        "## งงๆกับอันนี้ เพราะว่าเป็นการทำนายความน่าจะเป็นของตัวแปรตามที่เป็นตัวเลข ?  ซึ่งปกติจะต้องเป็น classifier\n",
        "\n",
        "You're ready to make some predictions! Remember, the train-test-split you've carried out so far is for model development. The original competition provides an additional test set, for which you'll never actually see the correct labels. This is called the \"holdout data.\"\n",
        "\n",
        "The point of the holdout data is to provide a fair test for machine learning competitions. If the labels aren't known by anyone but DataCamp, DrivenData, or whoever is hosting the competition, you can be sure that no one submits a mere copy of labels to artificially pump up the performance on their model.\n",
        "\n",
        "Remember that the original goal is ***to predict the probability of each label.*** In this exercise you'll do just that by using the **`.predict_proba()`** method on your trained model.\n",
        "\n",
        "First, however, you'll need to load the holdout data, which is available in the workspace as the file `HoldoutData.csv`.\n",
        "\n",
        "* Read `HoldoutData.csv` into a DataFrame called `holdout`. Specify the keyword argument **`index_col=0`** in your call to `read_csv()`.\n",
        "\n",
        "* Generate predictions using **`.predict_proba()`** on the numeric columns (available in the `NUMERIC_COLUMNS` list) of `holdout`. Make sure to fill in missing values with `-1000`!"
      ],
      "metadata": {
        "id": "X6USP1PbGW0O"
      }
    },
    {
      "cell_type": "code",
      "source": [
        "# Instantiate the classifier: clf\n",
        "clf = OneVsRestClassifier(LogisticRegression())\n",
        "\n",
        "# Fit it to the training data\n",
        "clf.fit(X_train, y_train)\n",
        "\n",
        "# Load the holdout data: holdout\n",
        "holdout = pd.read_csv('HoldoutData.csv', index_col=0)\n",
        "\n",
        "# Generate predictions: predictions\n",
        "predictions = clf.predict_proba(holdout[NUMERIC_COLUMNS].fillna(-1000))"
      ],
      "metadata": {
        "id": "aXoalXb9G6as"
      },
      "execution_count": null,
      "outputs": []
    },
    {
      "cell_type": "markdown",
      "source": [
        "Now you can write the predictions to a `.csv` and submit for scoring.\n",
        "\n",
        "### ***Writing out your results to a csv for submission***\n",
        "\n",
        "At last, you're ready to submit some predictions for scoring. In this exercise, you'll write your predictions to a `.csv` using the **`.to_csv()`** method on a pandas DataFrame. Then you'll evaluate your performance according to the LogLoss metric discussed earlier!\n",
        "\n",
        "You'll need to make sure your submission obeys the correct format.\n",
        "\n",
        "To do this, you'll use your predictions values to create a new DataFrame, `prediction_df`.\n",
        "\n",
        "Interpreting LogLoss & Beating the Benchmark:\n",
        "\n",
        "When interpreting your log loss score, keep in mind that the score will change based on the number of samples tested. To get a sense of how this very basic model performs, compare your score to the DrivenData benchmark model performance: 2.0455, which merely submitted uniform probabilities for each class.\n",
        "\n",
        "Remember, the lower the log loss the better. Is your model's log loss lower than 2.0455?\n",
        "\n",
        "* Create the `prediction_df` DataFrame by specifying the following arguments to the provided parameters `pd.DataFrame()`:\n",
        "  * `pd.get_dummies(df[LABELS]).columns`.\n",
        "  * `holdout.index`.\n",
        "  * `predictions`.\n",
        "\n",
        "Save `prediction_df` to a csv file called `'predictions.csv'` using the `.to_csv()` method.\n",
        "\n",
        "* Submit the predictions for scoring by using the `score_submission()` function with `pred_path` set to `'predictions.csv'`."
      ],
      "metadata": {
        "id": "uYrIPKuzHryj"
      }
    },
    {
      "cell_type": "code",
      "source": [
        "def score_submission(pred_path=PATH_TO_PREDICTIONS, holdout_path=PATH_TO_HOLDOUT_LABELS):\n",
        "    \n",
        "    # this happens on the backend to get the score\n",
        "    holdout_labels = pd.get_dummies(\n",
        "                        pd.read_csv(holdout_path, index_col=0)\n",
        "                          .apply(lambda x: x.astype('category'), axis=0)\n",
        "                      )\n",
        "\n",
        "    preds = pd.read_csv(pred_path, index_col=0)\n",
        "    \n",
        "    # make sure that format is correct\n",
        "    assert (preds.columns == holdout_labels.columns).all()\n",
        "    assert (preds.index == holdout_labels.index).all()\n",
        "\n",
        "    return _multi_multi_log_loss(preds.values, holdout_labels.values)\n",
        "\n",
        "def _multi_multi_log_loss(predicted,\n",
        "                          actual,\n",
        "                          class_column_indices=BOX_PLOTS_COLUMN_INDICES,\n",
        "                          eps=1e-15):\n",
        "    \"\"\" Multi class version of Logarithmic Loss metric as implemented on\n",
        "        DrivenData.org\n",
        "    \"\"\"\n",
        "    class_scores = np.ones(len(class_column_indices), dtype=np.float64)\n",
        "\n",
        "    # calculate log loss for each set of columns that belong to a class:\n",
        "    for k, this_class_indices in enumerate(class_column_indices):\n",
        "        # get just the columns for this class\n",
        "        preds_k = predicted[:, this_class_indices].astype(np.float64)\n",
        "\n",
        "        # normalize so probabilities sum to one (unless sum is zero, then we clip)\n",
        "        preds_k /= np.clip(preds_k.sum(axis=1).reshape(-1, 1), eps, np.inf)\n",
        "\n",
        "        actual_k = actual[:, this_class_indices]\n",
        "\n",
        "        # shrink predictions so\n",
        "        y_hats = np.clip(preds_k, eps, 1 - eps)\n",
        "        sum_logs = np.sum(actual_k * np.log(y_hats))\n",
        "        class_scores[k] = (-1.0 / actual.shape[0]) * sum_logs\n",
        "\n",
        "    return np.average(class_scores)"
      ],
      "metadata": {
        "id": "mGxxrdc-Iceb"
      },
      "execution_count": null,
      "outputs": []
    },
    {
      "cell_type": "code",
      "source": [
        "# Generate predictions: predictions\n",
        "predictions = clf.predict_proba(holdout[NUMERIC_COLUMNS].fillna(-1000))\n",
        "\n",
        "# Format predictions in DataFrame: prediction_df\n",
        "prediction_df = pd.DataFrame(columns=pd.get_dummies(df[LABELS]).columns,\n",
        "                             index=holdout.index,\n",
        "                             data=predictions)\n",
        "\n",
        "\n",
        "# Save prediction_df to csv\n",
        "prediction_df.to_csv('predictions.csv')\n",
        "\n",
        "# Submit the predictions for scoring: score\n",
        "score = score_submission(pred_path='predictions.csv')\n",
        "\n",
        "# Print score\n",
        "print('Your model, trained with numeric data only, yields logloss score: {}'.format(score))"
      ],
      "metadata": {
        "id": "KasZ2hpdJiug"
      },
      "execution_count": null,
      "outputs": []
    },
    {
      "cell_type": "markdown",
      "source": [
        "Even though your basic model scored 0.0 accuracy, it nevertheless performs better than the benchmark score of 2.0455. You've now got the basics down and have made a first pass at this complicated supervised learning problem. It's time to step up your game and incorporate the text data.\n",
        "\n",
        "# ***Tokenization***\n",
        "\n",
        "![image.png](data:image/png;base64,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)\n",
        "\n",
        "# ***Using `CountVectorizer()` on column of main dataset***"
      ],
      "metadata": {
        "id": "AwT33vskJmEu"
      }
    },
    {
      "cell_type": "code",
      "source": [
        "from sklearn.feature_extraction.text import CountVectorizer\n",
        "\n",
        "TOKENS_BASIC = '\\\\\\\\S+(?=\\\\\\\\s+)'\n",
        "df.Program_Description.fillna('', inplace=True)\n",
        "vec_basic = CountVectorizer(token_pattern=TOKENS_BASIC)\n",
        "\n",
        "vec_basic.fit(df.Program_Description)"
      ],
      "metadata": {
        "id": "uGzxYw32Jx-O"
      },
      "execution_count": null,
      "outputs": []
    },
    {
      "cell_type": "markdown",
      "source": [
        "\n",
        "\n",
        "```\n",
        "CountVectorizer(analyzer='word', binary=False, decode_error='strict',\n",
        "dtype=<class 'numpy.int64'>, encoding='utf-8', input='content',\n",
        "lowercase=True, max_df=1.0, max_features=None, min_df=1,\n",
        "ngram_range=(1, 1), preprocessor=None, stop_words=None,\n",
        "strip_accents=None, token_pattern='\\\\S+(?=\\\\s+)',\n",
        "tokenizer=None, vocabulary=None)\n",
        "```\n",
        "\n"
      ],
      "metadata": {
        "id": "1ywMb4neORCY"
      }
    },
    {
      "cell_type": "code",
      "source": [
        "msg = 'There are {} tokens in Program_Description if tokens are any non-whitespace'\n",
        "print(msg.format(len(vec_basic.get_feature_names())))"
      ],
      "metadata": {
        "id": "Yj-J4zqsOSiU"
      },
      "execution_count": null,
      "outputs": []
    },
    {
      "cell_type": "markdown",
      "source": [
        "\n",
        "\n",
        "```\n",
        "There are 157 tokens in Program_Description if tokens are any non-whitespace.\n",
        "```\n",
        "### ***Creating a bag-of-words in scikit-learn***\n",
        "\n",
        "In this exercise, you'll study the effects of tokenizing in different ways by comparing the bag-of-words representations resulting from different token patterns.\n",
        "\n",
        "You will focus on one feature only, the `Position_Extra` column, which describes any additional information not captured by the `Position_Type` label.\n",
        "\n",
        "* For example, in the Shell you can check out the budget item in row `8960` of the data using `df.loc[8960]`. \n",
        "\n",
        "\n",
        "\n",
        "```\n",
        "Function                                         Student Transportation\n",
        "Use                                                                 O&M\n",
        "Sharing                                                 Shared Services\n",
        "Reporting                                                    Non-School\n",
        "Student_Type                                                Unspecified\n",
        "Position_Type                                                     Other\n",
        "Object_Type                                  Other Compensation/Stipend\n",
        "Pre_K                                                          Non PreK\n",
        "Operating_Status                                      PreK-12 Operating\n",
        "Object_Description        Extra Duty Pay/Overtime For Support Personnel\n",
        "Text_2                                                              NaN\n",
        "SubFund_Description                                          Operations\n",
        "Job_Title_Description                     TRANSPORTATION,BUS DR., RADIO\n",
        "Text_3                                                              NaN\n",
        "Text_4                                     transportation - Second Runs\n",
        "Sub_Object_Description    Extra Duty Pay/Overtime For Support Personnel\n",
        "Location_Description                                        Unallocated\n",
        "FTE                                                                 NaN\n",
        "Function_Description                                     Transportation\n",
        "Facility_or_Department                        Transportation Department\n",
        "Position_Extra                                               BUS DRIVER\n",
        "Total                                                           1752.45\n",
        "Program_Description                                       Undistributed\n",
        "Fund_Description                                 General Operating Fund\n",
        "Text_1                                                    EXTENDED DAYS\n",
        "Name: 8960, dtype: object\n",
        "```\n",
        "\n",
        "\n",
        "\n",
        "\n",
        "Looking at the output reveals that this `Object_Description` is overtime pay. For who? The Position Type is merely `\"other\"`, but the Position Extra elaborates: `\"BUS DRIVER\"`. Explore the column further to see more instances. It has a lot of `NaN` values.\n",
        "\n",
        "Your task is to turn the raw text in this column into a bag-of-words representation by creating tokens that contain only alphanumeric characters.\n",
        "\n",
        "For comparison purposes, the first 15 tokens of `vec_basic`, which splits `df.Position_Extra` into tokens when it encounters only whitespace characters, have been printed along with the length of the representation.\n",
        "\n",
        "* Fill missing values in `df.Position_Extra` using **`.fillna('')`** to replace `NaN`s with empty strings. Specify the additional keyword argument **`inplace=True`** so that you don't have to assign the result back to `df`.\n",
        "\n",
        "* Instantiate the **`CountVectorizer`** as `vec_alphanumeric` by specifying the `token_pattern` to be `TOKENS_ALPHANUMERIC`.\n",
        "\n",
        "* Fit `vec_alphanumeric` to `df.Position_Extra`.\n",
        "\n",
        "* Hit submit to see the len of the fitted representation as well as the first 15 elements, and compare to `vec_basic`.\n"
      ],
      "metadata": {
        "id": "kqGySI9COXrf"
      }
    },
    {
      "cell_type": "code",
      "source": [
        "from sklearn.feature_extraction.text import CountVectorizer\n",
        "\n",
        "# Create the token pattern: TOKENS_ALPHANUMERIC\n",
        "TOKENS_ALPHANUMERIC = '[A-Za-z0-9]+(?=\\\\s+)'\n",
        "\n",
        "# Fill missing values in df.Position_Extra\n",
        "df.Position_Extra.fillna('', inplace=True)\n",
        "\n",
        "# Instantiate the CountVectorizer: vec_alphanumeric\n",
        "vec_alphanumeric = CountVectorizer(token_pattern=TOKENS_ALPHANUMERIC)\n",
        "\n",
        "# Fit to the data\n",
        "vec_alphanumeric.fit(df.Position_Extra)\n",
        "\n",
        "# Print the number of tokens and first 15 tokens\n",
        "msg = \"There are {} tokens in Position_Extra if we split on non-alpha numeric\"\n",
        "print(msg.format(len(vec_alphanumeric.get_feature_names())))\n",
        "print(vec_alphanumeric.get_feature_names()[:15])"
      ],
      "metadata": {
        "id": "Rr7HdYlYOazF"
      },
      "execution_count": null,
      "outputs": []
    },
    {
      "cell_type": "markdown",
      "source": [
        "\n",
        "\n",
        "```\n",
        "There are 135 tokens in Position_Extra if tokens are any non-whitespace\n",
        "\n",
        "['&', '(no', '-', '1st', '2nd', '3rd', 'a', 'ab', 'additional', 'adm', 'administrative', 'and', 'any', 'art', 'assessment']\n",
        "\n",
        "<script.py> output:\n",
        "    There are 123 tokens in Position_Extra if we split on non-alpha numeric\n",
        "    ['1st', '2nd', '3rd', 'a', 'ab', 'additional', 'adm', 'administrative', 'and', 'any', 'art', 'assessment', 'assistant', 'asst', 'athletic']\n",
        "```\n",
        "\n",
        "Treating only alpha-numeric characters as tokens gives you a smaller number of more meaningful tokens. You've got bag-of-words in the bag!\n",
        "\n",
        "### ***Combining text columns for tokenization***\n",
        "\n",
        "In order to get a bag-of-words representation for all of the text data in our DataFrame, you must first convert the text data in each row of the DataFrame into a single string.\n",
        "\n",
        "In the previous exercise, this wasn't necessary because you only looked at one column of data, so each row was already just a single string. **`CountVectorizer`** expects each row to just be a single string, so in order to use all of the text columns, you'll need a method to turn a list of strings into a single string.\n",
        "\n",
        "In this exercise, you'll complete the function definition `combine_text_columns()`. When completed, this function will convert all training text data in your DataFrame to a single string per row that can be passed to the vectorizer object and made into a bag-of-words using the **`.fit_transform()`** method.\n",
        "\n",
        "Note that the function uses `NUMERIC_COLUMNS` and `LABELS` to determine which columns to drop. These lists have been loaded into the workspace.\n",
        "\n",
        "* Use the **`.drop()` method on `data_frame` with `to_drop` and `axis=` as arguments to drop the non-text data. Save the result as `text_data`.\n",
        "\n",
        "* Fill in missing values (inplace) in `text_data` with blanks (`\"\"`), using the **`.fillna()`** method.\n",
        "\n",
        "* Complete the **`.apply()`** method by writing a lambda function that uses the **`.join()`** method to join all the items in a row with a space in between.\n",
        "\n"
      ],
      "metadata": {
        "id": "Pd-wz5xcRAML"
      }
    },
    {
      "cell_type": "code",
      "source": [
        "# Define combine_text_columns()\n",
        "NUMERIC_COLUMNS = ['FTE', 'Total']\n",
        "LABELS = ['Function',  'Use', 'Sharing', 'Reporting', 'Student_Type', 'Position_Type', 'Object_Type', 'Pre_K', 'Operating_Status']\n",
        "\n",
        "def combine_text_columns(data_frame, to_drop=NUMERIC_COLUMNS + LABELS):\n",
        "    \"\"\" converts all text in each row of data_frame to single vector \"\"\"\n",
        "    \n",
        "    # Drop non-text columns that are in the df\n",
        "    to_drop = set(to_drop) & set(data_frame.columns.tolist())\n",
        "    text_data = data_frame.drop(to_drop, axis=1)\n",
        "    \n",
        "    # Replace nans with blanks\n",
        "    text_data.fillna('', inplace=True)\n",
        "    \n",
        "    # Join all text items in a row that have a space in between\n",
        "    return text_data.apply(lambda x: \" \".join(x), axis=1)"
      ],
      "metadata": {
        "id": "BQihbBRKS_Z0"
      },
      "execution_count": 11,
      "outputs": []
    },
    {
      "cell_type": "markdown",
      "source": [
        "### ***What's in a token?***\n",
        "\n",
        "Now you will use `combine_text_columns` to convert all training text data in your DataFrame to a single vector that can be passed to the vectorizer object and made into a bag-of-words using the **`.fit_transform()`** method.\n",
        "\n",
        "You'll compare the effect of tokenizing using any non-whitespace characters as a token and using only alphanumeric characters as a token.\n",
        "\n",
        "\n",
        "\n",
        "* Instantiate `vec_basic` and `vec_alphanumeric` using, respectively, the `TOKENS_BASIC` and `TOKENS_ALPHANUMERIC` patterns.\n",
        "\n",
        "* Create the text vector by using the `combine_text_columns()` function on `df`.\n",
        "\n",
        "* Using the **`.fit_transform()`** method with `text_vector`, fit and transform first `vec_basic` and then `vec_alphanumeric`. Print the number of tokens they contain."
      ],
      "metadata": {
        "id": "ETLEZjnxTbs-"
      }
    },
    {
      "cell_type": "markdown",
      "source": [
        "\n",
        "\n",
        "```\n",
        "df = \n",
        "\n",
        "                                               Function                          Use                    Sharing   Reporting       Student_Type            Position_Type  ...      Facility_or_Department                Position_Extra          Total                                Program_Description                                   Fund_Description                          Text_1\n",
        "198                                            NO_LABEL                     NO_LABEL                   NO_LABEL    NO_LABEL           NO_LABEL                 NO_LABEL  ...                         NaN                           NaN   -8291.860000                                                NaN  Title I - Disadvantaged Children/Targeted Assi...              TITLE I CARRYOVER \n",
        "209                              Student Transportation                     NO_LABEL            Shared Services  Non-School           NO_LABEL                 NO_LABEL  ...                         NaN                           NaN     618.290000                               PUPIL TRANSPORTATION                                       General Fund                             NaN\n",
        "750                                Teacher Compensation                  Instruction            School Reported      School        Unspecified                  Teacher  ...                         NaN                       TEACHER   49768.820000                              Instruction - Regular                             General Purpose School                             NaN\n",
        "931                                            NO_LABEL                     NO_LABEL                   NO_LABEL    NO_LABEL           NO_LABEL                 NO_LABEL  ...  Instruction And Curriculum                           NaN      -1.020000  \"Title I, Part A Schoolwide Activities Related...                             General Operating Fund                             NaN\n",
        "1524                                           NO_LABEL                     NO_LABEL                   NO_LABEL    NO_LABEL           NO_LABEL                 NO_LABEL  ...                         NaN                           NaN    2304.430000                                                NaN  Title I - Disadvantaged Children/Targeted Assi...             TITLE I PI+HOMELESS\n",
        "\n",
        "combine_text_columns(df) = \n",
        "\n",
        "198       Supplemental *  Operation and Maintenance of P...\n",
        "209       REPAIR AND MAINTENANCE SERVICES  PUPIL TRANSPO...\n",
        "750       Personal Services - Teachers   TCHER 5TH GRADE...\n",
        "931       General Supplies      General Supplies  Instru...\n",
        "1524      Supplies and Materials  Community Services    ...\n",
        "\n",
        "```\n",
        "\n",
        "## ไปแหกตาดู to_drop ข้างบน ดีๆ \n",
        "\n",
        "\n",
        "\n",
        "```\n",
        "df.loc[198] = \n",
        "\n",
        "Function                                                           NO_LABEL\n",
        "Use                                                                NO_LABEL\n",
        "Sharing                                                            NO_LABEL\n",
        "Reporting                                                          NO_LABEL\n",
        "Student_Type                                                       NO_LABEL\n",
        "Position_Type                                                      NO_LABEL\n",
        "Object_Type                                                        NO_LABEL\n",
        "Pre_K                                                              NO_LABEL\n",
        "Operating_Status                                              Non-Operating\n",
        "Object_Description                                           Supplemental *\n",
        "Text_2                                                                  NaN\n",
        "SubFund_Description             Operation and Maintenance of Plant Services\n",
        "Job_Title_Description                                                   NaN\n",
        "Text_3                                                                  NaN\n",
        "Text_4                                                                  NaN\n",
        "Sub_Object_Description                  Non-Certificated Salaries And Wages\n",
        "Location_Description                                                    NaN\n",
        "FTE                                                                     NaN\n",
        "Function_Description                   Care and Upkeep of Building Services\n",
        "Facility_or_Department                                                  NaN\n",
        "Position_Extra                                                          NaN\n",
        "Total                                                              -8291.86\n",
        "Program_Description                                                     NaN\n",
        "Fund_Description          Title I - Disadvantaged Children/Targeted Assi...\n",
        "Text_1                                                   TITLE I CARRYOVER \n",
        "Name: 198, dtype: object\n",
        "```\n",
        "\n",
        "\n"
      ],
      "metadata": {
        "id": "gG8-cRAbUYk-"
      }
    },
    {
      "cell_type": "code",
      "source": [
        "from sklearn.feature_extraction.text import CountVectorizer\n",
        "\n",
        "# Create the basic token pattern\n",
        "TOKENS_BASIC = '\\\\S+(?=\\\\s+)'\n",
        "\n",
        "# Create the alphanumeric token pattern\n",
        "TOKENS_ALPHANUMERIC = '[A-Za-z0-9]+(?=\\\\s+)'\n",
        "\n",
        "# Instantiate basic CountVectorizer: vec_basic\n",
        "vec_basic = CountVectorizer(token_pattern=TOKENS_BASIC)\n",
        "\n",
        "# Instantiate alphanumeric CountVectorizer: vec_alphanumeric\n",
        "vec_alphanumeric = CountVectorizer(token_pattern=TOKENS_ALPHANUMERIC)\n",
        "\n",
        "# Create the text vector\n",
        "text_vector = combine_text_columns(df)\n",
        "\n",
        "# Fit and transform vec_basic\n",
        "vec_basic.fit_transform(text_vector)\n",
        "\n",
        "# Print number of tokens of vec_basic\n",
        "print(\"There are {} tokens in the dataset\".format(len(vec_basic.get_feature_names())))\n",
        "\n",
        "# Fit and transform vec_alphanumeric\n",
        "vec_alphanumeric.fit_transform(text_vector)\n",
        "\n",
        "# Print number of tokens of vec_alphanumeric\n",
        "print(\"There are {} alpha-numeric tokens in the dataset\".format(len(vec_alphanumeric.get_feature_names())))"
      ],
      "metadata": {
        "id": "WA4WCH4yUbeQ"
      },
      "execution_count": null,
      "outputs": []
    },
    {
      "cell_type": "markdown",
      "source": [
        "\n",
        "\n",
        "```\n",
        "<script.py> output:\n",
        "    There are 1404 tokens in the dataset\n",
        "    There are 1117 alpha-numeric tokens in the dataset\n",
        "```\n",
        "\n",
        "Notice that tokenizing on alpha-numeric tokens reduced the number of tokens, just as in the last exercise. We'll keep this in mind when building a better model with the Pipeline object next. \n",
        "\n",
        "# ***Pipeline***\n",
        "\n"
      ],
      "metadata": {
        "id": "5-bteL1pWVkJ"
      }
    },
    {
      "cell_type": "code",
      "source": [
        "pl = Pipeline([('clf', OneVsRestClassifier(LogisticRegression()))])"
      ],
      "metadata": {
        "id": "k2SQp6-PWdXF"
      },
      "execution_count": null,
      "outputs": []
    },
    {
      "cell_type": "markdown",
      "source": [
        "# ***Train and test with sample numeric data***"
      ],
      "metadata": {
        "id": "pp40oUxLDMwZ"
      }
    },
    {
      "cell_type": "code",
      "source": [
        "from sklearn.model_selection import train_test_split\n",
        "\n",
        "X_train, X_test, y_train, y_test = train_test_split(sample_df[['numeric']],\n",
        "                                                    pd.get_dummies(sample_df['label']), # มีได้หลายคอลัมน์\n",
        "                                                    random_state=2)\n",
        "pl.fit(X_train, y_train)\n",
        "accuracy = pl.score(X_test, y_test)\n",
        "print('accuracy on numeric data, no nans: ', accuracy)"
      ],
      "metadata": {
        "id": "4XIrJhezDObj"
      },
      "execution_count": null,
      "outputs": []
    },
    {
      "cell_type": "markdown",
      "source": [
        "\n",
        "\n",
        "```\n",
        "accuracy on numeric data, no nans: 0.44\n",
        "```\n",
        "\n",
        "# ***Adding more steps to the pipeline***"
      ],
      "metadata": {
        "id": "j2cLg9V2DyuW"
      }
    },
    {
      "cell_type": "code",
      "source": [
        "X_train, X_test, y_train, y_test = train_test_split(sample_df[['numeric','with_missing']], \n",
        "                                                    pd.get_dummies(sample_df['label']), \n",
        "                                                    random_state=2)\n",
        "pl.fit(X_train, y_train)"
      ],
      "metadata": {
        "id": "OllOdnktD7Ih"
      },
      "execution_count": null,
      "outputs": []
    },
    {
      "cell_type": "markdown",
      "source": [
        "\n",
        "\n",
        "```\n",
        "Traceback (most recent call last):\n",
        "...\n",
        "ValueError: Input contains NaN, infinity or a value too large for\n",
        "dtype('float64').\n",
        "```\n",
        "\n",
        "* เพราะว่า input มี `NaN`s\n",
        "\n",
        "# ***Preprocessing numeric features with missing data***"
      ],
      "metadata": {
        "id": "gzd26QhfEH3o"
      }
    },
    {
      "cell_type": "code",
      "source": [
        "from sklearn.preprocessing import Imputer\n",
        "\n",
        "X_train, X_test, y_train, y_test = train_test_split(sample_df[['numeric', 'with_missing']],\n",
        "                                                    pd.get_dummies(sample_df['label']),\n",
        "                                                    random_state=2)\n",
        "\n",
        "pl = Pipeline([('imp', Imputer()),\n",
        "               ('clf', OneVsRestClassifier(LogisticRegression()))\n",
        "               ])\n",
        "\n",
        "pl.fit(X_train, y_train)\n",
        "accuracy = pl.score(X_test, y_test)\n",
        "print('accuracy on all numeric, incl nans: ', accuracy)"
      ],
      "metadata": {
        "id": "xJWd862zEMBX"
      },
      "execution_count": null,
      "outputs": []
    },
    {
      "cell_type": "markdown",
      "source": [
        "\n",
        "\n",
        "```\n",
        "accuracy on all numeric, incl nans: 0.48\n",
        "```\n",
        "\n",
        "# ***Instantiate pipeline***\n",
        "\n",
        "In order to make your life easier as you start to work with all of the data in your original DataFrame, `df`, it's time to turn to one of scikit-learn's most useful objects: the **`Pipeline`**.\n",
        "\n",
        "For the next few exercises, you'll reacquaint yourself with pipelines and train a classifier on some synthetic (sample) data of multiple datatypes before using the same techniques on the main dataset.\n",
        "\n",
        "The sample data is stored in the DataFrame, `sample_df`, which has three kinds of feature data: numeric, text, and numeric with missing values. It also has a label column with two classes, `a` and `b`.\n",
        "\n",
        "In this exercise, your job is to instantiate a pipeline that trains using the numeric column of the sample data.\n",
        "\n",
        "* Create training and test sets using the numeric data only. Do this by specifying `sample_df[['numeric']]` in **`train_test_split()`**.\n",
        "\n",
        "* Instantiate a pipeline as `pl` by adding the classifier step. Use a name of `'clf'` and the same classifier from Chapter 2: **`OneVsRestClassifier(LogisticRegression())`**.\n",
        "\n",
        "* Fit your pipeline to the training data and compute its accuracy to see it in action! Since this is toy data, you'll use the default scoring method for now. \n",
        "\n"
      ],
      "metadata": {
        "id": "_lb2H5GsE9ea"
      }
    },
    {
      "cell_type": "code",
      "source": [
        "from sklearn.pipeline import Pipeline\n",
        "from sklearn.model_selection import train_test_split\n",
        "from sklearn.linear_model import LogisticRegression\n",
        "from sklearn.multiclass import OneVsRestClassifier\n",
        "\n",
        "sample_df = pd.read_csv('sample_df.csv').drop(columns='Unnamed: 0')\n",
        "\n",
        "# Split and select numeric data only, no nans \n",
        "X_train, X_test, y_train, y_test = train_test_split(sample_df[['numeric']],\n",
        "                                                    pd.get_dummies(sample_df['label']), \n",
        "                                                    random_state=22)\n",
        "\n",
        "# Instantiate Pipeline object: pl\n",
        "pl = Pipeline([('clf', OneVsRestClassifier(LogisticRegression()))])\n",
        "\n",
        "# Fit the pipeline to the training data\n",
        "pl.fit(X_train, y_train)\n",
        "\n",
        "# Compute and print accuracy\n",
        "accuracy = pl.score(X_test, y_test)\n",
        "print(\"\\nAccuracy on sample data - numeric, no nans: \", accuracy) "
      ],
      "metadata": {
        "colab": {
          "base_uri": "https://localhost:8080/"
        },
        "id": "t4TCYbtHE-yM",
        "outputId": "4bab0fe9-ed81-495c-cf0d-aafd847dbcc0"
      },
      "execution_count": 3,
      "outputs": [
        {
          "output_type": "stream",
          "name": "stdout",
          "text": [
            "\n",
            "Accuracy on sample data - numeric, no nans:  0.62\n"
          ]
        }
      ]
    },
    {
      "cell_type": "markdown",
      "source": [
        "### ***Preprocessing numeric features***\n",
        "\n",
        "What would have happened if you had included the with `'with_missing'` column in the last exercise? Without imputing missing values, the pipeline would not be happy (try it and see). So, in this exercise you'll improve your pipeline a bit by using the **`Imputer()`** imputation transformer from scikit-learn to fill in missing values in your sample data.\n",
        "\n",
        "By default, the imputer transformer replaces `NaNs` with the ***mean*** value of the column. That's a good enough imputation strategy for the sample data, so you won't need to pass anything extra to the imputer.\n",
        "\n",
        "After importing the transformer, you will edit the steps list used in the previous exercise by inserting a `(name, transform)` tuple. Recall that steps are processed sequentially, so make sure the new tuple encoding your preprocessing step is put in the right place.\n",
        "\n",
        "The `sample_df` is in the workspace, in case you'd like to take another look. Make sure to select both numeric columns- in the previous exercise we couldn't use `with_missing` because we had no preprocessing step!\n",
        "\n",
        "* Create training and test sets by selecting the correct subset of `sample_df`: `'numeric'` and `'with_missing'`.\n",
        "\n",
        "* Add the tuple `('imp', Imputer())` to the correct position in the pipeline. \n",
        "`Pipeline` processes steps sequentially, so the imputation step should come before the classifier step.\n",
        "\n",
        "* Complete the **`.fit()`** and **`.score()`** methods to fit the pipeline to the data and compute the accuracy."
      ],
      "metadata": {
        "id": "uQCIxB32SeWC"
      }
    },
    {
      "cell_type": "code",
      "source": [
        "# Import the Imputer object\n",
        "from sklearn.impute import SimpleImputer\n",
        "\n",
        "# Create training and test sets using only numeric data\n",
        "X_train, X_test, y_train, y_test = train_test_split(sample_df[['numeric', 'with_missing']],\n",
        "                                                    pd.get_dummies(sample_df['label']), \n",
        "                                                    random_state=456)\n",
        "\n",
        "# Insantiate Pipeline object: pl\n",
        "pl = Pipeline([\n",
        "        ('imp', SimpleImputer()),\n",
        "        ('clf', OneVsRestClassifier(LogisticRegression()))\n",
        "    ])\n",
        "\n",
        "# Fit the pipeline to the training data\n",
        "pl.fit(X_train, y_train)\n",
        "\n",
        "# Compute and print accuracy\n",
        "accuracy = pl.score(X_test, y_test)\n",
        "print(\"\\nAccuracy on sample data - all numeric, incl nans: \", accuracy)"
      ],
      "metadata": {
        "colab": {
          "base_uri": "https://localhost:8080/"
        },
        "id": "Ajj54XQ4SHni",
        "outputId": "d5dea30c-c579-43b9-d7a6-9f9c3f5ee942"
      },
      "execution_count": 8,
      "outputs": [
        {
          "output_type": "stream",
          "name": "stdout",
          "text": [
            "\n",
            "Accuracy on sample data - all numeric, incl nans:  0.636\n"
          ]
        }
      ]
    },
    {
      "cell_type": "markdown",
      "source": [
        "Now you know how to use preprocessing in pipelines with numeric data, and it looks like the accuracy has improved because of it! Text data preprocessing is next!\n",
        "\n",
        "# ***Preprocessing text features***"
      ],
      "metadata": {
        "id": "YspnCKiMUP6N"
      }
    },
    {
      "cell_type": "code",
      "source": [
        "from sklearn.feature_extraction.text import CountVectorizer\n",
        "\n",
        "X_train, X_test, y_train, y_test = train_test_split(sample_df['text'].fillna(''), \n",
        "                                                    pd.get_dummies(sample_df['label']),\n",
        "                                                    random_state=2)\n",
        "\n",
        "pl = Pipeline([('vec', CountVectorizer()),\n",
        "               ('clf', OneVsRestClassifier(LogisticRegression()))\n",
        "               ])\n",
        "\n",
        "pl.fit(X_train, y_train)\n",
        "accuracy = pl.score(X_test, y_test)\n",
        "print('accuracy on sample data: ', accuracy)"
      ],
      "metadata": {
        "colab": {
          "base_uri": "https://localhost:8080/"
        },
        "id": "mubNKsqFTz9c",
        "outputId": "dfe79ab8-31f4-42f1-a5ca-917405bc6a33"
      },
      "execution_count": 7,
      "outputs": [
        {
          "output_type": "stream",
          "name": "stdout",
          "text": [
            "accuracy on sample data:  0.848\n"
          ]
        }
      ]
    },
    {
      "cell_type": "code",
      "source": [
        "sample_df['text'].isnull().sum()"
      ],
      "metadata": {
        "colab": {
          "base_uri": "https://localhost:8080/"
        },
        "id": "OYsfPup7_W9T",
        "outputId": "7660eebc-c11f-4123-f324-5b3170df3ace"
      },
      "execution_count": 6,
      "outputs": [
        {
          "output_type": "execute_result",
          "data": {
            "text/plain": [
              "0"
            ]
          },
          "metadata": {},
          "execution_count": 6
        }
      ]
    },
    {
      "cell_type": "markdown",
      "source": [
        "# ***Preprocessing multiple dtypes***\n",
        "\n",
        "* Problem\n",
        "  * Pipeline steps for numeric and text preprocessing can't\n",
        "follow each other\n",
        "  * e.g., output of **`CountVectorizer`** can't be input to **`Imputer`**\n",
        "\n",
        "## **ต้องมาทำแยก คอลัมน์ที่เป็น text กับคอลัมน์ที่เป็นตัวเลข**\n",
        "\n",
        "* Solution\n",
        "  * **`FunctionTransformer()`** & **`FeatureUnion()`**"
      ],
      "metadata": {
        "id": "WT5GgFij_z04"
      }
    },
    {
      "cell_type": "code",
      "source": [
        "from sklearn.preprocessing import FunctionTransformer\n",
        "from sklearn.pipeline import FeatureUnion\n",
        "\n",
        "X_train, X_test, y_train, y_test = train_test_split(sample_df[['numeric', 'with_missing', 'text']], \n",
        "                                                    pd.get_dummies(sample_df['label']), \n",
        "                                                    random_state=2)\n",
        "\n",
        "# สร้าง FunctionTransformer() 2 ตัว\n",
        "\n",
        "get_text_data = FunctionTransformer(lambda x: x['text'], validate=False)\n",
        "get_numeric_data = FunctionTransformer(lambda x: x[['numeric', 'with_missing']], validate=False)"
      ],
      "metadata": {
        "id": "FdFfI1_b_dq8"
      },
      "execution_count": null,
      "outputs": []
    },
    {
      "cell_type": "markdown",
      "source": [
        "* **`validate=False`** หมายถึงไม่ต้องตรวจสอบค่า NaNs หรือประเภทของข้อมูลว่าเป็นชนิดไหน\n",
        "\n",
        "# ***FeatureUnion Text and Numeric Features***"
      ],
      "metadata": {
        "id": "F3cW3eGNByz7"
      }
    },
    {
      "cell_type": "code",
      "source": [
        "from sklearn.pipeline import FeatureUnion\n",
        "\n",
        "numeric_pipeline = Pipeline([('selector', get_numeric_data),\n",
        "                             ('imputer', Imputer())\n",
        "                             ])\n",
        "\n",
        "text_pipeline = Pipeline([('selector', get_text_data),\n",
        "                          ('vectorizer', CountVectorizer())\n",
        "                          ])\n",
        "\n",
        "union = FeatureUnion([('numeric', numeric_pipeline), ('text', text_pipeline)])\n",
        "\n",
        "pl = Pipeline([('union', FeatureUnion([('numeric', numeric_pipeline),('text', text_pipeline)])),\n",
        "               ('clf', OneVsRestClassifier(LogisticRegression()))\n",
        "               ])"
      ],
      "metadata": {
        "id": "NU6C2e-bA_wV"
      },
      "execution_count": null,
      "outputs": []
    },
    {
      "cell_type": "markdown",
      "source": [
        "### ***Preprocessing text features***\n",
        "\n",
        "Here, you'll perform a similar preprocessing pipeline step, only this time you'll use the text column from the sample data.\n",
        "\n",
        "To preprocess the text, you'll turn to **`CountVectorizer()`** to generate a bag-of-words representation of the data. Using the default arguments, add a `(step, transform)` tuple to the steps list in your pipeline.\n",
        "\n",
        "Make sure you select only the `text` column for splitting your training and test sets.\n",
        "\n",
        "As usual, your `sample_df` is ready and waiting in the workspace.\n",
        "\n",
        "* Create training and test sets by selecting the correct subset of `sample_df`: `'text'`.\n",
        "\n",
        "* Add the `CountVectorizer` step (with the name `'vec'`) to the correct position in the pipeline.\n",
        "\n",
        "* Fit the pipeline to the training data and compute its accuracy.\n"
      ],
      "metadata": {
        "id": "8zciEduwDKYJ"
      }
    },
    {
      "cell_type": "code",
      "source": [
        "from sklearn.feature_extraction.text import CountVectorizer\n",
        "\n",
        "# Split out only the text data\n",
        "X_train, X_test, y_train, y_test = train_test_split(sample_df['text'].fillna(''),\n",
        "                                                    pd.get_dummies(sample_df['label']), \n",
        "                                                    random_state=456)\n",
        "\n",
        "# Instantiate Pipeline object: pl\n",
        "pl = Pipeline([('vec', CountVectorizer()),\n",
        "               ('clf', OneVsRestClassifier(LogisticRegression()))\n",
        "               ])\n",
        "\n",
        "# Fit to the training data\n",
        "pl.fit(X_train, y_train)\n",
        "\n",
        "# Compute and print accuracy\n",
        "accuracy = pl.score(X_test, y_test)\n",
        "print(\"\\nAccuracy on sample data - just text data: \", accuracy)\n"
      ],
      "metadata": {
        "colab": {
          "base_uri": "https://localhost:8080/"
        },
        "id": "gb3-9JACDqTa",
        "outputId": "e9a2b960-2319-4755-ac48-15cb13733393"
      },
      "execution_count": 13,
      "outputs": [
        {
          "output_type": "stream",
          "name": "stdout",
          "text": [
            "\n",
            "Accuracy on sample data - just text data:  0.808\n"
          ]
        }
      ]
    },
    {
      "cell_type": "markdown",
      "source": [
        "Looks like you're ready to create a pipeline for processing multiple datatypes!\n",
        "\n",
        "### ***Multiple types of processing: FunctionTransformer***\n",
        "\n",
        "The next two exercises will introduce new topics you'll need to make your pipeline truly excel.\n",
        "\n",
        "Any step in the pipeline must be an object that implements the fit and transform methods. The **`FunctionTransformer`** creates an object with these methods out of any Python function that you pass to it. We'll use it to help select subsets of data in a way that plays nicely with pipelines.\n",
        "\n",
        "You are working with numeric data that needs imputation, and text data that needs to be converted into a bag-of-words. You'll create functions that separate the text from the numeric variables and see how the **`.fit()`** and **`.transform()`** methods work.\n",
        "\n",
        "* Compute the selector `get_text_data` by using a `lambda` function and **`FunctionTransformer()`** to obtain all `'text'` columns.\n",
        "\n",
        "* Compute the selector `get_numeric_data` by using a `lambda` function and **`FunctionTransformer()`** to obtain all the numeric columns (including missing data). These are `'numeric'` and `'with_missing'`.\n",
        "\n",
        "* Fit and transform `get_text_data` using the **`.fit_transform()`** method with `sample_df` as the argument.\n",
        "\n",
        "* Fit and transform `get_numeric_data` using the same approach as above."
      ],
      "metadata": {
        "id": "2axhYwZ2EgIn"
      }
    },
    {
      "cell_type": "code",
      "source": [
        "sample_df['text'].fillna('', inplace=True)\n",
        "\n",
        "# Import FunctionTransformer\n",
        "from sklearn.preprocessing import FunctionTransformer\n",
        "\n",
        "# Obtain the text data: get_text_data\n",
        "get_text_data = FunctionTransformer(lambda x: x['text'], validate=False)\n",
        "\n",
        "# Obtain the numeric data: get_numeric_data\n",
        "get_numeric_data = FunctionTransformer(lambda x: x[['numeric', 'with_missing']], validate=False)\n",
        "\n",
        "# Fit and transform the text data: just_text_data\n",
        "just_text_data = get_text_data.fit_transform(sample_df)\n",
        "\n",
        "# Fit and transform the numeric data: just_numeric_data\n",
        "just_numeric_data = get_numeric_data.fit_transform(sample_df)\n",
        "\n",
        "# Print head to check results\n",
        "print('Text Data')\n",
        "print(just_text_data.head())\n",
        "print(\"\\n\")\n",
        "print('\\nNumeric Data')\n",
        "print(just_numeric_data.head())"
      ],
      "metadata": {
        "colab": {
          "base_uri": "https://localhost:8080/"
        },
        "id": "A-fuI7tEETss",
        "outputId": "32f7a815-c665-4a84-ece1-a06faadf92ee"
      },
      "execution_count": 16,
      "outputs": [
        {
          "output_type": "stream",
          "name": "stdout",
          "text": [
            "Text Data\n",
            "0           \n",
            "1        foo\n",
            "2    foo bar\n",
            "3           \n",
            "4    foo bar\n",
            "Name: text, dtype: object\n",
            "\n",
            "\n",
            "\n",
            "Numeric Data\n",
            "     numeric  with_missing\n",
            "0 -10.856306      4.433240\n",
            "1   9.973454      4.310229\n",
            "2   2.829785      2.469828\n",
            "3 -15.062947      2.852981\n",
            "4  -5.786003      1.826475\n"
          ]
        }
      ]
    },
    {
      "cell_type": "markdown",
      "source": [
        "You can see in the shell that fit and transform are now available to the selectors. Let's put the selectors to work.\n",
        "\n",
        "# ***Multiple types of processing: FeatureUnion***\n",
        "\n",
        "Now that you can separate text and numeric data in your pipeline, you're ready to perform separate steps on each by nesting pipelines and using **`FeatureUnion()`**.\n",
        "\n",
        "These tools will allow you to streamline all preprocessing steps for your model, even when multiple datatypes are involved. Here, for example, you don't want to impute our text data, and you don't want to create a bag-of-words with our numeric data. Instead, you want to deal with these separately and then join the results together using **`FeatureUnion()`**.\n",
        "\n",
        "In the end, you'll still have only two high-level steps in your pipeline: preprocessing and model instantiation. The difference is that the first preprocessing step actually consists of a pipeline for numeric data and a pipeline for text data. The results of those pipelines are joined using **`FeatureUnion()`**.\n",
        "\n",
        "* In the `process_and_join_features`:\n",
        "  * Add the steps `('selector', get_numeric_data)` and `('imputer', Imputer())` to the `'numeric_features'` preprocessing step.\n",
        "\n",
        "  * Add the equivalent steps for the `text_features` preprocessing step. That is, use `get_text_data` and a **`CountVectorizer`** step with the name `vectorizer`.\n",
        "\n",
        "* Add the transform step `process_and_join_features` to `'union'` in the main pipeline, `pl`.\n",
        "\n"
      ],
      "metadata": {
        "id": "aeSKs-QsGBc7"
      }
    },
    {
      "cell_type": "code",
      "source": [
        "sample_df = pd.read_csv('sample_df.csv').drop(columns='Unnamed: 0')\n",
        "sample_df['text'].fillna('', inplace=True)\n",
        "\n",
        "# Import FeatureUnion\n",
        "from sklearn.pipeline import FeatureUnion\n",
        "\n",
        "# Split using ALL data in sample_df\n",
        "X_train, X_test, y_train, y_test = train_test_split(sample_df[['numeric', 'with_missing', 'text']],\n",
        "                                                    pd.get_dummies(sample_df['label']), \n",
        "                                                    random_state=22)\n",
        "\n",
        "# Create a FeatureUnion with nested pipeline: process_and_join_features\n",
        "process_and_join_features = FeatureUnion(\n",
        "            transformer_list=[\n",
        "                ('numeric_features', Pipeline([\n",
        "                    ('selector', get_numeric_data),\n",
        "                    ('imputer', SimpleImputer())\n",
        "                ])),\n",
        "                ('text_features', Pipeline([\n",
        "                    ('selector', get_text_data),\n",
        "                    ('vectorizer', CountVectorizer())\n",
        "                ]))\n",
        "             ]\n",
        "        )\n",
        "\n",
        "# Instantiate nested pipeline: pl\n",
        "pl = Pipeline([\n",
        "        ('union', process_and_join_features),\n",
        "        ('clf', OneVsRestClassifier(LogisticRegression()))\n",
        "    ])\n",
        "\n",
        "\n",
        "# Fit pl to the training data\n",
        "pl.fit(X_train, y_train)\n",
        "\n",
        "# Compute and print accuracy\n",
        "accuracy = pl.score(X_test, y_test)\n",
        "print(\"\\nAccuracy on sample data - all data: \", accuracy)\n"
      ],
      "metadata": {
        "colab": {
          "base_uri": "https://localhost:8080/"
        },
        "id": "MyIx7VwQFV92",
        "outputId": "5d0aa5fd-621c-4713-e9f1-8b6fbc4b87a4"
      },
      "execution_count": 18,
      "outputs": [
        {
          "output_type": "stream",
          "name": "stdout",
          "text": [
            "\n",
            "Accuracy on sample data - all data:  0.928\n"
          ]
        }
      ]
    },
    {
      "cell_type": "markdown",
      "source": [
        "You now know more about pipelines than many practicing data scientists. \n",
        "\n",
        "### ***Using FunctionTransformer on the main dataset***\n",
        "\n",
        "In this exercise you're going to use **`FunctionTransformer`** on the primary budget data, before instantiating a multiple-datatype pipeline in the next exercise.\n",
        "\n",
        "Recall  that you used a custom function `combine_text_columns` to select and properly format text data for tokenization; it is loaded into the workspace and ready to be put to work in a function transformer!\n",
        "\n",
        "Concerning the numeric data, you can use `NUMERIC_COLUMNS`, preloaded as usual, to help design a subset-selecting lambda function.\n",
        "\n",
        "You're all finished with sample data. The original `df` is back in the workspace, ready to use.\n",
        "\n",
        "\n",
        "* Complete the call to `multilabel_train_test_split()` by selecting `df[NON_LABELS]`.\n",
        "\n",
        "* Compute `get_text_data` by using **`FunctionTransformer()`** and passing in **`combine_text_columns`**. Be sure to also specify **`validate=False`**.\n",
        "\n",
        "* Use **`FunctionTransformer()`** to compute `get_numeric_data`. In the `lambda` function, select out the `NUMERIC_COLUMNS` of `x`. Like you did when computing `get_text_data`, also specify **`validate=False`**."
      ],
      "metadata": {
        "id": "lPAs0tMjH-2_"
      }
    },
    {
      "cell_type": "code",
      "source": [
        "from warnings import warn\n",
        "\n",
        "import numpy as np\n",
        "import pandas as pd\n",
        "\n",
        "def multilabel_sample(y, size=1000, min_count=5, seed=None):\n",
        "    \"\"\" Takes a matrix of binary labels `y` and returns\n",
        "        the indices for a sample of size `size` if\n",
        "        `size` > 1 or `size` * len(y) if size =< 1.\n",
        "        The sample is guaranteed to have > `min_count` of\n",
        "        each label.\n",
        "    \"\"\"\n",
        "    try:\n",
        "        if (np.unique(y).astype(int) != np.array([0, 1])).any():\n",
        "            raise ValueError()\n",
        "    except (TypeError, ValueError):\n",
        "        raise ValueError('multilabel_sample only works with binary indicator matrices')\n",
        "\n",
        "    if (y.sum(axis=0) < min_count).any():\n",
        "        raise ValueError('Some classes do not have enough examples. Change min_count if necessary.')\n",
        "\n",
        "    if size <= 1:\n",
        "        size = np.floor(y.shape[0] * size)\n",
        "\n",
        "    if y.shape[1] * min_count > size:\n",
        "        msg = \"Size less than number of columns * min_count, returning {} items instead of {}.\"\n",
        "        warn(msg.format(y.shape[1] * min_count, size))\n",
        "        size = y.shape[1] * min_count\n",
        "\n",
        "    rng = np.random.RandomState(seed if seed is not None else np.random.randint(1))\n",
        "\n",
        "    if isinstance(y, pd.DataFrame):\n",
        "        choices = y.index\n",
        "        y = y.values\n",
        "    else:\n",
        "        choices = np.arange(y.shape[0])\n",
        "\n",
        "    sample_idxs = np.array([], dtype=choices.dtype)\n",
        "\n",
        "    # first, guarantee > min_count of each label\n",
        "    for j in range(y.shape[1]):\n",
        "        label_choices = choices[y[:, j] == 1]\n",
        "        label_idxs_sampled = rng.choice(label_choices, size=min_count, replace=False)\n",
        "        sample_idxs = np.concatenate([label_idxs_sampled, sample_idxs])\n",
        "\n",
        "    sample_idxs = np.unique(sample_idxs)\n",
        "\n",
        "    # now that we have at least min_count of each, we can just random sample\n",
        "    sample_count = int(size - sample_idxs.shape[0])\n",
        "\n",
        "    # get sample_count indices from remaining choices\n",
        "    remaining_choices = np.setdiff1d(choices, sample_idxs)\n",
        "    remaining_sampled = rng.choice(remaining_choices,\n",
        "                                   size=sample_count,\n",
        "                                   replace=False)\n",
        "\n",
        "    return np.concatenate([sample_idxs, remaining_sampled])\n",
        "\n",
        "\n",
        "def multilabel_sample_dataframe(df, labels, size, min_count=5, seed=None):\n",
        "    \"\"\" Takes a dataframe `df` and returns a sample of size `size` where all\n",
        "        classes in the binary matrix `labels` are represented at\n",
        "        least `min_count` times.\n",
        "    \"\"\"\n",
        "    idxs = multilabel_sample(labels, size=size, min_count=min_count, seed=seed)\n",
        "    return df.loc[idxs]\n",
        "\n",
        "\n",
        "def multilabel_train_test_split(X, Y, size, min_count=5, seed=None):\n",
        "    \"\"\" Takes a features matrix `X` and a label matrix `Y` and\n",
        "        returns (X_train, X_test, Y_train, Y_test) where all\n",
        "        classes in Y are represented at least `min_count` times.\n",
        "    \"\"\"\n",
        "    index = Y.index if isinstance(Y, pd.DataFrame) else np.arange(Y.shape[0])\n",
        "\n",
        "    test_set_idxs = multilabel_sample(Y, size=size, min_count=min_count, seed=seed)\n",
        "    train_set_idxs = np.setdiff1d(index, test_set_idxs)\n",
        "\n",
        "    test_set_mask = index.isin(test_set_idxs)\n",
        "    train_set_mask = ~test_set_mask\n",
        "\n",
        "    return (X[train_set_mask], X[test_set_mask], Y[train_set_mask], Y[test_set_mask])\n",
        "\n",
        "def combine_text_columns(data_frame, to_drop=NUMERIC_COLUMNS + LABELS):\n",
        "    \"\"\" Takes the dataset as read in, drops the non-feature, non-text columns and\n",
        "        then combines all of the text columns into a single vector that has all of\n",
        "        the text for a row.\n",
        "        \n",
        "        :param data_frame: The data as read in with read_csv (no preprocessing necessary)\n",
        "        :param to_drop (optional): Removes the numeric and label columns by default.\n",
        "    \"\"\"\n",
        "    # drop non-text columns that are in the df\n",
        "    to_drop = set(to_drop) & set(data_frame.columns.tolist())\n",
        "    text_data = data_frame.drop(to_drop, axis=1)\n",
        "    \n",
        "    # replace nans with blanks\n",
        "    text_data.fillna(\"\", inplace=True)\n",
        "    \n",
        "    # joins all of the text items in a row (axis=1)\n",
        "    # with a space in between\n",
        "    return text_data.apply(lambda x: \" \".join(x), axis=1)"
      ],
      "metadata": {
        "id": "V4xDeMLbbsO0"
      },
      "execution_count": 22,
      "outputs": []
    },
    {
      "cell_type": "code",
      "source": [
        "LABELS = ['Function', 'Use', 'Sharing', 'Reporting', 'Student_Type', 'Position_Type', 'Object_Type', 'Pre_K', 'Operating_Status']"
      ],
      "metadata": {
        "id": "TvCqOElwcDQ9"
      },
      "execution_count": 21,
      "outputs": []
    },
    {
      "cell_type": "code",
      "source": [
        "NON_LABELS = [c for c in df.columns if c not in LABELS]\n",
        "NON_LABELS"
      ],
      "metadata": {
        "id": "SF6d8oH9aNF3"
      },
      "execution_count": null,
      "outputs": []
    },
    {
      "cell_type": "markdown",
      "source": [
        "\n",
        "\n",
        "```\n",
        "['Object_Description',\n",
        " 'Text_2',\n",
        " 'SubFund_Description',\n",
        " 'Job_Title_Description',\n",
        " 'Text_3',\n",
        " 'Text_4',\n",
        " 'Sub_Object_Description',\n",
        " 'Location_Description',\n",
        " 'FTE',\n",
        " 'Function_Description',\n",
        " 'Facility_or_Department',\n",
        " 'Position_Extra',\n",
        " 'Total',\n",
        " 'Program_Description',\n",
        " 'Fund_Description',\n",
        " 'Text_1']\n",
        "```\n",
        "\n"
      ],
      "metadata": {
        "id": "wkGjqbzmaY96"
      }
    },
    {
      "cell_type": "code",
      "source": [
        "NUMERIC_COLUMNS = ['FTE', 'Total']"
      ],
      "metadata": {
        "id": "ms9blDsqaeC2"
      },
      "execution_count": 20,
      "outputs": []
    },
    {
      "cell_type": "code",
      "source": [
        "from sklearn.preprocessing import FunctionTransformer\n",
        "\n",
        "# Get the dummy encoding of the labels\n",
        "dummy_labels = pd.get_dummies(df[LABELS])\n",
        "\n",
        "# Get the columns that are features in the original df\n",
        "NON_LABELS = [c for c in df.columns if c not in LABELS]\n",
        "\n",
        "# Split into training and test sets\n",
        "X_train, X_test, y_train, y_test = multilabel_train_test_split(df[NON_LABELS],\n",
        "                                                               dummy_labels,\n",
        "                                                               0.2, \n",
        "                                                               seed=123)\n",
        "\n",
        "# Preprocess the text data: get_text_data\n",
        "get_text_data = FunctionTransformer(combine_text_columns, validate=False)\n",
        "\n",
        "# Preprocess the numeric data: get_numeric_data\n",
        "get_numeric_data = FunctionTransformer(lambda x: x[NUMERIC_COLUMNS], validate=False)\n"
      ],
      "metadata": {
        "id": "pkMd8gNXbLT7"
      },
      "execution_count": null,
      "outputs": []
    },
    {
      "cell_type": "markdown",
      "source": [
        "### ***Add a model to the pipeline***\n",
        "\n",
        "You're about to take everything you've learned so far and implement it in a `Pipeline` that works with the real, [DrivenData](https://www.drivendata.org/) budget line item data you've been exploring.\n",
        "\n",
        "Surprise! The structure of the pipeline is exactly the same as earlier in this chapter:\n",
        "\n",
        "* the **preprocessing step** uses **`FeatureUnion`** to join the results of nested pipelines that each rely on **`FunctionTransformer`** to select multiple datatypes\n",
        "\n",
        "* the **model step** stores the model object\n",
        "\n",
        "You can then call familiar methods like **`.fit()`** and **`.score()`** on the `Pipeline` object `pl`.\n",
        "\n",
        "* Complete the `'numeric_features'` transform with the following steps:\n",
        "  * `get_numeric_data`, with the name `'selector'`.\n",
        "  * `Imputer()`, with the name `'imputer'`.\n",
        "\n",
        "* Complete the `'text_features'` transform with the following steps:\n",
        "  * `get_text_data`, with the name `'selector'`.\n",
        "  * `CountVectorizer()`, with the name `'vectorizer'`.\n",
        "\n",
        "* Fit the pipeline to the training data.\n"
      ],
      "metadata": {
        "id": "KvUehrsXcPtB"
      }
    },
    {
      "cell_type": "code",
      "source": [
        "# Complete the pipeline: pl\n",
        "pl = Pipeline([\n",
        "        ('union', FeatureUnion(transformer_list=\n",
        "                               [('numeric_features', Pipeline([('selector', get_numeric_data),\n",
        "                                                               ('imputer', Imputer())\n",
        "                                                               ])), \n",
        "                                ('text_features', Pipeline([('selector', get_text_data),\n",
        "                                                            ('vectorizer', CountVectorizer())\n",
        "                                                            ]))\n",
        "                                ]\n",
        "                               )),\n",
        "        ('clf', OneVsRestClassifier(LogisticRegression()))\n",
        "    ])\n",
        "\n",
        "# Fit to the training data\n",
        "pl.fit(X_train, y_train)\n",
        "\n",
        "# Compute and print accuracy\n",
        "accuracy = pl.score(X_test, y_test)\n",
        "print(\"\\nAccuracy on budget dataset: \", accuracy)"
      ],
      "metadata": {
        "id": "2SU-Dc33dOUP"
      },
      "execution_count": null,
      "outputs": []
    },
    {
      "cell_type": "markdown",
      "source": [
        "\n",
        "\n",
        "```\n",
        " Accuracy on budget dataset:  0.20384615384615384\n",
        "```\n",
        "Now that you've built the entire pipeline, you can easily start trying out different models by just modifying the `'clf'` step.\n",
        "\n",
        "### ***Try a different class of model***\n",
        "\n",
        "Now you're cruising. One of the great strengths of pipelines is how easy they make the process of testing different models.\n",
        "\n",
        "Until now, you've been using the model step `('clf', OneVsRestClassifier(LogisticRegression()))` in your pipeline.\n",
        "\n",
        "But what if you want to try a different model? Do you need to build an entirely new pipeline? New nests? New FeatureUnions? Nope! You just have a simple one-line change, as you'll see in this exercise.\n",
        "\n",
        "In particular, you'll swap out the logistic-regression model and replace it with a random forest classifier, which uses the statistics of an ensemble of decision trees to generate predictions.\n",
        "\n",
        "* Import the **`RandomForestClassifier`** `from sklearn.ensemble`.\n",
        "* Add a **`RandomForestClassifier()`** step named `'clf'` to the pipeline.\n",
        "* Hit submit to fit the pipeline to the training data and compute its accuracy.\n",
        "\n"
      ],
      "metadata": {
        "id": "6RiC6F5meja2"
      }
    },
    {
      "cell_type": "code",
      "source": [
        "from sklearn.ensemble import RandomForestClassifier\n",
        "\n",
        "# Edit model step in pipeline\n",
        "pl = Pipeline([\n",
        "        ('union', FeatureUnion(\n",
        "            transformer_list = [\n",
        "                ('numeric_features', Pipeline([\n",
        "                    ('selector', get_numeric_data),\n",
        "                    ('imputer', Imputer())\n",
        "                ])),\n",
        "                ('text_features', Pipeline([\n",
        "                    ('selector', get_text_data),\n",
        "                    ('vectorizer', CountVectorizer())\n",
        "                ]))\n",
        "             ]\n",
        "        )),\n",
        "        ('clf', RandomForestClassifier())\n",
        "    ])\n",
        "\n",
        "# Fit to the training data\n",
        "pl.fit(X_train, y_train)\n",
        "\n",
        "# Compute and print accuracy\n",
        "accuracy = pl.score(X_test, y_test)\n",
        "print(\"\\nAccuracy on budget dataset: \", accuracy)"
      ],
      "metadata": {
        "id": "6x87wKwjfDR5"
      },
      "execution_count": null,
      "outputs": []
    },
    {
      "cell_type": "markdown",
      "source": [
        "\n",
        "\n",
        "```\n",
        "Accuracy on budget dataset:  0.2826923076923077\n",
        "```\n",
        "\n",
        "An accuracy improvement- amazing! All your work building the pipeline is paying off. It's now very simple to test different models!\n",
        "\n",
        "### ***Can you adjust the model or parameters to improve accuracy?***\n",
        "\n",
        "You just saw a substantial improvement in accuracy by swapping out the model. Pipelines are amazing!\n",
        "\n",
        "Can you make it better? Try changing the parameter **`n_estimators`** of **`RandomForestClassifier()`**, whose default value is `10`, to `15`.\n",
        "\n",
        "* Import the **`RandomForestClassifier`** `from sklearn.ensemble`.\n",
        "* Add a **`RandomForestClassifier()`** step with `n_estimators=15` to the pipeline with a name of `'clf'`.\n"
      ],
      "metadata": {
        "id": "VNl0PlEjfTr_"
      }
    },
    {
      "cell_type": "code",
      "source": [
        "from sklearn.ensemble import RandomForestClassifier\n",
        "# Add model step to pipeline: pl\n",
        "pl = Pipeline([\n",
        "        ('union', FeatureUnion(\n",
        "            transformer_list = [\n",
        "                ('numeric_features', Pipeline([\n",
        "                    ('selector', get_numeric_data),\n",
        "                    ('imputer', Imputer())\n",
        "                ])),\n",
        "                ('text_features', Pipeline([\n",
        "                    ('selector', get_text_data),\n",
        "                    ('vectorizer', CountVectorizer())\n",
        "                ]))\n",
        "             ]\n",
        "        )),\n",
        "        ('clf', RandomForestClassifier(n_estimators=15))\n",
        "    ])\n",
        "\n",
        "# Fit to the training data\n",
        "pl.fit(X_train, y_train)\n",
        "\n",
        "# Compute and print accuracy\n",
        "accuracy = pl.score(X_test, y_test)\n",
        "print(\"\\nAccuracy on budget dataset: \", accuracy)"
      ],
      "metadata": {
        "id": "0ogKxd2gfYrD"
      },
      "execution_count": null,
      "outputs": []
    },
    {
      "cell_type": "markdown",
      "source": [
        "It's time to get serious and work with the ***log loss*** metric. \n",
        "\n",
        "### ***Deciding what's a word***\n",
        "\n",
        "Before you build up to the winning pipeline, it will be useful to look a little deeper into how the text features will be processed.\n",
        "\n",
        "In this exercise, you will use **`CountVectorizer`** on the training data `X_train` (preloaded into the workspace) to see the effect of tokenization on punctuation.\n",
        "\n",
        "Remember, since **`CountVectorizer`** expects a vector, you'll need to use the preloaded function, `combine_text_columns` before fitting to the training data.\n",
        "\n",
        "* Create `text_vector` by preprocessing `X_train` using `combine_text_columns`. This is important, or else you won't get any tokens!\n",
        "\n",
        "* Instantiate **`CountVectorizer`** as `text_features`. Specify the keyword argument **`token_pattern=TOKENS_ALPHANUMERIC`**.\n",
        "\n",
        "* Fit `text_features` to the `text_vector`.\n",
        "* Print the first 10 tokens."
      ],
      "metadata": {
        "id": "m7YKK6Znf6ib"
      }
    },
    {
      "cell_type": "code",
      "source": [
        "X_train.head()"
      ],
      "metadata": {
        "id": "1phLp7VJgA9D"
      },
      "execution_count": null,
      "outputs": []
    },
    {
      "cell_type": "markdown",
      "source": [
        "\n",
        "\n",
        "```\n",
        "                   Object_Description Text_2                          SubFund_Description Job_Title_Description Text_3               Text_4               Sub_Object_Description  ...                  Function_Description      Facility_or_Department Position_Extra     Total                                Program_Description                                   Fund_Description                Text_1\n",
        "198                    Supplemental *    NaN  Operation and Maintenance of Plant Services                   NaN    NaN                  NaN  Non-Certificated Salaries And Wages  ...  Care and Upkeep of Building Services                         NaN            NaN  -8291.86                                                NaN  Title I - Disadvantaged Children/Targeted Assi...    TITLE I CARRYOVER \n",
        "209   REPAIR AND MAINTENANCE SERVICES    NaN                         PUPIL TRANSPORTATION                   NaN    NaN                  NaN                                  NaN  ...             STUDENT TRANSPORT SERVICE                         NaN            NaN    618.29                               PUPIL TRANSPORTATION                                       General Fund                   NaN\n",
        "750      Personal Services - Teachers    NaN                                          NaN       TCHER 5TH GRADE    NaN  Regular Instruction                                  NaN  ...                                   NaN                         NaN        TEACHER  49768.82                              Instruction - Regular                             General Purpose School                   NaN\n",
        "931                  General Supplies    NaN                                          NaN                   NaN    NaN                  NaN                     General Supplies  ...                           Instruction  Instruction And Curriculum            NaN     -1.02  \"Title I, Part A Schoolwide Activities Related...                             General Operating Fund                   NaN\n",
        "1524           Supplies and Materials    NaN                           Community Services                   NaN    NaN                  NaN               Supplies And Materials  ...            Other Community Services *                         NaN            NaN   2304.43                                                NaN  Title I - Disadvantaged Children/Targeted Assi...   TITLE I PI+HOMELESS\n",
        "\n",
        "\n",
        "```\n",
        "\n"
      ],
      "metadata": {
        "id": "xXLg12-Mondc"
      }
    },
    {
      "cell_type": "code",
      "source": [
        "combine_text_columns(X_train)"
      ],
      "metadata": {
        "id": "3LN7g80HpG1k"
      },
      "execution_count": null,
      "outputs": []
    },
    {
      "cell_type": "markdown",
      "source": [
        "\n",
        "\n",
        "```\n",
        "198       Supplemental *  Operation and Maintenance of P...\n",
        "209       REPAIR AND MAINTENANCE SERVICES  PUPIL TRANSPO...\n",
        "750       Personal Services - Teachers   TCHER 5TH GRADE...\n",
        "931       General Supplies      General Supplies  Instru...\n",
        "1524      Supplies and Materials  Community Services    ...\n",
        "1770      ATHLETIC SUPPLEMENTS             COACHING SUPP...\n",
        "```\n",
        "\n"
      ],
      "metadata": {
        "id": "e2H3x9C9pHiO"
      }
    },
    {
      "cell_type": "code",
      "source": [
        "# Import the CountVectorizer\n",
        "from sklearn.feature_extraction.text import CountVectorizer\n",
        "\n",
        "# Create the text vector\n",
        "text_vector = combine_text_columns(X_train)\n",
        "\n",
        "# Create the token pattern: TOKENS_ALPHANUMERIC\n",
        "TOKENS_ALPHANUMERIC = '[A-Za-z0-9]+(?=\\\\s+)'\n",
        "\n",
        "# Instantiate the CountVectorizer: text_features\n",
        "text_features = CountVectorizer(token_pattern=TOKENS_ALPHANUMERIC)\n",
        "\n",
        "# Fit text_features to the text vector\n",
        "text_features.fit(text_vector)\n",
        "\n",
        "# Print the first 10 tokens\n",
        "print(text_features.get_feature_names()[:10])"
      ],
      "metadata": {
        "id": "gATkZYoSpN1H"
      },
      "execution_count": null,
      "outputs": []
    },
    {
      "cell_type": "markdown",
      "source": [
        "\n",
        "\n",
        "```\n",
        " ['00a', '12', '1st', '2nd', '3rd', '5th', '70', '70h', '8', 'a']\n",
        "```\n",
        "### ***N-gram range in scikit-learn***\n",
        "\n",
        "In this exercise you'll insert a **`CountVectorizer`** instance into your pipeline for the main dataset, and compute multiple n-gram features to be used in the model.\n",
        "\n",
        "In order to look for ngram relationships at multiple scales, you will use the **`ngram_range`** parameter.\n",
        "\n",
        "**Special functions**: You'll notice a couple of new steps provided in the pipeline in this and many of the remaining exercises. Specifically, the `dim_red` step following the `vectorizer` step , and the `scale` step preceeding the `clf` (classification) step.\n",
        "\n",
        "These have been added in order to account for the fact that you're using a reduced-size sample of the full dataset. To make sure the models perform as the expert competition winner intended, we have to apply a **dimensionality reduction** technique, which is what the `dim_red` step does, and we have to scale the features to lie between -1 and 1, which is what the `scale` step does.\n",
        "\n",
        "The `dim_red` step uses a scikit-learn function called **`SelectKBest()`**, applying something called the chi-squared test to select the `K` \"best\" features. The `scale` step uses a scikit-learn function called **`MaxAbsScaler()`** in order to squash the relevant features into the interval -1 to 1.\n",
        "\n",
        "You won't need to do anything extra with these functions here, just complete the vectorizing pipeline steps below. However, notice how easy it was to add more processing steps to our pipeline!\n",
        "\n",
        "* Add a **`CountVectorizer`** step to the pipeline with the name `'vectorizer'`.\n",
        "* Set the token pattern to be `TOKENS_ALPHANUMERIC`.\n",
        "* Set the **`ngram_range`** to be `(1, 2)`.\n"
      ],
      "metadata": {
        "id": "4qyPtOSjpUJc"
      }
    },
    {
      "cell_type": "code",
      "source": [
        "# Import pipeline\n",
        "from sklearn.metrics import log_loss\n",
        "from sklearn.pipeline import Pipeline\n",
        "\n",
        "# Import classifiers\n",
        "from sklearn.linear_model import LogisticRegression\n",
        "from sklearn.multiclass import OneVsRestClassifier\n",
        "\n",
        "# Import CountVectorizer\n",
        "from sklearn.feature_extraction.text import CountVectorizer\n",
        "\n",
        "# Import other preprocessing modules\n",
        "from sklearn.preprocessing import Imputer\n",
        "from sklearn.feature_selection import chi2, SelectKBest\n",
        "\n",
        "# Select 300 best features\n",
        "chi_k = 300\n",
        "\n",
        "# Import functional utilities\n",
        "from sklearn.preprocessing import FunctionTransformer, MaxAbsScaler\n",
        "from sklearn.pipeline import FeatureUnion\n",
        "\n",
        "# Perform preprocessing\n",
        "get_text_data = FunctionTransformer(combine_text_columns, validate=False)\n",
        "get_numeric_data = FunctionTransformer(lambda x: x[NUMERIC_COLUMNS], validate=False)\n",
        "\n",
        "# Create the token pattern: TOKENS_ALPHANUMERIC\n",
        "TOKENS_ALPHANUMERIC = '[A-Za-z0-9]+(?=\\\\s+)'\n",
        "\n",
        "# Instantiate pipeline: pl\n",
        "pl = Pipeline([\n",
        "        ('union', FeatureUnion(\n",
        "            transformer_list = [\n",
        "                ('numeric_features', Pipeline([\n",
        "                    ('selector', get_numeric_data),\n",
        "                    ('imputer', Imputer())\n",
        "                ])),\n",
        "                ('text_features', Pipeline([\n",
        "                    ('selector', get_text_data),\n",
        "                    ('vectorizer', CountVectorizer(token_pattern=TOKENS_ALPHANUMERIC,\n",
        "                                                   ngram_range=(1, 2))),\n",
        "                    ('dim_red', SelectKBest(chi2, chi_k))\n",
        "                ]))\n",
        "             ]\n",
        "        )),\n",
        "        ('scale', MaxAbsScaler()),\n",
        "        ('clf', OneVsRestClassifier(LogisticRegression()))\n",
        "    ])\n",
        "\n",
        "pl.fit(X_train, y_train)\n",
        "print(pl.score(X_test, y_test))\n",
        "print(log_loss(y_test, pl.predict_proba(X_test))) "
      ],
      "metadata": {
        "id": "34RPw57hpWvS"
      },
      "execution_count": null,
      "outputs": []
    },
    {
      "cell_type": "markdown",
      "source": [
        "\n",
        "\n",
        "```\n",
        "0.19230769230769232\n",
        "26.859563069482927\n",
        "```\n",
        "Log loss score: 1.2681.?????? Great work! You'll now add some additional tricks to make the pipeline even better.\n",
        "\n",
        "![image.png](data:image/png;base64,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)\n",
        "\n",
        "# ***Adding interaction features with scikit-learn***\n",
        "\n"
      ],
      "metadata": {
        "id": "O7pLQox4rB7w"
      }
    },
    {
      "cell_type": "code",
      "source": [
        "from sklearn.preprocessing import PolynomialFeatures"
      ],
      "metadata": {
        "id": "mOfvSP70uiss"
      },
      "execution_count": null,
      "outputs": []
    },
    {
      "cell_type": "markdown",
      "source": [
        "```\n",
        "x\n",
        "\n",
        "  x1 x2\n",
        "a 0  1\n",
        "b 1  1\n",
        "```"
      ],
      "metadata": {
        "id": "VA_keP7HuoDR"
      }
    },
    {
      "cell_type": "code",
      "source": [
        "interaction = PolynomialFeatures(degree=2, interaction_only=True, include_bias=False)\n",
        "interaction.fit_transform(x)"
      ],
      "metadata": {
        "id": "j8iPVX6IuuXQ"
      },
      "execution_count": null,
      "outputs": []
    },
    {
      "cell_type": "markdown",
      "source": [
        "\n",
        "\n",
        "```\n",
        "array([[ 0., 1., 0.],\n",
        "       [ 1., 1., 1.]])\n",
        "```\n",
        "### ***Implement interaction modeling in scikit-learn***\n",
        "\n",
        "It's time to add interaction features to your model. The **`PolynomialFeatures`** object in scikit-learn does just that, but here you're going to use a custom interaction object, `SparseInteractions`. Interaction terms are a statistical tool that lets your model express what happens if two features appear together in the same row.\n",
        "\n",
        "`SparseInteractions` does the same thing as **`PolynomialFeatures`**, but it uses sparse matrices to do so. You can get the code for **`SparseInteractions`** at this [GitHub Gist](https://github.com/drivendataorg/box-plots-sklearn/blob/master/src/features/SparseInteractions.py).\n",
        "\n",
        "**`PolynomialFeatures`** and `SparseInteractions` both take the argument degree, which tells them what polynomial degree of interactions to compute.\n",
        "\n",
        "You're going to consider interaction terms of **`degree=2`** in your pipeline. You will insert these steps after the preprocessing steps you've built out so far, but before the classifier steps.\n",
        "\n",
        "Pipelines with interaction terms take a while to train (since you're making n features into n-squared features!), so as long as you set it up right, we'll do the heavy lifting and tell you what your score is!\n",
        "\n",
        "* Add the interaction terms step using `SparseInteractions()` with **`degree=2`**. Give it a name of `'int'`, and make sure it is after the preprocessing step but before scaling.\n"
      ],
      "metadata": {
        "id": "0n4RuNEDu5MO"
      }
    },
    {
      "cell_type": "code",
      "source": [
        "from itertools import combinations\n",
        "\n",
        "import numpy as np\n",
        "from scipy import sparse\n",
        "from sklearn.base import BaseEstimator, TransformerMixin\n",
        "\n",
        "\n",
        "class SparseInteractions(BaseEstimator, TransformerMixin):\n",
        "    def __init__(self, degree=2, feature_name_separator=\"_\"):\n",
        "        self.degree = degree\n",
        "        self.feature_name_separator = feature_name_separator\n",
        "\n",
        "    def fit(self, X, y=None):\n",
        "        return self\n",
        "\n",
        "    def transform(self, X):\n",
        "        if not sparse.isspmatrix_csc(X):\n",
        "            X = sparse.csc_matrix(X)\n",
        "\n",
        "        if hasattr(X, \"columns\"):\n",
        "            self.orig_col_names = X.columns\n",
        "        else:\n",
        "            self.orig_col_names = np.array([str(i) for i in range(X.shape[1])])\n",
        "\n",
        "        spi = self._create_sparse_interactions(X)\n",
        "        return spi\n",
        "\n",
        "    def get_feature_names(self):\n",
        "        return self.feature_names\n",
        "\n",
        "    def _create_sparse_interactions(self, X):\n",
        "        out_mat = []\n",
        "        self.feature_names = self.orig_col_names.tolist()\n",
        "\n",
        "        for sub_degree in range(2, self.degree + 1):\n",
        "            for col_ixs in combinations(range(X.shape[1]), sub_degree):\n",
        "                # add name for new column\n",
        "                name = self.feature_name_separator.join(self.orig_col_names[list(col_ixs)])\n",
        "                self.feature_names.append(name)\n",
        "\n",
        "                # get column multiplications value\n",
        "                out = X[:, col_ixs[0]]\n",
        "                for j in col_ixs[1:]:\n",
        "                    out = out.multiply(X[:, j])\n",
        "\n",
        "                out_mat.append(out)\n",
        "\n",
        "        return sparse.hstack([X] + out_mat)"
      ],
      "metadata": {
        "id": "xueYOL48u7f4"
      },
      "execution_count": 23,
      "outputs": []
    },
    {
      "cell_type": "code",
      "source": [
        "# Instantiate pipeline: pl\n",
        "pl = Pipeline([\n",
        "        ('union', FeatureUnion(\n",
        "            transformer_list = [\n",
        "                ('numeric_features', Pipeline([\n",
        "                    ('selector', get_numeric_data),\n",
        "                    ('imputer', Imputer())\n",
        "                ])),\n",
        "                ('text_features', Pipeline([\n",
        "                    ('selector', get_text_data),\n",
        "                    ('vectorizer', CountVectorizer(token_pattern=TOKENS_ALPHANUMERIC,\n",
        "                                                   ngram_range=(1, 2))),  \n",
        "                    ('dim_red', SelectKBest(chi2, chi_k))\n",
        "                ]))\n",
        "             ]\n",
        "        )),\n",
        "        ('int', SparseInteractions(degree=2)),\n",
        "        ('scale', MaxAbsScaler()),\n",
        "        ('clf', OneVsRestClassifier(LogisticRegression()))\n",
        "    ])"
      ],
      "metadata": {
        "id": "mhVVGHDNwV0r"
      },
      "execution_count": null,
      "outputs": []
    },
    {
      "cell_type": "markdown",
      "source": [
        "Log loss score: 1.2256. Nice improvement from 1.2681!\n",
        "\n",
        "# ***Implementing the hashing trick in scikit-learn***"
      ],
      "metadata": {
        "id": "SKzWdy_-xL6U"
      }
    },
    {
      "cell_type": "code",
      "source": [
        "from sklearn.feature_extraction.text import HashingVectorizer\n",
        "\n",
        "vec = HashingVectorizer(norm=None, non_negative=True,token_pattern=TOKENS_ALPHANUMERIC,ngram_range=(1, 2))"
      ],
      "metadata": {
        "id": "y_trcJ_My-ru"
      },
      "execution_count": null,
      "outputs": []
    },
    {
      "cell_type": "markdown",
      "source": [
        "### ***Implementing the hashing trick in scikit-learn***\n",
        "\n",
        "In this exercise you will check out the scikit-learn implementation of **`HashingVectorizer`** before adding it to your pipeline later.\n",
        "\n",
        "**`HashingVectorizer`** acts just like **`CountVectorizer`** in that it can accept `token_pattern` and `ngram_range` parameters. The important difference is that it creates hash values from the text, so that we get all the computational advantages of hashing!\n",
        "\n",
        "* Instantiate the **`HashingVectorizer`** as `hashing_vec` using the `TOKENS_ALPHANUMERIC` pattern.\n",
        "\n",
        "* Fit and transform `hashing_vec` using `text_data`. Save the result as `hashed_text`.\n",
        "\n"
      ],
      "metadata": {
        "id": "7BzMONUSz5NR"
      }
    },
    {
      "cell_type": "code",
      "source": [
        "# Import HashingVectorizer\n",
        "from sklearn.feature_extraction.text import HashingVectorizer\n",
        "\n",
        "# Get text data: text_data\n",
        "text_data = combine_text_columns(X_train)\n",
        "\n",
        "# Create the token pattern: TOKENS_ALPHANUMERIC\n",
        "TOKENS_ALPHANUMERIC = '[A-Za-z0-9]+(?=\\\\s+)' \n",
        "\n",
        "# Instantiate the HashingVectorizer: hashing_vec\n",
        "hashing_vec = HashingVectorizer(token_pattern=TOKENS_ALPHANUMERIC)\n",
        "\n",
        "# Fit and transform the Hashing Vectorizer\n",
        "hashed_text = hashing_vec.fit_transform(text_data)\n",
        "\n",
        "# Create DataFrame and print the head\n",
        "hashed_df = pd.DataFrame(hashed_text.data)\n",
        "print(hashed_df.head())"
      ],
      "metadata": {
        "id": "izNqZoRP0LlN"
      },
      "execution_count": null,
      "outputs": []
    },
    {
      "cell_type": "markdown",
      "source": [
        "As you can see, some text is hashed to the same value, but this doesn't neccessarily hurt performance.\n",
        "\n",
        "### ***Build the winning model***\n",
        "\n",
        "You have arrived! This is where all of your hard work pays off. It's time to build the model that won DrivenData's competition.\n",
        "\n",
        "You've constructed a robust, powerful pipeline capable of processing training and testing data. Now that you understand the data and know all of the tools you need, you can essentially solve the whole problem in a relatively small number of lines of code. Wow!\n",
        "\n",
        "All you need to do is add the **`HashingVectorizer`** step to the pipeline to replace the **`CountVectorizer`** step.\n",
        "\n",
        "The parameters **`non_negative=True`**, **`norm=None`**, and **`binary=False`** make the **`HashingVectorizer`** perform similarly to the default settings on the **`CountVectorizer`** so you can just replace one with the other.\n",
        "\n",
        "* Add a **`HashingVectorizer`** step to the pipeline.\n",
        "* Name the step `'vectorizer'`.\n",
        "* Use the `TOKENS_ALPHANUMERIC` token pattern.\n",
        "* Specify the **`ngram_range`** to be `(1, 2)`\n"
      ],
      "metadata": {
        "id": "dhIlHdUv0qVm"
      }
    },
    {
      "cell_type": "code",
      "source": [
        "# Import the hashing vectorizer\n",
        "from sklearn.feature_extraction.text import HashingVectorizer\n",
        "\n",
        "# Instantiate the winning model pipeline: pl\n",
        "pl = Pipeline([\n",
        "        ('union', FeatureUnion(\n",
        "            transformer_list = [\n",
        "                ('numeric_features', Pipeline([\n",
        "                    ('selector', get_numeric_data),\n",
        "                    ('imputer', Imputer())\n",
        "                ])),\n",
        "                ('text_features', Pipeline([\n",
        "                    ('selector', get_text_data),\n",
        "                    ('vectorizer', HashingVectorizer(token_pattern=TOKENS_ALPHANUMERIC,\n",
        "                                                     non_negative=True, norm=None, binary=False,\n",
        "                                                     ngram_range=(1, 2))),\n",
        "                    ('dim_red', SelectKBest(chi2, chi_k))\n",
        "                ]))\n",
        "             ]\n",
        "        )),\n",
        "        ('int', SparseInteractions(degree=2)),\n",
        "        ('scale', MaxAbsScaler()),\n",
        "        ('clf', OneVsRestClassifier(LogisticRegression()))\n",
        "    ])"
      ],
      "metadata": {
        "id": "upq28hif1U0A"
      },
      "execution_count": null,
      "outputs": []
    },
    {
      "cell_type": "markdown",
      "source": [
        "Log loss: 1.2258. Looks like the performance is about the same, but this is expected since the **`HashingVectorizer`** should work the same as the **`CountVectorizer`**. Try this pipeline out on the whole dataset on your local machine to see its full power!"
      ],
      "metadata": {
        "id": "a8hh-2AR1ry0"
      }
    }
  ]
}