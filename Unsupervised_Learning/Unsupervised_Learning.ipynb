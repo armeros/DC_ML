{
  "nbformat": 4,
  "nbformat_minor": 0,
  "metadata": {
    "colab": {
      "name": "Unsupervised_Learning",
      "provenance": [],
      "collapsed_sections": []
    },
    "kernelspec": {
      "name": "python3",
      "display_name": "Python 3"
    },
    "language_info": {
      "name": "python"
    }
  },
  "cells": [
    {
      "cell_type": "code",
      "execution_count": 1,
      "metadata": {
        "id": "6Dg3iUTTa2pV"
      },
      "outputs": [],
      "source": [
        "from sklearn import datasets\n",
        "from sklearn.cluster import KMeans\n",
        "from sklearn.preprocessing import StandardScaler, Normalizer, normalize\n",
        "from sklearn.pipeline import make_pipeline\n",
        "from scipy.cluster.hierarchy import linkage, dendrogram, fcluster\n",
        "from sklearn.manifold import TSNE\n",
        "from sklearn.decomposition import PCA, TruncatedSVD, NMF\n",
        "from sklearn.feature_extraction.text import TfidfVectorizer\n",
        "\n",
        "import pandas as pd\n",
        "import numpy as np\n",
        "import matplotlib.pyplot as plt\n",
        "import seaborn as sns\n",
        "\n",
        "samples = datasets.load_iris()['data']\n",
        "species = datasets.load_iris()['target']"
      ]
    },
    {
      "cell_type": "markdown",
      "source": [
        "# ***k-means clustering***\n",
        "\n"
      ],
      "metadata": {
        "id": "jWSFrGcwQRCD"
      }
    },
    {
      "cell_type": "code",
      "source": [
        "print(samples[:5])"
      ],
      "metadata": {
        "colab": {
          "base_uri": "https://localhost:8080/"
        },
        "id": "vVAqFNQqQElW",
        "outputId": "cae857d0-2d39-42ab-a0f0-67ec2f7cffe2"
      },
      "execution_count": null,
      "outputs": [
        {
          "output_type": "stream",
          "name": "stdout",
          "text": [
            "[[5.1 3.5 1.4 0.2]\n",
            " [4.9 3.  1.4 0.2]\n",
            " [4.7 3.2 1.3 0.2]\n",
            " [4.6 3.1 1.5 0.2]\n",
            " [5.  3.6 1.4 0.2]]\n"
          ]
        }
      ]
    },
    {
      "cell_type": "code",
      "source": [
        "model = KMeans(n_clusters=3) # ใช้ 3 เพราะ label จริงมีสามชนิด\n",
        "model.fit(samples)\n",
        "labels = model.predict(samples)\n",
        "print(labels)"
      ],
      "metadata": {
        "colab": {
          "base_uri": "https://localhost:8080/"
        },
        "id": "bEZ0BRApQhaI",
        "outputId": "5cbc1b71-e811-4a4c-95d5-7141b682478a"
      },
      "execution_count": null,
      "outputs": [
        {
          "output_type": "stream",
          "name": "stdout",
          "text": [
            "[1 1 1 1 1 1 1 1 1 1 1 1 1 1 1 1 1 1 1 1 1 1 1 1 1 1 1 1 1 1 1 1 1 1 1 1 1\n",
            " 1 1 1 1 1 1 1 1 1 1 1 1 1 2 2 0 2 2 2 2 2 2 2 2 2 2 2 2 2 2 2 2 2 2 2 2 2\n",
            " 2 2 2 0 2 2 2 2 2 2 2 2 2 2 2 2 2 2 2 2 2 2 2 2 2 2 0 2 0 0 0 0 2 0 0 0 0\n",
            " 0 0 2 2 0 0 0 0 2 0 2 0 2 0 0 2 2 0 0 0 0 0 2 0 0 0 0 2 0 0 0 2 0 0 0 2 0\n",
            " 0 2]\n"
          ]
        }
      ]
    },
    {
      "cell_type": "code",
      "source": [
        "print(datasets.load_iris()['target'])"
      ],
      "metadata": {
        "colab": {
          "base_uri": "https://localhost:8080/"
        },
        "id": "paAk0-4CRbiD",
        "outputId": "8a2904f7-0795-4bf4-96b0-6374aa7d2c19"
      },
      "execution_count": null,
      "outputs": [
        {
          "output_type": "stream",
          "name": "stdout",
          "text": [
            "[0 0 0 0 0 0 0 0 0 0 0 0 0 0 0 0 0 0 0 0 0 0 0 0 0 0 0 0 0 0 0 0 0 0 0 0 0\n",
            " 0 0 0 0 0 0 0 0 0 0 0 0 0 1 1 1 1 1 1 1 1 1 1 1 1 1 1 1 1 1 1 1 1 1 1 1 1\n",
            " 1 1 1 1 1 1 1 1 1 1 1 1 1 1 1 1 1 1 1 1 1 1 1 1 1 1 2 2 2 2 2 2 2 2 2 2 2\n",
            " 2 2 2 2 2 2 2 2 2 2 2 2 2 2 2 2 2 2 2 2 2 2 2 2 2 2 2 2 2 2 2 2 2 2 2 2 2\n",
            " 2 2]\n"
          ]
        }
      ]
    },
    {
      "cell_type": "markdown",
      "source": [
        "# ***Cluster labels for new samples***"
      ],
      "metadata": {
        "id": "JvfHLnJTSZ49"
      }
    },
    {
      "cell_type": "code",
      "source": [
        "new_samples = [[ 5.7, 4.4, 1.5, 0.4], [ 6.5, 3. ,5.5, 1.8], [ 5.8, 2.7, 5.1, 1.9]]\n",
        "new_labels = model.predict(new_samples)\n",
        "print(new_labels)"
      ],
      "metadata": {
        "colab": {
          "base_uri": "https://localhost:8080/"
        },
        "id": "quPpFJy1SJse",
        "outputId": "7e09980a-0973-4c4a-c67a-b695f81acfb9"
      },
      "execution_count": null,
      "outputs": [
        {
          "output_type": "stream",
          "name": "stdout",
          "text": [
            "[0 2 1]\n"
          ]
        }
      ]
    },
    {
      "cell_type": "markdown",
      "source": [
        "# ***Scatter plots***\n",
        "* Scatter plot of sepal length vs. petal length"
      ],
      "metadata": {
        "id": "alZ1Ao0bS-Gm"
      }
    },
    {
      "cell_type": "code",
      "source": [
        "xs = samples[:,0]\n",
        "ys = samples[:,2]\n",
        "plt.scatter(xs, ys, c=labels)\n",
        "plt.show()"
      ],
      "metadata": {
        "colab": {
          "base_uri": "https://localhost:8080/",
          "height": 265
        },
        "id": "bVtKd6UQSqDL",
        "outputId": "f31fb609-87c4-4060-b7c6-23035a00b354"
      },
      "execution_count": null,
      "outputs": [
        {
          "output_type": "display_data",
          "data": {
            "text/plain": [
              "<Figure size 432x288 with 1 Axes>"
            ],
            "image/png": "[encoded data removed]"
          },
          "metadata": {
            "needs_background": "light"
          }
        }
      ]
    },
    {
      "cell_type": "markdown",
      "source": [
        "### ***How many clusters?***\n",
        "\n",
        "You are given an array `points` of size 300x2, where each row gives the `(x, y)` co-ordinates of a point on a map. Make a scatter plot of these points, and use the scatter plot to guess how many clusters there are.\n",
        "\n",
        "* Create an array called `xs` that contains the values of points`[:,0]` - that is, column `0` of `points`.\n",
        "\n",
        "* Create an array called `ys` that contains the values of points`[:,1]` - that is, column `1` of points.\n",
        "\n",
        "* Make a scatter plot by passing `xs` and `ys` to the `plt.scatter()` function.\n",
        "\n"
      ],
      "metadata": {
        "id": "27F-TNjsRvcc"
      }
    },
    {
      "cell_type": "code",
      "source": [
        "points = np.array([[ 0.06544649, -0.76866376], [-1.52901547, -0.42953079], [ 1.70993371,  0.69885253], [ 1.16779145,  1.01262638],       [-1.80110088, -0.31861296],       [-1.63567888, -0.02859535],\n",
        "       [ 1.21990375,  0.74643463],\n",
        "       [-0.26175155, -0.62492939],\n",
        "       [-1.61925804, -0.47983949],\n",
        "       [-1.84329582, -0.16694431],\n",
        "       [ 1.35999602,  0.94995827],\n",
        "       [ 0.42291856, -0.7349534 ],\n",
        "       [-1.68576139,  0.10686728],\n",
        "       [ 0.90629995,  1.09105162],\n",
        "       [-1.56478322, -0.84675394],\n",
        "       [-0.0257849 , -1.18672539],\n",
        "       [ 0.83027324,  1.14504612],\n",
        "       [ 1.22450432,  1.35066759],\n",
        "       [-0.15394596, -0.71704301],\n",
        "       [ 0.86358809,  1.06824613],\n",
        "       [-1.43386366, -0.2381297 ],\n",
        "       [ 0.03844769, -0.74635022],\n",
        "       [-1.58567922,  0.08499354],\n",
        "       [ 0.6359888 , -0.58477698],\n",
        "       [ 0.24417242, -0.53172465],\n",
        "       [-2.19680359,  0.49473677],\n",
        "       [ 1.0323503 , -0.55688   ],\n",
        "       [-0.28858067, -0.39972528],\n",
        "       [ 0.20597008, -0.80171536],\n",
        "       [-1.2107308 , -0.34924109],\n",
        "       [ 1.33423684,  0.7721489 ],\n",
        "       [ 1.19480152,  1.04788556],\n",
        "       [ 0.9917477 ,  0.89202008],\n",
        "       [-1.8356219 , -0.04839732],\n",
        "       [ 0.08415721, -0.71564326],\n",
        "       [-1.48970175, -0.19299604],\n",
        "       [ 0.38782418, -0.82060119],\n",
        "       [-0.01448044, -0.9779841 ],\n",
        "       [-2.0521341 , -0.02129125],\n",
        "       [ 0.10331194, -0.82162781],\n",
        "       [-0.44189315, -0.65710974],\n",
        "       [ 1.10390926,  1.02481182],\n",
        "       [-1.59227759, -0.17374038],\n",
        "       [-1.47344152, -0.02202853],\n",
        "       [-1.35514704,  0.22971067],\n",
        "       [ 0.0412337 , -1.23776622],\n",
        "       [ 0.4761517 , -1.13672124],\n",
        "       [ 1.04335676,  0.82345905],\n",
        "       [-0.07961882, -0.85677394],\n",
        "       [ 0.87065059,  1.08052841],\n",
        "       [ 1.40267313,  1.07525119],\n",
        "       [ 0.80111157,  1.28342825],\n",
        "       [-0.16527516, -1.23583804],\n",
        "       [-0.33779221, -0.59194323],\n",
        "       [ 0.80610749, -0.73752159],\n",
        "       [-1.43590032, -0.56384446],\n",
        "       [ 0.54868895, -0.95143829],\n",
        "       [ 0.46803131, -0.74973907],\n",
        "       [-1.5137129 , -0.83914323],\n",
        "       [ 0.9138436 ,  1.51126532],\n",
        "       [-1.97233903, -0.41155375],\n",
        "       [ 0.5213406 , -0.88654894],\n",
        "       [ 0.62759494, -1.18590477],\n",
        "       [ 0.94163014,  1.35399335],\n",
        "       [ 0.56994768,  1.07036606],\n",
        "       [-1.87663382,  0.14745773],\n",
        "       [ 0.90612186,  0.91084011],\n",
        "       [-1.37481454,  0.28428395],\n",
        "       [-1.80564029, -0.96710574],\n",
        "       [ 0.34307757, -0.79999275],\n",
        "       [ 0.70380566,  1.00025804],\n",
        "       [-1.68489862, -0.30564595],\n",
        "       [ 1.31473221,  0.98614978],\n",
        "       [ 0.26151216, -0.26069251],\n",
        "       [ 0.9193121 ,  0.82371485],\n",
        "       [-1.21795929, -0.20219674],\n",
        "       [-0.17722723, -1.02665245],\n",
        "       [ 0.64824862, -0.66822881],\n",
        "       [ 0.41206786, -0.28783784],\n",
        "       [ 1.01568202,  1.13481667],\n",
        "       [ 0.67900254, -0.91489502],\n",
        "       [-1.05182747, -0.01062376],\n",
        "       [ 0.61306599,  1.78210384],\n",
        "       [-1.50219748, -0.52308922],\n",
        "       [-1.72717293, -0.46173916],\n",
        "       [-1.60995631, -0.1821007 ],\n",
        "       [-1.09111021, -0.0781398 ],\n",
        "       [-0.01046978, -0.80913034],\n",
        "       [ 0.32782303, -0.80734754],\n",
        "       [ 1.22038503,  1.1959793 ],\n",
        "       [-1.33328681, -0.30001937],\n",
        "       [ 0.87959517,  1.11566491],\n",
        "       [-1.14829098, -0.30400762],\n",
        "       [-0.58019755, -1.19996018],\n",
        "       [-0.01161159, -0.78468854],\n",
        "       [ 0.17359724, -0.63398145],\n",
        "       [ 1.32738556,  0.67759969],\n",
        "       [-1.93467327,  0.30572472],\n",
        "       [-1.57761893, -0.27726365],\n",
        "       [ 0.47639   ,  1.21422648],\n",
        "       [-1.65237509, -0.6803981 ],\n",
        "       [-0.12609976, -1.04327457],\n",
        "       [-1.89607082, -0.70085502],\n",
        "       [ 0.57466899,  0.74878369],\n",
        "       [-0.16660312, -0.83110295],\n",
        "       [ 0.8013355 ,  1.22244435],\n",
        "       [ 1.18455426,  1.4346467 ],\n",
        "       [ 1.08864428,  0.64667112],\n",
        "       [-1.61158505,  0.22805725],\n",
        "       [-1.57512205, -0.09612576],\n",
        "       [ 0.0721357 , -0.69640328],\n",
        "       [-1.40054298,  0.16390598],\n",
        "       [ 1.09607713,  1.16804691],\n",
        "       [-2.54346204, -0.23089822],\n",
        "       [-1.34544875,  0.25151126],\n",
        "       [-1.35478629, -0.19103317],\n",
        "       [ 0.18368113, -1.15827725],\n",
        "       [-1.31368677, -0.376357  ],\n",
        "       [ 0.09990129,  1.22500491],\n",
        "       [ 1.17225574,  1.30835143],\n",
        "       [ 0.0865397 , -0.79714371],\n",
        "       [-0.21053923, -1.13421511],\n",
        "       [ 0.26496024, -0.94760742],\n",
        "       [-0.2557591 , -1.06266022],\n",
        "       [-0.26039757, -0.74774225],\n",
        "       [-1.91787359,  0.16434571],\n",
        "       [ 0.93021139,  0.49436331],\n",
        "       [ 0.44770467, -0.72877918],\n",
        "       [-1.63802869, -0.58925528],\n",
        "       [-1.95712763, -0.10125137],\n",
        "       [ 0.9270337 ,  0.88251423],\n",
        "       [ 1.25660093,  0.60828073],\n",
        "       [-1.72818632,  0.08416887],\n",
        "       [ 0.3499788 , -0.30490298],\n",
        "       [-1.51696082, -0.50913109],\n",
        "       [ 0.18763605, -0.55424924],\n",
        "       [ 0.89609809,  0.83551508],\n",
        "       [-1.54968857, -0.17114782],\n",
        "       [ 1.2157457 ,  1.23317728],\n",
        "       [ 0.20307745, -1.03784906],\n",
        "       [ 0.84589086,  1.03615273],\n",
        "       [ 0.53237919,  1.47362884],\n",
        "       [-0.05319044, -1.36150553],\n",
        "       [ 1.38819743,  1.11729915],\n",
        "       [ 1.00696304,  1.0367721 ],\n",
        "       [ 0.56681869, -1.09637176],\n",
        "       [ 0.86888296,  1.05248874],\n",
        "       [-1.16286609, -0.55875245],\n",
        "       [ 0.27717768, -0.83844015],\n",
        "       [ 0.16563267, -0.80306607],\n",
        "       [ 0.38263303, -0.42683241],\n",
        "       [ 1.14519807,  0.89659026],\n",
        "       [ 0.81455857,  0.67533667],\n",
        "       [-1.8603152 , -0.09537561],\n",
        "       [ 0.965641  ,  0.90295579],\n",
        "       [-1.49897451, -0.33254044],\n",
        "       [-0.1335489 , -0.80727582],\n",
        "       [ 0.12541527, -1.13354906],\n",
        "       [ 1.06062436,  1.28816358],\n",
        "       [-1.49154578, -0.2024641 ],\n",
        "       [ 1.16189032,  1.28819877],\n",
        "       [ 0.54282033,  0.75203524],\n",
        "       [ 0.89221065,  0.99211624],\n",
        "       [-1.49932011, -0.32430667],\n",
        "       [ 0.3166647 , -1.34482915],\n",
        "       [ 0.13972469, -1.22097448],\n",
        "       [-1.5499724 , -0.10782584],\n",
        "       [ 1.23846858,  1.37668804],\n",
        "       [ 1.25558954,  0.72026098],\n",
        "       [ 0.25558689, -1.28529763],\n",
        "       [ 0.45168933, -0.55952093],\n",
        "       [ 1.06202057,  1.03404604],\n",
        "       [ 0.67451908, -0.54970299],\n",
        "       [ 0.22759676, -1.02729468],\n",
        "       [-1.45835281, -0.04951074],\n",
        "       [ 0.23273501, -0.70849262],\n",
        "       [ 1.59679589,  1.11395076],\n",
        "       [ 0.80476105,  0.544627  ],\n",
        "       [ 1.15492521,  1.04352191],\n",
        "       [ 0.59632776, -1.19142897],\n",
        "       [ 0.02839068, -0.43829366],\n",
        "       [ 1.13451584,  0.5632633 ],\n",
        "       [ 0.21576204, -1.04445753],\n",
        "       [ 1.41048987,  1.02830719],\n",
        "       [ 1.12289302,  0.58029441],\n",
        "       [ 0.25200688, -0.82588436],\n",
        "       [-1.28566081, -0.07390909],\n",
        "       [ 1.52849815,  1.11822469],\n",
        "       [-0.23907858, -0.70541972],\n",
        "       [-0.25792784, -0.81825035],\n",
        "       [ 0.59367818, -0.45239915],\n",
        "       [ 0.07931909, -0.29233213],\n",
        "       [-1.27256815,  0.11630577],\n",
        "       [ 0.66930129,  1.00731481],\n",
        "       [ 0.34791546, -1.20822877],\n",
        "       [-2.11283993, -0.66897935],\n",
        "       [-1.6293824 , -0.32718222],\n",
        "       [-1.53819139, -0.01501972],\n",
        "       [-0.11988545, -0.6036339 ],\n",
        "       [-1.54418956, -0.30389844],\n",
        "       [ 0.30026614, -0.77723173],\n",
        "       [ 0.00935449, -0.53888192],\n",
        "       [-1.33424393, -0.11560431],\n",
        "       [ 0.47504489,  0.78421384],\n",
        "       [ 0.59313264,  1.232239  ],\n",
        "       [ 0.41370369, -1.35205857],\n",
        "       [ 0.55840948,  0.78831053],\n",
        "       [ 0.49855018, -0.789949  ],\n",
        "       [ 0.35675809, -0.81038693],\n",
        "       [-1.86197825, -0.59071305],\n",
        "       [-1.61977671, -0.16076687],\n",
        "       [ 0.80779295, -0.73311294],\n",
        "       [ 1.62745775,  0.62787163],\n",
        "       [-1.56993593, -0.08467567],\n",
        "       [ 1.02558561,  0.89383302],\n",
        "       [ 0.24293461, -0.6088253 ],\n",
        "       [ 1.23130242,  1.00262186],\n",
        "       [-1.9651013 , -0.15886289],\n",
        "       [ 0.42795032, -0.70384432],\n",
        "       [-1.58306818, -0.19431923],\n",
        "       [-1.57195922,  0.01413469],\n",
        "       [-0.98145373,  0.06132285],\n",
        "       [-1.48637844, -0.5746531 ],\n",
        "       [ 0.98745828,  0.69188053],\n",
        "       [ 1.28619721,  1.28128821],\n",
        "       [ 0.85850596,  0.95541481],\n",
        "       [ 0.19028286, -0.82112942],\n",
        "       [ 0.26561046, -0.04255239],\n",
        "       [-1.61897897,  0.00862372],\n",
        "       [ 0.24070183, -0.52664209],\n",
        "       [ 1.15220993,  0.43916694],\n",
        "       [-1.21967812, -0.2580313 ],\n",
        "       [ 0.33412533, -0.86117761],\n",
        "       [ 0.17131003, -0.75638965],\n",
        "       [-1.19828397, -0.73744665],\n",
        "       [-0.12245932, -0.45648879],\n",
        "       [ 1.51200698,  0.88825741],\n",
        "       [ 1.10338866,  0.92347479],\n",
        "       [ 1.30972095,  0.59066989],\n",
        "       [ 0.19964876,  1.14855889],\n",
        "       [ 0.81460515,  0.84538972],\n",
        "       [-1.6422739 , -0.42296206],\n",
        "       [ 0.01224351, -0.21247816],\n",
        "       [ 0.33709102, -0.74618065],\n",
        "       [ 0.47301054,  0.72712075],\n",
        "       [ 0.34706626,  1.23033757],\n",
        "       [-0.00393279, -0.97209694],\n",
        "       [-1.64303119,  0.05276337],\n",
        "       [ 1.44649625,  1.14217033],\n",
        "       [-1.93030087, -0.40026146],\n",
        "       [-2.37296135, -0.72633645],\n",
        "       [ 0.45860122, -1.06048953],\n",
        "       [ 0.4896361 , -1.18928313],\n",
        "       [-1.02335902, -0.17520578],\n",
        "       [-1.32761107, -0.93963549],\n",
        "       [-1.50987909, -0.09473658],\n",
        "       [ 0.02723057, -0.79870549],\n",
        "       [ 1.0169412 ,  1.26461701],\n",
        "       [ 0.47733527, -0.9898471 ],\n",
        "       [-1.27784224, -0.547416  ],\n",
        "       [ 0.49898802, -0.6237259 ],\n",
        "       [ 1.06004731,  0.86870008],\n",
        "       [ 1.00207501,  1.38293512],\n",
        "       [ 1.31161394,  0.62833956],\n",
        "       [ 1.13428443,  1.18346542],\n",
        "       [ 1.27671346,  0.96632878],\n",
        "       [-0.63342885, -0.97768251],\n",
        "       [ 0.12698779, -0.93142317],\n",
        "       [-1.34510812, -0.23754226],\n",
        "       [-0.53162278, -1.25153594],\n",
        "       [ 0.21959934, -0.90269938],\n",
        "       [-1.78997479, -0.12115748],\n",
        "       [ 1.23197473, -0.07453764],\n",
        "       [ 1.4163536 ,  1.21551752],\n",
        "       [-1.90280976, -0.1638976 ],\n",
        "       [-0.22440081, -0.75454248],\n",
        "       [ 0.59559412,  0.92414553],\n",
        "       [ 1.21930773,  1.08175284],\n",
        "       [-1.99427535, -0.37587799],\n",
        "       [-1.27818474, -0.52454551],\n",
        "       [ 0.62352689, -1.01430108],\n",
        "       [ 0.14024251, -0.428266  ],\n",
        "       [-0.16145713, -1.16359731],\n",
        "       [-1.74795865, -0.06033101],\n",
        "       [-1.16659791,  0.0902393 ],\n",
        "       [ 0.41110408, -0.8084249 ],\n",
        "       [ 1.14757168,  0.77804528],\n",
        "       [-1.65590748, -0.40105446],\n",
        "       [-1.15306865,  0.00858699],\n",
        "       [ 0.60892121,  0.68974833],\n",
        "       [-0.08434138, -0.97615256],\n",
        "       [ 0.19170053, -0.42331438],\n",
        "       [ 0.29663162, -1.13357399],\n",
        "       [-1.36893628, -0.25052124],\n",
        "       [-0.08037807, -0.56784155],\n",
        "       [ 0.35695011, -1.15064408],\n",
        "       [ 0.02482179, -0.63594828],\n",
        "       [-1.49075558, -0.2482507 ],\n",
        "       [-1.408588  ,  0.25635431],\n",
        "       [-1.98274626, -0.54584475]])\n",
        "new_points = np.array([[ 4.00233332e-01, -1.26544471e+00],\n",
        "       [ 8.03230370e-01,  1.28260167e+00],\n",
        "       [-1.39507552e+00,  5.57292921e-02],\n",
        "       [-3.41192677e-01, -1.07661994e+00],\n",
        "       [ 1.54781747e+00,  1.40250049e+00],\n",
        "       [ 2.45032018e-01, -4.83442328e-01],\n",
        "       [ 1.20706886e+00,  8.88752605e-01],\n",
        "       [ 1.25132628e+00,  1.15555395e+00],\n",
        "       [ 1.81004415e+00,  9.65530731e-01],\n",
        "       [-1.66963401e+00, -3.08103509e-01],\n",
        "       [-7.17482105e-02, -9.37939700e-01],\n",
        "       [ 6.82631927e-01,  1.10258160e+00],\n",
        "       [ 1.09039598e+00,  1.43899529e+00],\n",
        "       [-1.67645414e+00, -5.04557049e-01],\n",
        "       [-1.84447804e+00,  4.52539544e-02],\n",
        "       [ 1.24234851e+00,  1.02088661e+00],\n",
        "       [-1.86147041e+00,  6.38645811e-03],\n",
        "       [-1.46044943e+00,  1.53252383e-01],\n",
        "       [ 4.98981817e-01,  8.98006058e-01],\n",
        "       [ 9.83962244e-01,  1.04369375e+00],\n",
        "       [-1.83136742e+00, -1.63632835e-01],\n",
        "       [ 1.30622617e+00,  1.07658717e+00],\n",
        "       [ 3.53420328e-01, -7.51320218e-01],\n",
        "       [ 1.13957970e+00,  1.54503860e+00],\n",
        "       [ 2.93995694e-01, -1.26135005e+00],\n",
        "       [-1.14558225e+00, -3.78709636e-02],\n",
        "       [ 1.18716105e+00,  6.00240663e-01],\n",
        "       [-2.23211946e+00,  2.30475094e-01],\n",
        "       [-1.28320430e+00, -3.93314568e-01],\n",
        "       [ 4.94296696e-01, -8.83972009e-01],\n",
        "       [ 6.31834930e-02, -9.11952228e-01],\n",
        "       [ 9.35759539e-01,  8.66820685e-01],\n",
        "       [ 1.58014721e+00,  1.03788392e+00],\n",
        "       [ 1.06304960e+00,  1.02706082e+00],\n",
        "       [-1.39732536e+00, -5.05162249e-01],\n",
        "       [-1.09935240e-01, -9.08113619e-01],\n",
        "       [ 1.17346758e+00,  9.47501092e-01],\n",
        "       [ 9.20084511e-01,  1.45767672e+00],\n",
        "       [ 5.82658956e-01, -9.00086832e-01],\n",
        "       [ 9.52772328e-01,  8.99042386e-01],\n",
        "       [-1.37266956e+00, -3.17878215e-02],\n",
        "       [ 2.12706760e-02, -7.07614194e-01],\n",
        "       [ 3.27049052e-01, -5.55998107e-01],\n",
        "       [-1.71590267e+00,  2.15222266e-01],\n",
        "       [ 5.12516209e-01, -7.60128245e-01],\n",
        "       [ 1.13023469e+00,  7.22451122e-01],\n",
        "       [-1.43074310e+00, -3.42787511e-01],\n",
        "       [-1.82724625e+00,  1.17657775e-01],\n",
        "       [ 1.41801350e+00,  1.11455080e+00],\n",
        "       [ 1.26897304e+00,  1.41925971e+00],\n",
        "       [ 8.04076494e-01,  1.63988557e+00],\n",
        "       [ 8.34567752e-01,  1.09956689e+00],\n",
        "       [-1.24714732e+00, -2.23522320e-01],\n",
        "       [-1.29422537e+00,  8.18770024e-02],\n",
        "       [-2.27378316e-01, -4.13331387e-01],\n",
        "       [ 2.18830387e-01, -4.68183120e-01],\n",
        "       [-1.22593414e+00,  2.55599147e-01],\n",
        "       [-1.31294033e+00, -4.28892070e-01],\n",
        "       [-1.33532382e+00,  6.52053776e-01],\n",
        "       [-3.01100233e-01, -1.25156451e+00],\n",
        "       [ 2.02778356e-01, -9.05277445e-01],\n",
        "       [ 1.01357784e+00,  1.12378981e+00],\n",
        "       [ 8.18324394e-01,  8.60841257e-01],\n",
        "       [ 1.26181556e+00,  1.46613744e+00],\n",
        "       [ 4.64867724e-01, -7.97212459e-01],\n",
        "       [ 3.60908898e-01,  8.44106720e-01],\n",
        "       [-2.15098310e+00, -3.69583937e-01],\n",
        "       [ 1.05005281e+00,  8.74181364e-01],\n",
        "       [ 1.06580074e-01, -7.49268153e-01],\n",
        "       [-1.73945723e+00,  2.52183577e-01],\n",
        "       [-1.12017687e-01, -6.52469788e-01],\n",
        "       [ 5.16618951e-01, -6.41267582e-01],\n",
        "       [ 3.26621787e-01, -8.80608015e-01],\n",
        "       [ 1.09017759e+00,  1.10952558e+00],\n",
        "       [ 3.64459576e-01, -6.94215622e-01],\n",
        "       [-1.90779318e+00,  1.87383674e-01],\n",
        "       [-1.95601829e+00,  1.39959126e-01],\n",
        "       [ 3.18541701e-01, -4.05271704e-01],\n",
        "       [ 7.36512699e-01,  1.76416255e+00],\n",
        "       [-1.44175162e+00, -5.72320429e-02],\n",
        "       [ 3.21757168e-01, -5.34283821e-01],\n",
        "       [-1.37317305e+00,  4.64484644e-02],\n",
        "       [ 6.87225910e-02, -1.10522944e+00],\n",
        "       [ 9.59314218e-01,  6.52316210e-01],\n",
        "       [-1.62641919e+00, -5.62423280e-01],\n",
        "       [ 1.06788305e+00,  7.29260482e-01],\n",
        "       [-1.79643547e+00, -9.88307418e-01],\n",
        "       [-9.88628377e-02, -6.81198092e-02],\n",
        "       [-1.05135700e-01,  1.17022143e+00],\n",
        "       [ 8.79964699e-01,  1.25340317e+00],\n",
        "       [ 9.80753407e-01,  1.15486539e+00],\n",
        "       [-8.33224966e-02, -9.24844368e-01],\n",
        "       [ 8.48759673e-01,  1.09397425e+00],\n",
        "       [ 1.32941649e+00,  1.13734563e+00],\n",
        "       [ 3.23788068e-01, -7.49732451e-01],\n",
        "       [-1.52610970e+00, -2.49016929e-01],\n",
        "       [-1.48598116e+00, -2.68828608e-01],\n",
        "       [-1.80479553e+00,  1.87052700e-01],\n",
        "       [-2.01907347e+00, -4.49511651e-01],\n",
        "       [ 2.87202402e-01, -6.55487415e-01],\n",
        "       [ 8.22295102e-01,  1.38443234e+00],\n",
        "       [-3.56997036e-02, -8.01825807e-01],\n",
        "       [-1.66955440e+00, -1.38258505e-01],\n",
        "       [-1.78226821e+00,  2.93353033e-01],\n",
        "       [ 7.25837138e-01, -6.23374024e-01],\n",
        "       [ 3.88432593e-01, -7.61283497e-01],\n",
        "       [ 1.49002783e+00,  7.95678671e-01],\n",
        "       [ 6.55423228e-04, -7.40580702e-01],\n",
        "       [-1.34533116e+00, -4.75629937e-01],\n",
        "       [-8.03845106e-01, -3.09943013e-01],\n",
        "       [-2.49041295e-01, -1.00662418e+00],\n",
        "       [-1.41095118e+00, -7.06744127e-02],\n",
        "       [-1.75119594e+00, -3.00491336e-01],\n",
        "       [-1.27942724e+00,  1.73774600e-01],\n",
        "       [ 3.35028183e-01,  6.24761151e-01],\n",
        "       [ 1.16819649e+00,  1.18902251e+00],\n",
        "       [ 7.15210457e-01,  9.26077419e-01],\n",
        "       [ 1.30057278e+00,  9.16349565e-01],\n",
        "       [-1.21697008e+00,  1.10039477e-01],\n",
        "       [-1.70707935e+00, -5.99659536e-02],\n",
        "       [ 1.20730655e+00,  1.05480463e+00],\n",
        "       [ 1.86896009e-01, -9.58047234e-01],\n",
        "       [ 8.03463471e-01,  3.86133140e-01],\n",
        "       [-1.73486790e+00, -1.49831913e-01],\n",
        "       [ 1.31261499e+00,  1.11802982e+00],\n",
        "       [ 4.04993148e-01, -5.10900347e-01],\n",
        "       [-1.93267968e+00,  2.20764694e-01],\n",
        "       [ 6.56004799e-01,  9.61887161e-01],\n",
        "       [-1.40588215e+00,  1.17134403e-01],\n",
        "       [-1.74306264e+00, -7.47473959e-02],\n",
        "       [ 5.43745412e-01,  1.47209224e+00],\n",
        "       [-1.97331669e+00, -2.27124493e-01],\n",
        "       [ 1.53901171e+00,  1.36049081e+00],\n",
        "       [-1.48323452e+00, -4.90302063e-01],\n",
        "       [ 3.86748484e-01, -1.26173400e+00],\n",
        "       [ 1.17015716e+00,  1.18549415e+00],\n",
        "       [-8.05381721e-02, -3.21923627e-01],\n",
        "       [-6.82273156e-02, -8.52825887e-01],\n",
        "       [ 7.13500028e-01,  1.27868520e+00],\n",
        "       [-1.85014378e+00, -5.03490558e-01],\n",
        "       [ 6.36085266e-02, -1.41257040e+00],\n",
        "       [ 1.52966062e+00,  9.66056572e-01],\n",
        "       [ 1.62165714e-01, -1.37374843e+00],\n",
        "       [-3.23474497e-01, -7.06620269e-01],\n",
        "       [-1.51768993e+00,  1.87658302e-01],\n",
        "       [ 8.88895911e-01,  7.62237161e-01],\n",
        "       [ 4.83164032e-01,  8.81931869e-01],\n",
        "       [-5.52997766e-02, -7.11305016e-01],\n",
        "       [-1.57966441e+00, -6.29220313e-01],\n",
        "       [ 5.51308645e-02, -8.47206763e-01],\n",
        "       [-2.06001582e+00,  5.87697787e-02],\n",
        "       [ 1.11810855e+00,  1.30254175e+00],\n",
        "       [ 4.87016164e-01, -9.90143937e-01],\n",
        "       [-1.65518042e+00, -1.69386383e-01],\n",
        "       [-1.44349738e+00,  1.90299243e-01],\n",
        "       [-1.70074547e-01, -8.26736022e-01],\n",
        "       [-1.82433979e+00, -3.07814626e-01],\n",
        "       [ 1.03093485e+00,  1.26457691e+00],\n",
        "       [ 1.64431169e+00,  1.27773115e+00],\n",
        "       [-1.47617693e+00,  2.60783872e-02],\n",
        "       [ 1.00953067e+00,  1.14270181e+00],\n",
        "       [-1.45285636e+00, -2.55216207e-01],\n",
        "       [-1.74092917e+00, -8.34443177e-02],\n",
        "       [ 1.22038299e+00,  1.28699961e+00],\n",
        "       [ 9.16925397e-01,  7.32070275e-01],\n",
        "       [-1.60754185e-03, -7.26375571e-01],\n",
        "       [ 8.93841238e-01,  8.41146643e-01],\n",
        "       [ 6.33791961e-01,  1.00915134e+00],\n",
        "       [-1.47927075e+00, -6.99781936e-01],\n",
        "       [ 5.44799374e-02, -1.06441970e+00],\n",
        "       [-1.51935568e+00, -4.89276929e-01],\n",
        "       [ 2.89939026e-01, -7.73145523e-01],\n",
        "       [-9.68154061e-03, -1.13302207e+00],\n",
        "       [ 1.13474639e+00,  9.71541744e-01],\n",
        "       [ 5.36421406e-01, -8.47906388e-01],\n",
        "       [ 1.14759864e+00,  6.89915205e-01],\n",
        "       [ 5.73291902e-01,  7.90802710e-01],\n",
        "       [ 2.12377397e-01, -6.07569808e-01],\n",
        "       [ 5.26579548e-01, -8.15930264e-01],\n",
        "       [-2.01831641e+00,  6.78650740e-02],\n",
        "       [-2.35512624e-01, -1.08205132e+00],\n",
        "       [ 1.59274780e-01, -6.00717261e-01],\n",
        "       [ 2.28120356e-01, -1.16003549e+00],\n",
        "       [-1.53658378e+00,  8.40798808e-02],\n",
        "       [ 1.13954609e+00,  6.31782001e-01],\n",
        "       [ 1.01119255e+00,  1.04360805e+00],\n",
        "       [-1.42039867e-01, -4.81230337e-01],\n",
        "       [-2.23120182e+00,  8.49162905e-02],\n",
        "       [ 1.25554811e-01, -1.01794793e+00],\n",
        "       [-1.72493509e+00, -6.94426177e-01],\n",
        "       [-1.60434630e+00,  4.45550868e-01],\n",
        "       [ 7.37153979e-01,  9.26560744e-01],\n",
        "       [ 6.72905271e-01,  1.13366030e+00],\n",
        "       [ 1.20066456e+00,  7.26273093e-01],\n",
        "       [ 7.58747209e-02, -9.83378326e-01],\n",
        "       [ 1.28783262e+00,  1.18088601e+00],\n",
        "       [ 1.06521930e+00,  1.00714746e+00],\n",
        "       [ 1.05871698e+00,  1.12956519e+00],\n",
        "       [-1.12643410e+00,  1.66787744e-01],\n",
        "       [-1.10157218e+00, -3.64137806e-01],\n",
        "       [ 2.35118217e-01, -1.39769949e-01],\n",
        "       [ 1.13853795e+00,  1.01018519e+00],\n",
        "       [ 5.31205654e-01, -8.81990792e-01],\n",
        "       [ 4.33085936e-01, -7.64059042e-01],\n",
        "       [-4.48926156e-03, -1.30548411e+00],\n",
        "       [-1.76348589e+00, -4.97430739e-01],\n",
        "       [ 1.36485681e+00,  5.83404699e-01],\n",
        "       [ 5.66923900e-01,  1.51391963e+00],\n",
        "       [ 1.35736826e+00,  6.70915318e-01],\n",
        "       [ 1.07173397e+00,  6.11990884e-01],\n",
        "       [ 1.00106915e+00,  8.93815326e-01],\n",
        "       [ 1.33091007e+00,  8.79773879e-01],\n",
        "       [-1.79603740e+00, -3.53883973e-02],\n",
        "       [-1.27222979e+00,  4.00156642e-01],\n",
        "       [ 8.47480603e-01,  1.17032364e+00],\n",
        "       [-1.50989129e+00, -7.12318330e-01],\n",
        "       [-1.24953576e+00, -5.57859730e-01],\n",
        "       [-1.27717973e+00, -5.99350550e-01],\n",
        "       [-1.81946743e+00,  7.37057673e-01],\n",
        "       [ 1.19949867e+00,  1.56969386e+00],\n",
        "       [-1.25543847e+00, -2.33892826e-01],\n",
        "       [-1.63052058e+00,  1.61455865e-01],\n",
        "       [ 1.10611305e+00,  7.39698224e-01],\n",
        "       [ 6.70193192e-01,  8.70567001e-01],\n",
        "       [ 3.69670156e-01, -6.94645306e-01],\n",
        "       [-1.26362293e+00, -6.99249285e-01],\n",
        "       [-3.66687507e-01, -1.35310260e+00],\n",
        "       [ 2.44032147e-01, -6.59470793e-01],\n",
        "       [-1.27679142e+00, -4.85453412e-01],\n",
        "       [ 3.77473612e-02, -6.99251605e-01],\n",
        "       [-2.19148539e+00, -4.91199500e-01],\n",
        "       [-2.93277777e-01, -5.89488212e-01],\n",
        "       [-1.65737397e+00, -2.98337786e-01],\n",
        "       [ 7.36638861e-01,  5.78037057e-01],\n",
        "       [ 1.13709081e+00,  1.30119754e+00],\n",
        "       [-1.44146601e+00,  3.13934680e-02],\n",
        "       [ 5.92360708e-01,  1.22545114e+00],\n",
        "       [ 6.51719414e-01,  4.92674894e-01],\n",
        "       [ 5.94559139e-01,  8.25637315e-01],\n",
        "       [-1.87900722e+00, -5.21899626e-01],\n",
        "       [ 2.15225041e-01, -1.28269851e+00],\n",
        "       [ 4.99145965e-01, -6.70268634e-01],\n",
        "       [-1.82954176e+00, -3.39269731e-01],\n",
        "       [ 7.92721403e-01,  1.33785606e+00],\n",
        "       [ 9.54363372e-01,  9.80396626e-01],\n",
        "       [-1.35359846e+00,  1.03976340e-01],\n",
        "       [ 1.05595062e+00,  8.07031927e-01],\n",
        "       [-1.94311010e+00, -1.18976964e-01],\n",
        "       [-1.39604137e+00, -3.10095976e-01],\n",
        "       [ 1.28977624e+00,  1.01753365e+00],\n",
        "       [-1.59503139e+00, -5.40574609e-01],\n",
        "       [-1.41994046e+00, -3.81032569e-01],\n",
        "       [-2.35569801e-02, -1.10133702e+00],\n",
        "       [-1.26038568e+00, -6.93273886e-01],\n",
        "       [ 9.60215981e-01, -8.11553694e-01],\n",
        "       [ 5.51803308e-01, -1.01793176e+00],\n",
        "       [ 3.70185085e-01, -1.06885468e+00],\n",
        "       [ 8.25529207e-01,  8.77007060e-01],\n",
        "       [-1.87032595e+00,  2.87507199e-01],\n",
        "       [-1.56260769e+00, -1.89196712e-01],\n",
        "       [-1.26346548e+00, -7.74725237e-01],\n",
        "       [-6.33800421e-02, -7.59400611e-01],\n",
        "       [ 8.85298280e-01,  8.85620519e-01],\n",
        "       [-1.43324686e-01, -1.16083678e+00],\n",
        "       [-1.83908725e+00, -3.26655515e-01],\n",
        "       [ 2.74709229e-01, -1.04546829e+00],\n",
        "       [-1.45703573e+00, -2.91842036e-01],\n",
        "       [-1.59048842e+00,  1.66063031e-01],\n",
        "       [ 9.25549284e-01,  7.41406406e-01],\n",
        "       [ 1.97245469e-01, -7.80703225e-01],\n",
        "       [ 2.88401697e-01, -8.32425551e-01],\n",
        "       [ 7.24141618e-01, -7.99149200e-01],\n",
        "       [-1.62658639e+00, -1.80005543e-01],\n",
        "       [ 5.84481588e-01,  1.13195640e+00],\n",
        "       [ 1.02146732e+00,  4.59657799e-01],\n",
        "       [ 8.65050554e-01,  9.57714887e-01],\n",
        "       [ 3.98717766e-01, -1.24273147e+00],\n",
        "       [ 8.62234892e-01,  1.10955561e+00],\n",
        "       [-1.35999430e+00,  2.49942654e-02],\n",
        "       [-1.19178505e+00, -3.82946323e-02],\n",
        "       [ 1.29392424e+00,  1.10320509e+00],\n",
        "       [ 1.25679630e+00, -7.79857582e-01],\n",
        "       [ 9.38040302e-02, -5.53247258e-01],\n",
        "       [-1.73512175e+00, -9.76271667e-02],\n",
        "       [ 2.23153587e-01, -9.43474351e-01],\n",
        "       [ 4.01989100e-01, -1.10963051e+00],\n",
        "       [-1.42244158e+00,  1.81914703e-01],\n",
        "       [ 3.92476267e-01, -8.78426277e-01],\n",
        "       [ 1.25181875e+00,  6.93614996e-01],\n",
        "       [ 1.77481317e-02, -7.20304235e-01],\n",
        "       [-1.87752521e+00, -2.63870424e-01],\n",
        "       [-1.58063602e+00, -5.50456344e-01],\n",
        "       [-1.59589493e+00, -1.53932892e-01],\n",
        "       [-1.01829770e+00,  3.88542370e-02],\n",
        "       [ 1.24819659e+00,  6.60041803e-01],\n",
        "       [-1.25551377e+00, -2.96172009e-02],\n",
        "       [-1.41864559e+00, -3.58230179e-01],\n",
        "       [ 5.25758326e-01,  8.70500543e-01],\n",
        "       [ 5.55599988e-01,  1.18765072e+00],\n",
        "       [ 2.81344439e-02, -6.99111314e-01]])\n",
        "xs, ys = points[:, 0], points[:, 1]\n",
        "plt.scatter(xs, ys)\n",
        "plt.show()"
      ],
      "metadata": {
        "colab": {
          "base_uri": "https://localhost:8080/",
          "height": 265
        },
        "id": "0lAUhPYNTiyD",
        "outputId": "3a29d8e2-6196-441d-c461-c46a84586d32"
      },
      "execution_count": null,
      "outputs": [
        {
          "output_type": "display_data",
          "data": {
            "text/plain": [
              "<Figure size 432x288 with 1 Axes>"
            ],
            "image/png": "[encoded data removed]"
          },
          "metadata": {
            "needs_background": "light"
          }
        }
      ]
    },
    {
      "cell_type": "markdown",
      "source": [
        "### ***Clustering 2D points***\n",
        "\n",
        "From the scatter plot of the previous exercise, you saw that the points seem to separate into 3 clusters. You'll now create a KMeans model to find 3 clusters, and fit it to the data points from the previous exercise. After the model has been fit, you'll obtain the cluster labels for some new points using the **`.predict()`** method.\n",
        "\n",
        "You are given the array points from the previous exercise, and also an array `new_points`.\n",
        "\n",
        "* Import `KMeans` from `sklearn.cluster`.\n",
        "* Using `KMeans()`, create a KMeans instance called `model` to find `3` clusters. To specify the number of clusters, use the **`n_clusters`** keyword argument.\n",
        "* Use the **`.fit()`** method of model to fit the model to the array of points `points`.\n",
        "* Use the **`.predict()`** method of model to predict the cluster labels of `new_points`, assigning the result to `labels`.\n"
      ],
      "metadata": {
        "id": "-z3j4N-KTIfI"
      }
    },
    {
      "cell_type": "code",
      "source": [
        "from sklearn.cluster import KMeans\n",
        "\n",
        "# Create a KMeans instance with 3 clusters: model\n",
        "model = KMeans(n_clusters=3)\n",
        "\n",
        "# Fit model to points\n",
        "model.fit(points)\n",
        "\n",
        "# Determine the cluster labels of new_points: labels\n",
        "labels = model.predict(new_points)\n",
        "\n",
        "# Print cluster labels of new_points\n",
        "print(labels)"
      ],
      "metadata": {
        "colab": {
          "base_uri": "https://localhost:8080/"
        },
        "id": "LZfPhuNFTCB8",
        "outputId": "efaaf493-fe12-4843-dbfb-20196a17eb4f"
      },
      "execution_count": null,
      "outputs": [
        {
          "output_type": "stream",
          "name": "stdout",
          "text": [
            "[1 2 0 1 2 1 2 2 2 0 1 2 2 0 0 2 0 0 2 2 0 2 1 2 1 0 2 0 0 1 1 2 2 2 0 1 2\n",
            " 2 1 2 0 1 1 0 1 2 0 0 2 2 2 2 0 0 1 1 0 0 0 1 1 2 2 2 1 2 0 2 1 0 1 1 1 2\n",
            " 1 0 0 1 2 0 1 0 1 2 0 2 0 1 2 2 2 1 2 2 1 0 0 0 0 1 2 1 0 0 1 1 2 1 0 0 1\n",
            " 0 0 0 2 2 2 2 0 0 2 1 2 0 2 1 0 2 0 0 2 0 2 0 1 2 1 1 2 0 1 2 1 1 0 2 2 1\n",
            " 0 1 0 2 1 0 0 1 0 2 2 0 2 0 0 2 2 1 2 2 0 1 0 1 1 2 1 2 2 1 1 0 1 1 1 0 2\n",
            " 2 1 0 1 0 0 2 2 2 1 2 2 2 0 0 1 2 1 1 1 0 2 2 2 2 2 2 0 0 2 0 0 0 0 2 0 0\n",
            " 2 2 1 0 1 1 0 1 0 1 0 2 2 0 2 2 2 0 1 1 0 2 2 0 2 0 0 2 0 0 1 0 1 1 1 2 0\n",
            " 0 0 1 2 1 0 1 0 0 2 1 1 1 0 2 2 2 1 2 0 0 2 1 1 0 1 1 0 1 2 1 0 0 0 0 2 0\n",
            " 0 2 2 1]\n"
          ]
        }
      ]
    },
    {
      "cell_type": "markdown",
      "source": [
        "It is not easy to inspect the clustering by just looking at the printed labels. A visualization would be far more useful.\n",
        "\n",
        "### ***Inspect your clustering***\n",
        "\n",
        "Let's now inspect the clustering you performed in the previous exercise!\n",
        "\n",
        "A solution to the previous exercise has already run, so `new_points` is an array of points and `labels` is the array of their cluster labels.\n",
        "\n",
        "* Assign column `0` of `new_points` to `xs`, and column `1` of `new_points` to `ys`.\n",
        "* Make a scatter plot of `xs` and `ys`, specifying the **`c=labels`** keyword arguments to color the points by their cluster label. Also specify **`alpha=0.5`**.\n",
        "* Compute the coordinates of the centroids using the **`.cluster_centers_`** attribute of model.\n",
        "* Assign column `0` of centroids to `centroids_x`, and column `1` of centroids to `centroids_y`.\n",
        "* Make a scatter plot of `centroids_x` and `centroids_y`, using `'D'` (a diamond) as a `marker` by specifying the marker parameter. Set the size of the markers to be 50 using `s=50`."
      ],
      "metadata": {
        "id": "OZBRpZ8RVeYV"
      }
    },
    {
      "cell_type": "code",
      "source": [
        "# Assign the columns of new_points: xs and ys\n",
        "xs = new_points[:, 0]\n",
        "ys = new_points[:, 1]\n",
        "\n",
        "# Make a scatter plot of xs and ys, using labels to define the colors\n",
        "plt.scatter(xs, ys, c=labels, alpha=0.5)\n",
        "\n",
        "# Assign the cluster centers: centroids\n",
        "centroids = model.cluster_centers_\n",
        "\n",
        "# Assign the columns of centroids: centroids_x, centroids_y\n",
        "centroids_x = centroids[:,0]\n",
        "centroids_y = centroids[:,1]\n",
        "\n",
        "# Make a scatter plot of centroids_x and centroids_y\n",
        "plt.scatter(centroids_x, centroids_y, marker='D', s=50)\n",
        "plt.show()"
      ],
      "metadata": {
        "colab": {
          "base_uri": "https://localhost:8080/",
          "height": 265
        },
        "id": "tWzt3cqpVDfS",
        "outputId": "b37fa636-0d6b-4282-b63b-26122d525f7c"
      },
      "execution_count": null,
      "outputs": [
        {
          "output_type": "display_data",
          "data": {
            "text/plain": [
              "<Figure size 432x288 with 1 Axes>"
            ],
            "image/png": "[encoded data removed]"
          },
          "metadata": {
            "needs_background": "light"
          }
        }
      ]
    },
    {
      "cell_type": "markdown",
      "source": [
        "How can you be sure that 3 clusters is the correct choice? In other words, how can you evaluate the quality of a clustering? \n",
        "\n",
        "\n",
        "# ***Inertia measures clustering quality***\n",
        "\n",
        "* k-means attempts to minimize the inertia when choosing\n",
        "clusters\n",
        "* Lower inertia is better, but not too many clusters!\n",
        "* เลือกจากจุดหักมุม ในรูปกราฟ"
      ],
      "metadata": {
        "id": "ue36m7vOXP7B"
      }
    },
    {
      "cell_type": "code",
      "source": [
        "k = np.arange(1, 11)\n",
        "inertia = np.empty(10)\n",
        "\n",
        "for i in range(1, 11):\n",
        "    model = KMeans(n_clusters=i) # ใช้ 3 เพราะ label จริงมีสามชนิด\n",
        "    model.fit(samples)\n",
        "    inertia[i-1] = model.inertia_\n",
        "    \n",
        "plt.plot(k, inertia, marker='o')\n",
        "plt.xlabel('number of clusters, k')\n",
        "plt.ylabel('inertia')\n",
        "plt.xticks(np.arange(1,))\n",
        "plt.show()"
      ],
      "metadata": {
        "colab": {
          "base_uri": "https://localhost:8080/",
          "height": 279
        },
        "id": "JnALMLSvXFrv",
        "outputId": "c0a37a6c-58d0-46ae-9c10-482e279bc38e"
      },
      "execution_count": null,
      "outputs": [
        {
          "output_type": "display_data",
          "data": {
            "text/plain": [
              "<Figure size 432x288 with 1 Axes>"
            ],
            "image/png": "[encoded data removed]"
          },
          "metadata": {
            "needs_background": "light"
          }
        }
      ]
    },
    {
      "cell_type": "markdown",
      "source": [
        "### ***How many clusters of grain?***\n",
        "\n",
        "In the video, you learned how to choose a good number of clusters for a dataset using the k-means inertia graph. You are given an array `samples` containing the measurements (such as area, perimeter, length, and several others) of samples of grain. What's a good number of clusters in this case?\n",
        "\n",
        "For each of the given values of `k`, perform the following steps:\n",
        "\n",
        "* Create a `KMeans` instance called `model` with `k` clusters.\n",
        "* Fit the model to the grain data `samples`.\n",
        "* Append the value of the `inertia_` attribute of `model` to the list `inertias`.\n"
      ],
      "metadata": {
        "id": "DpCNjO_zh5E9"
      }
    },
    {
      "cell_type": "code",
      "source": [
        "samples = np.array([[15.26  , 14.84  ,  0.871 ,  5.763 ,  3.312 ,  2.221 ,  5.22  ],\n",
        "       [14.88  , 14.57  ,  0.8811,  5.554 ,  3.333 ,  1.018 ,  4.956 ],\n",
        "       [14.29  , 14.09  ,  0.905 ,  5.291 ,  3.337 ,  2.699 ,  4.825 ],\n",
        "       [13.84  , 13.94  ,  0.8955,  5.324 ,  3.379 ,  2.259 ,  4.805 ],\n",
        "       [16.14  , 14.99  ,  0.9034,  5.658 ,  3.562 ,  1.355 ,  5.175 ],\n",
        "       [14.38  , 14.21  ,  0.8951,  5.386 ,  3.312 ,  2.462 ,  4.956 ],\n",
        "       [14.69  , 14.49  ,  0.8799,  5.563 ,  3.259 ,  3.586 ,  5.219 ],\n",
        "       [14.11  , 14.1   ,  0.8911,  5.42  ,  3.302 ,  2.7   ,  5.    ],\n",
        "       [16.63  , 15.46  ,  0.8747,  6.053 ,  3.465 ,  2.04  ,  5.877 ],\n",
        "       [16.44  , 15.25  ,  0.888 ,  5.884 ,  3.505 ,  1.969 ,  5.533 ],\n",
        "       [15.26  , 14.85  ,  0.8696,  5.714 ,  3.242 ,  4.543 ,  5.314 ],\n",
        "       [14.03  , 14.16  ,  0.8796,  5.438 ,  3.201 ,  1.717 ,  5.001 ],\n",
        "       [13.89  , 14.02  ,  0.888 ,  5.439 ,  3.199 ,  3.986 ,  4.738 ],\n",
        "       [13.78  , 14.06  ,  0.8759,  5.479 ,  3.156 ,  3.136 ,  4.872 ],\n",
        "       [13.74  , 14.05  ,  0.8744,  5.482 ,  3.114 ,  2.932 ,  4.825 ],\n",
        "       [14.59  , 14.28  ,  0.8993,  5.351 ,  3.333 ,  4.185 ,  4.781 ],\n",
        "       [13.99  , 13.83  ,  0.9183,  5.119 ,  3.383 ,  5.234 ,  4.781 ],\n",
        "       [15.69  , 14.75  ,  0.9058,  5.527 ,  3.514 ,  1.599 ,  5.046 ],\n",
        "       [14.7   , 14.21  ,  0.9153,  5.205 ,  3.466 ,  1.767 ,  4.649 ],\n",
        "       [12.72  , 13.57  ,  0.8686,  5.226 ,  3.049 ,  4.102 ,  4.914 ],\n",
        "       [14.16  , 14.4   ,  0.8584,  5.658 ,  3.129 ,  3.072 ,  5.176 ],\n",
        "       [14.11  , 14.26  ,  0.8722,  5.52  ,  3.168 ,  2.688 ,  5.219 ],\n",
        "       [15.88  , 14.9   ,  0.8988,  5.618 ,  3.507 ,  0.7651,  5.091 ],\n",
        "       [12.08  , 13.23  ,  0.8664,  5.099 ,  2.936 ,  1.415 ,  4.961 ],\n",
        "       [15.01  , 14.76  ,  0.8657,  5.789 ,  3.245 ,  1.791 ,  5.001 ],\n",
        "       [16.19  , 15.16  ,  0.8849,  5.833 ,  3.421 ,  0.903 ,  5.307 ],\n",
        "       [13.02  , 13.76  ,  0.8641,  5.395 ,  3.026 ,  3.373 ,  4.825 ],\n",
        "       [12.74  , 13.67  ,  0.8564,  5.395 ,  2.956 ,  2.504 ,  4.869 ],\n",
        "       [14.11  , 14.18  ,  0.882 ,  5.541 ,  3.221 ,  2.754 ,  5.038 ],\n",
        "       [13.45  , 14.02  ,  0.8604,  5.516 ,  3.065 ,  3.531 ,  5.097 ],\n",
        "       [13.16  , 13.82  ,  0.8662,  5.454 ,  2.975 ,  0.8551,  5.056 ],\n",
        "       [15.49  , 14.94  ,  0.8724,  5.757 ,  3.371 ,  3.412 ,  5.228 ],\n",
        "       [14.09  , 14.41  ,  0.8529,  5.717 ,  3.186 ,  3.92  ,  5.299 ],\n",
        "       [13.94  , 14.17  ,  0.8728,  5.585 ,  3.15  ,  2.124 ,  5.012 ],\n",
        "       [15.05  , 14.68  ,  0.8779,  5.712 ,  3.328 ,  2.129 ,  5.36  ],\n",
        "       [16.12  , 15.    ,  0.9   ,  5.709 ,  3.485 ,  2.27  ,  5.443 ],\n",
        "       [16.2   , 15.27  ,  0.8734,  5.826 ,  3.464 ,  2.823 ,  5.527 ],\n",
        "       [17.08  , 15.38  ,  0.9079,  5.832 ,  3.683 ,  2.956 ,  5.484 ],\n",
        "       [14.8   , 14.52  ,  0.8823,  5.656 ,  3.288 ,  3.112 ,  5.309 ],\n",
        "       [14.28  , 14.17  ,  0.8944,  5.397 ,  3.298 ,  6.685 ,  5.001 ],\n",
        "       [13.54  , 13.85  ,  0.8871,  5.348 ,  3.156 ,  2.587 ,  5.178 ],\n",
        "       [13.5   , 13.85  ,  0.8852,  5.351 ,  3.158 ,  2.249 ,  5.176 ],\n",
        "       [13.16  , 13.55  ,  0.9009,  5.138 ,  3.201 ,  2.461 ,  4.783 ],\n",
        "       [15.5   , 14.86  ,  0.882 ,  5.877 ,  3.396 ,  4.711 ,  5.528 ],\n",
        "       [15.11  , 14.54  ,  0.8986,  5.579 ,  3.462 ,  3.128 ,  5.18  ],\n",
        "       [13.8   , 14.04  ,  0.8794,  5.376 ,  3.155 ,  1.56  ,  4.961 ],\n",
        "       [15.36  , 14.76  ,  0.8861,  5.701 ,  3.393 ,  1.367 ,  5.132 ],\n",
        "       [14.99  , 14.56  ,  0.8883,  5.57  ,  3.377 ,  2.958 ,  5.175 ],\n",
        "       [14.79  , 14.52  ,  0.8819,  5.545 ,  3.291 ,  2.704 ,  5.111 ],\n",
        "       [14.86  , 14.67  ,  0.8676,  5.678 ,  3.258 ,  2.129 ,  5.351 ],\n",
        "       [14.43  , 14.4   ,  0.8751,  5.585 ,  3.272 ,  3.975 ,  5.144 ],\n",
        "       [15.78  , 14.91  ,  0.8923,  5.674 ,  3.434 ,  5.593 ,  5.136 ],\n",
        "       [14.49  , 14.61  ,  0.8538,  5.715 ,  3.113 ,  4.116 ,  5.396 ],\n",
        "       [14.33  , 14.28  ,  0.8831,  5.504 ,  3.199 ,  3.328 ,  5.224 ],\n",
        "       [14.52  , 14.6   ,  0.8557,  5.741 ,  3.113 ,  1.481 ,  5.487 ],\n",
        "       [15.03  , 14.77  ,  0.8658,  5.702 ,  3.212 ,  1.933 ,  5.439 ],\n",
        "       [14.46  , 14.35  ,  0.8818,  5.388 ,  3.377 ,  2.802 ,  5.044 ],\n",
        "       [14.92  , 14.43  ,  0.9006,  5.384 ,  3.412 ,  1.142 ,  5.088 ],\n",
        "       [15.38  , 14.77  ,  0.8857,  5.662 ,  3.419 ,  1.999 ,  5.222 ],\n",
        "       [12.11  , 13.47  ,  0.8392,  5.159 ,  3.032 ,  1.502 ,  4.519 ],\n",
        "       [11.42  , 12.86  ,  0.8683,  5.008 ,  2.85  ,  2.7   ,  4.607 ],\n",
        "       [11.23  , 12.63  ,  0.884 ,  4.902 ,  2.879 ,  2.269 ,  4.703 ],\n",
        "       [12.36  , 13.19  ,  0.8923,  5.076 ,  3.042 ,  3.22  ,  4.605 ],\n",
        "       [13.22  , 13.84  ,  0.868 ,  5.395 ,  3.07  ,  4.157 ,  5.088 ],\n",
        "       [12.78  , 13.57  ,  0.8716,  5.262 ,  3.026 ,  1.176 ,  4.782 ],\n",
        "       [12.88  , 13.5   ,  0.8879,  5.139 ,  3.119 ,  2.352 ,  4.607 ],\n",
        "       [14.34  , 14.37  ,  0.8726,  5.63  ,  3.19  ,  1.313 ,  5.15  ],\n",
        "       [14.01  , 14.29  ,  0.8625,  5.609 ,  3.158 ,  2.217 ,  5.132 ],\n",
        "       [14.37  , 14.39  ,  0.8726,  5.569 ,  3.153 ,  1.464 ,  5.3   ],\n",
        "       [12.73  , 13.75  ,  0.8458,  5.412 ,  2.882 ,  3.533 ,  5.067 ],\n",
        "       [17.63  , 15.98  ,  0.8673,  6.191 ,  3.561 ,  4.076 ,  6.06  ],\n",
        "       [16.84  , 15.67  ,  0.8623,  5.998 ,  3.484 ,  4.675 ,  5.877 ],\n",
        "       [17.26  , 15.73  ,  0.8763,  5.978 ,  3.594 ,  4.539 ,  5.791 ],\n",
        "       [19.11  , 16.26  ,  0.9081,  6.154 ,  3.93  ,  2.936 ,  6.079 ],\n",
        "       [16.82  , 15.51  ,  0.8786,  6.017 ,  3.486 ,  4.004 ,  5.841 ],\n",
        "       [16.77  , 15.62  ,  0.8638,  5.927 ,  3.438 ,  4.92  ,  5.795 ],\n",
        "       [17.32  , 15.91  ,  0.8599,  6.064 ,  3.403 ,  3.824 ,  5.922 ],\n",
        "       [20.71  , 17.23  ,  0.8763,  6.579 ,  3.814 ,  4.451 ,  6.451 ],\n",
        "       [18.94  , 16.49  ,  0.875 ,  6.445 ,  3.639 ,  5.064 ,  6.362 ],\n",
        "       [17.12  , 15.55  ,  0.8892,  5.85  ,  3.566 ,  2.858 ,  5.746 ],\n",
        "       [16.53  , 15.34  ,  0.8823,  5.875 ,  3.467 ,  5.532 ,  5.88  ],\n",
        "       [18.72  , 16.19  ,  0.8977,  6.006 ,  3.857 ,  5.324 ,  5.879 ],\n",
        "       [20.2   , 16.89  ,  0.8894,  6.285 ,  3.864 ,  5.173 ,  6.187 ],\n",
        "       [19.57  , 16.74  ,  0.8779,  6.384 ,  3.772 ,  1.472 ,  6.273 ],\n",
        "       [19.51  , 16.71  ,  0.878 ,  6.366 ,  3.801 ,  2.962 ,  6.185 ],\n",
        "       [18.27  , 16.09  ,  0.887 ,  6.173 ,  3.651 ,  2.443 ,  6.197 ],\n",
        "       [18.88  , 16.26  ,  0.8969,  6.084 ,  3.764 ,  1.649 ,  6.109 ],\n",
        "       [18.98  , 16.66  ,  0.859 ,  6.549 ,  3.67  ,  3.691 ,  6.498 ],\n",
        "       [21.18  , 17.21  ,  0.8989,  6.573 ,  4.033 ,  5.78  ,  6.231 ],\n",
        "       [20.88  , 17.05  ,  0.9031,  6.45  ,  4.032 ,  5.016 ,  6.321 ],\n",
        "       [20.1   , 16.99  ,  0.8746,  6.581 ,  3.785 ,  1.955 ,  6.449 ],\n",
        "       [18.76  , 16.2   ,  0.8984,  6.172 ,  3.796 ,  3.12  ,  6.053 ],\n",
        "       [18.81  , 16.29  ,  0.8906,  6.272 ,  3.693 ,  3.237 ,  6.053 ],\n",
        "       [18.59  , 16.05  ,  0.9066,  6.037 ,  3.86  ,  6.001 ,  5.877 ],\n",
        "       [18.36  , 16.52  ,  0.8452,  6.666 ,  3.485 ,  4.933 ,  6.448 ],\n",
        "       [16.87  , 15.65  ,  0.8648,  6.139 ,  3.463 ,  3.696 ,  5.967 ],\n",
        "       [19.31  , 16.59  ,  0.8815,  6.341 ,  3.81  ,  3.477 ,  6.238 ],\n",
        "       [18.98  , 16.57  ,  0.8687,  6.449 ,  3.552 ,  2.144 ,  6.453 ],\n",
        "       [18.17  , 16.26  ,  0.8637,  6.271 ,  3.512 ,  2.853 ,  6.273 ],\n",
        "       [18.72  , 16.34  ,  0.881 ,  6.219 ,  3.684 ,  2.188 ,  6.097 ],\n",
        "       [16.41  , 15.25  ,  0.8866,  5.718 ,  3.525 ,  4.217 ,  5.618 ],\n",
        "       [17.99  , 15.86  ,  0.8992,  5.89  ,  3.694 ,  2.068 ,  5.837 ],\n",
        "       [19.46  , 16.5   ,  0.8985,  6.113 ,  3.892 ,  4.308 ,  6.009 ],\n",
        "       [19.18  , 16.63  ,  0.8717,  6.369 ,  3.681 ,  3.357 ,  6.229 ],\n",
        "       [18.95  , 16.42  ,  0.8829,  6.248 ,  3.755 ,  3.368 ,  6.148 ],\n",
        "       [18.83  , 16.29  ,  0.8917,  6.037 ,  3.786 ,  2.553 ,  5.879 ],\n",
        "       [18.85  , 16.17  ,  0.9056,  6.152 ,  3.806 ,  2.843 ,  6.2   ],\n",
        "       [17.63  , 15.86  ,  0.88  ,  6.033 ,  3.573 ,  3.747 ,  5.929 ],\n",
        "       [19.94  , 16.92  ,  0.8752,  6.675 ,  3.763 ,  3.252 ,  6.55  ],\n",
        "       [18.55  , 16.22  ,  0.8865,  6.153 ,  3.674 ,  1.738 ,  5.894 ],\n",
        "       [18.45  , 16.12  ,  0.8921,  6.107 ,  3.769 ,  2.235 ,  5.794 ],\n",
        "       [19.38  , 16.72  ,  0.8716,  6.303 ,  3.791 ,  3.678 ,  5.965 ],\n",
        "       [19.13  , 16.31  ,  0.9035,  6.183 ,  3.902 ,  2.109 ,  5.924 ],\n",
        "       [19.14  , 16.61  ,  0.8722,  6.259 ,  3.737 ,  6.682 ,  6.053 ],\n",
        "       [20.97  , 17.25  ,  0.8859,  6.563 ,  3.991 ,  4.677 ,  6.316 ],\n",
        "       [19.06  , 16.45  ,  0.8854,  6.416 ,  3.719 ,  2.248 ,  6.163 ],\n",
        "       [18.96  , 16.2   ,  0.9077,  6.051 ,  3.897 ,  4.334 ,  5.75  ],\n",
        "       [19.15  , 16.45  ,  0.889 ,  6.245 ,  3.815 ,  3.084 ,  6.185 ],\n",
        "       [18.89  , 16.23  ,  0.9008,  6.227 ,  3.769 ,  3.639 ,  5.966 ],\n",
        "       [20.03  , 16.9   ,  0.8811,  6.493 ,  3.857 ,  3.063 ,  6.32  ],\n",
        "       [20.24  , 16.91  ,  0.8897,  6.315 ,  3.962 ,  5.901 ,  6.188 ],\n",
        "       [18.14  , 16.12  ,  0.8772,  6.059 ,  3.563 ,  3.619 ,  6.011 ],\n",
        "       [16.17  , 15.38  ,  0.8588,  5.762 ,  3.387 ,  4.286 ,  5.703 ],\n",
        "       [18.43  , 15.97  ,  0.9077,  5.98  ,  3.771 ,  2.984 ,  5.905 ],\n",
        "       [15.99  , 14.89  ,  0.9064,  5.363 ,  3.582 ,  3.336 ,  5.144 ],\n",
        "       [18.75  , 16.18  ,  0.8999,  6.111 ,  3.869 ,  4.188 ,  5.992 ],\n",
        "       [18.65  , 16.41  ,  0.8698,  6.285 ,  3.594 ,  4.391 ,  6.102 ],\n",
        "       [17.98  , 15.85  ,  0.8993,  5.979 ,  3.687 ,  2.257 ,  5.919 ],\n",
        "       [20.16  , 17.03  ,  0.8735,  6.513 ,  3.773 ,  1.91  ,  6.185 ],\n",
        "       [17.55  , 15.66  ,  0.8991,  5.791 ,  3.69  ,  5.366 ,  5.661 ],\n",
        "       [18.3   , 15.89  ,  0.9108,  5.979 ,  3.755 ,  2.837 ,  5.962 ],\n",
        "       [18.94  , 16.32  ,  0.8942,  6.144 ,  3.825 ,  2.908 ,  5.949 ],\n",
        "       [15.38  , 14.9   ,  0.8706,  5.884 ,  3.268 ,  4.462 ,  5.795 ],\n",
        "       [16.16  , 15.33  ,  0.8644,  5.845 ,  3.395 ,  4.266 ,  5.795 ],\n",
        "       [15.56  , 14.89  ,  0.8823,  5.776 ,  3.408 ,  4.972 ,  5.847 ],\n",
        "       [15.38  , 14.66  ,  0.899 ,  5.477 ,  3.465 ,  3.6   ,  5.439 ],\n",
        "       [17.36  , 15.76  ,  0.8785,  6.145 ,  3.574 ,  3.526 ,  5.971 ],\n",
        "       [15.57  , 15.15  ,  0.8527,  5.92  ,  3.231 ,  2.64  ,  5.879 ],\n",
        "       [15.6   , 15.11  ,  0.858 ,  5.832 ,  3.286 ,  2.725 ,  5.752 ],\n",
        "       [16.23  , 15.18  ,  0.885 ,  5.872 ,  3.472 ,  3.769 ,  5.922 ],\n",
        "       [13.07  , 13.92  ,  0.848 ,  5.472 ,  2.994 ,  5.304 ,  5.395 ],\n",
        "       [13.32  , 13.94  ,  0.8613,  5.541 ,  3.073 ,  7.035 ,  5.44  ],\n",
        "       [13.34  , 13.95  ,  0.862 ,  5.389 ,  3.074 ,  5.995 ,  5.307 ],\n",
        "       [12.22  , 13.32  ,  0.8652,  5.224 ,  2.967 ,  5.469 ,  5.221 ],\n",
        "       [11.82  , 13.4   ,  0.8274,  5.314 ,  2.777 ,  4.471 ,  5.178 ],\n",
        "       [11.21  , 13.13  ,  0.8167,  5.279 ,  2.687 ,  6.169 ,  5.275 ],\n",
        "       [11.43  , 13.13  ,  0.8335,  5.176 ,  2.719 ,  2.221 ,  5.132 ],\n",
        "       [12.49  , 13.46  ,  0.8658,  5.267 ,  2.967 ,  4.421 ,  5.002 ],\n",
        "       [12.7   , 13.71  ,  0.8491,  5.386 ,  2.911 ,  3.26  ,  5.316 ],\n",
        "       [10.79  , 12.93  ,  0.8107,  5.317 ,  2.648 ,  5.462 ,  5.194 ],\n",
        "       [11.83  , 13.23  ,  0.8496,  5.263 ,  2.84  ,  5.195 ,  5.307 ],\n",
        "       [12.01  , 13.52  ,  0.8249,  5.405 ,  2.776 ,  6.992 ,  5.27  ],\n",
        "       [12.26  , 13.6   ,  0.8333,  5.408 ,  2.833 ,  4.756 ,  5.36  ],\n",
        "       [11.18  , 13.04  ,  0.8266,  5.22  ,  2.693 ,  3.332 ,  5.001 ],\n",
        "       [11.36  , 13.05  ,  0.8382,  5.175 ,  2.755 ,  4.048 ,  5.263 ],\n",
        "       [11.19  , 13.05  ,  0.8253,  5.25  ,  2.675 ,  5.813 ,  5.219 ],\n",
        "       [11.34  , 12.87  ,  0.8596,  5.053 ,  2.849 ,  3.347 ,  5.003 ],\n",
        "       [12.13  , 13.73  ,  0.8081,  5.394 ,  2.745 ,  4.825 ,  5.22  ],\n",
        "       [11.75  , 13.52  ,  0.8082,  5.444 ,  2.678 ,  4.378 ,  5.31  ],\n",
        "       [11.49  , 13.22  ,  0.8263,  5.304 ,  2.695 ,  5.388 ,  5.31  ],\n",
        "       [12.54  , 13.67  ,  0.8425,  5.451 ,  2.879 ,  3.082 ,  5.491 ],\n",
        "       [12.02  , 13.33  ,  0.8503,  5.35  ,  2.81  ,  4.271 ,  5.308 ],\n",
        "       [12.05  , 13.41  ,  0.8416,  5.267 ,  2.847 ,  4.988 ,  5.046 ],\n",
        "       [12.55  , 13.57  ,  0.8558,  5.333 ,  2.968 ,  4.419 ,  5.176 ],\n",
        "       [11.14  , 12.79  ,  0.8558,  5.011 ,  2.794 ,  6.388 ,  5.049 ],\n",
        "       [12.1   , 13.15  ,  0.8793,  5.105 ,  2.941 ,  2.201 ,  5.056 ],\n",
        "       [12.44  , 13.59  ,  0.8462,  5.319 ,  2.897 ,  4.924 ,  5.27  ],\n",
        "       [12.15  , 13.45  ,  0.8443,  5.417 ,  2.837 ,  3.638 ,  5.338 ],\n",
        "       [11.35  , 13.12  ,  0.8291,  5.176 ,  2.668 ,  4.337 ,  5.132 ],\n",
        "       [11.24  , 13.    ,  0.8359,  5.09  ,  2.715 ,  3.521 ,  5.088 ],\n",
        "       [11.02  , 13.    ,  0.8189,  5.325 ,  2.701 ,  6.735 ,  5.163 ],\n",
        "       [11.55  , 13.1   ,  0.8455,  5.167 ,  2.845 ,  6.715 ,  4.956 ],\n",
        "       [11.27  , 12.97  ,  0.8419,  5.088 ,  2.763 ,  4.309 ,  5.    ],\n",
        "       [11.4   , 13.08  ,  0.8375,  5.136 ,  2.763 ,  5.588 ,  5.089 ],\n",
        "       [10.83  , 12.96  ,  0.8099,  5.278 ,  2.641 ,  5.182 ,  5.185 ],\n",
        "       [10.8   , 12.57  ,  0.859 ,  4.981 ,  2.821 ,  4.773 ,  5.063 ],\n",
        "       [11.26  , 13.01  ,  0.8355,  5.186 ,  2.71  ,  5.335 ,  5.092 ],\n",
        "       [10.74  , 12.73  ,  0.8329,  5.145 ,  2.642 ,  4.702 ,  4.963 ],\n",
        "       [11.48  , 13.05  ,  0.8473,  5.18  ,  2.758 ,  5.876 ,  5.002 ],\n",
        "       [12.21  , 13.47  ,  0.8453,  5.357 ,  2.893 ,  1.661 ,  5.178 ],\n",
        "       [11.41  , 12.95  ,  0.856 ,  5.09  ,  2.775 ,  4.957 ,  4.825 ],\n",
        "       [12.46  , 13.41  ,  0.8706,  5.236 ,  3.017 ,  4.987 ,  5.147 ],\n",
        "       [12.19  , 13.36  ,  0.8579,  5.24  ,  2.909 ,  4.857 ,  5.158 ],\n",
        "       [11.65  , 13.07  ,  0.8575,  5.108 ,  2.85  ,  5.209 ,  5.135 ],\n",
        "       [12.89  , 13.77  ,  0.8541,  5.495 ,  3.026 ,  6.185 ,  5.316 ],\n",
        "       [11.56  , 13.31  ,  0.8198,  5.363 ,  2.683 ,  4.062 ,  5.182 ],\n",
        "       [11.81  , 13.45  ,  0.8198,  5.413 ,  2.716 ,  4.898 ,  5.352 ],\n",
        "       [10.91  , 12.8   ,  0.8372,  5.088 ,  2.675 ,  4.179 ,  4.956 ],\n",
        "       [11.23  , 12.82  ,  0.8594,  5.089 ,  2.821 ,  7.524 ,  4.957 ],\n",
        "       [10.59  , 12.41  ,  0.8648,  4.899 ,  2.787 ,  4.975 ,  4.794 ],\n",
        "       [10.93  , 12.8   ,  0.839 ,  5.046 ,  2.717 ,  5.398 ,  5.045 ],\n",
        "       [11.27  , 12.86  ,  0.8563,  5.091 ,  2.804 ,  3.985 ,  5.001 ],\n",
        "       [11.87  , 13.02  ,  0.8795,  5.132 ,  2.953 ,  3.597 ,  5.132 ],\n",
        "       [10.82  , 12.83  ,  0.8256,  5.18  ,  2.63  ,  4.853 ,  5.089 ],\n",
        "       [12.11  , 13.27  ,  0.8639,  5.236 ,  2.975 ,  4.132 ,  5.012 ],\n",
        "       [12.8   , 13.47  ,  0.886 ,  5.16  ,  3.126 ,  4.873 ,  4.914 ],\n",
        "       [12.79  , 13.53  ,  0.8786,  5.224 ,  3.054 ,  5.483 ,  4.958 ],\n",
        "       [13.37  , 13.78  ,  0.8849,  5.32  ,  3.128 ,  4.67  ,  5.091 ],\n",
        "       [12.62  , 13.67  ,  0.8481,  5.41  ,  2.911 ,  3.306 ,  5.231 ],\n",
        "       [12.76  , 13.38  ,  0.8964,  5.073 ,  3.155 ,  2.828 ,  4.83  ],\n",
        "       [12.38  , 13.44  ,  0.8609,  5.219 ,  2.989 ,  5.472 ,  5.045 ],\n",
        "       [12.67  , 13.32  ,  0.8977,  4.984 ,  3.135 ,  2.3   ,  4.745 ],\n",
        "       [11.18  , 12.72  ,  0.868 ,  5.009 ,  2.81  ,  4.051 ,  4.828 ],\n",
        "       [12.7   , 13.41  ,  0.8874,  5.183 ,  3.091 ,  8.456 ,  5.    ],\n",
        "       [12.37  , 13.47  ,  0.8567,  5.204 ,  2.96  ,  3.919 ,  5.001 ],\n",
        "       [12.19  , 13.2   ,  0.8783,  5.137 ,  2.981 ,  3.631 ,  4.87  ],\n",
        "       [11.23  , 12.88  ,  0.8511,  5.14  ,  2.795 ,  4.325 ,  5.003 ],\n",
        "       [13.2   , 13.66  ,  0.8883,  5.236 ,  3.232 ,  8.315 ,  5.056 ],\n",
        "       [11.84  , 13.21  ,  0.8521,  5.175 ,  2.836 ,  3.598 ,  5.044 ],\n",
        "       [12.3   , 13.34  ,  0.8684,  5.243 ,  2.974 ,  5.637 ,  5.063 ]])\n",
        "\n",
        "ks = range(1, 6)\n",
        "inertias = []\n",
        "\n",
        "for k in ks:\n",
        "    # Create a KMeans instance with k clusters: model\n",
        "    model = KMeans(n_clusters=k)\n",
        "    \n",
        "    # Fit model to samples\n",
        "    model.fit(samples)\n",
        "    \n",
        "    # Append the inertia to the list of inertias\n",
        "    inertias.append(model.inertia_)\n",
        "    \n",
        "# Plot ks vs inertias\n",
        "plt.plot(ks, inertias, '-o')\n",
        "plt.xlabel('number of clusters, k')\n",
        "plt.ylabel('inertia')\n",
        "plt.xticks(ks)\n",
        "plt.show()"
      ],
      "metadata": {
        "colab": {
          "base_uri": "https://localhost:8080/",
          "height": 279
        },
        "id": "H8-qD3aNZ-Ma",
        "outputId": "9d546592-7c1e-4a3a-a7f8-7f26ed02f130"
      },
      "execution_count": null,
      "outputs": [
        {
          "output_type": "display_data",
          "data": {
            "text/plain": [
              "<Figure size 432x288 with 1 Axes>"
            ],
            "image/png": "[encoded data removed]"
          },
          "metadata": {
            "needs_background": "light"
          }
        }
      ]
    },
    {
      "cell_type": "markdown",
      "source": [
        "The inertia decreases very slowly from 3 clusters to 4, so it looks like 3 clusters would be a good choice for this data.\n",
        "\n",
        "### ***Evaluating the grain clustering***\n",
        "\n",
        "In the previous exercise, you observed from the inertia plot that 3 is a good number of clusters for the grain data. In fact, the grain samples come from a mix of 3 different grain varieties: \"Kama\", \"Rosa\" and \"Canadian\". In this exercise, cluster the grain samples into three clusters, and compare the clusters to the grain varieties using a cross-tabulation.\n",
        "\n",
        "You have the array `samples` of grain samples, and a list varieties giving the grain variety for each sample. \n",
        "\n",
        "* Create a `KMeans` model called `model` with `3` clusters.\n",
        "* Use the `.fit_predict()` method of `model` to fit it to `samples` and derive the cluster labels. Using `.fit_predict()` is the same as using `.fit()` followed by `.predict()`.\n",
        "* Create a DataFrame `df` with two columns named `'labels'` and `'varieties'`, using `labels` and `varieties`, respectively, for the column values.\n",
        "* Use the `pd.crosstab()` function on `df['labels']` and `df['varieties']` to count the number of times each grain variety coincides with each cluster label. Assign the result to `ct`."
      ],
      "metadata": {
        "id": "WBa6HOr2i_xK"
      }
    },
    {
      "cell_type": "code",
      "source": [
        "varieties = ['Kama wheat',  'Kama wheat', 'Kama wheat', 'Kama wheat', 'Kama wheat', 'Kama wheat', 'Kama wheat', 'Kama wheat', 'Kama wheat', 'Kama wheat', 'Kama wheat', 'Kama wheat','Kama wheat', 'Kama wheat', 'Kama wheat', 'Kama wheat', 'Kama wheat', 'Kama wheat', 'Kama wheat', 'Kama wheat', 'Kama wheat', 'Kama wheat', 'Kama wheat', 'Kama wheat', 'Kama wheat', 'Kama wheat', 'Kama wheat', 'Kama wheat', 'Kama wheat', 'Kama wheat', 'Kama wheat', 'Kama wheat','Kama wheat','Kama wheat', 'Kama wheat', 'Kama wheat', 'Kama wheat', 'Kama wheat', 'Kama wheat', 'Kama wheat', 'Kama wheat', 'Kama wheat', 'Kama wheat', 'Kama wheat', 'Kama wheat', 'Kama wheat','Kama wheat', 'Kama wheat', 'Kama wheat', 'Kama wheat', 'Kama wheat', 'Kama wheat', 'Kama wheat', 'Kama wheat', 'Kama wheat', 'Kama wheat', 'Kama wheat','Kama wheat', 'Kama wheat', 'Kama wheat', 'Kama wheat', 'Kama wheat', 'Kama wheat', 'Kama wheat', 'Kama wheat', 'Kama wheat', 'Kama wheat','Kama wheat', 'Kama wheat', 'Kama wheat', 'Rosa wheat', 'Rosa wheat', 'Rosa wheat', 'Rosa wheat', 'Rosa wheat', 'Rosa wheat', 'Rosa wheat', 'Rosa wheat', 'Rosa wheat', 'Rosa wheat', 'Rosa wheat', 'Rosa wheat', 'Rosa wheat', 'Rosa wheat', 'Rosa wheat', 'Rosa wheat', 'Rosa wheat', 'Rosa wheat', 'Rosa wheat', 'Rosa wheat', 'Rosa wheat', 'Rosa wheat', 'Rosa wheat', 'Rosa wheat', 'Rosa wheat', 'Rosa wheat', 'Rosa wheat', 'Rosa wheat', 'Rosa wheat', 'Rosa wheat', 'Rosa wheat', 'Rosa wheat', 'Rosa wheat', 'Rosa wheat','Rosa wheat', 'Rosa wheat', 'Rosa wheat', 'Rosa wheat', 'Rosa wheat', 'Rosa wheat', 'Rosa wheat', 'Rosa wheat', 'Rosa wheat', 'Rosa wheat', 'Rosa wheat', 'Rosa wheat', 'Rosa wheat', 'Rosa wheat', 'Rosa wheat', 'Rosa wheat', 'Rosa wheat', 'Rosa wheat', 'Rosa wheat', 'Rosa wheat', 'Rosa wheat', 'Rosa wheat', 'Rosa wheat', 'Rosa wheat', 'Rosa wheat', 'Rosa wheat','Rosa wheat', 'Rosa wheat', 'Rosa wheat', 'Rosa wheat', 'Rosa wheat', 'Rosa wheat', 'Rosa wheat', 'Rosa wheat', 'Rosa wheat', 'Rosa wheat', 'Canadian wheat', 'Canadian wheat', 'Canadian wheat', 'Canadian wheat', 'Canadian wheat', 'Canadian wheat', 'Canadian wheat', 'Canadian wheat', 'Canadian wheat', 'Canadian wheat', 'Canadian wheat', 'Canadian wheat', 'Canadian wheat', 'Canadian wheat', 'Canadian wheat', 'Canadian wheat', 'Canadian wheat', 'Canadian wheat', 'Canadian wheat', 'Canadian wheat', 'Canadian wheat', 'Canadian wheat', 'Canadian wheat', 'Canadian wheat', 'Canadian wheat', 'Canadian wheat', 'Canadian wheat', 'Canadian wheat', 'Canadian wheat', 'Canadian wheat', 'Canadian wheat', 'Canadian wheat', 'Canadian wheat','Canadian wheat','Canadian wheat', 'Canadian wheat', 'Canadian wheat', 'Canadian wheat', 'Canadian wheat', 'Canadian wheat', 'Canadian wheat', 'Canadian wheat', 'Canadian wheat', 'Canadian wheat', 'Canadian wheat', 'Canadian wheat', 'Canadian wheat', 'Canadian wheat', 'Canadian wheat', 'Canadian wheat', 'Canadian wheat', 'Canadian wheat', 'Canadian wheat', 'Canadian wheat', 'Canadian wheat', 'Canadian wheat', 'Canadian wheat', 'Canadian wheat', 'Canadian wheat', 'Canadian wheat', 'Canadian wheat', 'Canadian wheat', 'Canadian wheat', 'Canadian wheat', 'Canadian wheat', 'Canadian wheat', 'Canadian wheat', 'Canadian wheat', 'Canadian wheat', 'Canadian wheat']\n",
        "\n",
        "# Create a KMeans model with 3 clusters: model\n",
        "model = KMeans(n_clusters=3)\n",
        "\n",
        "# Use fit_predict to fit model and obtain cluster labels: labels\n",
        "labels = model.fit_predict(samples)\n",
        "\n",
        "# Create a DataFrame with labels and varieties as columns: df\n",
        "df = pd.DataFrame({'labels': labels, 'varieties': varieties})\n",
        "\n",
        "# Create crosstab: ct\n",
        "ct = pd.crosstab(df['labels'], df['varieties'])\n",
        "\n",
        "# Display ct\n",
        "print(ct)\n"
      ],
      "metadata": {
        "colab": {
          "base_uri": "https://localhost:8080/"
        },
        "id": "kUv0eaIii8L2",
        "outputId": "3ec1dcb2-c1e1-46b7-d054-94f4cd1038ce"
      },
      "execution_count": null,
      "outputs": [
        {
          "output_type": "stream",
          "name": "stdout",
          "text": [
            "varieties  Canadian wheat  Kama wheat  Rosa wheat\n",
            "labels                                           \n",
            "0                       0           1          60\n",
            "1                       2          60          10\n",
            "2                      68           9           0\n"
          ]
        }
      ]
    },
    {
      "cell_type": "markdown",
      "source": [
        " The cross-tabulation shows that the 3 varieties of grain separate really well into 3 clusters. But depending on the type of data you are working with, the clustering may not always be this good. Is there anything you can do in such situations to improve your clustering? You'll find out in the next video!"
      ],
      "metadata": {
        "id": "1p21SQeFmjWk"
      }
    },
    {
      "cell_type": "code",
      "source": [
        "samples = pd.read_csv('wine.csv').drop(columns=['class_name', 'class_label'])\n",
        "varieties = pd.read_csv('wine.csv')['class_name']\n",
        "\n",
        "model = KMeans(n_clusters=3)\n",
        "labels = model.fit_predict(samples)\n",
        "df = pd.DataFrame({'labels': labels, 'varieties': varieties})\n",
        "pd.crosstab(df['labels'], df['varieties'])"
      ],
      "metadata": {
        "colab": {
          "base_uri": "https://localhost:8080/",
          "height": 174
        },
        "id": "MTQ1Q6kSmWYk",
        "outputId": "f2b80f50-ff24-4496-b421-ceaf3a6de0d4"
      },
      "execution_count": null,
      "outputs": [
        {
          "output_type": "execute_result",
          "data": {
            "text/plain": [
              "varieties  Barbera  Barolo  Grignolino\n",
              "labels                                \n",
              "0               19       0          50\n",
              "1                0      46           1\n",
              "2               29      13          20"
            ],
            "text/html": [
              "\n",
              "  <div id=\"df-ac3c6f09-47ef-4880-97bc-ca9e066ce978\">\n",
              "    <div class=\"colab-df-container\">\n",
              "      <div>\n",
              "<style scoped>\n",
              "    .dataframe tbody tr th:only-of-type {\n",
              "        vertical-align: middle;\n",
              "    }\n",
              "\n",
              "    .dataframe tbody tr th {\n",
              "        vertical-align: top;\n",
              "    }\n",
              "\n",
              "    .dataframe thead th {\n",
              "        text-align: right;\n",
              "    }\n",
              "</style>\n",
              "<table border=\"1\" class=\"dataframe\">\n",
              "  <thead>\n",
              "    <tr style=\"text-align: right;\">\n",
              "      <th>varieties</th>\n",
              "      <th>Barbera</th>\n",
              "      <th>Barolo</th>\n",
              "      <th>Grignolino</th>\n",
              "    </tr>\n",
              "    <tr>\n",
              "      <th>labels</th>\n",
              "      <th></th>\n",
              "      <th></th>\n",
              "      <th></th>\n",
              "    </tr>\n",
              "  </thead>\n",
              "  <tbody>\n",
              "    <tr>\n",
              "      <th>0</th>\n",
              "      <td>19</td>\n",
              "      <td>0</td>\n",
              "      <td>50</td>\n",
              "    </tr>\n",
              "    <tr>\n",
              "      <th>1</th>\n",
              "      <td>0</td>\n",
              "      <td>46</td>\n",
              "      <td>1</td>\n",
              "    </tr>\n",
              "    <tr>\n",
              "      <th>2</th>\n",
              "      <td>29</td>\n",
              "      <td>13</td>\n",
              "      <td>20</td>\n",
              "    </tr>\n",
              "  </tbody>\n",
              "</table>\n",
              "</div>\n",
              "      <button class=\"colab-df-convert\" onclick=\"convertToInteractive('df-ac3c6f09-47ef-4880-97bc-ca9e066ce978')\"\n",
              "              title=\"Convert this dataframe to an interactive table.\"\n",
              "              style=\"display:none;\">\n",
              "        \n",
              "  <svg xmlns=\"http://www.w3.org/2000/svg\" height=\"24px\"viewBox=\"0 0 24 24\"\n",
              "       width=\"24px\">\n",
              "    <path d=\"M0 0h24v24H0V0z\" fill=\"none\"/>\n",
              "    <path d=\"M18.56 5.44l.94 2.06.94-2.06 2.06-.94-2.06-.94-.94-2.06-.94 2.06-2.06.94zm-11 1L8.5 8.5l.94-2.06 2.06-.94-2.06-.94L8.5 2.5l-.94 2.06-2.06.94zm10 10l.94 2.06.94-2.06 2.06-.94-2.06-.94-.94-2.06-.94 2.06-2.06.94z\"/><path d=\"M17.41 7.96l-1.37-1.37c-.4-.4-.92-.59-1.43-.59-.52 0-1.04.2-1.43.59L10.3 9.45l-7.72 7.72c-.78.78-.78 2.05 0 2.83L4 21.41c.39.39.9.59 1.41.59.51 0 1.02-.2 1.41-.59l7.78-7.78 2.81-2.81c.8-.78.8-2.07 0-2.86zM5.41 20L4 18.59l7.72-7.72 1.47 1.35L5.41 20z\"/>\n",
              "  </svg>\n",
              "      </button>\n",
              "      \n",
              "  <style>\n",
              "    .colab-df-container {\n",
              "      display:flex;\n",
              "      flex-wrap:wrap;\n",
              "      gap: 12px;\n",
              "    }\n",
              "\n",
              "    .colab-df-convert {\n",
              "      background-color: #E8F0FE;\n",
              "      border: none;\n",
              "      border-radius: 50%;\n",
              "      cursor: pointer;\n",
              "      display: none;\n",
              "      fill: #1967D2;\n",
              "      height: 32px;\n",
              "      padding: 0 0 0 0;\n",
              "      width: 32px;\n",
              "    }\n",
              "\n",
              "    .colab-df-convert:hover {\n",
              "      background-color: #E2EBFA;\n",
              "      box-shadow: 0px 1px 2px rgba(60, 64, 67, 0.3), 0px 1px 3px 1px rgba(60, 64, 67, 0.15);\n",
              "      fill: #174EA6;\n",
              "    }\n",
              "\n",
              "    [theme=dark] .colab-df-convert {\n",
              "      background-color: #3B4455;\n",
              "      fill: #D2E3FC;\n",
              "    }\n",
              "\n",
              "    [theme=dark] .colab-df-convert:hover {\n",
              "      background-color: #434B5C;\n",
              "      box-shadow: 0px 1px 3px 1px rgba(0, 0, 0, 0.15);\n",
              "      filter: drop-shadow(0px 1px 2px rgba(0, 0, 0, 0.3));\n",
              "      fill: #FFFFFF;\n",
              "    }\n",
              "  </style>\n",
              "\n",
              "      <script>\n",
              "        const buttonEl =\n",
              "          document.querySelector('#df-ac3c6f09-47ef-4880-97bc-ca9e066ce978 button.colab-df-convert');\n",
              "        buttonEl.style.display =\n",
              "          google.colab.kernel.accessAllowed ? 'block' : 'none';\n",
              "\n",
              "        async function convertToInteractive(key) {\n",
              "          const element = document.querySelector('#df-ac3c6f09-47ef-4880-97bc-ca9e066ce978');\n",
              "          const dataTable =\n",
              "            await google.colab.kernel.invokeFunction('convertToInteractive',\n",
              "                                                     [key], {});\n",
              "          if (!dataTable) return;\n",
              "\n",
              "          const docLinkHtml = 'Like what you see? Visit the ' +\n",
              "            '<a target=\"_blank\" href=https://colab.research.google.com/notebooks/data_table.ipynb>data table notebook</a>'\n",
              "            + ' to learn more about interactive tables.';\n",
              "          element.innerHTML = '';\n",
              "          dataTable['output_type'] = 'display_data';\n",
              "          await google.colab.output.renderOutput(dataTable, element);\n",
              "          const docLink = document.createElement('div');\n",
              "          docLink.innerHTML = docLinkHtml;\n",
              "          element.appendChild(docLink);\n",
              "        }\n",
              "      </script>\n",
              "    </div>\n",
              "  </div>\n",
              "  "
            ]
          },
          "metadata": {},
          "execution_count": 14
        }
      ]
    },
    {
      "cell_type": "markdown",
      "source": [
        "ตาราง crosstab แสดงให้เห็นว่า KMeans แบ่งได้ไม่ค่อยดีแล้ว เนื่องมาจากมีค่าความแปรปรวนที่แตกต่างกันในแต่ละตัวแปร จึงต้องใช้\n",
        "\n",
        "# ***StandardScaler***\n",
        "\n"
      ],
      "metadata": {
        "id": "lQ1_mcyx7Uid"
      }
    },
    {
      "cell_type": "code",
      "source": [
        "scaler = StandardScaler()\n",
        "scaler.fit(samples)\n",
        "StandardScaler(copy=True, with_mean=True, with_std=True)\n",
        "samples_scaled = scaler.transform(samples)\n",
        "\n",
        "model = KMeans(n_clusters=3)\n",
        "labels = model.fit_predict(samples_scaled)\n",
        "df = pd.DataFrame({'labels': labels, 'varieties': varieties})\n",
        "pd.crosstab(df['labels'], df['varieties'])"
      ],
      "metadata": {
        "colab": {
          "base_uri": "https://localhost:8080/",
          "height": 174
        },
        "id": "eMhM7MrU5o6w",
        "outputId": "0f383765-4e0f-4144-af08-215e8a18b3cd"
      },
      "execution_count": null,
      "outputs": [
        {
          "output_type": "execute_result",
          "data": {
            "text/plain": [
              "varieties  Barbera  Barolo  Grignolino\n",
              "labels                                \n",
              "0                0       0          65\n",
              "1                0      59           3\n",
              "2               48       0           3"
            ],
            "text/html": [
              "\n",
              "  <div id=\"df-ac4cc790-9058-4b4c-ae67-b381562036ba\">\n",
              "    <div class=\"colab-df-container\">\n",
              "      <div>\n",
              "<style scoped>\n",
              "    .dataframe tbody tr th:only-of-type {\n",
              "        vertical-align: middle;\n",
              "    }\n",
              "\n",
              "    .dataframe tbody tr th {\n",
              "        vertical-align: top;\n",
              "    }\n",
              "\n",
              "    .dataframe thead th {\n",
              "        text-align: right;\n",
              "    }\n",
              "</style>\n",
              "<table border=\"1\" class=\"dataframe\">\n",
              "  <thead>\n",
              "    <tr style=\"text-align: right;\">\n",
              "      <th>varieties</th>\n",
              "      <th>Barbera</th>\n",
              "      <th>Barolo</th>\n",
              "      <th>Grignolino</th>\n",
              "    </tr>\n",
              "    <tr>\n",
              "      <th>labels</th>\n",
              "      <th></th>\n",
              "      <th></th>\n",
              "      <th></th>\n",
              "    </tr>\n",
              "  </thead>\n",
              "  <tbody>\n",
              "    <tr>\n",
              "      <th>0</th>\n",
              "      <td>0</td>\n",
              "      <td>0</td>\n",
              "      <td>65</td>\n",
              "    </tr>\n",
              "    <tr>\n",
              "      <th>1</th>\n",
              "      <td>0</td>\n",
              "      <td>59</td>\n",
              "      <td>3</td>\n",
              "    </tr>\n",
              "    <tr>\n",
              "      <th>2</th>\n",
              "      <td>48</td>\n",
              "      <td>0</td>\n",
              "      <td>3</td>\n",
              "    </tr>\n",
              "  </tbody>\n",
              "</table>\n",
              "</div>\n",
              "      <button class=\"colab-df-convert\" onclick=\"convertToInteractive('df-ac4cc790-9058-4b4c-ae67-b381562036ba')\"\n",
              "              title=\"Convert this dataframe to an interactive table.\"\n",
              "              style=\"display:none;\">\n",
              "        \n",
              "  <svg xmlns=\"http://www.w3.org/2000/svg\" height=\"24px\"viewBox=\"0 0 24 24\"\n",
              "       width=\"24px\">\n",
              "    <path d=\"M0 0h24v24H0V0z\" fill=\"none\"/>\n",
              "    <path d=\"M18.56 5.44l.94 2.06.94-2.06 2.06-.94-2.06-.94-.94-2.06-.94 2.06-2.06.94zm-11 1L8.5 8.5l.94-2.06 2.06-.94-2.06-.94L8.5 2.5l-.94 2.06-2.06.94zm10 10l.94 2.06.94-2.06 2.06-.94-2.06-.94-.94-2.06-.94 2.06-2.06.94z\"/><path d=\"M17.41 7.96l-1.37-1.37c-.4-.4-.92-.59-1.43-.59-.52 0-1.04.2-1.43.59L10.3 9.45l-7.72 7.72c-.78.78-.78 2.05 0 2.83L4 21.41c.39.39.9.59 1.41.59.51 0 1.02-.2 1.41-.59l7.78-7.78 2.81-2.81c.8-.78.8-2.07 0-2.86zM5.41 20L4 18.59l7.72-7.72 1.47 1.35L5.41 20z\"/>\n",
              "  </svg>\n",
              "      </button>\n",
              "      \n",
              "  <style>\n",
              "    .colab-df-container {\n",
              "      display:flex;\n",
              "      flex-wrap:wrap;\n",
              "      gap: 12px;\n",
              "    }\n",
              "\n",
              "    .colab-df-convert {\n",
              "      background-color: #E8F0FE;\n",
              "      border: none;\n",
              "      border-radius: 50%;\n",
              "      cursor: pointer;\n",
              "      display: none;\n",
              "      fill: #1967D2;\n",
              "      height: 32px;\n",
              "      padding: 0 0 0 0;\n",
              "      width: 32px;\n",
              "    }\n",
              "\n",
              "    .colab-df-convert:hover {\n",
              "      background-color: #E2EBFA;\n",
              "      box-shadow: 0px 1px 2px rgba(60, 64, 67, 0.3), 0px 1px 3px 1px rgba(60, 64, 67, 0.15);\n",
              "      fill: #174EA6;\n",
              "    }\n",
              "\n",
              "    [theme=dark] .colab-df-convert {\n",
              "      background-color: #3B4455;\n",
              "      fill: #D2E3FC;\n",
              "    }\n",
              "\n",
              "    [theme=dark] .colab-df-convert:hover {\n",
              "      background-color: #434B5C;\n",
              "      box-shadow: 0px 1px 3px 1px rgba(0, 0, 0, 0.15);\n",
              "      filter: drop-shadow(0px 1px 2px rgba(0, 0, 0, 0.3));\n",
              "      fill: #FFFFFF;\n",
              "    }\n",
              "  </style>\n",
              "\n",
              "      <script>\n",
              "        const buttonEl =\n",
              "          document.querySelector('#df-ac4cc790-9058-4b4c-ae67-b381562036ba button.colab-df-convert');\n",
              "        buttonEl.style.display =\n",
              "          google.colab.kernel.accessAllowed ? 'block' : 'none';\n",
              "\n",
              "        async function convertToInteractive(key) {\n",
              "          const element = document.querySelector('#df-ac4cc790-9058-4b4c-ae67-b381562036ba');\n",
              "          const dataTable =\n",
              "            await google.colab.kernel.invokeFunction('convertToInteractive',\n",
              "                                                     [key], {});\n",
              "          if (!dataTable) return;\n",
              "\n",
              "          const docLinkHtml = 'Like what you see? Visit the ' +\n",
              "            '<a target=\"_blank\" href=https://colab.research.google.com/notebooks/data_table.ipynb>data table notebook</a>'\n",
              "            + ' to learn more about interactive tables.';\n",
              "          element.innerHTML = '';\n",
              "          dataTable['output_type'] = 'display_data';\n",
              "          await google.colab.output.renderOutput(dataTable, element);\n",
              "          const docLink = document.createElement('div');\n",
              "          docLink.innerHTML = docLinkHtml;\n",
              "          element.appendChild(docLink);\n",
              "        }\n",
              "      </script>\n",
              "    </div>\n",
              "  </div>\n",
              "  "
            ]
          },
          "metadata": {},
          "execution_count": 15
        }
      ]
    },
    {
      "cell_type": "markdown",
      "source": [
        "จะเห็นว่า KMeans จัดกลุ่มได้ดีขึ้น แต่เราสามารถทำใน pipeline ได้\n",
        "\n",
        "# ***Pipelines combine multiple steps***"
      ],
      "metadata": {
        "id": "QYAabir0-eTY"
      }
    },
    {
      "cell_type": "code",
      "source": [
        "samples = pd.read_csv('wine.csv').drop(columns=['class_name', 'class_label'])\n",
        "varieties = pd.read_csv('wine.csv')['class_name']\n",
        "\n",
        "scaler = StandardScaler()\n",
        "kmeans = KMeans(n_clusters=3)\n",
        "pipeline = make_pipeline(scaler, kmeans)\n",
        "pipeline.fit(samples)\n",
        "labels = pipeline.predict(samples)\n",
        "\n",
        "df = pd.DataFrame({'labels': labels, 'varieties': varieties})\n",
        "pd.crosstab(df['labels'], df['varieties'])"
      ],
      "metadata": {
        "colab": {
          "base_uri": "https://localhost:8080/",
          "height": 174
        },
        "id": "i2B3InFg-I9q",
        "outputId": "4778fdef-494e-4df9-fb52-ef2294908b8c"
      },
      "execution_count": null,
      "outputs": [
        {
          "output_type": "execute_result",
          "data": {
            "text/plain": [
              "varieties  Barbera  Barolo  Grignolino\n",
              "labels                                \n",
              "0                0      59           3\n",
              "1               48       0           3\n",
              "2                0       0          65"
            ],
            "text/html": [
              "\n",
              "  <div id=\"df-636452ee-3501-4776-ab01-a8857c113721\">\n",
              "    <div class=\"colab-df-container\">\n",
              "      <div>\n",
              "<style scoped>\n",
              "    .dataframe tbody tr th:only-of-type {\n",
              "        vertical-align: middle;\n",
              "    }\n",
              "\n",
              "    .dataframe tbody tr th {\n",
              "        vertical-align: top;\n",
              "    }\n",
              "\n",
              "    .dataframe thead th {\n",
              "        text-align: right;\n",
              "    }\n",
              "</style>\n",
              "<table border=\"1\" class=\"dataframe\">\n",
              "  <thead>\n",
              "    <tr style=\"text-align: right;\">\n",
              "      <th>varieties</th>\n",
              "      <th>Barbera</th>\n",
              "      <th>Barolo</th>\n",
              "      <th>Grignolino</th>\n",
              "    </tr>\n",
              "    <tr>\n",
              "      <th>labels</th>\n",
              "      <th></th>\n",
              "      <th></th>\n",
              "      <th></th>\n",
              "    </tr>\n",
              "  </thead>\n",
              "  <tbody>\n",
              "    <tr>\n",
              "      <th>0</th>\n",
              "      <td>0</td>\n",
              "      <td>59</td>\n",
              "      <td>3</td>\n",
              "    </tr>\n",
              "    <tr>\n",
              "      <th>1</th>\n",
              "      <td>48</td>\n",
              "      <td>0</td>\n",
              "      <td>3</td>\n",
              "    </tr>\n",
              "    <tr>\n",
              "      <th>2</th>\n",
              "      <td>0</td>\n",
              "      <td>0</td>\n",
              "      <td>65</td>\n",
              "    </tr>\n",
              "  </tbody>\n",
              "</table>\n",
              "</div>\n",
              "      <button class=\"colab-df-convert\" onclick=\"convertToInteractive('df-636452ee-3501-4776-ab01-a8857c113721')\"\n",
              "              title=\"Convert this dataframe to an interactive table.\"\n",
              "              style=\"display:none;\">\n",
              "        \n",
              "  <svg xmlns=\"http://www.w3.org/2000/svg\" height=\"24px\"viewBox=\"0 0 24 24\"\n",
              "       width=\"24px\">\n",
              "    <path d=\"M0 0h24v24H0V0z\" fill=\"none\"/>\n",
              "    <path d=\"M18.56 5.44l.94 2.06.94-2.06 2.06-.94-2.06-.94-.94-2.06-.94 2.06-2.06.94zm-11 1L8.5 8.5l.94-2.06 2.06-.94-2.06-.94L8.5 2.5l-.94 2.06-2.06.94zm10 10l.94 2.06.94-2.06 2.06-.94-2.06-.94-.94-2.06-.94 2.06-2.06.94z\"/><path d=\"M17.41 7.96l-1.37-1.37c-.4-.4-.92-.59-1.43-.59-.52 0-1.04.2-1.43.59L10.3 9.45l-7.72 7.72c-.78.78-.78 2.05 0 2.83L4 21.41c.39.39.9.59 1.41.59.51 0 1.02-.2 1.41-.59l7.78-7.78 2.81-2.81c.8-.78.8-2.07 0-2.86zM5.41 20L4 18.59l7.72-7.72 1.47 1.35L5.41 20z\"/>\n",
              "  </svg>\n",
              "      </button>\n",
              "      \n",
              "  <style>\n",
              "    .colab-df-container {\n",
              "      display:flex;\n",
              "      flex-wrap:wrap;\n",
              "      gap: 12px;\n",
              "    }\n",
              "\n",
              "    .colab-df-convert {\n",
              "      background-color: #E8F0FE;\n",
              "      border: none;\n",
              "      border-radius: 50%;\n",
              "      cursor: pointer;\n",
              "      display: none;\n",
              "      fill: #1967D2;\n",
              "      height: 32px;\n",
              "      padding: 0 0 0 0;\n",
              "      width: 32px;\n",
              "    }\n",
              "\n",
              "    .colab-df-convert:hover {\n",
              "      background-color: #E2EBFA;\n",
              "      box-shadow: 0px 1px 2px rgba(60, 64, 67, 0.3), 0px 1px 3px 1px rgba(60, 64, 67, 0.15);\n",
              "      fill: #174EA6;\n",
              "    }\n",
              "\n",
              "    [theme=dark] .colab-df-convert {\n",
              "      background-color: #3B4455;\n",
              "      fill: #D2E3FC;\n",
              "    }\n",
              "\n",
              "    [theme=dark] .colab-df-convert:hover {\n",
              "      background-color: #434B5C;\n",
              "      box-shadow: 0px 1px 3px 1px rgba(0, 0, 0, 0.15);\n",
              "      filter: drop-shadow(0px 1px 2px rgba(0, 0, 0, 0.3));\n",
              "      fill: #FFFFFF;\n",
              "    }\n",
              "  </style>\n",
              "\n",
              "      <script>\n",
              "        const buttonEl =\n",
              "          document.querySelector('#df-636452ee-3501-4776-ab01-a8857c113721 button.colab-df-convert');\n",
              "        buttonEl.style.display =\n",
              "          google.colab.kernel.accessAllowed ? 'block' : 'none';\n",
              "\n",
              "        async function convertToInteractive(key) {\n",
              "          const element = document.querySelector('#df-636452ee-3501-4776-ab01-a8857c113721');\n",
              "          const dataTable =\n",
              "            await google.colab.kernel.invokeFunction('convertToInteractive',\n",
              "                                                     [key], {});\n",
              "          if (!dataTable) return;\n",
              "\n",
              "          const docLinkHtml = 'Like what you see? Visit the ' +\n",
              "            '<a target=\"_blank\" href=https://colab.research.google.com/notebooks/data_table.ipynb>data table notebook</a>'\n",
              "            + ' to learn more about interactive tables.';\n",
              "          element.innerHTML = '';\n",
              "          dataTable['output_type'] = 'display_data';\n",
              "          await google.colab.output.renderOutput(dataTable, element);\n",
              "          const docLink = document.createElement('div');\n",
              "          docLink.innerHTML = docLinkHtml;\n",
              "          element.appendChild(docLink);\n",
              "        }\n",
              "      </script>\n",
              "    </div>\n",
              "  </div>\n",
              "  "
            ]
          },
          "metadata": {},
          "execution_count": 17
        }
      ]
    },
    {
      "cell_type": "markdown",
      "source": [
        "### ***Scaling fish data for clustering***\n",
        "\n",
        "You are given an array `samples` giving measurements of fish. Each row represents an individual fish. The measurements, such as weight in grams, length in centimeters, and the percentage ratio of height to length, have very different scales. In order to cluster this data effectively, you'll need to standardize these features first. In this exercise, you'll build a pipeline to standardize and cluster the data.\n",
        "\n",
        "* Import:\n",
        "  * `make_pipeline` from `sklearn.pipeline`.\n",
        "  * `StandardScaler` from `sklearn.preprocessing`.\n",
        "  * `KMeans` from `sklearn.cluster`.\n",
        "\n",
        "* Create an instance of `StandardScaler` called `scaler`.\n",
        "* Create an instance of `KMeans` with `4` clusters called `kmeans`.\n",
        "* Create a pipeline called `pipeline` that chains `scaler` and `kmeans`. To do this, you just need to pass them in as arguments to `make_pipeline()`."
      ],
      "metadata": {
        "id": "UCZHX1sjcJ07"
      }
    },
    {
      "cell_type": "code",
      "source": [
        "# Perform the necessary imports\n",
        "from sklearn.pipeline import make_pipeline\n",
        "from sklearn.preprocessing import StandardScaler\n",
        "from sklearn.cluster import KMeans\n",
        "\n",
        "samples = pd.read_csv('fish.csv', header=None).drop(columns=0).values\n",
        "species = pd.read_csv('fish.csv', header=None)[0].to_list()\n",
        "\n",
        "# Create scaler: scaler\n",
        "scaler = StandardScaler()\n",
        "\n",
        "# Create KMeans instance: kmeans\n",
        "kmeans = KMeans(n_clusters=4)\n",
        "\n",
        "# Create pipeline: pipeline\n",
        "pipeline = make_pipeline(scaler, kmeans)\n"
      ],
      "metadata": {
        "id": "GoqQ7S1XBV-N"
      },
      "execution_count": null,
      "outputs": []
    },
    {
      "cell_type": "markdown",
      "source": [
        "### ***Clustering the fish data***\n",
        "\n",
        "You'll now use your standardization and clustering pipeline from the previous exercise to cluster the fish by their measurements, and then create a cross-tabulation to compare the cluster labels with the fish species.\n",
        "\n",
        "As before, samples is the 2D array of fish measurements. Your pipeline is available as `pipeline`, and the species of every fish sample is given by the list `species`.\n",
        "\n",
        "* Fit the `pipeline` to the fish measurements `samples`.\n",
        "* Obtain the cluster labels for samples by using the `.predict()` method of `pipeline`.\n",
        "* Using `pd.DataFrame()`, create a DataFrame `df` with two columns named `'labels'` and `'species'`, using `labels` and `species`, respectively, for the column values.\n",
        "* Using `pd.crosstab()`, create a cross-tabulation `ct` of `df['labels']` and `df['species']`."
      ],
      "metadata": {
        "id": "_aaP0hejdyR8"
      }
    },
    {
      "cell_type": "code",
      "source": [
        "# Fit the pipeline to samples\n",
        "pipeline.fit(samples)\n",
        "\n",
        "# Calculate the cluster labels: labels\n",
        "labels = pipeline.predict(samples)\n",
        "\n",
        "# Create a DataFrame with labels and species as columns: df\n",
        "df = pd.DataFrame({'labels': labels, 'species': species})\n",
        "\n",
        "# Create crosstab: ct\n",
        "ct = pd.crosstab(df['labels'], df['species'])\n",
        "\n",
        "# Display ct\n",
        "display(ct)\n"
      ],
      "metadata": {
        "colab": {
          "base_uri": "https://localhost:8080/",
          "height": 206
        },
        "id": "nPZxv6YkdRH5",
        "outputId": "145e7141-633e-4ed5-b2e4-63a3dcaa883a"
      },
      "execution_count": null,
      "outputs": [
        {
          "output_type": "display_data",
          "data": {
            "text/plain": [
              "species  Bream  Pike  Roach  Smelt\n",
              "labels                            \n",
              "0            0    17      0      0\n",
              "1           33     0      1      0\n",
              "2            1     0     19      1\n",
              "3            0     0      0     13"
            ],
            "text/html": [
              "\n",
              "  <div id=\"df-4cf1cbc0-1d99-43f3-8728-891a61f0f9ab\">\n",
              "    <div class=\"colab-df-container\">\n",
              "      <div>\n",
              "<style scoped>\n",
              "    .dataframe tbody tr th:only-of-type {\n",
              "        vertical-align: middle;\n",
              "    }\n",
              "\n",
              "    .dataframe tbody tr th {\n",
              "        vertical-align: top;\n",
              "    }\n",
              "\n",
              "    .dataframe thead th {\n",
              "        text-align: right;\n",
              "    }\n",
              "</style>\n",
              "<table border=\"1\" class=\"dataframe\">\n",
              "  <thead>\n",
              "    <tr style=\"text-align: right;\">\n",
              "      <th>species</th>\n",
              "      <th>Bream</th>\n",
              "      <th>Pike</th>\n",
              "      <th>Roach</th>\n",
              "      <th>Smelt</th>\n",
              "    </tr>\n",
              "    <tr>\n",
              "      <th>labels</th>\n",
              "      <th></th>\n",
              "      <th></th>\n",
              "      <th></th>\n",
              "      <th></th>\n",
              "    </tr>\n",
              "  </thead>\n",
              "  <tbody>\n",
              "    <tr>\n",
              "      <th>0</th>\n",
              "      <td>0</td>\n",
              "      <td>17</td>\n",
              "      <td>0</td>\n",
              "      <td>0</td>\n",
              "    </tr>\n",
              "    <tr>\n",
              "      <th>1</th>\n",
              "      <td>33</td>\n",
              "      <td>0</td>\n",
              "      <td>1</td>\n",
              "      <td>0</td>\n",
              "    </tr>\n",
              "    <tr>\n",
              "      <th>2</th>\n",
              "      <td>1</td>\n",
              "      <td>0</td>\n",
              "      <td>19</td>\n",
              "      <td>1</td>\n",
              "    </tr>\n",
              "    <tr>\n",
              "      <th>3</th>\n",
              "      <td>0</td>\n",
              "      <td>0</td>\n",
              "      <td>0</td>\n",
              "      <td>13</td>\n",
              "    </tr>\n",
              "  </tbody>\n",
              "</table>\n",
              "</div>\n",
              "      <button class=\"colab-df-convert\" onclick=\"convertToInteractive('df-4cf1cbc0-1d99-43f3-8728-891a61f0f9ab')\"\n",
              "              title=\"Convert this dataframe to an interactive table.\"\n",
              "              style=\"display:none;\">\n",
              "        \n",
              "  <svg xmlns=\"http://www.w3.org/2000/svg\" height=\"24px\"viewBox=\"0 0 24 24\"\n",
              "       width=\"24px\">\n",
              "    <path d=\"M0 0h24v24H0V0z\" fill=\"none\"/>\n",
              "    <path d=\"M18.56 5.44l.94 2.06.94-2.06 2.06-.94-2.06-.94-.94-2.06-.94 2.06-2.06.94zm-11 1L8.5 8.5l.94-2.06 2.06-.94-2.06-.94L8.5 2.5l-.94 2.06-2.06.94zm10 10l.94 2.06.94-2.06 2.06-.94-2.06-.94-.94-2.06-.94 2.06-2.06.94z\"/><path d=\"M17.41 7.96l-1.37-1.37c-.4-.4-.92-.59-1.43-.59-.52 0-1.04.2-1.43.59L10.3 9.45l-7.72 7.72c-.78.78-.78 2.05 0 2.83L4 21.41c.39.39.9.59 1.41.59.51 0 1.02-.2 1.41-.59l7.78-7.78 2.81-2.81c.8-.78.8-2.07 0-2.86zM5.41 20L4 18.59l7.72-7.72 1.47 1.35L5.41 20z\"/>\n",
              "  </svg>\n",
              "      </button>\n",
              "      \n",
              "  <style>\n",
              "    .colab-df-container {\n",
              "      display:flex;\n",
              "      flex-wrap:wrap;\n",
              "      gap: 12px;\n",
              "    }\n",
              "\n",
              "    .colab-df-convert {\n",
              "      background-color: #E8F0FE;\n",
              "      border: none;\n",
              "      border-radius: 50%;\n",
              "      cursor: pointer;\n",
              "      display: none;\n",
              "      fill: #1967D2;\n",
              "      height: 32px;\n",
              "      padding: 0 0 0 0;\n",
              "      width: 32px;\n",
              "    }\n",
              "\n",
              "    .colab-df-convert:hover {\n",
              "      background-color: #E2EBFA;\n",
              "      box-shadow: 0px 1px 2px rgba(60, 64, 67, 0.3), 0px 1px 3px 1px rgba(60, 64, 67, 0.15);\n",
              "      fill: #174EA6;\n",
              "    }\n",
              "\n",
              "    [theme=dark] .colab-df-convert {\n",
              "      background-color: #3B4455;\n",
              "      fill: #D2E3FC;\n",
              "    }\n",
              "\n",
              "    [theme=dark] .colab-df-convert:hover {\n",
              "      background-color: #434B5C;\n",
              "      box-shadow: 0px 1px 3px 1px rgba(0, 0, 0, 0.15);\n",
              "      filter: drop-shadow(0px 1px 2px rgba(0, 0, 0, 0.3));\n",
              "      fill: #FFFFFF;\n",
              "    }\n",
              "  </style>\n",
              "\n",
              "      <script>\n",
              "        const buttonEl =\n",
              "          document.querySelector('#df-4cf1cbc0-1d99-43f3-8728-891a61f0f9ab button.colab-df-convert');\n",
              "        buttonEl.style.display =\n",
              "          google.colab.kernel.accessAllowed ? 'block' : 'none';\n",
              "\n",
              "        async function convertToInteractive(key) {\n",
              "          const element = document.querySelector('#df-4cf1cbc0-1d99-43f3-8728-891a61f0f9ab');\n",
              "          const dataTable =\n",
              "            await google.colab.kernel.invokeFunction('convertToInteractive',\n",
              "                                                     [key], {});\n",
              "          if (!dataTable) return;\n",
              "\n",
              "          const docLinkHtml = 'Like what you see? Visit the ' +\n",
              "            '<a target=\"_blank\" href=https://colab.research.google.com/notebooks/data_table.ipynb>data table notebook</a>'\n",
              "            + ' to learn more about interactive tables.';\n",
              "          element.innerHTML = '';\n",
              "          dataTable['output_type'] = 'display_data';\n",
              "          await google.colab.output.renderOutput(dataTable, element);\n",
              "          const docLink = document.createElement('div');\n",
              "          docLink.innerHTML = docLinkHtml;\n",
              "          element.appendChild(docLink);\n",
              "        }\n",
              "      </script>\n",
              "    </div>\n",
              "  </div>\n",
              "  "
            ]
          },
          "metadata": {}
        }
      ]
    },
    {
      "cell_type": "markdown",
      "source": [
        "### ***Clustering stocks using KMeans***\n",
        "\n",
        "In this exercise, you'll cluster companies using their daily stock price movements (i.e. the dollar difference between the closing and opening prices for each trading day). You are given a NumPy array` movements` of daily price movements from 2010 to 2015 (obtained from Yahoo! Finance), where each row corresponds to a company, and each column corresponds to a trading day.\n",
        "\n",
        "Some stocks are more expensive than others. To account for this, include a `Normalizer` at the beginning of your `pipeline`. The `Normalizer` will separately transform each company's stock price to a relative scale before the clustering begins.\n",
        "\n",
        "Note that `Normalizer()` is different to `StandardScaler()`, which you used in the previous exercise. While `StandardScaler()` standardizes features (such as the features of the fish data from the previous exercise) by removing the mean and scaling to unit variance, `Normalizer()` rescales each sample - here, each company's stock price - independently of the other.\n",
        "\n",
        "`KMeans` and `make_pipeline` have already been imported for you.\n",
        "\n",
        "* Import `Normalizer` from `sklearn.preprocessing`.\n",
        "* Create an instance of `Normalizer` called `normalizer`.\n",
        "* Create an instance of `KMeans` called `kmeans` with `10` clusters.\n",
        "* Using `make_pipeline()`, create a pipeline called `pipeline` that chains `normalizer` and `kmeans`.\n",
        "* Fit the `pipeline` to the movements `array`."
      ],
      "metadata": {
        "id": "qvvq1cI2fQG_"
      }
    },
    {
      "cell_type": "code",
      "source": [
        "from sklearn.preprocessing import Normalizer\n",
        "\n",
        "movements = pd.read_csv('company-stock-movements-2010-2015-incl.csv').drop(columns='Unnamed: 0').values\n",
        "companies = pd.read_csv('company-stock-movements-2010-2015-incl.csv')['Unnamed: 0'].values\n",
        "\n",
        "# Create a normalizer: normalizer\n",
        "normalizer = Normalizer()\n",
        "\n",
        "# Create a KMeans model with 10 clusters: kmeans\n",
        "kmeans = KMeans(n_clusters=10)\n",
        "\n",
        "# Make a pipeline chaining normalizer and kmeans: pipeline\n",
        "pipeline = make_pipeline(normalizer, kmeans)\n",
        "\n",
        "# Fit pipeline to the daily price movements\n",
        "pipeline.fit(movements)"
      ],
      "metadata": {
        "colab": {
          "base_uri": "https://localhost:8080/"
        },
        "id": "N_g5wlQafC0I",
        "outputId": "a41ecd12-580d-4371-e131-d956b83f58b6"
      },
      "execution_count": null,
      "outputs": [
        {
          "output_type": "execute_result",
          "data": {
            "text/plain": [
              "Pipeline(steps=[('normalizer', Normalizer()),\n",
              "                ('kmeans', KMeans(n_clusters=10))])"
            ]
          },
          "metadata": {},
          "execution_count": 34
        }
      ]
    },
    {
      "cell_type": "markdown",
      "source": [
        "### ***Which stocks move together?***\n",
        "\n",
        "In the previous exercise, you clustered companies by their daily stock price movements. So which company have stock prices that tend to change in the same way? You'll now inspect the cluster labels from your clustering to find out.\n",
        "\n",
        "Your solution to the previous exercise has already been run. Recall that you constructed a Pipeline `pipeline` containing a KMeans model and fit it to the NumPy array `movements` of daily stock movements. In addition, a list `companies` of the company names is available.\n",
        "\n",
        "* Use the `.predict()` method of the `pipeline` to predict the `labels` for `movements`.\n",
        "* Align the cluster `labels` with the list of company names `companies` by creating a DataFrame `df` with `labels` and `companies` as columns. \n",
        "\n",
        "* Use the `.sort_values()` method of df to sort the DataFrame by the `'labels'` column, and print the result.\n",
        "\n"
      ],
      "metadata": {
        "id": "U2VRnumyinN-"
      }
    },
    {
      "cell_type": "code",
      "source": [
        "# Predict the cluster labels: labels\n",
        "labels = pipeline.predict(movements)\n",
        "\n",
        "# Create a DataFrame aligning labels and companies: df\n",
        "df = pd.DataFrame({'labels': labels, 'companies': companies})\n",
        "\n",
        "# Display df sorted by cluster label\n",
        "display(df.sort_values(by='labels'))"
      ],
      "metadata": {
        "colab": {
          "base_uri": "https://localhost:8080/",
          "height": 1000
        },
        "id": "Eg7d7uEbfly_",
        "outputId": "90d37f04-6bfb-4776-de57-3a482b113f1b"
      },
      "execution_count": null,
      "outputs": [
        {
          "output_type": "display_data",
          "data": {
            "text/plain": [
              "    labels                           companies\n",
              "44       0                        Schlumberger\n",
              "53       0                       Valero Energy\n",
              "16       0                   General Electrics\n",
              "58       0                               Xerox\n",
              "13       0                   DuPont de Nemours\n",
              "12       0                             Chevron\n",
              "32       0                                  3M\n",
              "8        0                         Caterpillar\n",
              "10       0                      ConocoPhillips\n",
              "35       0                            Navistar\n",
              "39       0                              Pfizer\n",
              "57       0                               Exxon\n",
              "23       0                                 IBM\n",
              "9        1                   Colgate-Palmolive\n",
              "25       1                   Johnson & Johnson\n",
              "38       1                               Pepsi\n",
              "28       1                           Coca Cola\n",
              "40       1                      Procter Gamble\n",
              "27       1                      Kimberly-Clark\n",
              "56       1                            Wal-Mart\n",
              "36       2                    Northrop Grumman\n",
              "29       2                     Lookheed Martin\n",
              "4        2                              Boeing\n",
              "50       3  Taiwan Semiconductor Manufacturing\n",
              "20       3                          Home Depot\n",
              "3        3                    American express\n",
              "30       3                          MasterCard\n",
              "42       4                   Royal Dutch Shell\n",
              "41       4                       Philip Morris\n",
              "37       4                            Novartis\n",
              "6        4            British American Tobacco\n",
              "46       4                      Sanofi-Aventis\n",
              "52       4                            Unilever\n",
              "43       4                                 SAP\n",
              "31       4                           McDonalds\n",
              "54       4                            Walgreen\n",
              "19       4                     GlaxoSmithKline\n",
              "49       4                               Total\n",
              "47       4                            Symantec\n",
              "5        5                     Bank of America\n",
              "15       5                                Ford\n",
              "18       5                       Goldman Sachs\n",
              "26       5                      JPMorgan Chase\n",
              "1        5                                 AIG\n",
              "55       5                         Wells Fargo\n",
              "0        6                               Apple\n",
              "33       7                           Microsoft\n",
              "24       7                               Intel\n",
              "22       7                                  HP\n",
              "51       7                   Texas instruments\n",
              "14       7                                Dell\n",
              "11       7                               Cisco\n",
              "17       8                     Google/Alphabet\n",
              "2        8                              Amazon\n",
              "59       8                               Yahoo\n",
              "34       9                          Mitsubishi\n",
              "48       9                              Toyota\n",
              "21       9                               Honda\n",
              "7        9                               Canon\n",
              "45       9                                Sony"
            ],
            "text/html": [
              "\n",
              "  <div id=\"df-595adf93-64ee-432f-9a6f-1dcc9ea255c9\">\n",
              "    <div class=\"colab-df-container\">\n",
              "      <div>\n",
              "<style scoped>\n",
              "    .dataframe tbody tr th:only-of-type {\n",
              "        vertical-align: middle;\n",
              "    }\n",
              "\n",
              "    .dataframe tbody tr th {\n",
              "        vertical-align: top;\n",
              "    }\n",
              "\n",
              "    .dataframe thead th {\n",
              "        text-align: right;\n",
              "    }\n",
              "</style>\n",
              "<table border=\"1\" class=\"dataframe\">\n",
              "  <thead>\n",
              "    <tr style=\"text-align: right;\">\n",
              "      <th></th>\n",
              "      <th>labels</th>\n",
              "      <th>companies</th>\n",
              "    </tr>\n",
              "  </thead>\n",
              "  <tbody>\n",
              "    <tr>\n",
              "      <th>44</th>\n",
              "      <td>0</td>\n",
              "      <td>Schlumberger</td>\n",
              "    </tr>\n",
              "    <tr>\n",
              "      <th>53</th>\n",
              "      <td>0</td>\n",
              "      <td>Valero Energy</td>\n",
              "    </tr>\n",
              "    <tr>\n",
              "      <th>16</th>\n",
              "      <td>0</td>\n",
              "      <td>General Electrics</td>\n",
              "    </tr>\n",
              "    <tr>\n",
              "      <th>58</th>\n",
              "      <td>0</td>\n",
              "      <td>Xerox</td>\n",
              "    </tr>\n",
              "    <tr>\n",
              "      <th>13</th>\n",
              "      <td>0</td>\n",
              "      <td>DuPont de Nemours</td>\n",
              "    </tr>\n",
              "    <tr>\n",
              "      <th>12</th>\n",
              "      <td>0</td>\n",
              "      <td>Chevron</td>\n",
              "    </tr>\n",
              "    <tr>\n",
              "      <th>32</th>\n",
              "      <td>0</td>\n",
              "      <td>3M</td>\n",
              "    </tr>\n",
              "    <tr>\n",
              "      <th>8</th>\n",
              "      <td>0</td>\n",
              "      <td>Caterpillar</td>\n",
              "    </tr>\n",
              "    <tr>\n",
              "      <th>10</th>\n",
              "      <td>0</td>\n",
              "      <td>ConocoPhillips</td>\n",
              "    </tr>\n",
              "    <tr>\n",
              "      <th>35</th>\n",
              "      <td>0</td>\n",
              "      <td>Navistar</td>\n",
              "    </tr>\n",
              "    <tr>\n",
              "      <th>39</th>\n",
              "      <td>0</td>\n",
              "      <td>Pfizer</td>\n",
              "    </tr>\n",
              "    <tr>\n",
              "      <th>57</th>\n",
              "      <td>0</td>\n",
              "      <td>Exxon</td>\n",
              "    </tr>\n",
              "    <tr>\n",
              "      <th>23</th>\n",
              "      <td>0</td>\n",
              "      <td>IBM</td>\n",
              "    </tr>\n",
              "    <tr>\n",
              "      <th>9</th>\n",
              "      <td>1</td>\n",
              "      <td>Colgate-Palmolive</td>\n",
              "    </tr>\n",
              "    <tr>\n",
              "      <th>25</th>\n",
              "      <td>1</td>\n",
              "      <td>Johnson &amp; Johnson</td>\n",
              "    </tr>\n",
              "    <tr>\n",
              "      <th>38</th>\n",
              "      <td>1</td>\n",
              "      <td>Pepsi</td>\n",
              "    </tr>\n",
              "    <tr>\n",
              "      <th>28</th>\n",
              "      <td>1</td>\n",
              "      <td>Coca Cola</td>\n",
              "    </tr>\n",
              "    <tr>\n",
              "      <th>40</th>\n",
              "      <td>1</td>\n",
              "      <td>Procter Gamble</td>\n",
              "    </tr>\n",
              "    <tr>\n",
              "      <th>27</th>\n",
              "      <td>1</td>\n",
              "      <td>Kimberly-Clark</td>\n",
              "    </tr>\n",
              "    <tr>\n",
              "      <th>56</th>\n",
              "      <td>1</td>\n",
              "      <td>Wal-Mart</td>\n",
              "    </tr>\n",
              "    <tr>\n",
              "      <th>36</th>\n",
              "      <td>2</td>\n",
              "      <td>Northrop Grumman</td>\n",
              "    </tr>\n",
              "    <tr>\n",
              "      <th>29</th>\n",
              "      <td>2</td>\n",
              "      <td>Lookheed Martin</td>\n",
              "    </tr>\n",
              "    <tr>\n",
              "      <th>4</th>\n",
              "      <td>2</td>\n",
              "      <td>Boeing</td>\n",
              "    </tr>\n",
              "    <tr>\n",
              "      <th>50</th>\n",
              "      <td>3</td>\n",
              "      <td>Taiwan Semiconductor Manufacturing</td>\n",
              "    </tr>\n",
              "    <tr>\n",
              "      <th>20</th>\n",
              "      <td>3</td>\n",
              "      <td>Home Depot</td>\n",
              "    </tr>\n",
              "    <tr>\n",
              "      <th>3</th>\n",
              "      <td>3</td>\n",
              "      <td>American express</td>\n",
              "    </tr>\n",
              "    <tr>\n",
              "      <th>30</th>\n",
              "      <td>3</td>\n",
              "      <td>MasterCard</td>\n",
              "    </tr>\n",
              "    <tr>\n",
              "      <th>42</th>\n",
              "      <td>4</td>\n",
              "      <td>Royal Dutch Shell</td>\n",
              "    </tr>\n",
              "    <tr>\n",
              "      <th>41</th>\n",
              "      <td>4</td>\n",
              "      <td>Philip Morris</td>\n",
              "    </tr>\n",
              "    <tr>\n",
              "      <th>37</th>\n",
              "      <td>4</td>\n",
              "      <td>Novartis</td>\n",
              "    </tr>\n",
              "    <tr>\n",
              "      <th>6</th>\n",
              "      <td>4</td>\n",
              "      <td>British American Tobacco</td>\n",
              "    </tr>\n",
              "    <tr>\n",
              "      <th>46</th>\n",
              "      <td>4</td>\n",
              "      <td>Sanofi-Aventis</td>\n",
              "    </tr>\n",
              "    <tr>\n",
              "      <th>52</th>\n",
              "      <td>4</td>\n",
              "      <td>Unilever</td>\n",
              "    </tr>\n",
              "    <tr>\n",
              "      <th>43</th>\n",
              "      <td>4</td>\n",
              "      <td>SAP</td>\n",
              "    </tr>\n",
              "    <tr>\n",
              "      <th>31</th>\n",
              "      <td>4</td>\n",
              "      <td>McDonalds</td>\n",
              "    </tr>\n",
              "    <tr>\n",
              "      <th>54</th>\n",
              "      <td>4</td>\n",
              "      <td>Walgreen</td>\n",
              "    </tr>\n",
              "    <tr>\n",
              "      <th>19</th>\n",
              "      <td>4</td>\n",
              "      <td>GlaxoSmithKline</td>\n",
              "    </tr>\n",
              "    <tr>\n",
              "      <th>49</th>\n",
              "      <td>4</td>\n",
              "      <td>Total</td>\n",
              "    </tr>\n",
              "    <tr>\n",
              "      <th>47</th>\n",
              "      <td>4</td>\n",
              "      <td>Symantec</td>\n",
              "    </tr>\n",
              "    <tr>\n",
              "      <th>5</th>\n",
              "      <td>5</td>\n",
              "      <td>Bank of America</td>\n",
              "    </tr>\n",
              "    <tr>\n",
              "      <th>15</th>\n",
              "      <td>5</td>\n",
              "      <td>Ford</td>\n",
              "    </tr>\n",
              "    <tr>\n",
              "      <th>18</th>\n",
              "      <td>5</td>\n",
              "      <td>Goldman Sachs</td>\n",
              "    </tr>\n",
              "    <tr>\n",
              "      <th>26</th>\n",
              "      <td>5</td>\n",
              "      <td>JPMorgan Chase</td>\n",
              "    </tr>\n",
              "    <tr>\n",
              "      <th>1</th>\n",
              "      <td>5</td>\n",
              "      <td>AIG</td>\n",
              "    </tr>\n",
              "    <tr>\n",
              "      <th>55</th>\n",
              "      <td>5</td>\n",
              "      <td>Wells Fargo</td>\n",
              "    </tr>\n",
              "    <tr>\n",
              "      <th>0</th>\n",
              "      <td>6</td>\n",
              "      <td>Apple</td>\n",
              "    </tr>\n",
              "    <tr>\n",
              "      <th>33</th>\n",
              "      <td>7</td>\n",
              "      <td>Microsoft</td>\n",
              "    </tr>\n",
              "    <tr>\n",
              "      <th>24</th>\n",
              "      <td>7</td>\n",
              "      <td>Intel</td>\n",
              "    </tr>\n",
              "    <tr>\n",
              "      <th>22</th>\n",
              "      <td>7</td>\n",
              "      <td>HP</td>\n",
              "    </tr>\n",
              "    <tr>\n",
              "      <th>51</th>\n",
              "      <td>7</td>\n",
              "      <td>Texas instruments</td>\n",
              "    </tr>\n",
              "    <tr>\n",
              "      <th>14</th>\n",
              "      <td>7</td>\n",
              "      <td>Dell</td>\n",
              "    </tr>\n",
              "    <tr>\n",
              "      <th>11</th>\n",
              "      <td>7</td>\n",
              "      <td>Cisco</td>\n",
              "    </tr>\n",
              "    <tr>\n",
              "      <th>17</th>\n",
              "      <td>8</td>\n",
              "      <td>Google/Alphabet</td>\n",
              "    </tr>\n",
              "    <tr>\n",
              "      <th>2</th>\n",
              "      <td>8</td>\n",
              "      <td>Amazon</td>\n",
              "    </tr>\n",
              "    <tr>\n",
              "      <th>59</th>\n",
              "      <td>8</td>\n",
              "      <td>Yahoo</td>\n",
              "    </tr>\n",
              "    <tr>\n",
              "      <th>34</th>\n",
              "      <td>9</td>\n",
              "      <td>Mitsubishi</td>\n",
              "    </tr>\n",
              "    <tr>\n",
              "      <th>48</th>\n",
              "      <td>9</td>\n",
              "      <td>Toyota</td>\n",
              "    </tr>\n",
              "    <tr>\n",
              "      <th>21</th>\n",
              "      <td>9</td>\n",
              "      <td>Honda</td>\n",
              "    </tr>\n",
              "    <tr>\n",
              "      <th>7</th>\n",
              "      <td>9</td>\n",
              "      <td>Canon</td>\n",
              "    </tr>\n",
              "    <tr>\n",
              "      <th>45</th>\n",
              "      <td>9</td>\n",
              "      <td>Sony</td>\n",
              "    </tr>\n",
              "  </tbody>\n",
              "</table>\n",
              "</div>\n",
              "      <button class=\"colab-df-convert\" onclick=\"convertToInteractive('df-595adf93-64ee-432f-9a6f-1dcc9ea255c9')\"\n",
              "              title=\"Convert this dataframe to an interactive table.\"\n",
              "              style=\"display:none;\">\n",
              "        \n",
              "  <svg xmlns=\"http://www.w3.org/2000/svg\" height=\"24px\"viewBox=\"0 0 24 24\"\n",
              "       width=\"24px\">\n",
              "    <path d=\"M0 0h24v24H0V0z\" fill=\"none\"/>\n",
              "    <path d=\"M18.56 5.44l.94 2.06.94-2.06 2.06-.94-2.06-.94-.94-2.06-.94 2.06-2.06.94zm-11 1L8.5 8.5l.94-2.06 2.06-.94-2.06-.94L8.5 2.5l-.94 2.06-2.06.94zm10 10l.94 2.06.94-2.06 2.06-.94-2.06-.94-.94-2.06-.94 2.06-2.06.94z\"/><path d=\"M17.41 7.96l-1.37-1.37c-.4-.4-.92-.59-1.43-.59-.52 0-1.04.2-1.43.59L10.3 9.45l-7.72 7.72c-.78.78-.78 2.05 0 2.83L4 21.41c.39.39.9.59 1.41.59.51 0 1.02-.2 1.41-.59l7.78-7.78 2.81-2.81c.8-.78.8-2.07 0-2.86zM5.41 20L4 18.59l7.72-7.72 1.47 1.35L5.41 20z\"/>\n",
              "  </svg>\n",
              "      </button>\n",
              "      \n",
              "  <style>\n",
              "    .colab-df-container {\n",
              "      display:flex;\n",
              "      flex-wrap:wrap;\n",
              "      gap: 12px;\n",
              "    }\n",
              "\n",
              "    .colab-df-convert {\n",
              "      background-color: #E8F0FE;\n",
              "      border: none;\n",
              "      border-radius: 50%;\n",
              "      cursor: pointer;\n",
              "      display: none;\n",
              "      fill: #1967D2;\n",
              "      height: 32px;\n",
              "      padding: 0 0 0 0;\n",
              "      width: 32px;\n",
              "    }\n",
              "\n",
              "    .colab-df-convert:hover {\n",
              "      background-color: #E2EBFA;\n",
              "      box-shadow: 0px 1px 2px rgba(60, 64, 67, 0.3), 0px 1px 3px 1px rgba(60, 64, 67, 0.15);\n",
              "      fill: #174EA6;\n",
              "    }\n",
              "\n",
              "    [theme=dark] .colab-df-convert {\n",
              "      background-color: #3B4455;\n",
              "      fill: #D2E3FC;\n",
              "    }\n",
              "\n",
              "    [theme=dark] .colab-df-convert:hover {\n",
              "      background-color: #434B5C;\n",
              "      box-shadow: 0px 1px 3px 1px rgba(0, 0, 0, 0.15);\n",
              "      filter: drop-shadow(0px 1px 2px rgba(0, 0, 0, 0.3));\n",
              "      fill: #FFFFFF;\n",
              "    }\n",
              "  </style>\n",
              "\n",
              "      <script>\n",
              "        const buttonEl =\n",
              "          document.querySelector('#df-595adf93-64ee-432f-9a6f-1dcc9ea255c9 button.colab-df-convert');\n",
              "        buttonEl.style.display =\n",
              "          google.colab.kernel.accessAllowed ? 'block' : 'none';\n",
              "\n",
              "        async function convertToInteractive(key) {\n",
              "          const element = document.querySelector('#df-595adf93-64ee-432f-9a6f-1dcc9ea255c9');\n",
              "          const dataTable =\n",
              "            await google.colab.kernel.invokeFunction('convertToInteractive',\n",
              "                                                     [key], {});\n",
              "          if (!dataTable) return;\n",
              "\n",
              "          const docLinkHtml = 'Like what you see? Visit the ' +\n",
              "            '<a target=\"_blank\" href=https://colab.research.google.com/notebooks/data_table.ipynb>data table notebook</a>'\n",
              "            + ' to learn more about interactive tables.';\n",
              "          element.innerHTML = '';\n",
              "          dataTable['output_type'] = 'display_data';\n",
              "          await google.colab.output.renderOutput(dataTable, element);\n",
              "          const docLink = document.createElement('div');\n",
              "          docLink.innerHTML = docLinkHtml;\n",
              "          element.appendChild(docLink);\n",
              "        }\n",
              "      </script>\n",
              "    </div>\n",
              "  </div>\n",
              "  "
            ]
          },
          "metadata": {}
        }
      ]
    },
    {
      "cell_type": "markdown",
      "source": [
        "### ***Hierarchical clustering of the grain data***\n",
        "\n",
        "Use the **`linkage()`** function to obtain a hierarchical clustering of the grain samples, and use **`dendrogram()`** to visualize the result. A sample of the grain measurements is provided in the array `samples`, while the variety of each grain sample is given by the list `varieties`.\n",
        "\n",
        "* Perform hierarchical clustering on `samples` using the `linkage()` function with the `method='complete'` keyword argument. Assign the result to `mergings`.\n",
        "\n",
        "* Plot a dendrogram using the `dendrogram()` function on `mergings`. Specify the keyword arguments `labels=varieties`, `leaf_rotation=90`, and `leaf_font_size=6`."
      ],
      "metadata": {
        "id": "EGQjwpZu3G6t"
      }
    },
    {
      "cell_type": "code",
      "source": [
        "samples = np.array([[14.88  , 14.57  ,  0.8811,  5.554 ,  3.333 ,  1.018 ,  4.956 ],       [14.69  , 14.49  ,  0.8799,  5.563 ,  3.259 ,  3.586 ,  5.219 ], [14.03  , 14.16  ,  0.8796,  5.438 ,  3.201 ,  1.717 ,  5.001 ], [13.99  , 13.83  ,  0.9183,  5.119 ,  3.383 ,  5.234 ,  4.781 ], [14.11  , 14.26  ,  0.8722,  5.52  ,  3.168 ,  2.688 ,  5.219 ], [13.02  , 13.76  ,  0.8641,  5.395 ,  3.026 ,  3.373 ,  4.825 ], [15.49  , 14.94  ,  0.8724,  5.757 ,  3.371 ,  3.412 ,  5.228 ], [16.2   , 15.27  ,  0.8734,  5.826 ,  3.464 ,  2.823 ,  5.527 ], [13.5   , 13.85  ,  0.8852,  5.351 ,  3.158 ,  2.249 ,  5.176 ], [15.36  , 14.76  ,  0.8861,  5.701 ,  3.393 ,  1.367 ,  5.132 ], [15.78  , 14.91  ,  0.8923,  5.674 ,  3.434 ,  5.593 ,  5.136 ], [14.46  , 14.35  ,  0.8818,  5.388 ,  3.377 ,  2.802 ,  5.044 ], [11.23  , 12.63  ,  0.884 ,  4.902 ,  2.879 ,  2.269 ,  4.703 ], [14.34  , 14.37  ,  0.8726,  5.63  ,  3.19  ,  1.313 ,  5.15  ], [16.84  , 15.67  ,  0.8623,  5.998 ,  3.484 ,  4.675 ,  5.877 ], [17.32  , 15.91  ,  0.8599,  6.064 ,  3.403 ,  3.824 ,  5.922 ], [18.72  , 16.19  ,  0.8977,  6.006 ,  3.857 ,  5.324 ,  5.879 ], [18.88  , 16.26  ,  0.8969,  6.084 ,  3.764 ,  1.649 ,  6.109 ], [18.76  , 16.2   ,  0.8984,  6.172 ,  3.796 ,  3.12  ,  6.053 ], [19.31  , 16.59  ,  0.8815,  6.341 ,  3.81  ,  3.477 ,  6.238 ], [17.99  , 15.86  ,  0.8992,  5.89  ,  3.694 ,  2.068 ,  5.837 ],     [18.85  , 16.17  ,  0.9056,  6.152 ,  3.806 ,  2.843 ,  6.2   ],       [19.38  , 16.72  ,  0.8716,  6.303 ,  3.791 ,  3.678 ,  5.965 ],       [18.96  , 16.2   ,  0.9077,  6.051 ,  3.897 ,  4.334 ,  5.75  ],       [18.14  , 16.12  ,  0.8772,  6.059 ,  3.563 ,  3.619 ,  6.011 ],       [18.65  , 16.41  ,  0.8698,  6.285 ,  3.594 ,  4.391 ,  6.102 ],       [18.94  , 16.32  ,  0.8942,  6.144 ,  3.825 ,  2.908 ,  5.949 ],       [17.36  , 15.76  ,  0.8785,  6.145 ,  3.574 ,  3.526 ,  5.971 ],       [13.32  , 13.94  ,  0.8613,  5.541 ,  3.073 ,  7.035 ,  5.44  ],       [11.43  , 13.13  ,  0.8335,  5.176 ,  2.719 ,  2.221 ,  5.132 ],       [12.01  , 13.52  ,  0.8249,  5.405 ,  2.776 ,  6.992 ,  5.27  ],       [11.34  , 12.87  ,  0.8596,  5.053 ,  2.849 ,  3.347 ,  5.003 ],       [12.02  , 13.33  ,  0.8503,  5.35  ,  2.81  ,  4.271 ,  5.308 ],       [12.44  , 13.59  ,  0.8462,  5.319 ,  2.897 ,  4.924 ,  5.27  ],       [11.55  , 13.1   ,  0.8455,  5.167 ,  2.845 ,  6.715 ,  4.956 ],       [11.26  , 13.01  ,  0.8355,  5.186 ,  2.71  ,  5.335 ,  5.092 ],       [12.46  , 13.41  ,  0.8706,  5.236 ,  3.017 ,  4.987 ,  5.147 ],       [11.81  , 13.45  ,  0.8198,  5.413 ,  2.716 ,  4.898 ,  5.352 ],       [11.27  , 12.86  ,  0.8563,  5.091 ,  2.804 ,  3.985 ,  5.001 ],       [12.79  , 13.53  ,  0.8786,  5.224 ,  3.054 ,  5.483 ,  4.958 ],       [12.67  , 13.32  ,  0.8977,  4.984 ,  3.135 ,  2.3   ,  4.745 ],       [11.23  , 12.88  ,  0.8511,  5.14  ,  2.795 ,  4.325 ,  5.003 ]])\n",
        "varieties = ['Kama wheat', 'Kama wheat', 'Kama wheat', 'Kama wheat', 'Kama wheat', 'Kama wheat', 'Kama wheat', 'Kama wheat', 'Kama wheat', 'Kama wheat', 'Kama wheat', 'Kama wheat', 'Kama wheat', 'Kama wheat', 'Rosa wheat', 'Rosa wheat', 'Rosa wheat', 'Rosa wheat','Rosa wheat', 'Rosa wheat', 'Rosa wheat', 'Rosa wheat', 'Rosa wheat', 'Rosa wheat', 'Rosa wheat', 'Rosa wheat', 'Rosa wheat', 'Rosa wheat', 'Canadian wheat', 'Canadian wheat', 'Canadian wheat', 'Canadian wheat', 'Canadian wheat', 'Canadian wheat', 'Canadian wheat', 'Canadian wheat', 'Canadian wheat', 'Canadian wheat', 'Canadian wheat', 'Canadian wheat', 'Canadian wheat', 'Canadian wheat']\n",
        "\n",
        "# Perform the necessary imports\n",
        "from scipy.cluster.hierarchy import linkage, dendrogram\n",
        "import matplotlib.pyplot as plt\n",
        "\n",
        "# Calculate the linkage: mergings\n",
        "mergings = linkage(samples, method='complete')\n",
        "\n",
        "# Plot the dendrogram, using varieties as labels\n",
        "dendrogram(mergings, labels=varieties, leaf_rotation=90, leaf_font_size=6)\n",
        "plt.show()"
      ],
      "metadata": {
        "colab": {
          "base_uri": "https://localhost:8080/",
          "height": 306
        },
        "id": "1LjJvNjq2lYJ",
        "outputId": "5b46803a-4e9e-4226-cc09-9ae945a97da9"
      },
      "execution_count": 9,
      "outputs": [
        {
          "output_type": "display_data",
          "data": {
            "text/plain": [
              "<Figure size 432x288 with 1 Axes>"
            ],
            "image/png": "[encoded data removed]"
          },
          "metadata": {
            "needs_background": "light"
          }
        }
      ]
    },
    {
      "cell_type": "markdown",
      "source": [
        "Dendrograms are a great way to illustrate the arrangement of the clusters produced by hierarchical clustering.\n",
        "\n",
        "### ***Hierarchies of stocks***\n",
        "\n",
        "Previously, you used k-means clustering to cluster companies according to their stock price movements. Now, you'll perform hierarchical clustering of the companies. You are given a NumPy array of price movements `movements`, where the rows correspond to companies, and a list of the company names `companies`. SciPy hierarchical clustering doesn't fit into a sklearn pipeline, so you'll need to use the `normalize()` function from `sklearn.preprocessing` instead of `Normalizer`.\n",
        "\n",
        "* Import `normalize` from `sklearn.preprocessing`.\n",
        "* Rescale the price movements for each stock by using the `normalize()` function on `movements`.\n",
        "* Apply the `linkage()` function to `normalized_movements`, using `'complete'` linkage, to calculate the hierarchical clustering. Assign the result to `mergings`.\n",
        "* Plot a dendrogram of the hierarchical clustering, using the list `companies` of company names as the `labels`. In addition, specify the `leaf_rotation=90`, and `leaf_font_size=6` keyword arguments as you did in the previous exercise."
      ],
      "metadata": {
        "id": "oqk3YeLv75v9"
      }
    },
    {
      "cell_type": "code",
      "source": [
        "movements = pd.read_csv('company-stock-movements-2010-2015-incl.csv').drop(columns='Unnamed: 0').values\n",
        "companies = pd.read_csv('company-stock-movements-2010-2015-incl.csv')['Unnamed: 0'].values\n",
        "\n",
        "# Import normalize\n",
        "from sklearn.preprocessing import normalize\n",
        "\n",
        "# Normalize the movements: normalized_movements\n",
        "normalized_movements = normalize(movements)\n",
        "\n",
        "# Calculate the linkage: mergings\n",
        "mergings = linkage(normalized_movements, method='complete')\n",
        "\n",
        "# Plot the dendrogram\n",
        "dendrogram(mergings, labels=companies, leaf_rotation=90, leaf_font_size=6)\n",
        "plt.show()\n"
      ],
      "metadata": {
        "colab": {
          "base_uri": "https://localhost:8080/",
          "height": 368
        },
        "id": "an_YfuGl3Vnd",
        "outputId": "3e14016b-4734-42d6-e104-d10cd65246ba"
      },
      "execution_count": 35,
      "outputs": [
        {
          "output_type": "display_data",
          "data": {
            "text/plain": [
              "<Figure size 432x288 with 1 Axes>"
            ],
            "image/png": "[encoded data removed]"
          },
          "metadata": {
            "needs_background": "light"
          }
        }
      ]
    },
    {
      "cell_type": "markdown",
      "source": [
        "You can produce great visualizations such as this with hierarchical clustering, but it can be used for more than just visualizations.\n",
        "\n",
        "### ***Different linkage, different hierarchical clustering!***\n",
        "\n",
        "Perform a hierarchical clustering of the voting countries with `'single'` linkage.  Different linkage, different hierarchical clustering!\n",
        "\n",
        "You are given an array `samples`. Each row corresponds to a voting country, and each column corresponds to a performance that was voted for. The list `country_names` gives the name of each voting country. This dataset was obtained from Eurovision.\n",
        "\n",
        "* Perform hierarchical clustering on samples using the `linkage()` function with the `method='single'` keyword argument. Assign the result to `mergings`.\n",
        "\n",
        "* Plot a dendrogram of the hierarchical clustering, using the list `country_names` as the `labels`. In addition, specify the `leaf_rotation=90`, and `leaf_font_size=6` keyword arguments."
      ],
      "metadata": {
        "id": "m8WmUbMB9syi"
      }
    },
    {
      "cell_type": "code",
      "source": [
        "samples = np.array([[ 2., 12.,  0.,  0.,  0.,  8.,  0.,  0.,  0.,  0.,  0.,  0.,  1.,         0., 10.,  0.,  4.,  0.,  5.,  7.,  0.,  0.,  3.,  0.,  6.,  0.],       [12.,  0.,  4.,  0.,  0.,  0.,  0.,  6.,  0.,  7.,  8.,  0.,  3.,         0.,  0.,  0.,  0.,  5.,  1., 12.,  0.,  0.,  2.,  0., 10.,  0.],       [ 0., 12.,  3.,  0., 12., 10.,  0.,  0.,  0.,  7.,  0.,  0.,  0.,         0.,  0.,  0.,  1.,  6.,  0.,  5.,  0.,  2.,  0.,  0.,  8.,  4.],       [ 0.,  3., 12.,  0.,  0.,  5.,  0.,  0.,  0.,  1.,  0.,  2.,  0.,         0.,  0.,  0.,  0.,  0., 12.,  8.,  4.,  0.,  7.,  6., 10.,  0.],       [ 0.,  2.,  0., 12.,  0.,  8.,  0.,  0.,  0.,  4.,  1.,  0.,  7.,         6.,  0.,  0.,  0.,  5.,  3., 12.,  0.,  0.,  0.,  0., 10.,  0.],       [ 7.,  1.,  0.,  8.,  0.,  4.,  0.,  0.,  0.,  0.,  0.,  0.,  3.,         0.,  0.,  5.,  0.,  0.,  6., 12.,  0.,  0.,  2.,  0., 10.,  0.],       [ 7.,  4.,  3.,  0., 12.,  5.,  0.,  0.,  0.,  8.,  0.,  0.,  0.,         0.,  0.,  0.,  0.,  0., 12.,  6.,  0.,  0.,  1., 10.,  2.,  0.],       [ 0.,  3.,  5.,  8.,  0.,  2., 10.,  0.,  0.,  4.,  0.,  0.,  1.,       0.,  0.,  0.,  0.,  0.,  0.,  6., 12.,  0.,  0.,  0.,  7.,  0.],       [ 8.,  5.,  4.,  1.,  0., 12.,  0.,  7.,  0.,  0.,  0.,  0.,  0.,         2.,  0.,  0.,  0.,  0.,  6., 12.,  0.,  0.,  3.,  0., 10.,  0.],       [ 0.,  5.,  6.,  0.,  0.,  1., 12.,  0.,  0.,  2.,  0.,  0.,  3.,         0.,  0.,  0.,  0.,  0.,  4.,  8., 12.,  0.,  7.,  0., 10.,  0.],       [ 8.,  5.,  0.,  0.,  0., 12.,  0., 12.,  0.,  6.,  0.,  0.,  4.,         0.,  0.,  0.,  3.,  0.,  2., 10.,  0.,  0.,  1.,  0.,  7.,  0.],       [ 8.,  1.,  4.,  6.,  0.,  5.,  0.,  0., 12.,  0.,  0.,  0.,  3.,         0.,  0.,  0.,  0.,  0.,  7., 10.,  0.,  0.,  2.,  0., 12.,  0.],       [ 0., 10.,  1.,  0.,  8.,  0.,  0.,  0.,  0.,  2.,  0.,  0.,  0.,         0.,  0.,  0.,  6.,  0.,  5.,  4.,  0.,  0., 12.,  7.,  3.,  0.],       [ 0.,  4.,  6.,  0.,  0.,  0.,  0.,  3.,  0.,  2.,  0.,  0.,  0.,         0.,  0.,  7.,  5.,  0.,  1., 12.,  0.,  0., 10.,  0.,  8.,  0.],       [ 7.,  3.,  0.,  0.,  4., 10.,  5.,  0.,  0.,  0.,  0.,  0.,  0.,         0.,  1.,  0.,  0.,  0.,  2.,  8., 12.,  0.,  0.,  0.,  6.,  0.],       [ 0.,  7.,  6.,  0.,  0.,  4.,  0.,  1.,  0.,  3.,  0.,  0.,  0.,         0.,  0.,  2.,  0.,  0.,  5.,  8.,  0.,  0., 10.,  0., 12.,  0.],       [12.,  0.,  8.,  0.,  4.,  5.,  0.,  0.,  0., 12.,  0.,  0.,  0.,         3.,  0.,  0.,  0.,  0.,  7.,  6.,  0.,  1.,  2.,  0., 10.,  0.],       [12.,  1.,  0.,  7.,  0.,  3.,  0.,  0.,  0.,  0., 12.,  0.,  2.,         0.,  0.,  6.,  5.,  0.,  4.,  8.,  0.,  0.,  0.,  0., 10.,  0.],       [ 2.,  5.,  7.,  0.,  0.,  4.,  0.,  0.,  0.,  0.,  0., 12.,  0.,         0.,  1.,  0.,  0.,  0., 10., 12.,  0.,  0.,  8.,  3.,  6.,  0.],       [ 8.,  5.,  1.,  0.,  0.,  7.,  0., 12.,  0.,  4.,  0.,  0.,  2.,         0.,  0.,  0.,  0.,  0.,  3., 10.,  0.,  0.,  0.,  0.,  6.,  0.],       [ 0.,  3.,  6.,  0.,  0.,  4.,  0.,  5.,  0.,  1.,  0.,  0., 12.,         0.,  0.,  0.,  0.,  0.,  8., 10.,  0.,  0.,  7.,  2., 12.,  0.],       [ 0.,  8.,  2.,  1.,  3.,  0.,  0.,  0.,  0.,  5.,  0.,  0.,  0.,         0.,  0.,  0.,  4.,  0., 10.,  7.,  0.,  0., 12.,  6.,  0.,  0.],       [ 0.,  6.,  1.,  0.,  0.,  5.,  0.,  0.,  0.,  0.,  0.,  0.,  0.,         0.,  0.,  7., 12.,  0., 10.,  8.,  0.,  0.,  2.,  0.,  4.,  3.],       [ 6.,  5.,  3.,  2.,  1.,  7.,  0.,  0.,  0., 12.,  0.,  0.,  0.,        12.,  0.,  0.,  0.,  0.,  4., 10.,  0.,  0.,  0.,  0.,  8.,  0.],       [ 1.,  0.,  0.,  0.,  0.,  7.,  0.,  6.,  0.,  5.,  3.,  0.,  0.,         0., 12.,  0.,  2.,  0., 10.,  8.,  4.,  0.,  0.,  0., 12.,  0.],       [ 0.,  6.,  4.,  3.,  0.,  1.,  0.,  0.,  0.,  0.,  2.,  0.,  0.,         0.,  0., 12.,  8.,  0.,  5., 12.,  0.,  0.,  7.,  0., 10.,  0.],       [ 0.,  5.,  1.,  0.,  0.,  0.,  0.,  0.,  0.,  3.,  4.,  0.,  2.,         0.,  0., 12., 12.,  0.,  6.,  8.,  0.,  0.,  7.,  0., 10.,  0.],       [ 0., 12.,  0.,  6.,  0.,  8.,  0.,  0.,  0.,  2.,  0.,  0.,  5.,         0.,  7.,  0.,  0., 12.,  0., 10.,  0.,  0.,  0.,  3.,  4.,  1.],       [ 7.,  5.,  4.,  8.,  0.,  2.,  0.,  0.,  0.,  6.,  0.,  0.,  0.,         0.,  0.,  1.,  3.,  0.,  0., 12.,  0.,  0.,  0.,  0., 10.,  0.],       [ 0.,  0.,  0.,  7.,  0.,  5.,  6.,  0.,  0.,  1.,  0.,  0.,  3.,         0.,  4.,  0.,  2.,  0.,  0., 10., 12.,  0.,  0.,  0.,  8.,  0.],       [ 0.,  8.,  0.,  0.,  2.,  5.,  0.,  0.,  0.,  1.,  0.,  0.,  0.,         0.,  0.,  3., 12.,  0., 10.,  6.,  0.,  0.,  7.,  0.,  4.,  0.],       [ 2.,  7.,  4.,  0.,  0.,  3.,  0.,  1.,  0.,  0.,  0.,  0.,  6.,         0.,  0.,  5.,  0.,  0., 12.,  8.,  0.,  0., 10.,  0., 12.,  0.],       [12.,  4.,  8.,  6.,  0.,  0.,  0.,  7.,  0.,  3.,  0.,  0.,  0.,         0.,  0.,  1.,  0.,  0.,  5., 12.,  0.,  0.,  2.,  0., 10.,  0.],       [ 2.,  5.,  0.,  0.,  0.,  3.,  0.,  0.,  0.,  0.,  0.,  0.,  1.,         0.,  0.,  6.,  8.,  0.,  7., 10.,  0.,  0.,  4.,  0., 12.,  0.],       [ 2.,  6.,  0.,  0.,  5.,  8.,  4.,  3.,  0.,  0.,  0.,  0., 10.,         0.,  0.,  0.,  0.,  0.,  0., 12., 12.,  0.,  1.,  0.,  7.,  0.],       [ 0.,  3.,  6.,  0.,  0.,  2.,  8.,  0.,  0.,  0.,  0.,  0.,  0.,         0.,  1.,  0.,  0.,  0.,  4., 10., 12.,  0.,  5.,  0.,  7.,  0.],       [ 6.,  4.,  2.,  0.,  0., 12.,  0.,  0.,  0., 10.,  0.,  0.,  0.,         0.,  3.,  0.,  0.,  0.,  5.,  8.,  0., 12.,  1.,  0.,  7.,  0.],       [ 0., 12.,  5.,  0.,  0.,  4.,  0.,  0.,  0.,  3.,  0.,  0.,  0.,         0.,  0.,  0.,  6.,  0., 10.,  8.,  0.,  1., 12.,  2.,  7.,  0.],       [ 0.,  1., 10.,  0.,  0.,  0.,  0.,  0.,  0.,  3.,  0.,  8.,  0.,         0.,  7.,  0.,  0.,  0.,  5.,  6., 12.,  2.,  0.,  0.,  4.,  0.],       [ 8.,  5.,  6.,  0., 12.,  1.,  0.,  0.,  0.,  4.,  0.,  0.,  0.,         0.,  0.,  0.,  0.,  0., 10.,  3.,  0.,  0.,  2., 12.,  7.,  0.],       [ 7.,  4.,  0., 10.,  0.,  2.,  0.,  0.,  0.,  0.,  6.,  0.,  0.,         0.,  0.,  5.,  3.,  0.,  8., 12.,  0.,  0.,  1.,  0., 12.,  0.],       [ 0.,  6.,  0.,  0.,  0.,  8.,  0.,  2.,  0.,  0.,  0.,  0.,  0.,         0.,  0.,  3., 12.,  0., 10.,  7.,  0.,  4.,  1.,  0.,  5., 12.]])\n",
        "country_names = ['Albania', 'Armenia', 'Australia', 'Austria', 'Azerbaijan', 'Belarus', 'Belgium', 'Bosnia & Herzegovina', 'Bulgaria', 'Croatia', 'Cyprus', 'Czech Republic', 'Denmark', 'Estonia', 'F.Y.R. Macedonia', 'Finland', 'France', 'Georgia', 'Germany', 'Greece', 'Hungary', 'Iceland', 'Ireland', 'Israel', 'Italy','Latvia', 'Lithuania', 'Malta', 'Moldova', 'Montenegro', 'Norway', 'Poland', 'Russia', 'San Marino', 'Serbia', 'Slovenia', 'Spain', 'Sweden', 'Switzerland', 'The Netherlands', 'Ukraine', 'United Kingdom']\n",
        "\n",
        "# Perform the necessary imports\n",
        "import matplotlib.pyplot as plt\n",
        "from scipy.cluster.hierarchy import linkage, dendrogram\n",
        "\n",
        "# Calculate the linkage: mergings\n",
        "mergings = linkage(samples, method='single')\n",
        "\n",
        "# Plot the dendrogram\n",
        "dendrogram(mergings, labels=country_names, leaf_rotation=90, leaf_font_size=6)\n",
        "plt.show()"
      ],
      "metadata": {
        "colab": {
          "base_uri": "https://localhost:8080/",
          "height": 322
        },
        "id": "ndhwprI83w1z",
        "outputId": "700507ee-f93f-4101-aa1d-dae933a74f1b"
      },
      "execution_count": 39,
      "outputs": [
        {
          "output_type": "display_data",
          "data": {
            "text/plain": [
              "<Figure size 432x288 with 1 Axes>"
            ],
            "image/png": "[encoded data removed]"
          },
          "metadata": {
            "needs_background": "light"
          }
        }
      ]
    },
    {
      "cell_type": "markdown",
      "source": [
        "Performing single linkage hierarchical clustering produces a different dendrogram.\n",
        "\n",
        "### ***Extracting the cluster labels***\n",
        "\n",
        "Use the **`fcluster()`** function to extract the cluster labels for this intermediate clustering, and compare the labels with the grain varieties using a cross-tabulation.\n",
        "\n",
        "The hierarchical clustering has already been performed and mergings is the result of the **`linkage()`** function. The list `varieties` gives the variety of each grain sample.\n",
        "\n",
        "* Perform a flat hierarchical clustering by using the **`fcluster()`** function on `mergings`. Specify a maximum height of `6` and the keyword argument **`criterion='distance'`**.\n",
        "* Create a DataFrame `df` with two columns named `'labels'` and `'varieties'`, using `labels` and `varieties`, respectively.\n",
        "\n",
        "* Create a cross-tabulation `ct` between `df['labels']` and `df['varieties']` to count the number of times each grain variety coincides with each cluster label."
      ],
      "metadata": {
        "id": "WyFuc6AXUT9I"
      }
    },
    {
      "cell_type": "code",
      "source": [
        "from scipy.cluster.hierarchy import fcluster\n",
        "\n",
        "# Use fcluster to extract labels: labels\n",
        "labels = fcluster(mergings, 6, criterion='distance')\n",
        "\n",
        "# Create a DataFrame with labels and varieties as columns: df\n",
        "df = pd.DataFrame({'labels': labels, 'varieties': varieties})\n",
        "\n",
        "# Create crosstab: ct\n",
        "ct = pd.crosstab(df['labels'], df['varieties'])\n",
        "\n",
        "# Display ct\n",
        "display(ct)"
      ],
      "metadata": {
        "colab": {
          "base_uri": "https://localhost:8080/",
          "height": 175
        },
        "id": "YEdnQnJmS2XG",
        "outputId": "78119271-1c46-4f82-daec-35b27f89734f"
      },
      "execution_count": 42,
      "outputs": [
        {
          "output_type": "display_data",
          "data": {
            "text/plain": [
              "varieties  Canadian wheat  Kama wheat  Rosa wheat\n",
              "labels                                           \n",
              "1                      14           3           0\n",
              "2                       0           0          14\n",
              "3                       0          11           0"
            ],
            "text/html": [
              "\n",
              "  <div id=\"df-f98659ef-00e8-4cb0-860d-49988751953f\">\n",
              "    <div class=\"colab-df-container\">\n",
              "      <div>\n",
              "<style scoped>\n",
              "    .dataframe tbody tr th:only-of-type {\n",
              "        vertical-align: middle;\n",
              "    }\n",
              "\n",
              "    .dataframe tbody tr th {\n",
              "        vertical-align: top;\n",
              "    }\n",
              "\n",
              "    .dataframe thead th {\n",
              "        text-align: right;\n",
              "    }\n",
              "</style>\n",
              "<table border=\"1\" class=\"dataframe\">\n",
              "  <thead>\n",
              "    <tr style=\"text-align: right;\">\n",
              "      <th>varieties</th>\n",
              "      <th>Canadian wheat</th>\n",
              "      <th>Kama wheat</th>\n",
              "      <th>Rosa wheat</th>\n",
              "    </tr>\n",
              "    <tr>\n",
              "      <th>labels</th>\n",
              "      <th></th>\n",
              "      <th></th>\n",
              "      <th></th>\n",
              "    </tr>\n",
              "  </thead>\n",
              "  <tbody>\n",
              "    <tr>\n",
              "      <th>1</th>\n",
              "      <td>14</td>\n",
              "      <td>3</td>\n",
              "      <td>0</td>\n",
              "    </tr>\n",
              "    <tr>\n",
              "      <th>2</th>\n",
              "      <td>0</td>\n",
              "      <td>0</td>\n",
              "      <td>14</td>\n",
              "    </tr>\n",
              "    <tr>\n",
              "      <th>3</th>\n",
              "      <td>0</td>\n",
              "      <td>11</td>\n",
              "      <td>0</td>\n",
              "    </tr>\n",
              "  </tbody>\n",
              "</table>\n",
              "</div>\n",
              "      <button class=\"colab-df-convert\" onclick=\"convertToInteractive('df-f98659ef-00e8-4cb0-860d-49988751953f')\"\n",
              "              title=\"Convert this dataframe to an interactive table.\"\n",
              "              style=\"display:none;\">\n",
              "        \n",
              "  <svg xmlns=\"http://www.w3.org/2000/svg\" height=\"24px\"viewBox=\"0 0 24 24\"\n",
              "       width=\"24px\">\n",
              "    <path d=\"M0 0h24v24H0V0z\" fill=\"none\"/>\n",
              "    <path d=\"M18.56 5.44l.94 2.06.94-2.06 2.06-.94-2.06-.94-.94-2.06-.94 2.06-2.06.94zm-11 1L8.5 8.5l.94-2.06 2.06-.94-2.06-.94L8.5 2.5l-.94 2.06-2.06.94zm10 10l.94 2.06.94-2.06 2.06-.94-2.06-.94-.94-2.06-.94 2.06-2.06.94z\"/><path d=\"M17.41 7.96l-1.37-1.37c-.4-.4-.92-.59-1.43-.59-.52 0-1.04.2-1.43.59L10.3 9.45l-7.72 7.72c-.78.78-.78 2.05 0 2.83L4 21.41c.39.39.9.59 1.41.59.51 0 1.02-.2 1.41-.59l7.78-7.78 2.81-2.81c.8-.78.8-2.07 0-2.86zM5.41 20L4 18.59l7.72-7.72 1.47 1.35L5.41 20z\"/>\n",
              "  </svg>\n",
              "      </button>\n",
              "      \n",
              "  <style>\n",
              "    .colab-df-container {\n",
              "      display:flex;\n",
              "      flex-wrap:wrap;\n",
              "      gap: 12px;\n",
              "    }\n",
              "\n",
              "    .colab-df-convert {\n",
              "      background-color: #E8F0FE;\n",
              "      border: none;\n",
              "      border-radius: 50%;\n",
              "      cursor: pointer;\n",
              "      display: none;\n",
              "      fill: #1967D2;\n",
              "      height: 32px;\n",
              "      padding: 0 0 0 0;\n",
              "      width: 32px;\n",
              "    }\n",
              "\n",
              "    .colab-df-convert:hover {\n",
              "      background-color: #E2EBFA;\n",
              "      box-shadow: 0px 1px 2px rgba(60, 64, 67, 0.3), 0px 1px 3px 1px rgba(60, 64, 67, 0.15);\n",
              "      fill: #174EA6;\n",
              "    }\n",
              "\n",
              "    [theme=dark] .colab-df-convert {\n",
              "      background-color: #3B4455;\n",
              "      fill: #D2E3FC;\n",
              "    }\n",
              "\n",
              "    [theme=dark] .colab-df-convert:hover {\n",
              "      background-color: #434B5C;\n",
              "      box-shadow: 0px 1px 3px 1px rgba(0, 0, 0, 0.15);\n",
              "      filter: drop-shadow(0px 1px 2px rgba(0, 0, 0, 0.3));\n",
              "      fill: #FFFFFF;\n",
              "    }\n",
              "  </style>\n",
              "\n",
              "      <script>\n",
              "        const buttonEl =\n",
              "          document.querySelector('#df-f98659ef-00e8-4cb0-860d-49988751953f button.colab-df-convert');\n",
              "        buttonEl.style.display =\n",
              "          google.colab.kernel.accessAllowed ? 'block' : 'none';\n",
              "\n",
              "        async function convertToInteractive(key) {\n",
              "          const element = document.querySelector('#df-f98659ef-00e8-4cb0-860d-49988751953f');\n",
              "          const dataTable =\n",
              "            await google.colab.kernel.invokeFunction('convertToInteractive',\n",
              "                                                     [key], {});\n",
              "          if (!dataTable) return;\n",
              "\n",
              "          const docLinkHtml = 'Like what you see? Visit the ' +\n",
              "            '<a target=\"_blank\" href=https://colab.research.google.com/notebooks/data_table.ipynb>data table notebook</a>'\n",
              "            + ' to learn more about interactive tables.';\n",
              "          element.innerHTML = '';\n",
              "          dataTable['output_type'] = 'display_data';\n",
              "          await google.colab.output.renderOutput(dataTable, element);\n",
              "          const docLink = document.createElement('div');\n",
              "          docLink.innerHTML = docLinkHtml;\n",
              "          element.appendChild(docLink);\n",
              "        }\n",
              "      </script>\n",
              "    </div>\n",
              "  </div>\n",
              "  "
            ]
          },
          "metadata": {}
        }
      ]
    },
    {
      "cell_type": "markdown",
      "source": [
        "You've now mastered the fundamentals of k-Means and agglomerative hierarchical clustering.\n",
        "\n",
        "# ***t-SNE in sklearn***\n",
        "\n",
        "* Maps samples to 2D space (or 3D)\n"
      ],
      "metadata": {
        "id": "4xmNFQX9Vv_j"
      }
    },
    {
      "cell_type": "code",
      "source": [
        "model = TSNE(learning_rate=100)\n",
        "transformed = model.fit_transform(samples)\n",
        "plt.scatter(transformed[:, 0], transformed[:, 1], c=species, edgecolor='black')\n",
        "plt.show()"
      ],
      "metadata": {
        "colab": {
          "base_uri": "https://localhost:8080/",
          "height": 323
        },
        "id": "WyStzr3aVmzu",
        "outputId": "e1a95203-ec4e-4d13-ce5e-3bd5e5a1e89c"
      },
      "execution_count": 5,
      "outputs": [
        {
          "output_type": "stream",
          "name": "stderr",
          "text": [
            "/usr/local/lib/python3.7/dist-packages/sklearn/manifold/_t_sne.py:783: FutureWarning: The default initialization in TSNE will change from 'random' to 'pca' in 1.2.\n",
            "  FutureWarning,\n"
          ]
        },
        {
          "output_type": "display_data",
          "data": {
            "text/plain": [
              "<Figure size 432x288 with 1 Axes>"
            ],
            "image/png": "[encoded data removed]"
          },
          "metadata": {
            "needs_background": "light"
          }
        }
      ]
    },
    {
      "cell_type": "markdown",
      "source": [
        "### ***t-SNE visualization of grain dataset***\n",
        "\n",
        "Apply t-SNE to the grain samples data and inspect the resulting t-SNE features using a scatter plot. You are given an array `samples` of grain samples and a list `variety_numbers` giving the variety number of each grain sample.\n",
        "\n",
        "* Create a TSNE instance called model with `learning_rate=200`.\n",
        "* Apply the `.fit_transform()` method of model to samples. Assign the result to `tsne_features`.\n",
        "* Make a scatter plot of the t-SNE features.  To color the points by the grain variety, specify the additional keyword argument `c=variety_numbers`."
      ],
      "metadata": {
        "id": "oOY5ApFCliSc"
      }
    },
    {
      "cell_type": "code",
      "source": [
        "# Import TSNE\n",
        "from sklearn.manifold import TSNE\n",
        "\n",
        "samples = pd.read_csv('seeds.csv', header=None).drop(columns=7).values\n",
        "variety_numbers = pd.read_csv('seeds.csv', header=None)[7].values\n",
        "\n",
        "# Create a TSNE instance: model\n",
        "model = TSNE(learning_rate=200)\n",
        "\n",
        "# Apply fit_transform to samples: tsne_features\n",
        "tsne_features = model.fit_transform(samples)\n",
        "\n",
        "# Select the 0th feature: xs\n",
        "xs = tsne_features[:,0]\n",
        "\n",
        "# Select the 1st feature: ys\n",
        "ys = tsne_features[:,1]\n",
        "\n",
        "# Scatter plot, coloring by variety_numbers\n",
        "plt.scatter(xs, ys, c=variety_numbers, edgecolor='black')\n",
        "plt.show()"
      ],
      "metadata": {
        "colab": {
          "base_uri": "https://localhost:8080/",
          "height": 321
        },
        "id": "-WTazCEokm3w",
        "outputId": "9eb658c0-7ed0-4fa5-c2c2-6946d10cb6f7"
      },
      "execution_count": 11,
      "outputs": [
        {
          "output_type": "stream",
          "name": "stderr",
          "text": [
            "/usr/local/lib/python3.7/dist-packages/sklearn/manifold/_t_sne.py:783: FutureWarning: The default initialization in TSNE will change from 'random' to 'pca' in 1.2.\n",
            "  FutureWarning,\n"
          ]
        },
        {
          "output_type": "display_data",
          "data": {
            "text/plain": [
              "<Figure size 432x288 with 1 Axes>"
            ],
            "image/png": "[encoded data removed]"
          },
          "metadata": {
            "needs_background": "light"
          }
        }
      ]
    },
    {
      "cell_type": "markdown",
      "source": [
        "As you can see, the t-SNE visualization manages to separate the 3 varieties of grain samples.\n",
        "\n",
        "### ***A t-SNE map of the stock market***\n",
        "\n",
        "t-SNE provides great visualizations when the individual samples can be labeled. In this exercise, you'll apply t-SNE to the company stock price data. A scatter plot of the resulting t-SNE features, labeled by the company names, gives you a map of the stock market! The stock price movements for each company are available as the array `normalized_movements` (these have already been normalized for you). The list `companies` gives the name of each company. \n",
        "\n",
        "* Import `TSNE` from `sklearn.manifold`.\n",
        "* Create a `TSNE` instance called model with `learning_rate=50`.\n",
        "* Apply the `.fit_transform()` method of model to `normalized_movements`. Assign the result to `tsne_features`.\n",
        "* Select column `0` and column `1` of `tsne_features`.\n",
        "* Make a scatter plot of the t-SNE features `xs` and `ys`. Specify the additional keyword argument `alpha=0.5`.\n",
        "* Code to label each point with its company name has been written for you using `plt.annotate()`."
      ],
      "metadata": {
        "id": "0O_6zrfJn_sI"
      }
    },
    {
      "cell_type": "code",
      "source": [
        "from sklearn.preprocessing import normalize\n",
        "from sklearn.manifold import TSNE\n",
        "fig, ax = plt.subplots(figsize=(16, 7))\n",
        "\n",
        "movements = pd.read_csv('company-stock-movements-2010-2015-incl.csv').drop(columns='Unnamed: 0').values\n",
        "companies = pd.read_csv('company-stock-movements-2010-2015-incl.csv')['Unnamed: 0'].values\n",
        "normalized_movements = normalize(movements)\n",
        "\n",
        "# Create a TSNE instance: model\n",
        "model = TSNE(learning_rate=50)\n",
        "\n",
        "# Apply fit_transform to normalized_movements: tsne_features\n",
        "tsne_features = model.fit_transform(normalized_movements)\n",
        "\n",
        "# Select the 0th feature: xs\n",
        "xs = tsne_features[:, 0]\n",
        "\n",
        "# Select the 1th feature: ys\n",
        "ys = tsne_features[:,1]\n",
        "\n",
        "# Scatter plot\n",
        "ax.scatter(xs, ys, alpha=0.5)\n",
        "\n",
        "# Annotate the points\n",
        "for x, y, company in zip(xs, ys, companies):\n",
        "    plt.annotate(company, (x, y), fontsize=12, alpha=0.75)\n",
        "plt.show()"
      ],
      "metadata": {
        "colab": {
          "base_uri": "https://localhost:8080/",
          "height": 483
        },
        "id": "8ZZ6AZH2nX6z",
        "outputId": "70c973fe-2d6a-4b7d-d0ae-b75b0b280eda"
      },
      "execution_count": 16,
      "outputs": [
        {
          "output_type": "stream",
          "name": "stderr",
          "text": [
            "/usr/local/lib/python3.7/dist-packages/sklearn/manifold/_t_sne.py:783: FutureWarning: The default initialization in TSNE will change from 'random' to 'pca' in 1.2.\n",
            "  FutureWarning,\n"
          ]
        },
        {
          "output_type": "display_data",
          "data": {
            "text/plain": [
              "<Figure size 1152x504 with 1 Axes>"
            ],
            "image/png": "[encoded data removed]"
          },
          "metadata": {
            "needs_background": "light"
          }
        }
      ]
    },
    {
      "cell_type": "markdown",
      "source": [
        "It's visualizations such as this that make t-SNE such a powerful tool for extracting quick insights from high dimensional data.\n",
        "\n",
        "# ***Using scikit-learn PCA***\n",
        "\n",
        "* อันไหนมีความแปรปรวนเยอะๆ แปลว่าควรเลือกมาเป็นปัจจัยที่เกี่ยวข้อง"
      ],
      "metadata": {
        "id": "b_n0VeR0pvWl"
      }
    },
    {
      "cell_type": "code",
      "source": [
        "from sklearn.decomposition import PCA\n",
        "\n",
        "\n",
        "samples = pd.read_csv('wine.csv')[['total_phenols', 'od280']].values\n",
        "plt.scatter(samples[:, 0], samples[:, 1], edgecolor='black')\n",
        "plt.xlim([-4, 6])\n",
        "plt.ylim([-4, 6])\n",
        "plt.axvline(x=0)\n",
        "plt.axhline(y=0)\n",
        "plt.show()\n",
        "\n",
        "model = PCA()\n",
        "model.fit(samples)\n",
        "transformed = model.transform(samples)\n",
        "plt.scatter(transformed[:, 0], transformed[:, 1], edgecolor='black')\n",
        "plt.xlim([-4, 6])\n",
        "plt.ylim([-4, 6])\n",
        "plt.axvline(x=0)\n",
        "plt.axhline(y=0)\n",
        "plt.show()"
      ],
      "metadata": {
        "colab": {
          "base_uri": "https://localhost:8080/",
          "height": 521
        },
        "id": "HLKZC2_SpzAM",
        "outputId": "8c1500cd-14f7-4ccc-c67e-d8d0767ba519"
      },
      "execution_count": 27,
      "outputs": [
        {
          "output_type": "display_data",
          "data": {
            "text/plain": [
              "<Figure size 432x288 with 1 Axes>"
            ],
            "image/png": "[encoded data removed]"
          },
          "metadata": {
            "needs_background": "light"
          }
        },
        {
          "output_type": "display_data",
          "data": {
            "text/plain": [
              "<Figure size 432x288 with 1 Axes>"
            ],
            "image/png": "[encoded data removed]"
          },
          "metadata": {
            "needs_background": "light"
          }
        }
      ]
    },
    {
      "cell_type": "markdown",
      "source": [
        "### ***Correlated data in nature***\n",
        "\n",
        "You are given an array `grains` giving the width and length of samples of grain. You suspect that width and length will be correlated. To confirm this, make a scatter plot of width vs length and measure their Pearson correlation.\n",
        "\n",
        "\n",
        "* Import `pearsonr` from `scipy.stats`.\n",
        "* Assign column `0` of `grains` to `width` and column `1` of `grains` to `length`.\n",
        "* Make a scatter plot with `width` on the x-axis and `length` on the y-axis.\n",
        "* Use the `pearsonr()` function to calculate the Pearson correlation of `width` and `length`."
      ],
      "metadata": {
        "id": "XjwfypvmuH9I"
      }
    },
    {
      "cell_type": "code",
      "source": [
        "grains = pd.read_csv('seeds-width-vs-length.csv', header=None).values\n",
        "\n",
        "# Perform the necessary imports\n",
        "import matplotlib.pyplot as plt\n",
        "from scipy.stats import pearsonr\n",
        "\n",
        "# Assign the 0th column of grains: width\n",
        "width = grains[:, 0]\n",
        "\n",
        "# Assign the 1st column of grains: length\n",
        "length = grains[:, 1]\n",
        "\n",
        "# Scatter plot width vs length\n",
        "plt.scatter(width, length, edgecolor='black')\n",
        "plt.axis('equal')\n",
        "plt.show()\n",
        "\n",
        "# Calculate the Pearson correlation\n",
        "correlation, pvalue = pearsonr(width, length)\n",
        "\n",
        "# Display the correlation\n",
        "print(correlation)"
      ],
      "metadata": {
        "colab": {
          "base_uri": "https://localhost:8080/",
          "height": 285
        },
        "id": "ahL-q86lrb6a",
        "outputId": "f7cacd3e-bf86-4cee-d7d4-d2546a65b7ca"
      },
      "execution_count": 40,
      "outputs": [
        {
          "output_type": "display_data",
          "data": {
            "text/plain": [
              "<Figure size 432x288 with 1 Axes>"
            ],
            "image/png": "[encoded data removed]"
          },
          "metadata": {
            "needs_background": "light"
          }
        },
        {
          "output_type": "stream",
          "name": "stdout",
          "text": [
            "0.8604149377143469\n"
          ]
        }
      ]
    },
    {
      "cell_type": "markdown",
      "source": [
        "The width and length of the grain samples are highly correlated.\n",
        "\n",
        "### ***Decorrelating the grain measurements with PCA***\n",
        "\n",
        "You observed in the previous exercise that the width and length measurements of the grain are correlated. Now, you'll use PCA to decorrelate these measurements, then plot the decorrelated points and measure their Pearson correlation.\n",
        "\n",
        "* Import `PCA` from `sklearn.decomposition`.\n",
        "* Create an instance of PCA called `model`.\n",
        "* Use the `.fit_transform()` method of model to apply the PCA transformation to `grains`. Assign the result to `pca_features`.\n"
      ],
      "metadata": {
        "id": "J8d_A7tTwUYB"
      }
    },
    {
      "cell_type": "code",
      "source": [
        "from sklearn.decomposition import PCA\n",
        "\n",
        "# Create PCA instance: model\n",
        "model = PCA()\n",
        "\n",
        "# Apply the fit_transform method of model to grains: pca_features\n",
        "pca_features = model.fit_transform(grains)\n",
        "\n",
        "# Assign 0th column of pca_features: xs\n",
        "xs = pca_features[:,0]\n",
        "\n",
        "# Assign 1st column of pca_features: ys\n",
        "ys = pca_features[:,1]\n",
        "\n",
        "# Scatter plot xs vs ys\n",
        "plt.scatter(xs, ys, edgecolor='black')\n",
        "plt.axis('equal')\n",
        "plt.show()\n",
        "\n",
        "# Calculate the Pearson correlation of xs and ys\n",
        "correlation, pvalue = pearsonr(xs, ys)\n",
        "\n",
        "# Display the correlation\n",
        "print(correlation)"
      ],
      "metadata": {
        "colab": {
          "base_uri": "https://localhost:8080/",
          "height": 282
        },
        "id": "QV1iWLd0usNh",
        "outputId": "1aa92ab8-0476-4052-a023-ee5da62ec73a"
      },
      "execution_count": 42,
      "outputs": [
        {
          "output_type": "display_data",
          "data": {
            "text/plain": [
              "<Figure size 432x288 with 1 Axes>"
            ],
            "image/png": "[encoded data removed]"
          },
          "metadata": {
            "needs_background": "light"
          }
        },
        {
          "output_type": "stream",
          "name": "stdout",
          "text": [
            "8.933825901280557e-17\n"
          ]
        }
      ]
    },
    {
      "cell_type": "markdown",
      "source": [
        "# ***Plotting the variances of PCA features***"
      ],
      "metadata": {
        "id": "7kQVLnDexThc"
      }
    },
    {
      "cell_type": "code",
      "source": [
        "import matplotlib.pyplot as plt\n",
        "from sklearn.decomposition import PCA\n",
        "\n",
        "pca = PCA()\n",
        "pca.fit(samples)\n",
        "features = range(pca.n_components_)\n",
        "\n",
        "plt.bar(features, pca.explained_variance_, edgecolor='black')\n",
        "plt.xticks(features)\n",
        "plt.ylabel('variance')\n",
        "plt.xlabel('PCA feature')\n",
        "plt.show()"
      ],
      "metadata": {
        "colab": {
          "base_uri": "https://localhost:8080/",
          "height": 279
        },
        "id": "z2lRuR4rw4up",
        "outputId": "547150ef-05e7-44b8-c41e-a6b7c0c83ffd"
      },
      "execution_count": 46,
      "outputs": [
        {
          "output_type": "display_data",
          "data": {
            "text/plain": [
              "<Figure size 432x288 with 1 Axes>"
            ],
            "image/png": "[encoded data removed]"
          },
          "metadata": {
            "needs_background": "light"
          }
        }
      ]
    },
    {
      "cell_type": "markdown",
      "source": [
        "### ***The first principal component***\n",
        "\n",
        "The first principal component of the data is the direction in which the data varies the most. In this exercise, your job is to use PCA to find the first principal component of the `length` and `width` measurements of the grain samples, and represent it as an arrow on the scatter plot.\n",
        "\n",
        "The array `grains` gives the `length` and `width` of the grain samples. \n",
        "\n",
        "* Make a scatter plot of the grain measurements.\n",
        "* Create a PCA instance called `model`.\n",
        "* Fit the model to the `grains` data.\n",
        "* Extract the coordinates of the mean of the data using the **`.mean_ attribute`** of `model`.\n",
        "* Get the first principal component of model using the **`.components_[0,:]`** attribute.\n",
        "* Plot the first principal component as an arrow on the scatter plot, using the **`plt.arrow()`** function. You have to specify the first two arguments - `mean[0]` and `mean[1]`."
      ],
      "metadata": {
        "id": "L_Fo-yYvF17_"
      }
    },
    {
      "cell_type": "code",
      "source": [
        "grains = pd.read_csv('seeds-width-vs-length.csv', header=None).values\n",
        "\n",
        "# Make a scatter plot of the untransformed points\n",
        "plt.scatter(grains[:,0], grains[:,1], edgecolor='black')\n",
        "\n",
        "# Create a PCA instance: model\n",
        "model = PCA()\n",
        "\n",
        "# Fit model to points\n",
        "model.fit(grains)\n",
        "\n",
        "# Get the mean of the grain samples: mean\n",
        "mean = model.mean_\n",
        "\n",
        "# Get the first principal component: first_pc\n",
        "first_pc = model.components_[0,:]\n",
        "\n",
        "# Plot first_pc as an arrow, starting at mean\n",
        "plt.arrow(mean[0], mean[1], first_pc[0], first_pc[1], color='red', width=0.01)\n",
        "\n",
        "# Keep axes on same scale\n",
        "plt.axis('equal')\n",
        "plt.show()"
      ],
      "metadata": {
        "colab": {
          "base_uri": "https://localhost:8080/",
          "height": 268
        },
        "id": "Rfh6PJyoFcL9",
        "outputId": "5dcfaff1-e5d8-412a-d914-1803ac4f0a94"
      },
      "execution_count": 48,
      "outputs": [
        {
          "output_type": "display_data",
          "data": {
            "text/plain": [
              "<Figure size 432x288 with 1 Axes>"
            ],
            "image/png": "[encoded data removed]"
          },
          "metadata": {
            "needs_background": "light"
          }
        }
      ]
    },
    {
      "cell_type": "markdown",
      "source": [
        "### ***Variance of the PCA features***\n",
        "\n",
        "The fish dataset is 6-dimensional. But what is its intrinsic dimension? Make a plot of the variances of the PCA features to find out. As before, `samples` is a 2D array, where each row represents a fish. You'll need to standardize the features first.\n",
        "\n",
        "* Create an instance of `StandardScaler` called `scaler`.\n",
        "* Create a `PCA` instance called `pca`.\n",
        "* Use the `make_pipeline()` function to create a pipeline chaining `scaler` and `pca`.\n",
        "* Use the `.fit()` method of `pipeline` to fit it to the fish samples `samples`.\n",
        "* Extract the number of components used using the `.n_components_` attribute of `pca`. Place this inside a `range()` function and store the result as `features`.\n",
        "* Use the `plt.bar()` function to plot the explained variances, with `features` on the x-axis and `pca.explained_variance_` on the y-axis."
      ],
      "metadata": {
        "id": "FC7fDugII2kB"
      }
    },
    {
      "cell_type": "code",
      "source": [
        "# Perform the necessary imports\n",
        "from sklearn.decomposition import PCA\n",
        "from sklearn.preprocessing import StandardScaler\n",
        "from sklearn.pipeline import make_pipeline\n",
        "import matplotlib.pyplot as plt\n",
        "\n",
        "samples = pd.read_csv('fish.csv', header=None).drop(columns=0).values\n",
        "\n",
        "# Create scaler: scaler\n",
        "scaler = StandardScaler()\n",
        "\n",
        "# Create a PCA instance: pca\n",
        "pca = PCA()\n",
        "\n",
        "# Create pipeline: pipeline\n",
        "pipeline = make_pipeline(scaler, pca)\n",
        "\n",
        "# Fit the pipeline to 'samples'\n",
        "pipeline.fit(samples)\n",
        "\n",
        "# Plot the explained variances\n",
        "features = range(pca.n_components_)\n",
        "plt.bar(features, pca.explained_variance_, edgecolor='black')\n",
        "plt.xlabel('PCA feature')\n",
        "plt.ylabel('variance')\n",
        "plt.xticks(features)\n",
        "plt.show()"
      ],
      "metadata": {
        "colab": {
          "base_uri": "https://localhost:8080/",
          "height": 279
        },
        "id": "Sp6k9g67ImEs",
        "outputId": "be35c36a-042b-48d0-e482-77a5010b1b27"
      },
      "execution_count": 53,
      "outputs": [
        {
          "output_type": "display_data",
          "data": {
            "text/plain": [
              "<Figure size 432x288 with 1 Axes>"
            ],
            "image/png": "[encoded data removed]"
          },
          "metadata": {
            "needs_background": "light"
          }
        }
      ]
    },
    {
      "cell_type": "markdown",
      "source": [
        "# ***Dimension reduction with PCA***\n",
        "\n",
        "![image.png](data:image/png;base64,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)\n",
        "\n",
        "* Specify how many features to keep\n",
        "* E.g. `PCA(n_components=2)`\n",
        "* Keeps the first 2 PCA features"
      ],
      "metadata": {
        "id": "hRL735xnUTGo"
      }
    },
    {
      "cell_type": "code",
      "source": [
        "from sklearn.decomposition import PCA\n",
        "\n",
        "pca = PCA(n_components=2)\n",
        "pca.fit(samples)\n",
        "transformed = pca.transform(samples)\n",
        "transformed.shape"
      ],
      "metadata": {
        "colab": {
          "base_uri": "https://localhost:8080/"
        },
        "id": "vc5a1zVTUZ1_",
        "outputId": "0eb4f52e-1c85-48ec-aa62-502c065311bc"
      },
      "execution_count": 2,
      "outputs": [
        {
          "output_type": "execute_result",
          "data": {
            "text/plain": [
              "(150, 2)"
            ]
          },
          "metadata": {},
          "execution_count": 2
        }
      ]
    },
    {
      "cell_type": "markdown",
      "source": [
        "PCA has reduced the dimension to 2 (with highest variances)"
      ],
      "metadata": {
        "id": "qurduYEzWBfW"
      }
    },
    {
      "cell_type": "code",
      "source": [
        "plt.scatter(transformed[:,0], transformed[:,1], c=species, edgecolor='black')\n",
        "plt.show()"
      ],
      "metadata": {
        "colab": {
          "base_uri": "https://localhost:8080/",
          "height": 269
        },
        "id": "Tgc0YLZJV3qa",
        "outputId": "a783a72a-b8b6-49c3-f231-b29ef0671ee0"
      },
      "execution_count": 4,
      "outputs": [
        {
          "output_type": "display_data",
          "data": {
            "text/plain": [
              "<Figure size 432x288 with 1 Axes>"
            ],
            "image/png": "[encoded data removed]"
          },
          "metadata": {
            "needs_background": "light"
          }
        }
      ]
    },
    {
      "cell_type": "markdown",
      "source": [
        "# ***Sparse arrays and csr_matrix***\n",
        "\n",
        "* **\"Sparse\"**: most entries are zero\n",
        "* Can use **`scipy.sparse.csr_matrix`** instead of NumPy array\n",
        "* `csr_matrix` remembers only the non-zero entries (saves space!)\n",
        "\n",
        "# ***TruncatedSVD and csr_matrix***\n",
        "\n",
        "* scikit-learn PCA doesn't support `csr_matrix`\n",
        "* Use scikit-learn **`TruncatedSVD`** instead\n",
        "* Performs same transformation\n",
        "\n"
      ],
      "metadata": {
        "id": "TV2T95CKXLbs"
      }
    },
    {
      "cell_type": "code",
      "source": [
        "from sklearn.decomposition import TruncatedSVD\n",
        "\n",
        "model = TruncatedSVD(n_components=3)\n",
        "model.fit(documents) # documents is csr_matrix\n",
        "TruncatedSVD(algorithm='randomized', ... )\n",
        "transformed = model.transform(documents)"
      ],
      "metadata": {
        "id": "5t4SV9niWKvf"
      },
      "execution_count": null,
      "outputs": []
    },
    {
      "cell_type": "markdown",
      "source": [
        "### ***Dimension reduction of the fish measurements***\n",
        "\n",
        "In a previous exercise, you saw that 2 was a reasonable choice for the \"intrinsic dimension\" of the fish measurements. Now use PCA for dimensionality reduction of the fish measurements, retaining only the 2 most important components.\n",
        "\n",
        "The fish measurements have already been scaled for you, and are available as `scaled_samples`.\n",
        "\n",
        "* Import `PCA` from `sklearn.decomposition`.\n",
        "* Create a `PCA` instance called `pca` with `n_components=2`.\n",
        "* Use the `.fit()` method of `pca` to fit it to the scaled fish measurements `scaled_samples`.\n",
        "* Use the `.transform()` method of `pca` to transform the `scaled_samples`. Assign the result to `pca_features`."
      ],
      "metadata": {
        "id": "2AyqEH3LYamR"
      }
    },
    {
      "cell_type": "code",
      "source": [
        "from sklearn.decomposition import PCA\n",
        "\n",
        "samples = pd.read_csv('fish.csv', header=None).drop(columns=0).values\n",
        "species = pd.read_csv('fish.csv', header=None)[0].to_list()\n",
        "\n",
        "scaler = StandardScaler()\n",
        "scaler.fit(samples)\n",
        "StandardScaler(copy=True, with_mean=True, with_std=True)\n",
        "scaled_samples = scaler.transform(samples)\n",
        "print(scaled_samples.shape)\n",
        "\n",
        "# Create a PCA model with 2 components: pca\n",
        "pca = PCA(n_components=2)\n",
        "\n",
        "# Fit the PCA instance to the scaled samples\n",
        "pca.fit(scaled_samples)\n",
        "\n",
        "# Transform the scaled samples: pca_features\n",
        "pca_features = pca.transform(scaled_samples)\n",
        "\n",
        "# Print the shape of pca_features\n",
        "print(pca_features.shape)"
      ],
      "metadata": {
        "colab": {
          "base_uri": "https://localhost:8080/"
        },
        "id": "CdobGOFcZAqB",
        "outputId": "21c1fc70-398b-4ea2-e748-a6e28e1958b2"
      },
      "execution_count": 6,
      "outputs": [
        {
          "output_type": "stream",
          "name": "stdout",
          "text": [
            "(85, 6)\n",
            "(85, 2)\n"
          ]
        }
      ]
    },
    {
      "cell_type": "markdown",
      "source": [
        "You've successfully reduced the dimensionality from 6 to 2.\n",
        "\n",
        "### ***A tf-idf word-frequency array***\n",
        "\n",
        "Create a tf-idf word frequency array for a toy collection of documents. For this, use the **`TfidfVectorizer`** from **`sklearn`**. It transforms a list of documents into a word frequency array, which it outputs as a **`csr_matrix`**. It has **`fit()`** and **`transform()`** methods like other `sklearn` objects.\n",
        "\n",
        "You are given a list `documents` of toy documents about pets.\n",
        "\n",
        "* Import `TfidfVectorizer` from `sklearn.feature_extraction.text`.\n",
        "Create a `TfidfVectorizer` instance called `tfidf`.\n",
        "\n",
        "* Apply `.fit_transform()` method of `tfidf` to documents and assign the result to `csr_mat`. This is a word-frequency array in `csr_matrix` format.\n",
        "\n",
        "* Inspect `csr_mat` by calling its `.toarray()` method and printing the result. \n",
        "\n",
        "* The columns of the array correspond to words. Get the list of words by calling the `.get_feature_names()` method of `tfidf`, and assign the result to words."
      ],
      "metadata": {
        "id": "01K1lj5KaNIo"
      }
    },
    {
      "cell_type": "code",
      "source": [
        "from sklearn.feature_extraction.text import TfidfVectorizer\n",
        "\n",
        "documents = ['cats say meow', 'dogs say woof', 'dogs chase cats']\n",
        "\n",
        "# Create a TfidfVectorizer: tfidf\n",
        "tfidf = TfidfVectorizer()\n",
        "\n",
        "# Apply fit_transform to document: csr_mat\n",
        "csr_mat = tfidf.fit_transform(documents)\n",
        "\n",
        "# Print result of toarray() method\n",
        "print(csr_mat.toarray())  \n",
        "\n",
        "# Get the words: words\n",
        "words = tfidf.get_feature_names()\n",
        "\n",
        "# Print words\n",
        "print(words)\n"
      ],
      "metadata": {
        "colab": {
          "base_uri": "https://localhost:8080/"
        },
        "id": "0stKhnIYZTtQ",
        "outputId": "d62f22b5-5f5f-4d06-8a78-d28592f56725"
      },
      "execution_count": 9,
      "outputs": [
        {
          "output_type": "stream",
          "name": "stdout",
          "text": [
            "[[0.51785612 0.         0.         0.68091856 0.51785612 0.        ]\n",
            " [0.         0.         0.51785612 0.         0.51785612 0.68091856]\n",
            " [0.51785612 0.68091856 0.51785612 0.         0.         0.        ]]\n",
            "['cats', 'chase', 'dogs', 'meow', 'say', 'woof']\n"
          ]
        },
        {
          "output_type": "stream",
          "name": "stderr",
          "text": [
            "/usr/local/lib/python3.7/dist-packages/sklearn/utils/deprecation.py:87: FutureWarning: Function get_feature_names is deprecated; get_feature_names is deprecated in 1.0 and will be removed in 1.2. Please use get_feature_names_out instead.\n",
            "  warnings.warn(msg, category=FutureWarning)\n"
          ]
        }
      ]
    },
    {
      "cell_type": "markdown",
      "source": [
        "### ***Clustering Wikipedia part I***\n",
        "\n",
        "`TruncatedSVD` is able to perform PCA on sparse arrays in csr_matrix format, such as word-frequency arrays. Combine your knowledge of TruncatedSVD and k-means to cluster some popular pages from Wikipedia. In this exercise, build the pipeline. \n",
        "\n",
        "Create a Pipeline object consisting of a TruncatedSVD followed by KMeans. (This time, we've precomputed the word-frequency matrix for you, so there's no need for a TfidfVectorizer).\n",
        "\n",
        "The Wikipedia dataset you will be working with was obtained from [here](https://blog.lateral.io/2015/06/the-unknown-perils-of-mining-wikipedia/).\n",
        "\n",
        "* Import: \n",
        "  * `TruncatedSVD` from `sklearn.decomposition`.\n",
        "  * `KMeans` from `sklearn.cluster`.\n",
        "  * `make_pipeline` from `sklearn.pipeline`.\n",
        "\n",
        "* Create a `TruncatedSVD` instance called `svd` with `n_components=50`.\n",
        "* Create a `KMeans` instance called `kmeans` with `n_clusters=6`.\n",
        "* Create a pipeline called `pipeline` consisting of `svd` and `kmeans`."
      ],
      "metadata": {
        "id": "0bw-77THcFQR"
      }
    },
    {
      "cell_type": "code",
      "source": [
        "# Perform the necessary imports\n",
        "from sklearn.decomposition import TruncatedSVD\n",
        "from sklearn.cluster import KMeans\n",
        "from sklearn.pipeline import make_pipeline\n",
        "\n",
        "# Create a TruncatedSVD instance: svd\n",
        "svd = TruncatedSVD(n_components=50)\n",
        "\n",
        "# Create a KMeans instance: kmeans\n",
        "kmeans = KMeans(n_clusters=6)\n",
        "\n",
        "# Create a pipeline: pipeline\n",
        "pipeline = make_pipeline(svd, kmeans)"
      ],
      "metadata": {
        "id": "l3hIMjn5bwYh"
      },
      "execution_count": 4,
      "outputs": []
    },
    {
      "cell_type": "markdown",
      "source": [
        "### ***Clustering Wikipedia part II***\n",
        "\n",
        "It is now time to put your pipeline from the previous exercise to work! You are given an array `articles` of tf-idf word-frequencies of some popular Wikipedia articles, and a list `titles` of their titles. Use your pipeline to cluster the Wikipedia articles.\n",
        "\n",
        "A solution to the previous exercise has been pre-loaded for you, so a Pipeline `pipeline` chaining TruncatedSVD with KMeans is available.\n",
        "\n",
        "* Fit the pipeline to the word-frequency array `articles`.\n",
        "* Predict the cluster labels.\n",
        "* Align the cluster labels with the list `titles` of article titles by creating a DataFrame `df` with `labels` and `titles` as columns. \n",
        "* Use the `.sort_values()` method of `df` to sort the DataFrame by the `'label'` column, and print the result."
      ],
      "metadata": {
        "id": "NNfNgq1QdWhv"
      }
    },
    {
      "cell_type": "code",
      "source": [
        "articles = pd.read_csv('wikipedia-vectors.csv').drop(columns='Unnamed: 0').values.T\n",
        "titles = ['HTTP 404', 'Alexa Internet', 'Internet Explorer', 'HTTP cookie', 'Google Search', 'Tumblr', 'Hypertext Transfer Protocol', 'Social search', 'Firefox', 'LinkedIn', 'Global warming', 'Nationally Appropriate Mitigation Action', 'Nigel Lawson', 'Connie Hedegaard', 'Climate change', 'Kyoto Protocol', '350.org', 'Greenhouse gas emissions by the United States', '2010 United Nations Climate Change Conference', '2007 United Nations Climate Change Conference', 'Angelina Jolie', 'Michael Fassbender', 'Denzel Washington', 'Catherine Zeta-Jones', 'Jessica Biel', 'Russell Crowe', 'Mila Kunis', 'Dakota Fanning', 'Anne Hathaway', 'Jennifer Aniston', 'France national football team', 'Cristiano Ronaldo', 'Arsenal F.C.', 'Radamel Falcao', 'Zlatan Ibrahimović', 'Colombia national football team', '2014 FIFA World Cup qualification', 'Football', 'Neymar', 'Franck Ribéry', 'Tonsillitis', 'Hepatitis B', 'Doxycycline', 'Leukemia', 'Gout', 'Hepatitis C', 'Prednisone', 'Fever', 'Gabapentin', 'Lymphoma', 'Chad Kroeger', 'Nate Ruess', 'The Wanted', 'Stevie Nicks', 'Arctic Monkeys', 'Black Sabbath', 'Skrillex', 'Red Hot Chili Peppers', 'Sepsis', 'Adam Levine']\n",
        "\n",
        "# Fit the pipeline to articles\n",
        "pipeline.fit(articles)\n",
        "\n",
        "# Calculate the cluster labels: labels\n",
        "labels = pipeline.predict(articles)\n",
        "\n",
        "# Create a DataFrame aligning labels and titles: df\n",
        "df = pd.DataFrame({'label': labels, 'article': titles})\n",
        "\n",
        "# Display df sorted by cluster label\n",
        "display(df.sort_values(by='label'))\n"
      ],
      "metadata": {
        "colab": {
          "base_uri": "https://localhost:8080/",
          "height": 1000
        },
        "id": "IbxHTeqWdQV_",
        "outputId": "0ce2b5ca-62e3-43e2-f5d6-d694ac386a9b"
      },
      "execution_count": 5,
      "outputs": [
        {
          "output_type": "display_data",
          "data": {
            "text/plain": [
              "    label                                        article\n",
              "11      0       Nationally Appropriate Mitigation Action\n",
              "19      0  2007 United Nations Climate Change Conference\n",
              "18      0  2010 United Nations Climate Change Conference\n",
              "17      0  Greenhouse gas emissions by the United States\n",
              "16      0                                        350.org\n",
              "15      0                                 Kyoto Protocol\n",
              "14      0                                 Climate change\n",
              "13      0                               Connie Hedegaard\n",
              "12      0                                   Nigel Lawson\n",
              "10      0                                 Global warming\n",
              "0       1                                       HTTP 404\n",
              "8       1                                        Firefox\n",
              "7       1                                  Social search\n",
              "6       1                    Hypertext Transfer Protocol\n",
              "5       1                                         Tumblr\n",
              "4       1                                  Google Search\n",
              "3       1                                    HTTP cookie\n",
              "2       1                              Internet Explorer\n",
              "1       1                                 Alexa Internet\n",
              "9       1                                       LinkedIn\n",
              "26      2                                     Mila Kunis\n",
              "28      2                                  Anne Hathaway\n",
              "27      2                                 Dakota Fanning\n",
              "25      2                                  Russell Crowe\n",
              "29      2                               Jennifer Aniston\n",
              "23      2                           Catherine Zeta-Jones\n",
              "22      2                              Denzel Washington\n",
              "21      2                             Michael Fassbender\n",
              "20      2                                 Angelina Jolie\n",
              "24      2                                   Jessica Biel\n",
              "49      3                                       Lymphoma\n",
              "48      3                                     Gabapentin\n",
              "47      3                                          Fever\n",
              "46      3                                     Prednisone\n",
              "45      3                                    Hepatitis C\n",
              "44      3                                           Gout\n",
              "43      3                                       Leukemia\n",
              "41      3                                    Hepatitis B\n",
              "40      3                                    Tonsillitis\n",
              "42      3                                    Doxycycline\n",
              "58      4                                         Sepsis\n",
              "57      4                          Red Hot Chili Peppers\n",
              "56      4                                       Skrillex\n",
              "55      4                                  Black Sabbath\n",
              "54      4                                 Arctic Monkeys\n",
              "53      4                                   Stevie Nicks\n",
              "52      4                                     The Wanted\n",
              "51      4                                     Nate Ruess\n",
              "50      4                                   Chad Kroeger\n",
              "59      4                                    Adam Levine\n",
              "30      5                  France national football team\n",
              "31      5                              Cristiano Ronaldo\n",
              "32      5                                   Arsenal F.C.\n",
              "33      5                                 Radamel Falcao\n",
              "34      5                             Zlatan Ibrahimović\n",
              "35      5                Colombia national football team\n",
              "36      5              2014 FIFA World Cup qualification\n",
              "37      5                                       Football\n",
              "39      5                                  Franck Ribéry\n",
              "38      5                                         Neymar"
            ],
            "text/html": [
              "\n",
              "  <div id=\"df-2da08079-f74f-48ce-81ed-097db29faa9a\">\n",
              "    <div class=\"colab-df-container\">\n",
              "      <div>\n",
              "<style scoped>\n",
              "    .dataframe tbody tr th:only-of-type {\n",
              "        vertical-align: middle;\n",
              "    }\n",
              "\n",
              "    .dataframe tbody tr th {\n",
              "        vertical-align: top;\n",
              "    }\n",
              "\n",
              "    .dataframe thead th {\n",
              "        text-align: right;\n",
              "    }\n",
              "</style>\n",
              "<table border=\"1\" class=\"dataframe\">\n",
              "  <thead>\n",
              "    <tr style=\"text-align: right;\">\n",
              "      <th></th>\n",
              "      <th>label</th>\n",
              "      <th>article</th>\n",
              "    </tr>\n",
              "  </thead>\n",
              "  <tbody>\n",
              "    <tr>\n",
              "      <th>11</th>\n",
              "      <td>0</td>\n",
              "      <td>Nationally Appropriate Mitigation Action</td>\n",
              "    </tr>\n",
              "    <tr>\n",
              "      <th>19</th>\n",
              "      <td>0</td>\n",
              "      <td>2007 United Nations Climate Change Conference</td>\n",
              "    </tr>\n",
              "    <tr>\n",
              "      <th>18</th>\n",
              "      <td>0</td>\n",
              "      <td>2010 United Nations Climate Change Conference</td>\n",
              "    </tr>\n",
              "    <tr>\n",
              "      <th>17</th>\n",
              "      <td>0</td>\n",
              "      <td>Greenhouse gas emissions by the United States</td>\n",
              "    </tr>\n",
              "    <tr>\n",
              "      <th>16</th>\n",
              "      <td>0</td>\n",
              "      <td>350.org</td>\n",
              "    </tr>\n",
              "    <tr>\n",
              "      <th>15</th>\n",
              "      <td>0</td>\n",
              "      <td>Kyoto Protocol</td>\n",
              "    </tr>\n",
              "    <tr>\n",
              "      <th>14</th>\n",
              "      <td>0</td>\n",
              "      <td>Climate change</td>\n",
              "    </tr>\n",
              "    <tr>\n",
              "      <th>13</th>\n",
              "      <td>0</td>\n",
              "      <td>Connie Hedegaard</td>\n",
              "    </tr>\n",
              "    <tr>\n",
              "      <th>12</th>\n",
              "      <td>0</td>\n",
              "      <td>Nigel Lawson</td>\n",
              "    </tr>\n",
              "    <tr>\n",
              "      <th>10</th>\n",
              "      <td>0</td>\n",
              "      <td>Global warming</td>\n",
              "    </tr>\n",
              "    <tr>\n",
              "      <th>0</th>\n",
              "      <td>1</td>\n",
              "      <td>HTTP 404</td>\n",
              "    </tr>\n",
              "    <tr>\n",
              "      <th>8</th>\n",
              "      <td>1</td>\n",
              "      <td>Firefox</td>\n",
              "    </tr>\n",
              "    <tr>\n",
              "      <th>7</th>\n",
              "      <td>1</td>\n",
              "      <td>Social search</td>\n",
              "    </tr>\n",
              "    <tr>\n",
              "      <th>6</th>\n",
              "      <td>1</td>\n",
              "      <td>Hypertext Transfer Protocol</td>\n",
              "    </tr>\n",
              "    <tr>\n",
              "      <th>5</th>\n",
              "      <td>1</td>\n",
              "      <td>Tumblr</td>\n",
              "    </tr>\n",
              "    <tr>\n",
              "      <th>4</th>\n",
              "      <td>1</td>\n",
              "      <td>Google Search</td>\n",
              "    </tr>\n",
              "    <tr>\n",
              "      <th>3</th>\n",
              "      <td>1</td>\n",
              "      <td>HTTP cookie</td>\n",
              "    </tr>\n",
              "    <tr>\n",
              "      <th>2</th>\n",
              "      <td>1</td>\n",
              "      <td>Internet Explorer</td>\n",
              "    </tr>\n",
              "    <tr>\n",
              "      <th>1</th>\n",
              "      <td>1</td>\n",
              "      <td>Alexa Internet</td>\n",
              "    </tr>\n",
              "    <tr>\n",
              "      <th>9</th>\n",
              "      <td>1</td>\n",
              "      <td>LinkedIn</td>\n",
              "    </tr>\n",
              "    <tr>\n",
              "      <th>26</th>\n",
              "      <td>2</td>\n",
              "      <td>Mila Kunis</td>\n",
              "    </tr>\n",
              "    <tr>\n",
              "      <th>28</th>\n",
              "      <td>2</td>\n",
              "      <td>Anne Hathaway</td>\n",
              "    </tr>\n",
              "    <tr>\n",
              "      <th>27</th>\n",
              "      <td>2</td>\n",
              "      <td>Dakota Fanning</td>\n",
              "    </tr>\n",
              "    <tr>\n",
              "      <th>25</th>\n",
              "      <td>2</td>\n",
              "      <td>Russell Crowe</td>\n",
              "    </tr>\n",
              "    <tr>\n",
              "      <th>29</th>\n",
              "      <td>2</td>\n",
              "      <td>Jennifer Aniston</td>\n",
              "    </tr>\n",
              "    <tr>\n",
              "      <th>23</th>\n",
              "      <td>2</td>\n",
              "      <td>Catherine Zeta-Jones</td>\n",
              "    </tr>\n",
              "    <tr>\n",
              "      <th>22</th>\n",
              "      <td>2</td>\n",
              "      <td>Denzel Washington</td>\n",
              "    </tr>\n",
              "    <tr>\n",
              "      <th>21</th>\n",
              "      <td>2</td>\n",
              "      <td>Michael Fassbender</td>\n",
              "    </tr>\n",
              "    <tr>\n",
              "      <th>20</th>\n",
              "      <td>2</td>\n",
              "      <td>Angelina Jolie</td>\n",
              "    </tr>\n",
              "    <tr>\n",
              "      <th>24</th>\n",
              "      <td>2</td>\n",
              "      <td>Jessica Biel</td>\n",
              "    </tr>\n",
              "    <tr>\n",
              "      <th>49</th>\n",
              "      <td>3</td>\n",
              "      <td>Lymphoma</td>\n",
              "    </tr>\n",
              "    <tr>\n",
              "      <th>48</th>\n",
              "      <td>3</td>\n",
              "      <td>Gabapentin</td>\n",
              "    </tr>\n",
              "    <tr>\n",
              "      <th>47</th>\n",
              "      <td>3</td>\n",
              "      <td>Fever</td>\n",
              "    </tr>\n",
              "    <tr>\n",
              "      <th>46</th>\n",
              "      <td>3</td>\n",
              "      <td>Prednisone</td>\n",
              "    </tr>\n",
              "    <tr>\n",
              "      <th>45</th>\n",
              "      <td>3</td>\n",
              "      <td>Hepatitis C</td>\n",
              "    </tr>\n",
              "    <tr>\n",
              "      <th>44</th>\n",
              "      <td>3</td>\n",
              "      <td>Gout</td>\n",
              "    </tr>\n",
              "    <tr>\n",
              "      <th>43</th>\n",
              "      <td>3</td>\n",
              "      <td>Leukemia</td>\n",
              "    </tr>\n",
              "    <tr>\n",
              "      <th>41</th>\n",
              "      <td>3</td>\n",
              "      <td>Hepatitis B</td>\n",
              "    </tr>\n",
              "    <tr>\n",
              "      <th>40</th>\n",
              "      <td>3</td>\n",
              "      <td>Tonsillitis</td>\n",
              "    </tr>\n",
              "    <tr>\n",
              "      <th>42</th>\n",
              "      <td>3</td>\n",
              "      <td>Doxycycline</td>\n",
              "    </tr>\n",
              "    <tr>\n",
              "      <th>58</th>\n",
              "      <td>4</td>\n",
              "      <td>Sepsis</td>\n",
              "    </tr>\n",
              "    <tr>\n",
              "      <th>57</th>\n",
              "      <td>4</td>\n",
              "      <td>Red Hot Chili Peppers</td>\n",
              "    </tr>\n",
              "    <tr>\n",
              "      <th>56</th>\n",
              "      <td>4</td>\n",
              "      <td>Skrillex</td>\n",
              "    </tr>\n",
              "    <tr>\n",
              "      <th>55</th>\n",
              "      <td>4</td>\n",
              "      <td>Black Sabbath</td>\n",
              "    </tr>\n",
              "    <tr>\n",
              "      <th>54</th>\n",
              "      <td>4</td>\n",
              "      <td>Arctic Monkeys</td>\n",
              "    </tr>\n",
              "    <tr>\n",
              "      <th>53</th>\n",
              "      <td>4</td>\n",
              "      <td>Stevie Nicks</td>\n",
              "    </tr>\n",
              "    <tr>\n",
              "      <th>52</th>\n",
              "      <td>4</td>\n",
              "      <td>The Wanted</td>\n",
              "    </tr>\n",
              "    <tr>\n",
              "      <th>51</th>\n",
              "      <td>4</td>\n",
              "      <td>Nate Ruess</td>\n",
              "    </tr>\n",
              "    <tr>\n",
              "      <th>50</th>\n",
              "      <td>4</td>\n",
              "      <td>Chad Kroeger</td>\n",
              "    </tr>\n",
              "    <tr>\n",
              "      <th>59</th>\n",
              "      <td>4</td>\n",
              "      <td>Adam Levine</td>\n",
              "    </tr>\n",
              "    <tr>\n",
              "      <th>30</th>\n",
              "      <td>5</td>\n",
              "      <td>France national football team</td>\n",
              "    </tr>\n",
              "    <tr>\n",
              "      <th>31</th>\n",
              "      <td>5</td>\n",
              "      <td>Cristiano Ronaldo</td>\n",
              "    </tr>\n",
              "    <tr>\n",
              "      <th>32</th>\n",
              "      <td>5</td>\n",
              "      <td>Arsenal F.C.</td>\n",
              "    </tr>\n",
              "    <tr>\n",
              "      <th>33</th>\n",
              "      <td>5</td>\n",
              "      <td>Radamel Falcao</td>\n",
              "    </tr>\n",
              "    <tr>\n",
              "      <th>34</th>\n",
              "      <td>5</td>\n",
              "      <td>Zlatan Ibrahimović</td>\n",
              "    </tr>\n",
              "    <tr>\n",
              "      <th>35</th>\n",
              "      <td>5</td>\n",
              "      <td>Colombia national football team</td>\n",
              "    </tr>\n",
              "    <tr>\n",
              "      <th>36</th>\n",
              "      <td>5</td>\n",
              "      <td>2014 FIFA World Cup qualification</td>\n",
              "    </tr>\n",
              "    <tr>\n",
              "      <th>37</th>\n",
              "      <td>5</td>\n",
              "      <td>Football</td>\n",
              "    </tr>\n",
              "    <tr>\n",
              "      <th>39</th>\n",
              "      <td>5</td>\n",
              "      <td>Franck Ribéry</td>\n",
              "    </tr>\n",
              "    <tr>\n",
              "      <th>38</th>\n",
              "      <td>5</td>\n",
              "      <td>Neymar</td>\n",
              "    </tr>\n",
              "  </tbody>\n",
              "</table>\n",
              "</div>\n",
              "      <button class=\"colab-df-convert\" onclick=\"convertToInteractive('df-2da08079-f74f-48ce-81ed-097db29faa9a')\"\n",
              "              title=\"Convert this dataframe to an interactive table.\"\n",
              "              style=\"display:none;\">\n",
              "        \n",
              "  <svg xmlns=\"http://www.w3.org/2000/svg\" height=\"24px\"viewBox=\"0 0 24 24\"\n",
              "       width=\"24px\">\n",
              "    <path d=\"M0 0h24v24H0V0z\" fill=\"none\"/>\n",
              "    <path d=\"M18.56 5.44l.94 2.06.94-2.06 2.06-.94-2.06-.94-.94-2.06-.94 2.06-2.06.94zm-11 1L8.5 8.5l.94-2.06 2.06-.94-2.06-.94L8.5 2.5l-.94 2.06-2.06.94zm10 10l.94 2.06.94-2.06 2.06-.94-2.06-.94-.94-2.06-.94 2.06-2.06.94z\"/><path d=\"M17.41 7.96l-1.37-1.37c-.4-.4-.92-.59-1.43-.59-.52 0-1.04.2-1.43.59L10.3 9.45l-7.72 7.72c-.78.78-.78 2.05 0 2.83L4 21.41c.39.39.9.59 1.41.59.51 0 1.02-.2 1.41-.59l7.78-7.78 2.81-2.81c.8-.78.8-2.07 0-2.86zM5.41 20L4 18.59l7.72-7.72 1.47 1.35L5.41 20z\"/>\n",
              "  </svg>\n",
              "      </button>\n",
              "      \n",
              "  <style>\n",
              "    .colab-df-container {\n",
              "      display:flex;\n",
              "      flex-wrap:wrap;\n",
              "      gap: 12px;\n",
              "    }\n",
              "\n",
              "    .colab-df-convert {\n",
              "      background-color: #E8F0FE;\n",
              "      border: none;\n",
              "      border-radius: 50%;\n",
              "      cursor: pointer;\n",
              "      display: none;\n",
              "      fill: #1967D2;\n",
              "      height: 32px;\n",
              "      padding: 0 0 0 0;\n",
              "      width: 32px;\n",
              "    }\n",
              "\n",
              "    .colab-df-convert:hover {\n",
              "      background-color: #E2EBFA;\n",
              "      box-shadow: 0px 1px 2px rgba(60, 64, 67, 0.3), 0px 1px 3px 1px rgba(60, 64, 67, 0.15);\n",
              "      fill: #174EA6;\n",
              "    }\n",
              "\n",
              "    [theme=dark] .colab-df-convert {\n",
              "      background-color: #3B4455;\n",
              "      fill: #D2E3FC;\n",
              "    }\n",
              "\n",
              "    [theme=dark] .colab-df-convert:hover {\n",
              "      background-color: #434B5C;\n",
              "      box-shadow: 0px 1px 3px 1px rgba(0, 0, 0, 0.15);\n",
              "      filter: drop-shadow(0px 1px 2px rgba(0, 0, 0, 0.3));\n",
              "      fill: #FFFFFF;\n",
              "    }\n",
              "  </style>\n",
              "\n",
              "      <script>\n",
              "        const buttonEl =\n",
              "          document.querySelector('#df-2da08079-f74f-48ce-81ed-097db29faa9a button.colab-df-convert');\n",
              "        buttonEl.style.display =\n",
              "          google.colab.kernel.accessAllowed ? 'block' : 'none';\n",
              "\n",
              "        async function convertToInteractive(key) {\n",
              "          const element = document.querySelector('#df-2da08079-f74f-48ce-81ed-097db29faa9a');\n",
              "          const dataTable =\n",
              "            await google.colab.kernel.invokeFunction('convertToInteractive',\n",
              "                                                     [key], {});\n",
              "          if (!dataTable) return;\n",
              "\n",
              "          const docLinkHtml = 'Like what you see? Visit the ' +\n",
              "            '<a target=\"_blank\" href=https://colab.research.google.com/notebooks/data_table.ipynb>data table notebook</a>'\n",
              "            + ' to learn more about interactive tables.';\n",
              "          element.innerHTML = '';\n",
              "          dataTable['output_type'] = 'display_data';\n",
              "          await google.colab.output.renderOutput(dataTable, element);\n",
              "          const docLink = document.createElement('div');\n",
              "          docLink.innerHTML = docLinkHtml;\n",
              "          element.appendChild(docLink);\n",
              "        }\n",
              "      </script>\n",
              "    </div>\n",
              "  </div>\n",
              "  "
            ]
          },
          "metadata": {}
        }
      ]
    },
    {
      "cell_type": "markdown",
      "source": [
        "# ***Non-negative matrix factorization***\n",
        "\n",
        "* Dimension reduction technique\n",
        "* NMF models are interpretable (unlike PCA)\n",
        "* Easy to interpret means easy to explain!\n",
        "* However, all sample features must be non-negative (>= 0)\n",
        "* Must specify number of components e.g. `NMF(n_components=2)`"
      ],
      "metadata": {
        "id": "sgISwc0rPme1"
      }
    },
    {
      "cell_type": "code",
      "source": [
        "from sklearn.decomposition import NMF\n",
        "\n",
        "model = NMF(n_components=2)\n",
        "model.fit(samples)\n",
        "nmf_features = model.transform(samples)"
      ],
      "metadata": {
        "id": "bsAJEzEvgNhP"
      },
      "execution_count": null,
      "outputs": []
    },
    {
      "cell_type": "markdown",
      "source": [
        "### ***NMF applied to Wikipedia articles***\n",
        "\n",
        "Apply NMF to the tf-idf word-frequency array of Wikipedia articles, given as a csr matrix `articles`. Here, fit the model and transform the articles. \n",
        "\n",
        "* Import `NMF` from `sklearn.decomposition`.\n",
        "* Create an `NMF` instance called `model` with `6` components.\n",
        "* Fit the model to the word count data `articles`.\n",
        "* Use the `.transform()` method of `model` to transform `articles`, and assign the result to `nmf_features`.\n",
        "* Print `nmf_features` to get a first idea what it looks like (`.round(2)` rounds the entries to 2 decimal places.)"
      ],
      "metadata": {
        "id": "jwavmX28RfrB"
      }
    },
    {
      "cell_type": "code",
      "source": [
        "# Import NMF\n",
        "from sklearn.decomposition import NMF\n",
        "\n",
        "# Create an NMF instance: model\n",
        "model = NMF(n_components=6)\n",
        "\n",
        "# Fit the model to articles\n",
        "model.fit(articles)\n",
        "\n",
        "# Transform the articles: nmf_features\n",
        "nmf_features = model.transform(articles)\n",
        "\n",
        "# Print the NMF features\n",
        "print(nmf_features.round(2))"
      ],
      "metadata": {
        "colab": {
          "base_uri": "https://localhost:8080/"
        },
        "id": "pvFkv2uASJxu",
        "outputId": "ee7fafdc-a4e7-4391-8859-6c965f6b16e3"
      },
      "execution_count": 6,
      "outputs": [
        {
          "output_type": "stream",
          "name": "stderr",
          "text": [
            "/usr/local/lib/python3.7/dist-packages/sklearn/decomposition/_nmf.py:294: FutureWarning: The 'init' value, when 'init=None' and n_components is less than n_samples and n_features, will be changed from 'nndsvd' to 'nndsvda' in 1.1 (renaming of 0.26).\n",
            "  FutureWarning,\n"
          ]
        },
        {
          "output_type": "stream",
          "name": "stdout",
          "text": [
            "[[0.   0.   0.   0.   0.   0.44]\n",
            " [0.   0.   0.   0.   0.   0.57]\n",
            " [0.   0.   0.   0.   0.   0.4 ]\n",
            " [0.   0.   0.   0.   0.   0.38]\n",
            " [0.   0.   0.   0.   0.   0.49]\n",
            " [0.01 0.01 0.01 0.03 0.   0.33]\n",
            " [0.   0.   0.02 0.   0.01 0.36]\n",
            " [0.   0.   0.   0.   0.   0.49]\n",
            " [0.02 0.01 0.   0.02 0.03 0.48]\n",
            " [0.01 0.03 0.03 0.07 0.02 0.34]\n",
            " [0.   0.   0.53 0.   0.03 0.  ]\n",
            " [0.   0.   0.36 0.   0.   0.  ]\n",
            " [0.01 0.01 0.31 0.06 0.01 0.02]\n",
            " [0.   0.01 0.34 0.01 0.   0.  ]\n",
            " [0.   0.   0.43 0.   0.04 0.  ]\n",
            " [0.   0.   0.48 0.   0.   0.  ]\n",
            " [0.01 0.02 0.38 0.03 0.   0.01]\n",
            " [0.   0.   0.48 0.   0.   0.  ]\n",
            " [0.   0.01 0.55 0.   0.   0.  ]\n",
            " [0.   0.   0.47 0.   0.   0.  ]\n",
            " [0.   0.01 0.02 0.52 0.06 0.01]\n",
            " [0.   0.   0.   0.51 0.   0.  ]\n",
            " [0.   0.01 0.   0.42 0.   0.  ]\n",
            " [0.   0.   0.   0.44 0.   0.  ]\n",
            " [0.   0.   0.   0.5  0.   0.  ]\n",
            " [0.1  0.09 0.   0.38 0.   0.01]\n",
            " [0.   0.   0.   0.57 0.   0.01]\n",
            " [0.01 0.01 0.   0.47 0.   0.01]\n",
            " [0.   0.   0.   0.58 0.   0.  ]\n",
            " [0.   0.   0.   0.53 0.01 0.01]\n",
            " [0.   0.41 0.   0.   0.   0.  ]\n",
            " [0.   0.61 0.   0.01 0.   0.  ]\n",
            " [0.01 0.27 0.   0.02 0.01 0.  ]\n",
            " [0.   0.64 0.   0.   0.   0.  ]\n",
            " [0.   0.61 0.   0.   0.   0.  ]\n",
            " [0.   0.34 0.   0.   0.   0.  ]\n",
            " [0.01 0.32 0.02 0.   0.01 0.  ]\n",
            " [0.01 0.21 0.01 0.05 0.02 0.01]\n",
            " [0.01 0.47 0.   0.02 0.   0.  ]\n",
            " [0.   0.64 0.   0.   0.   0.  ]\n",
            " [0.   0.   0.   0.   0.48 0.  ]\n",
            " [0.   0.   0.   0.   0.49 0.  ]\n",
            " [0.   0.   0.   0.   0.38 0.01]\n",
            " [0.   0.   0.   0.01 0.54 0.  ]\n",
            " [0.   0.   0.01 0.   0.42 0.  ]\n",
            " [0.   0.   0.   0.   0.51 0.  ]\n",
            " [0.   0.   0.   0.   0.37 0.  ]\n",
            " [0.   0.   0.04 0.   0.23 0.  ]\n",
            " [0.01 0.   0.02 0.01 0.33 0.04]\n",
            " [0.   0.   0.   0.   0.42 0.  ]\n",
            " [0.31 0.   0.   0.   0.   0.  ]\n",
            " [0.37 0.   0.   0.   0.   0.  ]\n",
            " [0.4  0.03 0.   0.02 0.   0.02]\n",
            " [0.38 0.   0.   0.04 0.   0.01]\n",
            " [0.44 0.   0.   0.   0.   0.  ]\n",
            " [0.46 0.   0.   0.   0.   0.  ]\n",
            " [0.28 0.   0.   0.05 0.   0.02]\n",
            " [0.45 0.   0.   0.   0.01 0.  ]\n",
            " [0.29 0.01 0.01 0.01 0.19 0.01]\n",
            " [0.38 0.01 0.   0.1  0.01 0.  ]]\n"
          ]
        }
      ]
    },
    {
      "cell_type": "markdown",
      "source": [
        "### ***NMF features of the Wikipedia articles***\n",
        "\n",
        "Now you will explore the NMF features you created in the previous exercise. A solution to the previous exercise has been pre-loaded, so the array `nmf_features` is available. Also available is a list `titles` giving the title of each Wikipedia article.\n",
        "\n",
        "When investigating the features, notice that for both actors, the NMF feature 3 has by far the highest value. This means that both articles are reconstructed using mainly the 3rd NMF component. \n",
        "\n",
        "* Create a DataFrame `df` from `nmf_features` using `pd.DataFrame()`. Set the index to `titles` using `index=titles`.\n",
        "\n",
        "* Use the `.loc[]` accessor of `df` to select the row with title `'Anne Hathaway'`, and print the result. These are the NMF features for the article about the actress Anne Hathaway.\n",
        "* Repeat the last step for `'Denzel Washington'` (another actor)."
      ],
      "metadata": {
        "id": "6Ft3VZoKTWAm"
      }
    },
    {
      "cell_type": "code",
      "source": [
        "# Create a pandas DataFrame: df\n",
        "df = pd.DataFrame(data=nmf_features, index=titles)\n",
        "\n",
        "# Print the row for 'Anne Hathaway'\n",
        "print(df.loc['Anne Hathaway'])\n",
        "\n",
        "# Print the row for 'Denzel Washington'\n",
        "print(df.loc['Denzel Washington'])"
      ],
      "metadata": {
        "colab": {
          "base_uri": "https://localhost:8080/"
        },
        "id": "r-zEtnj-TIKr",
        "outputId": "9736aa63-98e3-43b7-a038-60f507aead93"
      },
      "execution_count": 10,
      "outputs": [
        {
          "output_type": "stream",
          "name": "stdout",
          "text": [
            "0    0.003845\n",
            "1    0.000000\n",
            "2    0.000000\n",
            "3    0.575620\n",
            "4    0.000000\n",
            "5    0.000000\n",
            "Name: Anne Hathaway, dtype: float64\n",
            "0    0.000000\n",
            "1    0.005601\n",
            "2    0.000000\n",
            "3    0.422314\n",
            "4    0.000000\n",
            "5    0.000000\n",
            "Name: Denzel Washington, dtype: float64\n"
          ]
        }
      ]
    },
    {
      "cell_type": "markdown",
      "source": [
        "Notice that for both actors, the NMF feature 3 has by far the highest value. This means that both articles are reconstructed using mainly the 3rd NMF component. \n",
        "\n",
        "### ***NMF learns topics of documents***\n",
        "\n",
        "In the video, you learned when NMF is applied to documents, the components correspond to topics of documents, and the NMF features reconstruct the documents from the topics. Verify this for yourself for the NMF model that you built earlier using the Wikipedia articles. Previously, you saw that the 3rd NMF feature value was high for the articles about actors Anne Hathaway and Denzel Washington. In this exercise, identify the topic of the corresponding NMF component.\n",
        "\n",
        "The NMF model you built earlier is available as `model`, while `words` is a list of the words that label the columns of the word-frequency array.\n",
        "\n",
        "\n",
        "* Create a DataFrame `components_df` from `model.components_`, setting `columns=words` so that columns are labeled by the words.\n",
        "\n",
        "* Print `components_df.shape` to check the dimensions of the DataFrame.\n",
        "\n",
        "* Use the `.iloc[]` accessor on the DataFrame `components_df` to select row `3`. Assign the result to `component`.\n",
        "\n",
        "* Call the `.nlargest()` method of `component`, and print the result. This gives the five words with the highest values for that component."
      ],
      "metadata": {
        "id": "vGN3laN-UbyU"
      }
    },
    {
      "cell_type": "code",
      "source": [
        "words = open(\"wikipedia-vocabulary-utf8.txt\").read().split()\n",
        "\n",
        "# Create a DataFrame: components_df\n",
        "components_df = pd.DataFrame(data=model.components_, columns=words)\n",
        "\n",
        "# Print the shape of the DataFrame\n",
        "print(components_df.shape)\n",
        "\n",
        "# Select row 3: component\n",
        "component = components_df.iloc[3]\n",
        "\n",
        "# Print result of nlargest\n",
        "print(component.nlargest())\n"
      ],
      "metadata": {
        "colab": {
          "base_uri": "https://localhost:8080/"
        },
        "id": "M-Kiqqi8TOpG",
        "outputId": "7edba556-a1ae-4682-ac41-7c6b57b84cee"
      },
      "execution_count": 29,
      "outputs": [
        {
          "output_type": "stream",
          "name": "stdout",
          "text": [
            "(6, 13125)\n",
            "film       0.627975\n",
            "award      0.253171\n",
            "starred    0.245323\n",
            "role       0.211484\n",
            "actress    0.186427\n",
            "Name: 3, dtype: float64\n"
          ]
        }
      ]
    },
    {
      "cell_type": "markdown",
      "source": [
        "Take a moment to recognise the topics that the articles about Anne Hathaway and Denzel Washington have in common.\n",
        "\n",
        "### ***Explore the LED digits dataset***\n",
        "\n",
        "In the following exercises, you'll use NMF to decompose grayscale images into their commonly occurring patterns. Firstly, explore the image dataset and see how it is encoded as an array. You are given 100 images as a 2D array samples, where each row represents a single 13x8 image. The images in your dataset are pictures of a LED digital display.\n",
        "\n",
        "* Select row `0` of samples and assign the result to digit. For example, to select column `2` of an array `a`, you could use `a[:,2]`. Remember that since samples is a NumPy array, you can't use the `.loc[]` or `iloc[]` accessors to select specific rows or columns.\n",
        "\n",
        "* Print digit. Notice that it is a 1D array of 0s and 1s.\n",
        "\n",
        "* Use the `.reshape()` method of `digit` to get a 2D array with shape `(13, 8)`. Assign the result to `bitmap`.\n",
        "\n",
        "* Print `bitmap`, and notice that the `1`s show the digit `7`!\n",
        "\n",
        "* Use the `plt.imshow()` function to display `bitmap` as an image."
      ],
      "metadata": {
        "id": "LZSqi2XGqAF1"
      }
    },
    {
      "cell_type": "code",
      "source": [
        "samples = pd.read_csv('lcd-digits.csv', header=None).values\n",
        "\n",
        "# Select the 0th row: digit\n",
        "digit = samples[0, :]\n",
        "\n",
        "# Print digit\n",
        "print(digit)\n",
        "\n",
        "# Reshape digit to a 13x8 array: bitmap\n",
        "bitmap = digit.reshape(13, 8)\n",
        "\n",
        "# Print bitmap\n",
        "print(bitmap)\n",
        "\n",
        "# Use plt.imshow to display bitmap\n",
        "plt.imshow(bitmap, cmap='gray', interpolation='nearest')\n",
        "plt.colorbar()\n",
        "plt.show()"
      ],
      "metadata": {
        "colab": {
          "base_uri": "https://localhost:8080/",
          "height": 581
        },
        "id": "t03mL8ZUpLOg",
        "outputId": "9a654bbb-1d74-4d7e-e707-c1d488559105"
      },
      "execution_count": 34,
      "outputs": [
        {
          "output_type": "stream",
          "name": "stdout",
          "text": [
            "[0. 0. 0. 0. 0. 0. 0. 0. 0. 0. 1. 1. 1. 1. 0. 0. 0. 0. 0. 0. 0. 0. 1. 0.\n",
            " 0. 0. 0. 0. 0. 0. 1. 0. 0. 0. 0. 0. 0. 0. 1. 0. 0. 0. 0. 0. 0. 0. 1. 0.\n",
            " 0. 0. 0. 0. 0. 0. 0. 0. 0. 0. 0. 0. 0. 0. 1. 0. 0. 0. 0. 0. 0. 0. 1. 0.\n",
            " 0. 0. 0. 0. 0. 0. 1. 0. 0. 0. 0. 0. 0. 0. 1. 0. 0. 0. 0. 0. 0. 0. 0. 0.\n",
            " 0. 0. 0. 0. 0. 0. 0. 0.]\n",
            "[[0. 0. 0. 0. 0. 0. 0. 0.]\n",
            " [0. 0. 1. 1. 1. 1. 0. 0.]\n",
            " [0. 0. 0. 0. 0. 0. 1. 0.]\n",
            " [0. 0. 0. 0. 0. 0. 1. 0.]\n",
            " [0. 0. 0. 0. 0. 0. 1. 0.]\n",
            " [0. 0. 0. 0. 0. 0. 1. 0.]\n",
            " [0. 0. 0. 0. 0. 0. 0. 0.]\n",
            " [0. 0. 0. 0. 0. 0. 1. 0.]\n",
            " [0. 0. 0. 0. 0. 0. 1. 0.]\n",
            " [0. 0. 0. 0. 0. 0. 1. 0.]\n",
            " [0. 0. 0. 0. 0. 0. 1. 0.]\n",
            " [0. 0. 0. 0. 0. 0. 0. 0.]\n",
            " [0. 0. 0. 0. 0. 0. 0. 0.]]\n"
          ]
        },
        {
          "output_type": "display_data",
          "data": {
            "text/plain": [
              "<Figure size 432x288 with 2 Axes>"
            ],
            "image/png": "[encoded data removed]"
          },
          "metadata": {
            "needs_background": "light"
          }
        }
      ]
    },
    {
      "cell_type": "markdown",
      "source": [
        "### ***NMF learns the parts of images***\n",
        "\n",
        "Now use what you've learned about NMF to decompose the digits dataset. You are again given the digit images as a 2D array `samples`. This time, you are also provided with a function `show_as_image()` that displays the image encoded by any 1D array:\n",
        "\n",
        "```\n",
        "def show_as_image(sample):\n",
        "    bitmap = sample.reshape((13, 8))\n",
        "    plt.figure()\n",
        "    plt.imshow(bitmap, cmap='gray', interpolation='nearest')\n",
        "    plt.colorbar()\n",
        "    plt.show()\n",
        "```\n",
        "\n",
        "* Import `NMF` from `sklearn.decomposition`.\n",
        "* Create an `NMF` instance called `model` with `7` components. (`7` is the number of cells in an LED display).\n",
        "\n",
        "* Apply the `.fit_transform()` method of `model` to `samples`. Assign the result to `features`.\n",
        "\n",
        "* To each component of the model (accessed via `model.components_`), apply the `show_as_image()` function to that component inside the loop.\n",
        "\n",
        "* Assign the row `0` of features to `digit_features`.\n",
        "\n",
        "* Print `digit_features`."
      ],
      "metadata": {
        "id": "hileTDk9ruGh"
      }
    },
    {
      "cell_type": "code",
      "source": [
        "samples = pd.read_csv('lcd-digits.csv', header=None).values\n",
        "\n",
        "def show_as_image(sample):\n",
        "    bitmap = sample.reshape((13, 8))\n",
        "    plt.figure()\n",
        "    plt.imshow(bitmap, cmap='gray', interpolation='nearest')\n",
        "    plt.colorbar()\n",
        "    plt.show()\n",
        "\n",
        "from sklearn.decomposition import NMF\n",
        "\n",
        "# Create an NMF model: model\n",
        "model = NMF(n_components=7)\n",
        "\n",
        "# Apply fit_transform to samples: features\n",
        "features = model.fit_transform(samples)\n",
        "\n",
        "# Call show_as_image on each component\n",
        "for component in model.components_:\n",
        "    show_as_image(component)\n",
        "\n",
        "# Select the 0th row of features: digit_features\n",
        "digit_features = features[0, :]\n",
        "\n",
        "# Print digit_features\n",
        "print(digit_features)"
      ],
      "metadata": {
        "colab": {
          "base_uri": "https://localhost:8080/",
          "height": 1000
        },
        "id": "vlOUpsMfrAuQ",
        "outputId": "c2fdaac4-a781-4bb2-adad-2dfc6f26499b"
      },
      "execution_count": 36,
      "outputs": [
        {
          "output_type": "stream",
          "name": "stderr",
          "text": [
            "/usr/local/lib/python3.7/dist-packages/sklearn/decomposition/_nmf.py:294: FutureWarning: The 'init' value, when 'init=None' and n_components is less than n_samples and n_features, will be changed from 'nndsvd' to 'nndsvda' in 1.1 (renaming of 0.26).\n",
            "  FutureWarning,\n"
          ]
        },
        {
          "output_type": "display_data",
          "data": {
            "text/plain": [
              "<Figure size 432x288 with 2 Axes>"
            ],
            "image/png": "[encoded data removed]"
          },
          "metadata": {
            "needs_background": "light"
          }
        },
        {
          "output_type": "display_data",
          "data": {
            "text/plain": [
              "<Figure size 432x288 with 2 Axes>"
            ],
            "image/png": "[encoded data removed]"
          },
          "metadata": {
            "needs_background": "light"
          }
        },
        {
          "output_type": "display_data",
          "data": {
            "text/plain": [
              "<Figure size 432x288 with 2 Axes>"
            ],
            "image/png": "[encoded data removed]"
          },
          "metadata": {
            "needs_background": "light"
          }
        },
        {
          "output_type": "display_data",
          "data": {
            "text/plain": [
              "<Figure size 432x288 with 2 Axes>"
            ],
            "image/png": "[encoded data removed]"
          },
          "metadata": {
            "needs_background": "light"
          }
        },
        {
          "output_type": "display_data",
          "data": {
            "text/plain": [
              "<Figure size 432x288 with 2 Axes>"
            ],
            "image/png": "[encoded data removed]"
          },
          "metadata": {
            "needs_background": "light"
          }
        },
        {
          "output_type": "display_data",
          "data": {
            "text/plain": [
              "<Figure size 432x288 with 2 Axes>"
            ],
            "image/png": "[encoded data removed]"
          },
          "metadata": {
            "needs_background": "light"
          }
        },
        {
          "output_type": "display_data",
          "data": {
            "text/plain": [
              "<Figure size 432x288 with 2 Axes>"
            ],
            "image/png": "[encoded data removed]"
          },
          "metadata": {
            "needs_background": "light"
          }
        },
        {
          "output_type": "stream",
          "name": "stdout",
          "text": [
            "[4.76823559e-01 0.00000000e+00 0.00000000e+00 5.90605054e-01\n",
            " 4.81559442e-01 0.00000000e+00 7.37551667e-16]\n"
          ]
        }
      ]
    },
    {
      "cell_type": "markdown",
      "source": [
        "### ***PCA doesn't learn parts***\n",
        "\n",
        "Unlike NMF, PCA doesn't learn the parts of things. Its components do not correspond to topics (in the case of documents) or to parts of images, when trained on images. Verify this for yourself by inspecting the components of a PCA model fit to the dataset of LED digit images from the previous exercise. The images are available as a 2D array `samples`. Also available is a modified version of the `show_as_image()` function which colors a pixel red if the value is negative.\n",
        "\n",
        "* Import `PCA` from `sklearn.decomposition`.\n",
        "* Create a `PCA` instance called `model` with `7` components.\n",
        "* Apply the `.fit_transform()` method of model to `samples`. Assign the result to `features`.\n",
        "* To each component of the model (accessed via `model.components_`), apply the `show_as_image()` function to that component inside the loop."
      ],
      "metadata": {
        "id": "4PMdkaNotC8B"
      }
    },
    {
      "cell_type": "code",
      "source": [
        "def show_as_image(vector):\n",
        "    \"\"\"\n",
        "    Given a 1d vector representing an image, display that image in \n",
        "    black and white.  If there are negative values, then use red for \n",
        "    that pixel.\n",
        "    \"\"\"\n",
        "    bitmap = vector.reshape((13, 8))  # make a square array\n",
        "    bitmap /= np.abs(vector).max()  # normalise\n",
        "    bitmap = bitmap[:,:,np.newaxis]\n",
        "    rgb_layers = [np.abs(bitmap)] + [bitmap.clip(0)] * 2\n",
        "    rgb_bitmap = np.concatenate(rgb_layers, axis=-1)\n",
        "    plt.imshow(rgb_bitmap, interpolation='nearest')\n",
        "    plt.xticks([])\n",
        "    plt.yticks([])\n",
        "    plt.show()\n",
        "\n",
        "samples = pd.read_csv('lcd-digits.csv', header=None).values\n",
        "\n",
        "# Import PCA\n",
        "from sklearn.decomposition import PCA\n",
        "\n",
        "# Create a PCA instance: model\n",
        "model = PCA(n_components=7)\n",
        "\n",
        "# Apply fit_transform to samples: features\n",
        "features = model.fit_transform(samples)\n",
        "\n",
        "# Call show_as_image on each component\n",
        "for component in model.components_:\n",
        "    show_as_image(component)\n",
        "    "
      ],
      "metadata": {
        "colab": {
          "base_uri": "https://localhost:8080/",
          "height": 1000
        },
        "id": "x2CYwXW5s5Qf",
        "outputId": "2a4f0364-6bc6-4076-919d-13310628ee7c"
      },
      "execution_count": 37,
      "outputs": [
        {
          "output_type": "display_data",
          "data": {
            "text/plain": [
              "<Figure size 432x288 with 1 Axes>"
            ],
            "image/png": "[encoded data removed]"
          },
          "metadata": {}
        },
        {
          "output_type": "display_data",
          "data": {
            "text/plain": [
              "<Figure size 432x288 with 1 Axes>"
            ],
            "image/png": "[encoded data removed]"
          },
          "metadata": {}
        },
        {
          "output_type": "display_data",
          "data": {
            "text/plain": [
              "<Figure size 432x288 with 1 Axes>"
            ],
            "image/png": "[encoded data removed]"
          },
          "metadata": {}
        },
        {
          "output_type": "display_data",
          "data": {
            "text/plain": [
              "<Figure size 432x288 with 1 Axes>"
            ],
            "image/png": "[encoded data removed]"
          },
          "metadata": {}
        },
        {
          "output_type": "display_data",
          "data": {
            "text/plain": [
              "<Figure size 432x288 with 1 Axes>"
            ],
            "image/png": "[encoded data removed]"
          },
          "metadata": {}
        },
        {
          "output_type": "display_data",
          "data": {
            "text/plain": [
              "<Figure size 432x288 with 1 Axes>"
            ],
            "image/png": "[encoded data removed]"
          },
          "metadata": {}
        },
        {
          "output_type": "display_data",
          "data": {
            "text/plain": [
              "<Figure size 432x288 with 1 Axes>"
            ],
            "image/png": "[encoded data removed]"
          },
          "metadata": {}
        }
      ]
    },
    {
      "cell_type": "markdown",
      "source": [
        "Notice that the components of PCA do not represent meaningful parts of images of LED digits!\n",
        "\n",
        "# ***Apply NMF to the word-frequency array***\n",
        "## ***Calculating the cosine similarities***"
      ],
      "metadata": {
        "id": "eP5OiLwOuPJ9"
      }
    },
    {
      "cell_type": "code",
      "source": [
        "from sklearn.decomposition import NMF\n",
        "from sklearn.preprocessing import normalize\n",
        "\n",
        "nmf = NMF(n_components=6)\n",
        "nmf_features = nmf.fit_transform(articles)\n",
        "norm_features = normalize(nmf_features)\n",
        "\n",
        "# if has index 23\n",
        "current_article = norm_features[23,:]\n",
        "similarities = norm_features.dot(current_article)\n",
        "print(similarities)\n",
        "\n",
        "norm_features = normalize(nmf_features)\n",
        "df = pd.DataFrame(norm_features, index=titles)\n",
        "current_article = df.loc['Dog bites man']\n",
        "similarities = df.dot(current_article)\n",
        "print(similarities.nlargest())"
      ],
      "metadata": {
        "id": "IAhMhWhCuIWm"
      },
      "execution_count": null,
      "outputs": []
    },
    {
      "cell_type": "markdown",
      "source": [
        "### ***Which articles are similar to 'Cristiano Ronaldo'?***\n",
        "\n",
        "Apply NMF for popular Wikipedia articles, by finding the articles most similar to the article about the footballer Cristiano Ronaldo. The NMF features you obtained earlier are available as `nmf_features`, while `titles` is a list of the article titles.\n",
        "\n",
        "* Import `normalize` from `sklearn.preprocessing`.\n",
        "* Apply the `normalize()` function to `nmf_features`. Store the result as `norm_features`.\n",
        "* Create a DataFrame `df` from `norm_features`, using `titles` as an index.\n",
        "* Use the **`.loc[]`** accessor of `df` to select the row of `'Cristiano Ronaldo'`. Assign the result to `article`.\n",
        "* Apply the **`.dot()`** method of `df` to article to calculate the cosine similarity of every row with article.\n",
        "* Print the result of the **`.nlargest()`** method of `similarities` to display the most similar articles. "
      ],
      "metadata": {
        "id": "wfKWjLYTMsbZ"
      }
    },
    {
      "cell_type": "code",
      "source": [
        "# Perform the necessary imports\n",
        "import pandas as pd\n",
        "from sklearn.preprocessing import normalize\n",
        "\n",
        "# Normalize the NMF features: norm_features\n",
        "norm_features = normalize(nmf_features)\n",
        "\n",
        "# Create a DataFrame: df\n",
        "df = pd.DataFrame(data=norm_features, index=titles)\n",
        "\n",
        "# Select the row corresponding to 'Cristiano Ronaldo': article\n",
        "article = df.loc['Cristiano Ronaldo']\n",
        "\n",
        "# Compute the dot products: similarities\n",
        "similarities = df.dot(article)\n",
        "\n",
        "# Display those with the largest cosine similarity\n",
        "print(similarities.nlargest())"
      ],
      "metadata": {
        "colab": {
          "base_uri": "https://localhost:8080/"
        },
        "id": "_8E2kyngNdLL",
        "outputId": "c1c61921-586d-4941-b309-57533fee63d4"
      },
      "execution_count": 7,
      "outputs": [
        {
          "output_type": "stream",
          "name": "stdout",
          "text": [
            "Cristiano Ronaldo                1.000000\n",
            "Franck Ribéry                    0.999972\n",
            "Radamel Falcao                   0.999942\n",
            "Zlatan Ibrahimović               0.999942\n",
            "France national football team    0.999923\n",
            "dtype: float64\n"
          ]
        }
      ]
    },
    {
      "cell_type": "markdown",
      "source": [
        "### ***Recommend musical artists part I***\n",
        "\n",
        "You are given a sparse array artists whose rows correspond to `artists` and whose columns correspond to users. The entries give the number of times each artist was listened to by each user.\n",
        "\n",
        "In this exercise, build a pipeline and transform the array into normalized NMF features. The first step in the pipeline, `MaxAbsScaler`, transforms the data so that all users have the same influence on the model, regardless of how many different artists they've listened to. \n",
        "\n",
        "\n",
        "* Import:\n",
        "  * `NMF` from `sklearn.decomposition`.\n",
        "  * `Normalizer` and `MaxAbsScaler` from `sklearn.preprocessing`.\n",
        "  * `make_pipeline` from `sklearn.pipeline`.\n",
        "* Create an instance of `MaxAbsScaler` called `scaler`.\n",
        "* Create an `NMF` instance with `20` components called `nmf`.\n",
        "* Create an instance of `Normalizer` called `normalizer`.\n",
        "* Create a pipeline called `pipeline` that chains together `scaler`, `nmf`, and `normalizer`.\n",
        "Apply the `.fit_transform()` method of `pipeline` to `artists`. Assign the result to `norm_features`."
      ],
      "metadata": {
        "id": "1AClfIGQOyEq"
      }
    },
    {
      "cell_type": "code",
      "source": [
        "# Perform the necessary imports\n",
        "from sklearn.decomposition import NMF\n",
        "from sklearn.preprocessing import Normalizer, MaxAbsScaler\n",
        "from sklearn.pipeline import make_pipeline\n",
        "\n",
        "# Create a MaxAbsScaler: scaler\n",
        "scaler = MaxAbsScaler()\n",
        "\n",
        "# Create an NMF model: nmf\n",
        "nmf = NMF(n_components=20)\n",
        "\n",
        "# Create a Normalizer: normalizer\n",
        "normalizer = Normalizer()\n",
        "\n",
        "# Create a pipeline: pipeline\n",
        "pipeline = make_pipeline(scaler, nmf, normalizer)\n",
        "\n",
        "# Apply fit_transform to artists: norm_features\n",
        "norm_features = pipeline.fit_transform(artists)\n"
      ],
      "metadata": {
        "id": "1E7GW9RYSJST"
      },
      "execution_count": null,
      "outputs": []
    },
    {
      "cell_type": "markdown",
      "source": [
        "### ***Recommend musical artists part II***\n",
        "\n",
        "Use your NMF features from the previous exercise and the cosine similarity to find similar musical artists.  The names of the musical artists are available as the list `artist_names`.\n",
        "\n",
        "\n",
        "* Create a DataFrame `df` from `norm_features`, using `artist_names` as an `index`.\n",
        "* Use the `.loc[]` accessor of `df` to select the row of `'Bruce Springsteen'`. Assign the result to `artist`.\n",
        "* Apply the `.dot()` method of `df` to `artist` to calculate the dot product of every row with artist. Save the result as `similarities`.\n",
        "* Print the result of the `.nlargest()` method of similarities to display the artists most similar to `'Bruce Springsteen'`."
      ],
      "metadata": {
        "id": "CedS9jGcSHHF"
      }
    },
    {
      "cell_type": "code",
      "source": [
        "import pandas as pd\n",
        "\n",
        "# Create a DataFrame: df\n",
        "df = pd.DataFrame(data=norm_features, index=artist_names)\n",
        "\n",
        "# Select row of 'Bruce Springsteen': artist\n",
        "artist = df.loc['Bruce Springsteen']\n",
        "\n",
        "# Compute cosine similarities: similarities\n",
        "similarities = df.dot(artist)\n",
        "\n",
        "# Display those with highest cosine similarity\n",
        "print(similarities.nlargest())\n"
      ],
      "metadata": {
        "id": "dDxZ-RTgQuB6"
      },
      "execution_count": null,
      "outputs": []
    },
    {
      "cell_type": "markdown",
      "source": [
        "\n",
        "\n",
        "```\n",
        "    Bruce Springsteen    1.000\n",
        "    Neil Young           0.956\n",
        "    Van Morrison         0.872\n",
        "    Leonard Cohen        0.865\n",
        "    Bob Dylan            0.859\n",
        "```\n",
        "\n"
      ],
      "metadata": {
        "id": "Jy5W-GPJTD_a"
      }
    }
  ]
}